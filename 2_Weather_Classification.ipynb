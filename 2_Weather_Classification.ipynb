{
  "nbformat": 4,
  "nbformat_minor": 0,
  "metadata": {
    "colab": {
      "provenance": []
    },
    "kernelspec": {
      "name": "python3",
      "display_name": "Python 3"
    },
    "language_info": {
      "name": "python"
    }
  },
  "cells": [
    {
      "cell_type": "markdown",
      "source": [
        "# Предсказания погоды"
      ],
      "metadata": {
        "id": "ReIy7MPGqWKB"
      }
    },
    {
      "cell_type": "markdown",
      "source": [
        "Используя датасет seattle-weather.csv предскажите погодные условия различными методами. Сравните разные типы классификаторов.\n",
        "\n",
        "1) Входные данные:\n",
        "\n",
        "* precipitation - величина осадков\n",
        "\n",
        "* tempmax - максимальная дневная температура\n",
        "\n",
        "* tempmin - минимальная дневная температура\n",
        "\n",
        "* wind - скорость ветра\n",
        "\n",
        "2) Погодные условия:\n",
        "\n",
        "* drizzle - моросящий дождь, изморось\n",
        "\n",
        "* rain - дождь\n",
        "\n",
        "* sun - солнечно\n",
        "\n",
        "* snow - снег\n",
        "\n",
        "* fog - туман\n",
        "\n",
        "Для теста использовать последние 400 строк датасета"
      ],
      "metadata": {
        "id": "BUbMzqHG3Wt8"
      }
    },
    {
      "cell_type": "code",
      "execution_count": 1,
      "metadata": {
        "colab": {
          "base_uri": "https://localhost:8080/"
        },
        "id": "kM_N2maPr32Z",
        "outputId": "b4f83353-ccc2-470d-da62-6161cc977895"
      },
      "outputs": [
        {
          "output_type": "stream",
          "name": "stdout",
          "text": [
            "Populating the interactive namespace from numpy and matplotlib\n"
          ]
        }
      ],
      "source": [
        "import pandas as pd\n",
        "import numpy as np\n",
        "from matplotlib import pyplot as plt\n",
        "import seaborn as sns\n",
        "\n",
        "%pylab inline"
      ]
    },
    {
      "cell_type": "markdown",
      "source": [
        "## Подготовка данных"
      ],
      "metadata": {
        "id": "33eCla1bqAwN"
      }
    },
    {
      "cell_type": "code",
      "source": [
        "df = pd.read_csv(\"seattle-weather.csv\")"
      ],
      "metadata": {
        "id": "BQRDxfFwsaVE"
      },
      "execution_count": 2,
      "outputs": []
    },
    {
      "cell_type": "code",
      "source": [
        "# посмотрим как выглядят данные\n",
        "df.head(10)"
      ],
      "metadata": {
        "colab": {
          "base_uri": "https://localhost:8080/",
          "height": 363
        },
        "id": "F5xG7eFGsm0h",
        "outputId": "c13f2a80-af72-4570-ee57-3cab39356f4e"
      },
      "execution_count": 3,
      "outputs": [
        {
          "output_type": "execute_result",
          "data": {
            "text/plain": [
              "         date  precipitation  temp_max  temp_min  wind  weather\n",
              "0  2012-01-01            0.0      12.8       5.0   4.7  drizzle\n",
              "1  2012-01-02           10.9      10.6       2.8   4.5     rain\n",
              "2  2012-01-03            0.8      11.7       7.2   2.3     rain\n",
              "3  2012-01-04           20.3      12.2       5.6   4.7     rain\n",
              "4  2012-01-05            1.3       8.9       2.8   6.1     rain\n",
              "5  2012-01-06            2.5       4.4       2.2   2.2     rain\n",
              "6  2012-01-07            0.0       7.2       2.8   2.3     rain\n",
              "7  2012-01-08            0.0      10.0       2.8   2.0      sun\n",
              "8  2012-01-09            4.3       9.4       5.0   3.4     rain\n",
              "9  2012-01-10            1.0       6.1       0.6   3.4     rain"
            ],
            "text/html": [
              "\n",
              "  <div id=\"df-aa7e2c16-9fb9-410c-8d1a-1e7d550e3bf2\" class=\"colab-df-container\">\n",
              "    <div>\n",
              "<style scoped>\n",
              "    .dataframe tbody tr th:only-of-type {\n",
              "        vertical-align: middle;\n",
              "    }\n",
              "\n",
              "    .dataframe tbody tr th {\n",
              "        vertical-align: top;\n",
              "    }\n",
              "\n",
              "    .dataframe thead th {\n",
              "        text-align: right;\n",
              "    }\n",
              "</style>\n",
              "<table border=\"1\" class=\"dataframe\">\n",
              "  <thead>\n",
              "    <tr style=\"text-align: right;\">\n",
              "      <th></th>\n",
              "      <th>date</th>\n",
              "      <th>precipitation</th>\n",
              "      <th>temp_max</th>\n",
              "      <th>temp_min</th>\n",
              "      <th>wind</th>\n",
              "      <th>weather</th>\n",
              "    </tr>\n",
              "  </thead>\n",
              "  <tbody>\n",
              "    <tr>\n",
              "      <th>0</th>\n",
              "      <td>2012-01-01</td>\n",
              "      <td>0.0</td>\n",
              "      <td>12.8</td>\n",
              "      <td>5.0</td>\n",
              "      <td>4.7</td>\n",
              "      <td>drizzle</td>\n",
              "    </tr>\n",
              "    <tr>\n",
              "      <th>1</th>\n",
              "      <td>2012-01-02</td>\n",
              "      <td>10.9</td>\n",
              "      <td>10.6</td>\n",
              "      <td>2.8</td>\n",
              "      <td>4.5</td>\n",
              "      <td>rain</td>\n",
              "    </tr>\n",
              "    <tr>\n",
              "      <th>2</th>\n",
              "      <td>2012-01-03</td>\n",
              "      <td>0.8</td>\n",
              "      <td>11.7</td>\n",
              "      <td>7.2</td>\n",
              "      <td>2.3</td>\n",
              "      <td>rain</td>\n",
              "    </tr>\n",
              "    <tr>\n",
              "      <th>3</th>\n",
              "      <td>2012-01-04</td>\n",
              "      <td>20.3</td>\n",
              "      <td>12.2</td>\n",
              "      <td>5.6</td>\n",
              "      <td>4.7</td>\n",
              "      <td>rain</td>\n",
              "    </tr>\n",
              "    <tr>\n",
              "      <th>4</th>\n",
              "      <td>2012-01-05</td>\n",
              "      <td>1.3</td>\n",
              "      <td>8.9</td>\n",
              "      <td>2.8</td>\n",
              "      <td>6.1</td>\n",
              "      <td>rain</td>\n",
              "    </tr>\n",
              "    <tr>\n",
              "      <th>5</th>\n",
              "      <td>2012-01-06</td>\n",
              "      <td>2.5</td>\n",
              "      <td>4.4</td>\n",
              "      <td>2.2</td>\n",
              "      <td>2.2</td>\n",
              "      <td>rain</td>\n",
              "    </tr>\n",
              "    <tr>\n",
              "      <th>6</th>\n",
              "      <td>2012-01-07</td>\n",
              "      <td>0.0</td>\n",
              "      <td>7.2</td>\n",
              "      <td>2.8</td>\n",
              "      <td>2.3</td>\n",
              "      <td>rain</td>\n",
              "    </tr>\n",
              "    <tr>\n",
              "      <th>7</th>\n",
              "      <td>2012-01-08</td>\n",
              "      <td>0.0</td>\n",
              "      <td>10.0</td>\n",
              "      <td>2.8</td>\n",
              "      <td>2.0</td>\n",
              "      <td>sun</td>\n",
              "    </tr>\n",
              "    <tr>\n",
              "      <th>8</th>\n",
              "      <td>2012-01-09</td>\n",
              "      <td>4.3</td>\n",
              "      <td>9.4</td>\n",
              "      <td>5.0</td>\n",
              "      <td>3.4</td>\n",
              "      <td>rain</td>\n",
              "    </tr>\n",
              "    <tr>\n",
              "      <th>9</th>\n",
              "      <td>2012-01-10</td>\n",
              "      <td>1.0</td>\n",
              "      <td>6.1</td>\n",
              "      <td>0.6</td>\n",
              "      <td>3.4</td>\n",
              "      <td>rain</td>\n",
              "    </tr>\n",
              "  </tbody>\n",
              "</table>\n",
              "</div>\n",
              "    <div class=\"colab-df-buttons\">\n",
              "\n",
              "  <div class=\"colab-df-container\">\n",
              "    <button class=\"colab-df-convert\" onclick=\"convertToInteractive('df-aa7e2c16-9fb9-410c-8d1a-1e7d550e3bf2')\"\n",
              "            title=\"Convert this dataframe to an interactive table.\"\n",
              "            style=\"display:none;\">\n",
              "\n",
              "  <svg xmlns=\"http://www.w3.org/2000/svg\" height=\"24px\" viewBox=\"0 -960 960 960\">\n",
              "    <path d=\"M120-120v-720h720v720H120Zm60-500h600v-160H180v160Zm220 220h160v-160H400v160Zm0 220h160v-160H400v160ZM180-400h160v-160H180v160Zm440 0h160v-160H620v160ZM180-180h160v-160H180v160Zm440 0h160v-160H620v160Z\"/>\n",
              "  </svg>\n",
              "    </button>\n",
              "\n",
              "  <style>\n",
              "    .colab-df-container {\n",
              "      display:flex;\n",
              "      gap: 12px;\n",
              "    }\n",
              "\n",
              "    .colab-df-convert {\n",
              "      background-color: #E8F0FE;\n",
              "      border: none;\n",
              "      border-radius: 50%;\n",
              "      cursor: pointer;\n",
              "      display: none;\n",
              "      fill: #1967D2;\n",
              "      height: 32px;\n",
              "      padding: 0 0 0 0;\n",
              "      width: 32px;\n",
              "    }\n",
              "\n",
              "    .colab-df-convert:hover {\n",
              "      background-color: #E2EBFA;\n",
              "      box-shadow: 0px 1px 2px rgba(60, 64, 67, 0.3), 0px 1px 3px 1px rgba(60, 64, 67, 0.15);\n",
              "      fill: #174EA6;\n",
              "    }\n",
              "\n",
              "    .colab-df-buttons div {\n",
              "      margin-bottom: 4px;\n",
              "    }\n",
              "\n",
              "    [theme=dark] .colab-df-convert {\n",
              "      background-color: #3B4455;\n",
              "      fill: #D2E3FC;\n",
              "    }\n",
              "\n",
              "    [theme=dark] .colab-df-convert:hover {\n",
              "      background-color: #434B5C;\n",
              "      box-shadow: 0px 1px 3px 1px rgba(0, 0, 0, 0.15);\n",
              "      filter: drop-shadow(0px 1px 2px rgba(0, 0, 0, 0.3));\n",
              "      fill: #FFFFFF;\n",
              "    }\n",
              "  </style>\n",
              "\n",
              "    <script>\n",
              "      const buttonEl =\n",
              "        document.querySelector('#df-aa7e2c16-9fb9-410c-8d1a-1e7d550e3bf2 button.colab-df-convert');\n",
              "      buttonEl.style.display =\n",
              "        google.colab.kernel.accessAllowed ? 'block' : 'none';\n",
              "\n",
              "      async function convertToInteractive(key) {\n",
              "        const element = document.querySelector('#df-aa7e2c16-9fb9-410c-8d1a-1e7d550e3bf2');\n",
              "        const dataTable =\n",
              "          await google.colab.kernel.invokeFunction('convertToInteractive',\n",
              "                                                    [key], {});\n",
              "        if (!dataTable) return;\n",
              "\n",
              "        const docLinkHtml = 'Like what you see? Visit the ' +\n",
              "          '<a target=\"_blank\" href=https://colab.research.google.com/notebooks/data_table.ipynb>data table notebook</a>'\n",
              "          + ' to learn more about interactive tables.';\n",
              "        element.innerHTML = '';\n",
              "        dataTable['output_type'] = 'display_data';\n",
              "        await google.colab.output.renderOutput(dataTable, element);\n",
              "        const docLink = document.createElement('div');\n",
              "        docLink.innerHTML = docLinkHtml;\n",
              "        element.appendChild(docLink);\n",
              "      }\n",
              "    </script>\n",
              "  </div>\n",
              "\n",
              "\n",
              "<div id=\"df-95540ea2-951e-4068-b37e-39f6e615bafe\">\n",
              "  <button class=\"colab-df-quickchart\" onclick=\"quickchart('df-95540ea2-951e-4068-b37e-39f6e615bafe')\"\n",
              "            title=\"Suggest charts\"\n",
              "            style=\"display:none;\">\n",
              "\n",
              "<svg xmlns=\"http://www.w3.org/2000/svg\" height=\"24px\"viewBox=\"0 0 24 24\"\n",
              "     width=\"24px\">\n",
              "    <g>\n",
              "        <path d=\"M19 3H5c-1.1 0-2 .9-2 2v14c0 1.1.9 2 2 2h14c1.1 0 2-.9 2-2V5c0-1.1-.9-2-2-2zM9 17H7v-7h2v7zm4 0h-2V7h2v10zm4 0h-2v-4h2v4z\"/>\n",
              "    </g>\n",
              "</svg>\n",
              "  </button>\n",
              "\n",
              "<style>\n",
              "  .colab-df-quickchart {\n",
              "      --bg-color: #E8F0FE;\n",
              "      --fill-color: #1967D2;\n",
              "      --hover-bg-color: #E2EBFA;\n",
              "      --hover-fill-color: #174EA6;\n",
              "      --disabled-fill-color: #AAA;\n",
              "      --disabled-bg-color: #DDD;\n",
              "  }\n",
              "\n",
              "  [theme=dark] .colab-df-quickchart {\n",
              "      --bg-color: #3B4455;\n",
              "      --fill-color: #D2E3FC;\n",
              "      --hover-bg-color: #434B5C;\n",
              "      --hover-fill-color: #FFFFFF;\n",
              "      --disabled-bg-color: #3B4455;\n",
              "      --disabled-fill-color: #666;\n",
              "  }\n",
              "\n",
              "  .colab-df-quickchart {\n",
              "    background-color: var(--bg-color);\n",
              "    border: none;\n",
              "    border-radius: 50%;\n",
              "    cursor: pointer;\n",
              "    display: none;\n",
              "    fill: var(--fill-color);\n",
              "    height: 32px;\n",
              "    padding: 0;\n",
              "    width: 32px;\n",
              "  }\n",
              "\n",
              "  .colab-df-quickchart:hover {\n",
              "    background-color: var(--hover-bg-color);\n",
              "    box-shadow: 0 1px 2px rgba(60, 64, 67, 0.3), 0 1px 3px 1px rgba(60, 64, 67, 0.15);\n",
              "    fill: var(--button-hover-fill-color);\n",
              "  }\n",
              "\n",
              "  .colab-df-quickchart-complete:disabled,\n",
              "  .colab-df-quickchart-complete:disabled:hover {\n",
              "    background-color: var(--disabled-bg-color);\n",
              "    fill: var(--disabled-fill-color);\n",
              "    box-shadow: none;\n",
              "  }\n",
              "\n",
              "  .colab-df-spinner {\n",
              "    border: 2px solid var(--fill-color);\n",
              "    border-color: transparent;\n",
              "    border-bottom-color: var(--fill-color);\n",
              "    animation:\n",
              "      spin 1s steps(1) infinite;\n",
              "  }\n",
              "\n",
              "  @keyframes spin {\n",
              "    0% {\n",
              "      border-color: transparent;\n",
              "      border-bottom-color: var(--fill-color);\n",
              "      border-left-color: var(--fill-color);\n",
              "    }\n",
              "    20% {\n",
              "      border-color: transparent;\n",
              "      border-left-color: var(--fill-color);\n",
              "      border-top-color: var(--fill-color);\n",
              "    }\n",
              "    30% {\n",
              "      border-color: transparent;\n",
              "      border-left-color: var(--fill-color);\n",
              "      border-top-color: var(--fill-color);\n",
              "      border-right-color: var(--fill-color);\n",
              "    }\n",
              "    40% {\n",
              "      border-color: transparent;\n",
              "      border-right-color: var(--fill-color);\n",
              "      border-top-color: var(--fill-color);\n",
              "    }\n",
              "    60% {\n",
              "      border-color: transparent;\n",
              "      border-right-color: var(--fill-color);\n",
              "    }\n",
              "    80% {\n",
              "      border-color: transparent;\n",
              "      border-right-color: var(--fill-color);\n",
              "      border-bottom-color: var(--fill-color);\n",
              "    }\n",
              "    90% {\n",
              "      border-color: transparent;\n",
              "      border-bottom-color: var(--fill-color);\n",
              "    }\n",
              "  }\n",
              "</style>\n",
              "\n",
              "  <script>\n",
              "    async function quickchart(key) {\n",
              "      const quickchartButtonEl =\n",
              "        document.querySelector('#' + key + ' button');\n",
              "      quickchartButtonEl.disabled = true;  // To prevent multiple clicks.\n",
              "      quickchartButtonEl.classList.add('colab-df-spinner');\n",
              "      try {\n",
              "        const charts = await google.colab.kernel.invokeFunction(\n",
              "            'suggestCharts', [key], {});\n",
              "      } catch (error) {\n",
              "        console.error('Error during call to suggestCharts:', error);\n",
              "      }\n",
              "      quickchartButtonEl.classList.remove('colab-df-spinner');\n",
              "      quickchartButtonEl.classList.add('colab-df-quickchart-complete');\n",
              "    }\n",
              "    (() => {\n",
              "      let quickchartButtonEl =\n",
              "        document.querySelector('#df-95540ea2-951e-4068-b37e-39f6e615bafe button');\n",
              "      quickchartButtonEl.style.display =\n",
              "        google.colab.kernel.accessAllowed ? 'block' : 'none';\n",
              "    })();\n",
              "  </script>\n",
              "</div>\n",
              "    </div>\n",
              "  </div>\n"
            ],
            "application/vnd.google.colaboratory.intrinsic+json": {
              "type": "dataframe",
              "variable_name": "df",
              "summary": "{\n  \"name\": \"df\",\n  \"rows\": 1461,\n  \"fields\": [\n    {\n      \"column\": \"date\",\n      \"properties\": {\n        \"dtype\": \"object\",\n        \"num_unique_values\": 1461,\n        \"samples\": [\n          \"2014-06-11\",\n          \"2015-01-10\",\n          \"2013-02-17\"\n        ],\n        \"semantic_type\": \"\",\n        \"description\": \"\"\n      }\n    },\n    {\n      \"column\": \"precipitation\",\n      \"properties\": {\n        \"dtype\": \"number\",\n        \"std\": 6.680194322314731,\n        \"min\": 0.0,\n        \"max\": 55.9,\n        \"num_unique_values\": 111,\n        \"samples\": [\n          43.4,\n          8.1,\n          1.3\n        ],\n        \"semantic_type\": \"\",\n        \"description\": \"\"\n      }\n    },\n    {\n      \"column\": \"temp_max\",\n      \"properties\": {\n        \"dtype\": \"number\",\n        \"std\": 7.349758097360185,\n        \"min\": -1.6,\n        \"max\": 35.6,\n        \"num_unique_values\": 67,\n        \"samples\": [\n          25.6,\n          8.3,\n          8.9\n        ],\n        \"semantic_type\": \"\",\n        \"description\": \"\"\n      }\n    },\n    {\n      \"column\": \"temp_min\",\n      \"properties\": {\n        \"dtype\": \"number\",\n        \"std\": 5.023004179961267,\n        \"min\": -7.1,\n        \"max\": 18.3,\n        \"num_unique_values\": 55,\n        \"samples\": [\n          13.3,\n          0.6,\n          14.4\n        ],\n        \"semantic_type\": \"\",\n        \"description\": \"\"\n      }\n    },\n    {\n      \"column\": \"wind\",\n      \"properties\": {\n        \"dtype\": \"number\",\n        \"std\": 1.4378250588746244,\n        \"min\": 0.4,\n        \"max\": 9.5,\n        \"num_unique_values\": 79,\n        \"samples\": [\n          8.1,\n          4.7,\n          2.6\n        ],\n        \"semantic_type\": \"\",\n        \"description\": \"\"\n      }\n    },\n    {\n      \"column\": \"weather\",\n      \"properties\": {\n        \"dtype\": \"category\",\n        \"num_unique_values\": 5,\n        \"samples\": [\n          \"rain\",\n          \"fog\",\n          \"sun\"\n        ],\n        \"semantic_type\": \"\",\n        \"description\": \"\"\n      }\n    }\n  ]\n}"
            }
          },
          "metadata": {},
          "execution_count": 3
        }
      ]
    },
    {
      "cell_type": "code",
      "source": [
        "# посмотрим информацию о датасете\n",
        "df.info()"
      ],
      "metadata": {
        "colab": {
          "base_uri": "https://localhost:8080/"
        },
        "id": "zi8-rH0vuIVb",
        "outputId": "ecb107fe-69d2-48d6-df30-0959bd2c0b5a"
      },
      "execution_count": 4,
      "outputs": [
        {
          "output_type": "stream",
          "name": "stdout",
          "text": [
            "<class 'pandas.core.frame.DataFrame'>\n",
            "RangeIndex: 1461 entries, 0 to 1460\n",
            "Data columns (total 6 columns):\n",
            " #   Column         Non-Null Count  Dtype  \n",
            "---  ------         --------------  -----  \n",
            " 0   date           1461 non-null   object \n",
            " 1   precipitation  1461 non-null   float64\n",
            " 2   temp_max       1461 non-null   float64\n",
            " 3   temp_min       1461 non-null   float64\n",
            " 4   wind           1461 non-null   float64\n",
            " 5   weather        1461 non-null   object \n",
            "dtypes: float64(4), object(2)\n",
            "memory usage: 68.6+ KB\n"
          ]
        }
      ]
    },
    {
      "cell_type": "code",
      "source": [
        "# посмотрим распределение классов погоды\n",
        "df['weather'].value_counts()"
      ],
      "metadata": {
        "colab": {
          "base_uri": "https://localhost:8080/",
          "height": 272
        },
        "id": "8MIJS7MouNbU",
        "outputId": "90823d76-61b7-47a2-ec91-3e46504fbe36"
      },
      "execution_count": 5,
      "outputs": [
        {
          "output_type": "execute_result",
          "data": {
            "text/plain": [
              "weather\n",
              "rain       641\n",
              "sun        640\n",
              "fog        101\n",
              "drizzle     53\n",
              "snow        26\n",
              "Name: count, dtype: int64"
            ],
            "text/html": [
              "<div>\n",
              "<style scoped>\n",
              "    .dataframe tbody tr th:only-of-type {\n",
              "        vertical-align: middle;\n",
              "    }\n",
              "\n",
              "    .dataframe tbody tr th {\n",
              "        vertical-align: top;\n",
              "    }\n",
              "\n",
              "    .dataframe thead th {\n",
              "        text-align: right;\n",
              "    }\n",
              "</style>\n",
              "<table border=\"1\" class=\"dataframe\">\n",
              "  <thead>\n",
              "    <tr style=\"text-align: right;\">\n",
              "      <th></th>\n",
              "      <th>count</th>\n",
              "    </tr>\n",
              "    <tr>\n",
              "      <th>weather</th>\n",
              "      <th></th>\n",
              "    </tr>\n",
              "  </thead>\n",
              "  <tbody>\n",
              "    <tr>\n",
              "      <th>rain</th>\n",
              "      <td>641</td>\n",
              "    </tr>\n",
              "    <tr>\n",
              "      <th>sun</th>\n",
              "      <td>640</td>\n",
              "    </tr>\n",
              "    <tr>\n",
              "      <th>fog</th>\n",
              "      <td>101</td>\n",
              "    </tr>\n",
              "    <tr>\n",
              "      <th>drizzle</th>\n",
              "      <td>53</td>\n",
              "    </tr>\n",
              "    <tr>\n",
              "      <th>snow</th>\n",
              "      <td>26</td>\n",
              "    </tr>\n",
              "  </tbody>\n",
              "</table>\n",
              "</div><br><label><b>dtype:</b> int64</label>"
            ]
          },
          "metadata": {},
          "execution_count": 5
        }
      ]
    },
    {
      "cell_type": "code",
      "source": [
        "# посмотрим есть ли пропуски\n",
        "df.isnull().sum()"
      ],
      "metadata": {
        "colab": {
          "base_uri": "https://localhost:8080/",
          "height": 272
        },
        "id": "yUGjulmXuzf-",
        "outputId": "070ceffa-c9bd-48f4-eacd-ac399c5adc4f"
      },
      "execution_count": 6,
      "outputs": [
        {
          "output_type": "execute_result",
          "data": {
            "text/plain": [
              "date             0\n",
              "precipitation    0\n",
              "temp_max         0\n",
              "temp_min         0\n",
              "wind             0\n",
              "weather          0\n",
              "dtype: int64"
            ],
            "text/html": [
              "<div>\n",
              "<style scoped>\n",
              "    .dataframe tbody tr th:only-of-type {\n",
              "        vertical-align: middle;\n",
              "    }\n",
              "\n",
              "    .dataframe tbody tr th {\n",
              "        vertical-align: top;\n",
              "    }\n",
              "\n",
              "    .dataframe thead th {\n",
              "        text-align: right;\n",
              "    }\n",
              "</style>\n",
              "<table border=\"1\" class=\"dataframe\">\n",
              "  <thead>\n",
              "    <tr style=\"text-align: right;\">\n",
              "      <th></th>\n",
              "      <th>0</th>\n",
              "    </tr>\n",
              "  </thead>\n",
              "  <tbody>\n",
              "    <tr>\n",
              "      <th>date</th>\n",
              "      <td>0</td>\n",
              "    </tr>\n",
              "    <tr>\n",
              "      <th>precipitation</th>\n",
              "      <td>0</td>\n",
              "    </tr>\n",
              "    <tr>\n",
              "      <th>temp_max</th>\n",
              "      <td>0</td>\n",
              "    </tr>\n",
              "    <tr>\n",
              "      <th>temp_min</th>\n",
              "      <td>0</td>\n",
              "    </tr>\n",
              "    <tr>\n",
              "      <th>wind</th>\n",
              "      <td>0</td>\n",
              "    </tr>\n",
              "    <tr>\n",
              "      <th>weather</th>\n",
              "      <td>0</td>\n",
              "    </tr>\n",
              "  </tbody>\n",
              "</table>\n",
              "</div><br><label><b>dtype:</b> int64</label>"
            ]
          },
          "metadata": {},
          "execution_count": 6
        }
      ]
    },
    {
      "cell_type": "markdown",
      "source": [
        "Предсказываем weather, удаляем лишние столбцы"
      ],
      "metadata": {
        "id": "eYM1echmqJCZ"
      }
    },
    {
      "cell_type": "code",
      "source": [
        "y = df['weather']\n",
        "X = df.drop(['date', 'weather'], axis=1)"
      ],
      "metadata": {
        "id": "ZTP4M_4rlFcM"
      },
      "execution_count": 7,
      "outputs": []
    },
    {
      "cell_type": "code",
      "source": [
        "X.head()"
      ],
      "metadata": {
        "colab": {
          "base_uri": "https://localhost:8080/",
          "height": 206
        },
        "id": "6V2u4eWBlS0c",
        "outputId": "2b1e90c5-c397-435d-913e-29a8e6e4ca70"
      },
      "execution_count": 8,
      "outputs": [
        {
          "output_type": "execute_result",
          "data": {
            "text/plain": [
              "   precipitation  temp_max  temp_min  wind\n",
              "0            0.0      12.8       5.0   4.7\n",
              "1           10.9      10.6       2.8   4.5\n",
              "2            0.8      11.7       7.2   2.3\n",
              "3           20.3      12.2       5.6   4.7\n",
              "4            1.3       8.9       2.8   6.1"
            ],
            "text/html": [
              "\n",
              "  <div id=\"df-ef61b251-b7bc-4c0c-9a8b-fca36053f40a\" class=\"colab-df-container\">\n",
              "    <div>\n",
              "<style scoped>\n",
              "    .dataframe tbody tr th:only-of-type {\n",
              "        vertical-align: middle;\n",
              "    }\n",
              "\n",
              "    .dataframe tbody tr th {\n",
              "        vertical-align: top;\n",
              "    }\n",
              "\n",
              "    .dataframe thead th {\n",
              "        text-align: right;\n",
              "    }\n",
              "</style>\n",
              "<table border=\"1\" class=\"dataframe\">\n",
              "  <thead>\n",
              "    <tr style=\"text-align: right;\">\n",
              "      <th></th>\n",
              "      <th>precipitation</th>\n",
              "      <th>temp_max</th>\n",
              "      <th>temp_min</th>\n",
              "      <th>wind</th>\n",
              "    </tr>\n",
              "  </thead>\n",
              "  <tbody>\n",
              "    <tr>\n",
              "      <th>0</th>\n",
              "      <td>0.0</td>\n",
              "      <td>12.8</td>\n",
              "      <td>5.0</td>\n",
              "      <td>4.7</td>\n",
              "    </tr>\n",
              "    <tr>\n",
              "      <th>1</th>\n",
              "      <td>10.9</td>\n",
              "      <td>10.6</td>\n",
              "      <td>2.8</td>\n",
              "      <td>4.5</td>\n",
              "    </tr>\n",
              "    <tr>\n",
              "      <th>2</th>\n",
              "      <td>0.8</td>\n",
              "      <td>11.7</td>\n",
              "      <td>7.2</td>\n",
              "      <td>2.3</td>\n",
              "    </tr>\n",
              "    <tr>\n",
              "      <th>3</th>\n",
              "      <td>20.3</td>\n",
              "      <td>12.2</td>\n",
              "      <td>5.6</td>\n",
              "      <td>4.7</td>\n",
              "    </tr>\n",
              "    <tr>\n",
              "      <th>4</th>\n",
              "      <td>1.3</td>\n",
              "      <td>8.9</td>\n",
              "      <td>2.8</td>\n",
              "      <td>6.1</td>\n",
              "    </tr>\n",
              "  </tbody>\n",
              "</table>\n",
              "</div>\n",
              "    <div class=\"colab-df-buttons\">\n",
              "\n",
              "  <div class=\"colab-df-container\">\n",
              "    <button class=\"colab-df-convert\" onclick=\"convertToInteractive('df-ef61b251-b7bc-4c0c-9a8b-fca36053f40a')\"\n",
              "            title=\"Convert this dataframe to an interactive table.\"\n",
              "            style=\"display:none;\">\n",
              "\n",
              "  <svg xmlns=\"http://www.w3.org/2000/svg\" height=\"24px\" viewBox=\"0 -960 960 960\">\n",
              "    <path d=\"M120-120v-720h720v720H120Zm60-500h600v-160H180v160Zm220 220h160v-160H400v160Zm0 220h160v-160H400v160ZM180-400h160v-160H180v160Zm440 0h160v-160H620v160ZM180-180h160v-160H180v160Zm440 0h160v-160H620v160Z\"/>\n",
              "  </svg>\n",
              "    </button>\n",
              "\n",
              "  <style>\n",
              "    .colab-df-container {\n",
              "      display:flex;\n",
              "      gap: 12px;\n",
              "    }\n",
              "\n",
              "    .colab-df-convert {\n",
              "      background-color: #E8F0FE;\n",
              "      border: none;\n",
              "      border-radius: 50%;\n",
              "      cursor: pointer;\n",
              "      display: none;\n",
              "      fill: #1967D2;\n",
              "      height: 32px;\n",
              "      padding: 0 0 0 0;\n",
              "      width: 32px;\n",
              "    }\n",
              "\n",
              "    .colab-df-convert:hover {\n",
              "      background-color: #E2EBFA;\n",
              "      box-shadow: 0px 1px 2px rgba(60, 64, 67, 0.3), 0px 1px 3px 1px rgba(60, 64, 67, 0.15);\n",
              "      fill: #174EA6;\n",
              "    }\n",
              "\n",
              "    .colab-df-buttons div {\n",
              "      margin-bottom: 4px;\n",
              "    }\n",
              "\n",
              "    [theme=dark] .colab-df-convert {\n",
              "      background-color: #3B4455;\n",
              "      fill: #D2E3FC;\n",
              "    }\n",
              "\n",
              "    [theme=dark] .colab-df-convert:hover {\n",
              "      background-color: #434B5C;\n",
              "      box-shadow: 0px 1px 3px 1px rgba(0, 0, 0, 0.15);\n",
              "      filter: drop-shadow(0px 1px 2px rgba(0, 0, 0, 0.3));\n",
              "      fill: #FFFFFF;\n",
              "    }\n",
              "  </style>\n",
              "\n",
              "    <script>\n",
              "      const buttonEl =\n",
              "        document.querySelector('#df-ef61b251-b7bc-4c0c-9a8b-fca36053f40a button.colab-df-convert');\n",
              "      buttonEl.style.display =\n",
              "        google.colab.kernel.accessAllowed ? 'block' : 'none';\n",
              "\n",
              "      async function convertToInteractive(key) {\n",
              "        const element = document.querySelector('#df-ef61b251-b7bc-4c0c-9a8b-fca36053f40a');\n",
              "        const dataTable =\n",
              "          await google.colab.kernel.invokeFunction('convertToInteractive',\n",
              "                                                    [key], {});\n",
              "        if (!dataTable) return;\n",
              "\n",
              "        const docLinkHtml = 'Like what you see? Visit the ' +\n",
              "          '<a target=\"_blank\" href=https://colab.research.google.com/notebooks/data_table.ipynb>data table notebook</a>'\n",
              "          + ' to learn more about interactive tables.';\n",
              "        element.innerHTML = '';\n",
              "        dataTable['output_type'] = 'display_data';\n",
              "        await google.colab.output.renderOutput(dataTable, element);\n",
              "        const docLink = document.createElement('div');\n",
              "        docLink.innerHTML = docLinkHtml;\n",
              "        element.appendChild(docLink);\n",
              "      }\n",
              "    </script>\n",
              "  </div>\n",
              "\n",
              "\n",
              "<div id=\"df-b686976e-6e22-4661-b9f5-7c6a5b2cdcd6\">\n",
              "  <button class=\"colab-df-quickchart\" onclick=\"quickchart('df-b686976e-6e22-4661-b9f5-7c6a5b2cdcd6')\"\n",
              "            title=\"Suggest charts\"\n",
              "            style=\"display:none;\">\n",
              "\n",
              "<svg xmlns=\"http://www.w3.org/2000/svg\" height=\"24px\"viewBox=\"0 0 24 24\"\n",
              "     width=\"24px\">\n",
              "    <g>\n",
              "        <path d=\"M19 3H5c-1.1 0-2 .9-2 2v14c0 1.1.9 2 2 2h14c1.1 0 2-.9 2-2V5c0-1.1-.9-2-2-2zM9 17H7v-7h2v7zm4 0h-2V7h2v10zm4 0h-2v-4h2v4z\"/>\n",
              "    </g>\n",
              "</svg>\n",
              "  </button>\n",
              "\n",
              "<style>\n",
              "  .colab-df-quickchart {\n",
              "      --bg-color: #E8F0FE;\n",
              "      --fill-color: #1967D2;\n",
              "      --hover-bg-color: #E2EBFA;\n",
              "      --hover-fill-color: #174EA6;\n",
              "      --disabled-fill-color: #AAA;\n",
              "      --disabled-bg-color: #DDD;\n",
              "  }\n",
              "\n",
              "  [theme=dark] .colab-df-quickchart {\n",
              "      --bg-color: #3B4455;\n",
              "      --fill-color: #D2E3FC;\n",
              "      --hover-bg-color: #434B5C;\n",
              "      --hover-fill-color: #FFFFFF;\n",
              "      --disabled-bg-color: #3B4455;\n",
              "      --disabled-fill-color: #666;\n",
              "  }\n",
              "\n",
              "  .colab-df-quickchart {\n",
              "    background-color: var(--bg-color);\n",
              "    border: none;\n",
              "    border-radius: 50%;\n",
              "    cursor: pointer;\n",
              "    display: none;\n",
              "    fill: var(--fill-color);\n",
              "    height: 32px;\n",
              "    padding: 0;\n",
              "    width: 32px;\n",
              "  }\n",
              "\n",
              "  .colab-df-quickchart:hover {\n",
              "    background-color: var(--hover-bg-color);\n",
              "    box-shadow: 0 1px 2px rgba(60, 64, 67, 0.3), 0 1px 3px 1px rgba(60, 64, 67, 0.15);\n",
              "    fill: var(--button-hover-fill-color);\n",
              "  }\n",
              "\n",
              "  .colab-df-quickchart-complete:disabled,\n",
              "  .colab-df-quickchart-complete:disabled:hover {\n",
              "    background-color: var(--disabled-bg-color);\n",
              "    fill: var(--disabled-fill-color);\n",
              "    box-shadow: none;\n",
              "  }\n",
              "\n",
              "  .colab-df-spinner {\n",
              "    border: 2px solid var(--fill-color);\n",
              "    border-color: transparent;\n",
              "    border-bottom-color: var(--fill-color);\n",
              "    animation:\n",
              "      spin 1s steps(1) infinite;\n",
              "  }\n",
              "\n",
              "  @keyframes spin {\n",
              "    0% {\n",
              "      border-color: transparent;\n",
              "      border-bottom-color: var(--fill-color);\n",
              "      border-left-color: var(--fill-color);\n",
              "    }\n",
              "    20% {\n",
              "      border-color: transparent;\n",
              "      border-left-color: var(--fill-color);\n",
              "      border-top-color: var(--fill-color);\n",
              "    }\n",
              "    30% {\n",
              "      border-color: transparent;\n",
              "      border-left-color: var(--fill-color);\n",
              "      border-top-color: var(--fill-color);\n",
              "      border-right-color: var(--fill-color);\n",
              "    }\n",
              "    40% {\n",
              "      border-color: transparent;\n",
              "      border-right-color: var(--fill-color);\n",
              "      border-top-color: var(--fill-color);\n",
              "    }\n",
              "    60% {\n",
              "      border-color: transparent;\n",
              "      border-right-color: var(--fill-color);\n",
              "    }\n",
              "    80% {\n",
              "      border-color: transparent;\n",
              "      border-right-color: var(--fill-color);\n",
              "      border-bottom-color: var(--fill-color);\n",
              "    }\n",
              "    90% {\n",
              "      border-color: transparent;\n",
              "      border-bottom-color: var(--fill-color);\n",
              "    }\n",
              "  }\n",
              "</style>\n",
              "\n",
              "  <script>\n",
              "    async function quickchart(key) {\n",
              "      const quickchartButtonEl =\n",
              "        document.querySelector('#' + key + ' button');\n",
              "      quickchartButtonEl.disabled = true;  // To prevent multiple clicks.\n",
              "      quickchartButtonEl.classList.add('colab-df-spinner');\n",
              "      try {\n",
              "        const charts = await google.colab.kernel.invokeFunction(\n",
              "            'suggestCharts', [key], {});\n",
              "      } catch (error) {\n",
              "        console.error('Error during call to suggestCharts:', error);\n",
              "      }\n",
              "      quickchartButtonEl.classList.remove('colab-df-spinner');\n",
              "      quickchartButtonEl.classList.add('colab-df-quickchart-complete');\n",
              "    }\n",
              "    (() => {\n",
              "      let quickchartButtonEl =\n",
              "        document.querySelector('#df-b686976e-6e22-4661-b9f5-7c6a5b2cdcd6 button');\n",
              "      quickchartButtonEl.style.display =\n",
              "        google.colab.kernel.accessAllowed ? 'block' : 'none';\n",
              "    })();\n",
              "  </script>\n",
              "</div>\n",
              "    </div>\n",
              "  </div>\n"
            ],
            "application/vnd.google.colaboratory.intrinsic+json": {
              "type": "dataframe",
              "variable_name": "X",
              "summary": "{\n  \"name\": \"X\",\n  \"rows\": 1461,\n  \"fields\": [\n    {\n      \"column\": \"precipitation\",\n      \"properties\": {\n        \"dtype\": \"number\",\n        \"std\": 6.680194322314731,\n        \"min\": 0.0,\n        \"max\": 55.9,\n        \"num_unique_values\": 111,\n        \"samples\": [\n          43.4,\n          8.1,\n          1.3\n        ],\n        \"semantic_type\": \"\",\n        \"description\": \"\"\n      }\n    },\n    {\n      \"column\": \"temp_max\",\n      \"properties\": {\n        \"dtype\": \"number\",\n        \"std\": 7.349758097360185,\n        \"min\": -1.6,\n        \"max\": 35.6,\n        \"num_unique_values\": 67,\n        \"samples\": [\n          25.6,\n          8.3,\n          8.9\n        ],\n        \"semantic_type\": \"\",\n        \"description\": \"\"\n      }\n    },\n    {\n      \"column\": \"temp_min\",\n      \"properties\": {\n        \"dtype\": \"number\",\n        \"std\": 5.023004179961267,\n        \"min\": -7.1,\n        \"max\": 18.3,\n        \"num_unique_values\": 55,\n        \"samples\": [\n          13.3,\n          0.6,\n          14.4\n        ],\n        \"semantic_type\": \"\",\n        \"description\": \"\"\n      }\n    },\n    {\n      \"column\": \"wind\",\n      \"properties\": {\n        \"dtype\": \"number\",\n        \"std\": 1.4378250588746244,\n        \"min\": 0.4,\n        \"max\": 9.5,\n        \"num_unique_values\": 79,\n        \"samples\": [\n          8.1,\n          4.7,\n          2.6\n        ],\n        \"semantic_type\": \"\",\n        \"description\": \"\"\n      }\n    }\n  ]\n}"
            }
          },
          "metadata": {},
          "execution_count": 8
        }
      ]
    },
    {
      "cell_type": "code",
      "source": [
        "y.head()"
      ],
      "metadata": {
        "colab": {
          "base_uri": "https://localhost:8080/",
          "height": 241
        },
        "id": "MMOtmO4-lW0V",
        "outputId": "a70682f3-d880-45dd-c9a2-25beaf1e2579"
      },
      "execution_count": 9,
      "outputs": [
        {
          "output_type": "execute_result",
          "data": {
            "text/plain": [
              "0    drizzle\n",
              "1       rain\n",
              "2       rain\n",
              "3       rain\n",
              "4       rain\n",
              "Name: weather, dtype: object"
            ],
            "text/html": [
              "<div>\n",
              "<style scoped>\n",
              "    .dataframe tbody tr th:only-of-type {\n",
              "        vertical-align: middle;\n",
              "    }\n",
              "\n",
              "    .dataframe tbody tr th {\n",
              "        vertical-align: top;\n",
              "    }\n",
              "\n",
              "    .dataframe thead th {\n",
              "        text-align: right;\n",
              "    }\n",
              "</style>\n",
              "<table border=\"1\" class=\"dataframe\">\n",
              "  <thead>\n",
              "    <tr style=\"text-align: right;\">\n",
              "      <th></th>\n",
              "      <th>weather</th>\n",
              "    </tr>\n",
              "  </thead>\n",
              "  <tbody>\n",
              "    <tr>\n",
              "      <th>0</th>\n",
              "      <td>drizzle</td>\n",
              "    </tr>\n",
              "    <tr>\n",
              "      <th>1</th>\n",
              "      <td>rain</td>\n",
              "    </tr>\n",
              "    <tr>\n",
              "      <th>2</th>\n",
              "      <td>rain</td>\n",
              "    </tr>\n",
              "    <tr>\n",
              "      <th>3</th>\n",
              "      <td>rain</td>\n",
              "    </tr>\n",
              "    <tr>\n",
              "      <th>4</th>\n",
              "      <td>rain</td>\n",
              "    </tr>\n",
              "  </tbody>\n",
              "</table>\n",
              "</div><br><label><b>dtype:</b> object</label>"
            ]
          },
          "metadata": {},
          "execution_count": 9
        }
      ]
    },
    {
      "cell_type": "markdown",
      "source": [
        "Делим выборку так, чтобы 400 значений оказались в тесте"
      ],
      "metadata": {
        "id": "gzHbSMkBqRaL"
      }
    },
    {
      "cell_type": "code",
      "source": [
        "from sklearn.model_selection import train_test_split\n",
        "X_train, X_test, y_train, y_test = (X[0:1060], X[1061:], y[0:1060], y[1061:])"
      ],
      "metadata": {
        "id": "JzAFkRAcl_6p"
      },
      "execution_count": 10,
      "outputs": []
    },
    {
      "cell_type": "code",
      "source": [
        "print(\"data:   \", df.shape[0])\n",
        "print(\"X_train:\", X_train.shape[0])\n",
        "print(\"X_test: \", X_test.shape[0])"
      ],
      "metadata": {
        "colab": {
          "base_uri": "https://localhost:8080/"
        },
        "id": "B9rUTg9gmDdM",
        "outputId": "a64dd184-379c-44c9-bb0a-8fb3a3de47b0"
      },
      "execution_count": 11,
      "outputs": [
        {
          "output_type": "stream",
          "name": "stdout",
          "text": [
            "data:    1461\n",
            "X_train: 1060\n",
            "X_test:  400\n"
          ]
        }
      ]
    },
    {
      "cell_type": "code",
      "source": [
        "from sklearn.metrics import accuracy_score, classification_report"
      ],
      "metadata": {
        "id": "v86_Xb_Mo5Uh"
      },
      "execution_count": 12,
      "outputs": []
    },
    {
      "cell_type": "markdown",
      "source": [
        "### 1. DummyClassifier"
      ],
      "metadata": {
        "id": "nxY_5DzppTgb"
      }
    },
    {
      "cell_type": "markdown",
      "source": [
        "Делает прогнозы, которые игнорируют входные объекты (отвечает рандомно, по нескольким простым стратегиям). Одна из стратегий - ответить самым часто встречающимся классом."
      ],
      "metadata": {
        "id": "sQZ9P0DEsZVC"
      }
    },
    {
      "cell_type": "code",
      "source": [
        "from sklearn.dummy import DummyClassifier\n",
        "\n",
        "dummy = DummyClassifier()\n",
        "dummy.fit(X_train, y_train)\n",
        "y_pred = dummy.predict(X_test)"
      ],
      "metadata": {
        "id": "v2Merii-pZEY"
      },
      "execution_count": 13,
      "outputs": []
    },
    {
      "cell_type": "code",
      "source": [
        "pd.Series(y_pred).value_counts()"
      ],
      "metadata": {
        "colab": {
          "base_uri": "https://localhost:8080/",
          "height": 115
        },
        "id": "cm3xCKuKpudE",
        "outputId": "6931beed-7486-4d75-eebd-1910b065d5b2"
      },
      "execution_count": 17,
      "outputs": [
        {
          "output_type": "execute_result",
          "data": {
            "text/plain": [
              "rain    400\n",
              "Name: count, dtype: int64"
            ],
            "text/html": [
              "<div>\n",
              "<style scoped>\n",
              "    .dataframe tbody tr th:only-of-type {\n",
              "        vertical-align: middle;\n",
              "    }\n",
              "\n",
              "    .dataframe tbody tr th {\n",
              "        vertical-align: top;\n",
              "    }\n",
              "\n",
              "    .dataframe thead th {\n",
              "        text-align: right;\n",
              "    }\n",
              "</style>\n",
              "<table border=\"1\" class=\"dataframe\">\n",
              "  <thead>\n",
              "    <tr style=\"text-align: right;\">\n",
              "      <th></th>\n",
              "      <th>count</th>\n",
              "    </tr>\n",
              "  </thead>\n",
              "  <tbody>\n",
              "    <tr>\n",
              "      <th>rain</th>\n",
              "      <td>400</td>\n",
              "    </tr>\n",
              "  </tbody>\n",
              "</table>\n",
              "</div><br><label><b>dtype:</b> int64</label>"
            ]
          },
          "metadata": {},
          "execution_count": 17
        }
      ]
    },
    {
      "cell_type": "markdown",
      "source": [
        "Классификатор просто отвечал самым частым вариантом - rain"
      ],
      "metadata": {
        "id": "xnGwfUGwp4Wv"
      }
    },
    {
      "cell_type": "code",
      "source": [
        "print(classification_report(y_test, y_pred))"
      ],
      "metadata": {
        "colab": {
          "base_uri": "https://localhost:8080/"
        },
        "id": "iPKqKSL1s50s",
        "outputId": "7143cef5-6d9f-4f2f-de8d-73206edbd4df"
      },
      "execution_count": 19,
      "outputs": [
        {
          "output_type": "stream",
          "name": "stdout",
          "text": [
            "              precision    recall  f1-score   support\n",
            "\n",
            "     drizzle       0.00      0.00      0.00         7\n",
            "         fog       0.00      0.00      0.00        58\n",
            "        rain       0.40      1.00      0.57       161\n",
            "        snow       0.00      0.00      0.00         1\n",
            "         sun       0.00      0.00      0.00       173\n",
            "\n",
            "    accuracy                           0.40       400\n",
            "   macro avg       0.08      0.20      0.11       400\n",
            "weighted avg       0.16      0.40      0.23       400\n",
            "\n"
          ]
        },
        {
          "output_type": "stream",
          "name": "stderr",
          "text": [
            "/usr/local/lib/python3.11/dist-packages/sklearn/metrics/_classification.py:1565: UndefinedMetricWarning: Precision is ill-defined and being set to 0.0 in labels with no predicted samples. Use `zero_division` parameter to control this behavior.\n",
            "  _warn_prf(average, modifier, f\"{metric.capitalize()} is\", len(result))\n",
            "/usr/local/lib/python3.11/dist-packages/sklearn/metrics/_classification.py:1565: UndefinedMetricWarning: Precision is ill-defined and being set to 0.0 in labels with no predicted samples. Use `zero_division` parameter to control this behavior.\n",
            "  _warn_prf(average, modifier, f\"{metric.capitalize()} is\", len(result))\n",
            "/usr/local/lib/python3.11/dist-packages/sklearn/metrics/_classification.py:1565: UndefinedMetricWarning: Precision is ill-defined and being set to 0.0 in labels with no predicted samples. Use `zero_division` parameter to control this behavior.\n",
            "  _warn_prf(average, modifier, f\"{metric.capitalize()} is\", len(result))\n"
          ]
        }
      ]
    },
    {
      "cell_type": "markdown",
      "source": [
        "Метрики очевидно не очень"
      ],
      "metadata": {
        "id": "bXYNPX0ItKW3"
      }
    },
    {
      "cell_type": "markdown",
      "source": [
        "## 2. KNeighborsClassifier"
      ],
      "metadata": {
        "id": "fqebYPymqepo"
      }
    },
    {
      "cell_type": "markdown",
      "source": [
        "1) Вычислить расстояние от каждого объекта обучающей выборки до тестового объекта.\n",
        "\n",
        "2) Найти k объектов обучающей выборки (соседей) с наименьшим расстоянием до тестового объекта.\n",
        "\n",
        "3) Вернуть наиболее встречающийся класс среди k соседей.\n",
        "\n",
        "Для каждого из значений в тестовой выборке находятся k ближайших соседей среди обучающей выборке в 4х мерном пространстве характеристик и возвращается наиболее их часто встречаемый класс."
      ],
      "metadata": {
        "id": "8YjXq88zt4B7"
      }
    },
    {
      "cell_type": "code",
      "source": [
        "from sklearn.neighbors import KNeighborsClassifier\n",
        "\n",
        "clf = KNeighborsClassifier(n_neighbors=3)\n",
        "clf.fit(X_train, y_train)\n",
        "y_pred = clf.predict(X_test)"
      ],
      "metadata": {
        "id": "VvtUD7m3qztt"
      },
      "execution_count": 20,
      "outputs": []
    },
    {
      "cell_type": "code",
      "source": [
        "print(classification_report(y_test, y_pred))"
      ],
      "metadata": {
        "colab": {
          "base_uri": "https://localhost:8080/"
        },
        "id": "LEa-fGVWtW3T",
        "outputId": "a73f70b8-6397-45c7-98cd-39d21a684b40"
      },
      "execution_count": 21,
      "outputs": [
        {
          "output_type": "stream",
          "name": "stdout",
          "text": [
            "              precision    recall  f1-score   support\n",
            "\n",
            "     drizzle       0.00      0.00      0.00         7\n",
            "         fog       0.20      0.03      0.06        58\n",
            "        rain       0.83      0.88      0.85       161\n",
            "        snow       0.00      0.00      0.00         1\n",
            "         sun       0.68      0.76      0.72       173\n",
            "\n",
            "    accuracy                           0.69       400\n",
            "   macro avg       0.34      0.33      0.33       400\n",
            "weighted avg       0.66      0.69      0.66       400\n",
            "\n"
          ]
        }
      ]
    },
    {
      "cell_type": "markdown",
      "source": [
        "если взять больше соседей:"
      ],
      "metadata": {
        "id": "jmQ7uOUXrDxL"
      }
    },
    {
      "cell_type": "code",
      "source": [
        "clf = KNeighborsClassifier(n_neighbors=5)\n",
        "clf.fit(X_train, y_train)\n",
        "y_pred = clf.predict(X_test)"
      ],
      "metadata": {
        "id": "bP6H08awq7d4"
      },
      "execution_count": 30,
      "outputs": []
    },
    {
      "cell_type": "code",
      "source": [
        "print(classification_report(y_test, y_pred))"
      ],
      "metadata": {
        "colab": {
          "base_uri": "https://localhost:8080/"
        },
        "id": "oXf8yRaAtaNU",
        "outputId": "edb1adf9-0a88-48c5-8914-191531103742"
      },
      "execution_count": 31,
      "outputs": [
        {
          "output_type": "stream",
          "name": "stdout",
          "text": [
            "              precision    recall  f1-score   support\n",
            "\n",
            "     drizzle       0.00      0.00      0.00         7\n",
            "         fog       0.67      0.07      0.12        58\n",
            "        rain       0.81      0.88      0.84       161\n",
            "        snow       0.25      1.00      0.40         1\n",
            "         sun       0.70      0.84      0.77       173\n",
            "\n",
            "    accuracy                           0.73       400\n",
            "   macro avg       0.49      0.56      0.43       400\n",
            "weighted avg       0.73      0.73      0.69       400\n",
            "\n"
          ]
        }
      ]
    },
    {
      "cell_type": "code",
      "source": [
        "clf = KNeighborsClassifier(n_neighbors=9)\n",
        "clf.fit(X_train, y_train)\n",
        "y_pred = clf.predict(X_test)"
      ],
      "metadata": {
        "id": "2PotUufbtinV"
      },
      "execution_count": 26,
      "outputs": []
    },
    {
      "cell_type": "code",
      "source": [
        "print(classification_report(y_test, y_pred))"
      ],
      "metadata": {
        "colab": {
          "base_uri": "https://localhost:8080/"
        },
        "id": "-Ua-c0-OtkyV",
        "outputId": "b726358d-1d7a-483e-e192-675ad17833c8"
      },
      "execution_count": 27,
      "outputs": [
        {
          "output_type": "stream",
          "name": "stdout",
          "text": [
            "              precision    recall  f1-score   support\n",
            "\n",
            "     drizzle       0.00      0.00      0.00         7\n",
            "         fog       0.00      0.00      0.00        58\n",
            "        rain       0.80      0.88      0.84       161\n",
            "        snow       1.00      1.00      1.00         1\n",
            "         sun       0.68      0.86      0.76       173\n",
            "\n",
            "    accuracy                           0.73       400\n",
            "   macro avg       0.49      0.55      0.52       400\n",
            "weighted avg       0.62      0.73      0.67       400\n",
            "\n"
          ]
        },
        {
          "output_type": "stream",
          "name": "stderr",
          "text": [
            "/usr/local/lib/python3.11/dist-packages/sklearn/metrics/_classification.py:1565: UndefinedMetricWarning: Precision is ill-defined and being set to 0.0 in labels with no predicted samples. Use `zero_division` parameter to control this behavior.\n",
            "  _warn_prf(average, modifier, f\"{metric.capitalize()} is\", len(result))\n",
            "/usr/local/lib/python3.11/dist-packages/sklearn/metrics/_classification.py:1565: UndefinedMetricWarning: Precision is ill-defined and being set to 0.0 in labels with no predicted samples. Use `zero_division` parameter to control this behavior.\n",
            "  _warn_prf(average, modifier, f\"{metric.capitalize()} is\", len(result))\n",
            "/usr/local/lib/python3.11/dist-packages/sklearn/metrics/_classification.py:1565: UndefinedMetricWarning: Precision is ill-defined and being set to 0.0 in labels with no predicted samples. Use `zero_division` parameter to control this behavior.\n",
            "  _warn_prf(average, modifier, f\"{metric.capitalize()} is\", len(result))\n"
          ]
        }
      ]
    },
    {
      "cell_type": "markdown",
      "source": [
        "Метрики лучше чем у Dummy, нужно аккуратно подбирать число соседей и получить неплохой результат"
      ],
      "metadata": {
        "id": "Mbz7Sp1_t9g6"
      }
    },
    {
      "cell_type": "markdown",
      "source": [
        "## 3. Наивная байесовская классификация (Гауссовский вариант)"
      ],
      "metadata": {
        "id": "dckEZHparc2L"
      }
    },
    {
      "cell_type": "markdown",
      "source": [
        "Наивные байесовские классификаторы относятся к семейству простых вероятностных классификаторов и берут начало из теоремы Байеса, которая применительно к данному случаю рассматривает функции как независимые (из-за чего названы наивными).\n",
        "\n",
        "Преобразуем набор данных в частотную таблицу (frequency table).\n",
        "Создадим таблицу правдоподобия (likelihood table), рассчитав соответствующие вероятности. Например, вероятность облачной погоды (overcast) составляет 0,29.\n",
        "С помощью теоремы Байеса рассчитаем апостериорную вероятность для каждого класса при данных погодных условиях. Класс с наибольшей апостериорной вероятностью будет результатом прогноза."
      ],
      "metadata": {
        "id": "wS2lmrkgub0Q"
      }
    },
    {
      "cell_type": "code",
      "source": [
        "from sklearn.naive_bayes import GaussianNB\n",
        "\n",
        "gauss = GaussianNB()\n",
        "gauss.fit(X_train, y_train)\n",
        "y_pred = gauss.predict(X_test)"
      ],
      "metadata": {
        "id": "MDXHUtrQrceq"
      },
      "execution_count": 32,
      "outputs": []
    },
    {
      "cell_type": "code",
      "source": [
        "print(classification_report(y_test, y_pred))"
      ],
      "metadata": {
        "colab": {
          "base_uri": "https://localhost:8080/"
        },
        "id": "u1yJ0efvrp2X",
        "outputId": "b8eec3e7-c8db-44b8-d4d6-3514cc6bbe95"
      },
      "execution_count": 33,
      "outputs": [
        {
          "output_type": "stream",
          "name": "stdout",
          "text": [
            "              precision    recall  f1-score   support\n",
            "\n",
            "     drizzle       0.00      0.00      0.00         7\n",
            "         fog       0.00      0.00      0.00        58\n",
            "        rain       1.00      0.98      0.99       161\n",
            "        snow       0.20      1.00      0.33         1\n",
            "         sun       0.73      0.98      0.83       173\n",
            "\n",
            "    accuracy                           0.82       400\n",
            "   macro avg       0.39      0.59      0.43       400\n",
            "weighted avg       0.72      0.82      0.76       400\n",
            "\n"
          ]
        },
        {
          "output_type": "stream",
          "name": "stderr",
          "text": [
            "/usr/local/lib/python3.11/dist-packages/sklearn/metrics/_classification.py:1565: UndefinedMetricWarning: Precision is ill-defined and being set to 0.0 in labels with no predicted samples. Use `zero_division` parameter to control this behavior.\n",
            "  _warn_prf(average, modifier, f\"{metric.capitalize()} is\", len(result))\n",
            "/usr/local/lib/python3.11/dist-packages/sklearn/metrics/_classification.py:1565: UndefinedMetricWarning: Precision is ill-defined and being set to 0.0 in labels with no predicted samples. Use `zero_division` parameter to control this behavior.\n",
            "  _warn_prf(average, modifier, f\"{metric.capitalize()} is\", len(result))\n",
            "/usr/local/lib/python3.11/dist-packages/sklearn/metrics/_classification.py:1565: UndefinedMetricWarning: Precision is ill-defined and being set to 0.0 in labels with no predicted samples. Use `zero_division` parameter to control this behavior.\n",
            "  _warn_prf(average, modifier, f\"{metric.capitalize()} is\", len(result))\n"
          ]
        }
      ]
    },
    {
      "cell_type": "markdown",
      "source": [
        "Метрики еще лучше, но редкие классы мы по-прежнему находим плохо"
      ],
      "metadata": {
        "id": "c9ohQB5vuhYc"
      }
    },
    {
      "cell_type": "markdown",
      "source": [
        "## 4. Логистическая регрессия"
      ],
      "metadata": {
        "id": "uY0nYteYFR6F"
      }
    },
    {
      "cell_type": "markdown",
      "source": [
        "Логистическая регрессия — это метод статистического анализа, используемый для бинарной классификации. Она оценивает вероятность принадлежности объекта к определенному классу, основываясь на одной или нескольких независимых переменных. Основная идея заключается в использовании логистической функции (сигмоиды), которая преобразует линейную комбинацию входных признаков в значение от 0 до 1. Если вероятность превышает порог (обычно 0.5), объект классифицируется как принадлежащий к положительному классу."
      ],
      "metadata": {
        "id": "gSzCNhSyFZ9H"
      }
    },
    {
      "cell_type": "code",
      "source": [
        "from sklearn.linear_model import LogisticRegression\n",
        "\n",
        "log_reg = LogisticRegression(multi_class='ovr', n_jobs=-1)\n",
        "log_reg.fit(X_train, y_train)\n",
        "\n",
        "y_pred = log_reg.predict(X_test)"
      ],
      "metadata": {
        "colab": {
          "base_uri": "https://localhost:8080/"
        },
        "id": "A_pcyJH89lmB",
        "outputId": "a844ff9a-e833-4c37-bd09-214e81c232ee"
      },
      "execution_count": 82,
      "outputs": [
        {
          "output_type": "stream",
          "name": "stderr",
          "text": [
            "/usr/local/lib/python3.11/dist-packages/sklearn/linear_model/_logistic.py:1256: FutureWarning: 'multi_class' was deprecated in version 1.5 and will be removed in 1.7. Use OneVsRestClassifier(LogisticRegression(..)) instead. Leave it to its default value to avoid this warning.\n",
            "  warnings.warn(\n"
          ]
        }
      ]
    },
    {
      "cell_type": "code",
      "source": [
        "print(classification_report(y_test, y_pred))"
      ],
      "metadata": {
        "colab": {
          "base_uri": "https://localhost:8080/"
        },
        "id": "9IC11w8-9o_l",
        "outputId": "5e412e05-b236-4ed7-8a92-1444f8199121"
      },
      "execution_count": 83,
      "outputs": [
        {
          "output_type": "stream",
          "name": "stdout",
          "text": [
            "              precision    recall  f1-score   support\n",
            "\n",
            "     drizzle       0.00      0.00      0.00         7\n",
            "         fog       0.00      0.00      0.00        58\n",
            "        rain       0.93      0.96      0.95       161\n",
            "        snow       1.00      1.00      1.00         1\n",
            "         sun       0.71      0.95      0.81       173\n",
            "\n",
            "    accuracy                           0.80       400\n",
            "   macro avg       0.53      0.58      0.55       400\n",
            "weighted avg       0.68      0.80      0.74       400\n",
            "\n"
          ]
        },
        {
          "output_type": "stream",
          "name": "stderr",
          "text": [
            "/usr/local/lib/python3.11/dist-packages/sklearn/metrics/_classification.py:1565: UndefinedMetricWarning: Precision is ill-defined and being set to 0.0 in labels with no predicted samples. Use `zero_division` parameter to control this behavior.\n",
            "  _warn_prf(average, modifier, f\"{metric.capitalize()} is\", len(result))\n",
            "/usr/local/lib/python3.11/dist-packages/sklearn/metrics/_classification.py:1565: UndefinedMetricWarning: Precision is ill-defined and being set to 0.0 in labels with no predicted samples. Use `zero_division` parameter to control this behavior.\n",
            "  _warn_prf(average, modifier, f\"{metric.capitalize()} is\", len(result))\n",
            "/usr/local/lib/python3.11/dist-packages/sklearn/metrics/_classification.py:1565: UndefinedMetricWarning: Precision is ill-defined and being set to 0.0 in labels with no predicted samples. Use `zero_division` parameter to control this behavior.\n",
            "  _warn_prf(average, modifier, f\"{metric.capitalize()} is\", len(result))\n"
          ]
        }
      ]
    },
    {
      "cell_type": "markdown",
      "source": [
        "Метрики чуть похуже, но стоит учесть, что логистическая регрессия очень простая и быстрая"
      ],
      "metadata": {
        "id": "vQIfgqqGGg2f"
      }
    },
    {
      "cell_type": "markdown",
      "source": [
        "## 5. SVM (метод опорных векторов)"
      ],
      "metadata": {
        "id": "qlETc5GEFUFM"
      }
    },
    {
      "cell_type": "markdown",
      "source": [
        "Метод опорных векторов (SVM) — это мощный алгоритм для классификации и регрессии. Он работает, находя гиперплоскость, которая максимально разделяет классы в пространстве признаков. SVM может использовать различные ядра (линейные, полиномиальные, радиальные) для работы с нелинейными данными, преобразуя их в более высокое пространство признаков, где они могут быть линейно разделимы. Основная цель SVM — максимизировать расстояние между ближайшими точками разных классов (опорными векторами) и гиперплоскостью."
      ],
      "metadata": {
        "id": "HmGhM3JpFdAY"
      }
    },
    {
      "cell_type": "code",
      "source": [
        "from sklearn.svm import SVC\n",
        "\n",
        "svm_model = SVC()\n",
        "svm_model.fit(X_train, y_train)\n",
        "\n",
        "y_pred = svm_model.predict(X_test)"
      ],
      "metadata": {
        "id": "CQS134yX9Vgo"
      },
      "execution_count": 80,
      "outputs": []
    },
    {
      "cell_type": "code",
      "source": [
        "print(classification_report(y_test, y_pred))"
      ],
      "metadata": {
        "colab": {
          "base_uri": "https://localhost:8080/"
        },
        "id": "xsabXcuP9Y95",
        "outputId": "6739a0dd-365d-4765-cf09-03cda91ee593"
      },
      "execution_count": 81,
      "outputs": [
        {
          "output_type": "stream",
          "name": "stdout",
          "text": [
            "              precision    recall  f1-score   support\n",
            "\n",
            "     drizzle       0.00      0.00      0.00         7\n",
            "         fog       0.00      0.00      0.00        58\n",
            "        rain       0.95      0.87      0.91       161\n",
            "        snow       1.00      1.00      1.00         1\n",
            "         sun       0.66      0.97      0.79       173\n",
            "\n",
            "    accuracy                           0.77       400\n",
            "   macro avg       0.52      0.57      0.54       400\n",
            "weighted avg       0.67      0.77      0.71       400\n",
            "\n"
          ]
        },
        {
          "output_type": "stream",
          "name": "stderr",
          "text": [
            "/usr/local/lib/python3.11/dist-packages/sklearn/metrics/_classification.py:1565: UndefinedMetricWarning: Precision is ill-defined and being set to 0.0 in labels with no predicted samples. Use `zero_division` parameter to control this behavior.\n",
            "  _warn_prf(average, modifier, f\"{metric.capitalize()} is\", len(result))\n",
            "/usr/local/lib/python3.11/dist-packages/sklearn/metrics/_classification.py:1565: UndefinedMetricWarning: Precision is ill-defined and being set to 0.0 in labels with no predicted samples. Use `zero_division` parameter to control this behavior.\n",
            "  _warn_prf(average, modifier, f\"{metric.capitalize()} is\", len(result))\n",
            "/usr/local/lib/python3.11/dist-packages/sklearn/metrics/_classification.py:1565: UndefinedMetricWarning: Precision is ill-defined and being set to 0.0 in labels with no predicted samples. Use `zero_division` parameter to control this behavior.\n",
            "  _warn_prf(average, modifier, f\"{metric.capitalize()} is\", len(result))\n"
          ]
        }
      ]
    },
    {
      "cell_type": "markdown",
      "source": [
        "Метрики похуже, это значит, что разделить наши классы линейно проблематично"
      ],
      "metadata": {
        "id": "THwDwVIIGm4c"
      }
    },
    {
      "cell_type": "markdown",
      "source": [
        "## 6. Стохастический градиентный спуск"
      ],
      "metadata": {
        "id": "OLKwstWnsXQK"
      }
    },
    {
      "cell_type": "markdown",
      "source": [
        "Градиентный спуск — метод нахождения минимального значения функции потерь (существует множество видов этой функции). Минимизация любой функции означает поиск самой глубокой впадины в этой функции. Функция используется, чтобы контролировать ошибку в прогнозах модели машинного обучения. Поиск минимума означает получение наименьшей возможной ошибки или повышение точности модели. Мы увеличиваем точность, перебирая набор учебных данных при настройке параметров нашей модели (весов и смещений).\n",
        "\n",
        "*Градиентный спуск нужен для минимизации функции потерь.*\n",
        "\n",
        "Суть алгоритма – процесс получения наименьшего значения ошибки. Аналогично это можно рассматривать как спуск во впадину в попытке найти золото на дне ущелья (самое низкое значение ошибки).\n",
        "\n",
        "Градиент функции $f(x) = f(x_1, \\dots, x_d)$ от многих переменных в точке $x_0$ - это вектор ее частных производных, вычисленных в точке $x_0$.\n",
        "$$\\nabla_x f \\bigl | _{x_0} = \\biggl(\\frac{\\partial f}{\\partial x_1}, \\dots, \\frac{\\partial f}{\\partial x_d} \\biggr ) \\biggl | _{x_0}$$\n",
        "\n",
        "У большинства моделей возникает проблема с коэффициентом $alpha$ скорости обучения, который нужно осторожно подобрать. Если этот размер шага $alpha$ слишком велик, мы преодолеем минимум: то есть промахнемся мимо минимума. Если $alpha$ слишком мала, мы потратим слишком много итераций, чтобы добраться до минимума.\n",
        "\n",
        "![image](https://drive.google.com/uc?export=view&id=1FUhNB533Cs6xlAFa2mlCM9ilts5QdHin)\n"
      ],
      "metadata": {
        "id": "GextdZggvA0I"
      }
    },
    {
      "cell_type": "markdown",
      "source": [
        "Проблема обычного градиентного спуска заключается в том, что для того чтобы определить новые веса модели, необходимо вычислить градиент от каждого элемента выборки, что может сильно замедлять алгоритм.\n",
        "\n",
        "Стохастический градиентный спуск дает преймущество в скорости - значение градиента вычисляется только на одном случайном элементе обучения. Таким образом параметры модели изменяются после каждого объекта обучения. Для больших массивов данных стохастический градиентный спуск может дать значительное преимущество в скорости по сравнению со стандартным градиентным спуском, который вычисляет градиент из полного набора данных.\n",
        "\n",
        "С каждой итерацией спуска, нужно перемешать набор обучения и выбрать случайный пример обучения. Поскольку вы используете только один случайный пример для обучения, ваш путь к локальным минимумам будет очень шумным, как у нетрезвого человека."
      ],
      "metadata": {
        "id": "v3K4H2iWu1QY"
      }
    },
    {
      "cell_type": "code",
      "source": [
        "from sklearn.linear_model import SGDClassifier\n",
        "\n",
        "sgd = SGDClassifier(n_jobs=-1)\n",
        "sgd.fit(X_train, y_train)\n",
        "y_pred = sgd.predict(X_test)"
      ],
      "metadata": {
        "id": "tYPXzpHusSWz"
      },
      "execution_count": 34,
      "outputs": []
    },
    {
      "cell_type": "code",
      "source": [
        "print(classification_report(y_test, y_pred))"
      ],
      "metadata": {
        "colab": {
          "base_uri": "https://localhost:8080/"
        },
        "id": "ht4L1JIRtAju",
        "outputId": "04a21574-37c7-45a3-9763-243059e19e72"
      },
      "execution_count": 35,
      "outputs": [
        {
          "output_type": "stream",
          "name": "stdout",
          "text": [
            "              precision    recall  f1-score   support\n",
            "\n",
            "     drizzle       0.00      0.00      0.00         7\n",
            "         fog       0.00      0.00      0.00        58\n",
            "        rain       0.93      0.95      0.94       161\n",
            "        snow       1.00      1.00      1.00         1\n",
            "         sun       0.72      0.94      0.81       173\n",
            "\n",
            "    accuracy                           0.79       400\n",
            "   macro avg       0.53      0.58      0.55       400\n",
            "weighted avg       0.69      0.79      0.73       400\n",
            "\n"
          ]
        },
        {
          "output_type": "stream",
          "name": "stderr",
          "text": [
            "/usr/local/lib/python3.11/dist-packages/sklearn/metrics/_classification.py:1565: UndefinedMetricWarning: Precision is ill-defined and being set to 0.0 in labels with no predicted samples. Use `zero_division` parameter to control this behavior.\n",
            "  _warn_prf(average, modifier, f\"{metric.capitalize()} is\", len(result))\n",
            "/usr/local/lib/python3.11/dist-packages/sklearn/metrics/_classification.py:1565: UndefinedMetricWarning: Precision is ill-defined and being set to 0.0 in labels with no predicted samples. Use `zero_division` parameter to control this behavior.\n",
            "  _warn_prf(average, modifier, f\"{metric.capitalize()} is\", len(result))\n",
            "/usr/local/lib/python3.11/dist-packages/sklearn/metrics/_classification.py:1565: UndefinedMetricWarning: Precision is ill-defined and being set to 0.0 in labels with no predicted samples. Use `zero_division` parameter to control this behavior.\n",
            "  _warn_prf(average, modifier, f\"{metric.capitalize()} is\", len(result))\n"
          ]
        }
      ]
    },
    {
      "cell_type": "markdown",
      "source": [
        "Метрики не на высоте. Попробуем подобрать парметры для улучшения характеристик"
      ],
      "metadata": {
        "id": "XlLqHxzWvsQh"
      }
    },
    {
      "cell_type": "code",
      "source": [
        "from sklearn.linear_model import SGDClassifier\n",
        "from sklearn.model_selection import GridSearchCV\n",
        "from sklearn.metrics import classification_report\n",
        "\n",
        "# Определяем параметры для перебора\n",
        "param_grid = {\n",
        "    'loss': ['hinge', 'log_loss', 'squared_hinge', 'perceptron'],\n",
        "    'penalty': ['l2', 'l1', 'elasticnet'],\n",
        "    'alpha': [1e-4, 1e-3, 1e-2],\n",
        "    'learning_rate': ['constant', 'optimal', 'invscaling', 'adaptive'],\n",
        "    'eta0': [0.1, 0.2, 0.3],\n",
        "}\n",
        "\n",
        "# Создаем экземпляр SGDClassifier\n",
        "sgd = SGDClassifier(n_jobs=-1)\n",
        "\n",
        "# Создаем GridSearchCV\n",
        "grid_search = GridSearchCV(estimator=sgd, param_grid=param_grid,\n",
        "                           scoring='accuracy', cv=5, n_jobs=-1)\n",
        "\n",
        "# Обучаем модель с перебором параметров\n",
        "grid_search.fit(X_train, y_train)\n",
        "\n",
        "# Получаем лучшие параметры и модель\n",
        "best_model = grid_search.best_estimator_\n",
        "\n",
        "# Делаем предсказания на тестовой выборке\n",
        "y_pred = best_model.predict(X_test)"
      ],
      "metadata": {
        "id": "kMuAT4QGtDy3"
      },
      "execution_count": 47,
      "outputs": []
    },
    {
      "cell_type": "code",
      "source": [
        "# Выводим classification report для лучшей модели\n",
        "print(classification_report(y_test, y_pred))"
      ],
      "metadata": {
        "colab": {
          "base_uri": "https://localhost:8080/"
        },
        "id": "KIPjWyCZuvgg",
        "outputId": "bc3c4f35-252a-49e9-92a4-4e14248b941e"
      },
      "execution_count": 48,
      "outputs": [
        {
          "output_type": "stream",
          "name": "stdout",
          "text": [
            "              precision    recall  f1-score   support\n",
            "\n",
            "     drizzle       0.00      0.00      0.00         7\n",
            "         fog       0.67      0.03      0.07        58\n",
            "        rain       0.82      1.00      0.90       161\n",
            "        snow       0.00      0.00      0.00         1\n",
            "         sun       0.78      0.90      0.84       173\n",
            "\n",
            "    accuracy                           0.80       400\n",
            "   macro avg       0.45      0.39      0.36       400\n",
            "weighted avg       0.76      0.80      0.73       400\n",
            "\n"
          ]
        },
        {
          "output_type": "stream",
          "name": "stderr",
          "text": [
            "/usr/local/lib/python3.11/dist-packages/sklearn/metrics/_classification.py:1565: UndefinedMetricWarning: Precision is ill-defined and being set to 0.0 in labels with no predicted samples. Use `zero_division` parameter to control this behavior.\n",
            "  _warn_prf(average, modifier, f\"{metric.capitalize()} is\", len(result))\n",
            "/usr/local/lib/python3.11/dist-packages/sklearn/metrics/_classification.py:1565: UndefinedMetricWarning: Precision is ill-defined and being set to 0.0 in labels with no predicted samples. Use `zero_division` parameter to control this behavior.\n",
            "  _warn_prf(average, modifier, f\"{metric.capitalize()} is\", len(result))\n",
            "/usr/local/lib/python3.11/dist-packages/sklearn/metrics/_classification.py:1565: UndefinedMetricWarning: Precision is ill-defined and being set to 0.0 in labels with no predicted samples. Use `zero_division` parameter to control this behavior.\n",
            "  _warn_prf(average, modifier, f\"{metric.capitalize()} is\", len(result))\n"
          ]
        }
      ]
    },
    {
      "cell_type": "markdown",
      "source": [
        "Метрики немного улучшились, иногда видно даже редкие классы"
      ],
      "metadata": {
        "id": "7OI-3kte0b5m"
      }
    },
    {
      "cell_type": "markdown",
      "source": [
        "## 7. Деревья решений - DecisionTreeClassifier и RandomForestClassifier\n",
        "\n"
      ],
      "metadata": {
        "id": "FsthRL5xvKfj"
      }
    },
    {
      "cell_type": "markdown",
      "source": [
        "Решающее дерево предсказывает значение целевой переменной с помощью применения последовательности простых решающих правил (которые называются предикатами). Этот процесс в некотором смысле согласуется с естественным для человека процессом принятия решений.\n",
        "\n",
        "Хотя обобщающая способность решающих деревьев невысока, их предсказания вычисляются довольно просто, из-за чего решающие деревья часто используют как кирпичики для построения ансамблей — моделей, делающих предсказания на основе агрегации предсказаний других моделей.\n",
        "\n",
        "**RandomForest и Bagging - ансамбли таких деревьев**\n",
        "\n",
        "`RandomForest` - ответы усредняются, в задаче классификации принимается решение голосованием по большинству\n",
        "\n",
        "`Bagging` – собирает усложнённые классификаторы, при этом параллельно обучая базовые (улучшающее объединение)"
      ],
      "metadata": {
        "id": "xvtiGTFn0a6v"
      }
    },
    {
      "cell_type": "markdown",
      "source": [
        "### Попробуем одно дерево"
      ],
      "metadata": {
        "id": "sv1oVQj-1Fm6"
      }
    },
    {
      "cell_type": "code",
      "source": [
        "from sklearn.tree import DecisionTreeClassifier\n",
        "from sklearn.ensemble import BaggingClassifier, RandomForestClassifier"
      ],
      "metadata": {
        "id": "F04L33AZvOgf"
      },
      "execution_count": 49,
      "outputs": []
    },
    {
      "cell_type": "code",
      "source": [
        "des_tree = DecisionTreeClassifier()\n",
        "des_tree.fit(X_train, y_train)\n",
        "y_pred = des_tree.predict(X_test)"
      ],
      "metadata": {
        "id": "6RzZrN6Hv0KG"
      },
      "execution_count": 50,
      "outputs": []
    },
    {
      "cell_type": "code",
      "source": [
        "print(classification_report(y_test, y_pred))"
      ],
      "metadata": {
        "colab": {
          "base_uri": "https://localhost:8080/"
        },
        "id": "Q-lO26ZEv3hb",
        "outputId": "383a2436-6404-41da-cd9d-56ca5e697f98"
      },
      "execution_count": 51,
      "outputs": [
        {
          "output_type": "stream",
          "name": "stdout",
          "text": [
            "              precision    recall  f1-score   support\n",
            "\n",
            "     drizzle       0.00      0.00      0.00         7\n",
            "         fog       0.22      0.07      0.11        58\n",
            "        rain       0.91      0.96      0.93       161\n",
            "        snow       0.12      1.00      0.22         1\n",
            "         sun       0.74      0.82      0.78       173\n",
            "\n",
            "    accuracy                           0.75       400\n",
            "   macro avg       0.40      0.57      0.41       400\n",
            "weighted avg       0.72      0.75      0.73       400\n",
            "\n"
          ]
        }
      ]
    },
    {
      "cell_type": "markdown",
      "source": [
        "### Теперь случайный лес"
      ],
      "metadata": {
        "id": "FtQKA2Mu1KJM"
      }
    },
    {
      "cell_type": "markdown",
      "source": [
        "RF (random forest) — это множество решающих деревьев. В задаче классификации принимается решение голосованием по большинству. Все деревья строятся независимо по следующей схеме:\n",
        "\n",
        "1) Генерируем при помощи бэггинга  B  выборок\n",
        "\n",
        "2) Обучаем каждое решающее дерево на своей выборке\n",
        "\n",
        "3) Получаем результат при помощи голосования большинства\n",
        "\n",
        "Плюсы:\n",
        "\n",
        "Можно осуществить параллельную реализацию\n",
        "Не переобучается с ростом количества выборок  B\n",
        "Минусы:\n",
        "\n",
        "Менее интерпретируемый, чем решающее дерево\n",
        "Деревья не исправляют ошибки друг друга"
      ],
      "metadata": {
        "id": "9OLCUHRR2EQ0"
      }
    },
    {
      "cell_type": "code",
      "source": [
        "rf_clf = RandomForestClassifier(n_jobs=-1)\n",
        "rf_clf.fit(X_train, y_train)\n",
        "y_pred = rf_clf.predict(X_test)"
      ],
      "metadata": {
        "id": "0DptxgXvv7K4"
      },
      "execution_count": 52,
      "outputs": []
    },
    {
      "cell_type": "code",
      "source": [
        "print(classification_report(y_test, y_pred))"
      ],
      "metadata": {
        "colab": {
          "base_uri": "https://localhost:8080/"
        },
        "id": "2mxlGQX1v-sY",
        "outputId": "d6f99e1d-ced0-4d90-b0e7-54c5299e964d"
      },
      "execution_count": 53,
      "outputs": [
        {
          "output_type": "stream",
          "name": "stdout",
          "text": [
            "              precision    recall  f1-score   support\n",
            "\n",
            "     drizzle       0.00      0.00      0.00         7\n",
            "         fog       0.40      0.03      0.06        58\n",
            "        rain       0.97      0.99      0.98       161\n",
            "        snow       0.50      1.00      0.67         1\n",
            "         sun       0.74      0.97      0.84       173\n",
            "\n",
            "    accuracy                           0.82       400\n",
            "   macro avg       0.52      0.60      0.51       400\n",
            "weighted avg       0.77      0.82      0.77       400\n",
            "\n"
          ]
        }
      ]
    },
    {
      "cell_type": "markdown",
      "source": [
        "### BaggingClassifier"
      ],
      "metadata": {
        "id": "MjyHAXnd1Oy1"
      }
    },
    {
      "cell_type": "markdown",
      "source": [
        "Идея бэггинга (bagging) заключается в следующем. Выберем из обучающей выборки $n$\n",
        " примеров. Будем выбирать примеры равновероятно, с повторением. Получим новую выборку $X^1$\n",
        ", в которой некоторых элементов исходной выборки не будет, а какие-то могут войти несколько раз. С помощью некоторого алгоритма $b$\n",
        " обучим на этой выборке модель $b_1(x) = b(x, X^1)$\n",
        ". Повторим процедуру: сформируем вторую выборку $X^2$\n",
        " из $n$\n",
        " элементов с возвращением и с помощью того же алгоритма обучим на ней модель $b_2(x) = b(x, X^2)$\n",
        ". Повторив процедуру $k$\n",
        " раз, получим $k$\n",
        " моделей, обученных на $k$\n",
        " выборках. Чтобы получить одно предсказание, усредним предсказания всех моделей:\n",
        "\n",
        "$$\n",
        "\\mathrm a(x) = \\frac{1}{k}(b_1(x) + \\dots + b_k(x)).\n",
        "$$\n",
        "\n",
        "Плюсы:\n",
        "- Уменьшает переобучение, если базовые модели были переобучены (например, решающие деревья)\n",
        "\n",
        "Минусы:\n",
        "- Время обучения увеличивается в $k$ раз (по количеству обученных моделей)"
      ],
      "metadata": {
        "id": "vdpuY-vY2MU5"
      }
    },
    {
      "cell_type": "code",
      "source": [
        "bg_clf = BaggingClassifier(n_jobs=-1)\n",
        "bg_clf.fit(X_train, y_train)\n",
        "y_pred = bg_clf.predict(X_test)"
      ],
      "metadata": {
        "id": "37jCGpfOwCDZ"
      },
      "execution_count": 54,
      "outputs": []
    },
    {
      "cell_type": "code",
      "source": [
        "print(classification_report(y_test, y_pred))"
      ],
      "metadata": {
        "colab": {
          "base_uri": "https://localhost:8080/"
        },
        "id": "AJZcte_QwE9d",
        "outputId": "31d79382-83af-4f18-c388-d0592fc4010a"
      },
      "execution_count": 55,
      "outputs": [
        {
          "output_type": "stream",
          "name": "stdout",
          "text": [
            "              precision    recall  f1-score   support\n",
            "\n",
            "     drizzle       0.00      0.00      0.00         7\n",
            "         fog       0.47      0.14      0.21        58\n",
            "        rain       0.96      0.98      0.97       161\n",
            "        snow       0.25      1.00      0.40         1\n",
            "         sun       0.76      0.92      0.83       173\n",
            "\n",
            "    accuracy                           0.81       400\n",
            "   macro avg       0.49      0.61      0.48       400\n",
            "weighted avg       0.78      0.81      0.78       400\n",
            "\n"
          ]
        }
      ]
    },
    {
      "cell_type": "markdown",
      "source": [
        "### Попробуем немного ограничить количество значений в листе в случайном лесу"
      ],
      "metadata": {
        "id": "1K_sSWij1Tba"
      }
    },
    {
      "cell_type": "code",
      "source": [
        "rf_clf = RandomForestClassifier(\n",
        "    criterion=\"entropy\", min_samples_leaf=3, n_jobs=-1\n",
        "  )\n",
        "rf_clf.fit(X_train, y_train)\n",
        "y_pred = rf_clf.predict(X_test)"
      ],
      "metadata": {
        "id": "rvS68k9qwJIE"
      },
      "execution_count": 56,
      "outputs": []
    },
    {
      "cell_type": "code",
      "source": [
        "print(classification_report(y_test, y_pred))"
      ],
      "metadata": {
        "colab": {
          "base_uri": "https://localhost:8080/"
        },
        "id": "nLdB4X8ewL1d",
        "outputId": "73cbfcee-c1d4-407d-d25e-927daa873a34"
      },
      "execution_count": 57,
      "outputs": [
        {
          "output_type": "stream",
          "name": "stdout",
          "text": [
            "              precision    recall  f1-score   support\n",
            "\n",
            "     drizzle       0.00      0.00      0.00         7\n",
            "         fog       1.00      0.02      0.03        58\n",
            "        rain       1.00      1.00      1.00       161\n",
            "        snow       1.00      1.00      1.00         1\n",
            "         sun       0.73      1.00      0.84       173\n",
            "\n",
            "    accuracy                           0.84       400\n",
            "   macro avg       0.75      0.60      0.58       400\n",
            "weighted avg       0.87      0.84      0.77       400\n",
            "\n"
          ]
        },
        {
          "output_type": "stream",
          "name": "stderr",
          "text": [
            "/usr/local/lib/python3.11/dist-packages/sklearn/metrics/_classification.py:1565: UndefinedMetricWarning: Precision is ill-defined and being set to 0.0 in labels with no predicted samples. Use `zero_division` parameter to control this behavior.\n",
            "  _warn_prf(average, modifier, f\"{metric.capitalize()} is\", len(result))\n",
            "/usr/local/lib/python3.11/dist-packages/sklearn/metrics/_classification.py:1565: UndefinedMetricWarning: Precision is ill-defined and being set to 0.0 in labels with no predicted samples. Use `zero_division` parameter to control this behavior.\n",
            "  _warn_prf(average, modifier, f\"{metric.capitalize()} is\", len(result))\n",
            "/usr/local/lib/python3.11/dist-packages/sklearn/metrics/_classification.py:1565: UndefinedMetricWarning: Precision is ill-defined and being set to 0.0 in labels with no predicted samples. Use `zero_division` parameter to control this behavior.\n",
            "  _warn_prf(average, modifier, f\"{metric.capitalize()} is\", len(result))\n"
          ]
        }
      ]
    },
    {
      "cell_type": "markdown",
      "source": [
        "#### Итого"
      ],
      "metadata": {
        "id": "FsFqrG6w1cdj"
      }
    },
    {
      "cell_type": "markdown",
      "source": [
        "Случайный лес, несмотря на простоту, показывает хорошие метрики"
      ],
      "metadata": {
        "id": "YfM-R3R81dwP"
      }
    },
    {
      "cell_type": "markdown",
      "source": [
        "## 8. Градиентный бустинг"
      ],
      "metadata": {
        "id": "kBPl6F2UwN-8"
      }
    },
    {
      "cell_type": "markdown",
      "source": [
        "**Бустинг (boosting)** – это ансамблевый метод, в котором так же, как и в методах выше, строится множество базовых алгоритмов из одного семейства, объединяющихся затем в более сильную модель. Отличие состоит в том, что в бэггинге и случайном лесе базовые алгоритмы учатся независимо и параллельно, а в бустинге – последовательно.\n",
        "\n",
        "Каждый следующий базовый алгоритм в бустинге обучается так, чтобы уменьшить общую ошибку всех своих предшественников. Как следствие, итоговая композиция будет иметь меньшее смещение, чем каждый отдельный базовый алгоритм. Поскольку основная цель бустинга – уменьшение смещения, в качестве базовых алгоритмов часто выбирают алгоритмы с высоким смещением и небольшим разбросом. Например, если в качестве базовых классификаторов выступают деревья, то их глубина должна быть небольшой – обычно не больше 2-3 уровней.\n",
        "\n",
        "Ещё одной важной причиной для выбора моделей с высоким смещением в качестве базовых является то, что такие модели, как правило, быстрее учатся. Это важно для их последовательного обучения, которое может стать очень дорогим по времени, если на каждой итерации будет учиться сложная модель.\n",
        "\n",
        "На текущий момент основным видом бустинга с точки зрения применения на практике является градиентный бустинг. Хотя случайный лес – мощный и достаточно простой для понимания и реализации алгоритм, на практике он чаще всего уступает градиентному бустингу. Поэтому градиентный бустинг сейчас – основное продакшн-решение, если работа происходит с табличными данными (в работе с однородными данными – картинками, текстами – доминируют нейросети)."
      ],
      "metadata": {
        "id": "WXB15Ziu2WFi"
      }
    },
    {
      "cell_type": "code",
      "source": [
        "from sklearn.ensemble import GradientBoostingClassifier\n",
        "\n",
        "gb_clf = GradientBoostingClassifier(\n",
        "    max_depth=3, learning_rate=0.1, n_estimators=10\n",
        "  )\n",
        "gb_clf.fit(X_train, y_train)\n",
        "y_pred = gb_clf.predict(X_test)"
      ],
      "metadata": {
        "id": "GkqB-8UUwkCH"
      },
      "execution_count": 74,
      "outputs": []
    },
    {
      "cell_type": "code",
      "source": [
        "print(classification_report(y_test, y_pred))"
      ],
      "metadata": {
        "colab": {
          "base_uri": "https://localhost:8080/"
        },
        "id": "tuYxBUGqworl",
        "outputId": "01696a06-ad53-4034-8f75-c19a3fe645ab"
      },
      "execution_count": 75,
      "outputs": [
        {
          "output_type": "stream",
          "name": "stdout",
          "text": [
            "              precision    recall  f1-score   support\n",
            "\n",
            "     drizzle       0.00      0.00      0.00         7\n",
            "         fog       0.00      0.00      0.00        58\n",
            "        rain       1.00      0.99      0.99       161\n",
            "        snow       0.33      1.00      0.50         1\n",
            "         sun       0.73      1.00      0.84       173\n",
            "\n",
            "    accuracy                           0.83       400\n",
            "   macro avg       0.41      0.60      0.47       400\n",
            "weighted avg       0.72      0.83      0.77       400\n",
            "\n"
          ]
        },
        {
          "output_type": "stream",
          "name": "stderr",
          "text": [
            "/usr/local/lib/python3.11/dist-packages/sklearn/metrics/_classification.py:1565: UndefinedMetricWarning: Precision is ill-defined and being set to 0.0 in labels with no predicted samples. Use `zero_division` parameter to control this behavior.\n",
            "  _warn_prf(average, modifier, f\"{metric.capitalize()} is\", len(result))\n",
            "/usr/local/lib/python3.11/dist-packages/sklearn/metrics/_classification.py:1565: UndefinedMetricWarning: Precision is ill-defined and being set to 0.0 in labels with no predicted samples. Use `zero_division` parameter to control this behavior.\n",
            "  _warn_prf(average, modifier, f\"{metric.capitalize()} is\", len(result))\n",
            "/usr/local/lib/python3.11/dist-packages/sklearn/metrics/_classification.py:1565: UndefinedMetricWarning: Precision is ill-defined and being set to 0.0 in labels with no predicted samples. Use `zero_division` parameter to control this behavior.\n",
            "  _warn_prf(average, modifier, f\"{metric.capitalize()} is\", len(result))\n"
          ]
        }
      ]
    },
    {
      "cell_type": "markdown",
      "source": [
        "Видим очень хорошие метрики, но маленькие классы по-прежнему не видны"
      ],
      "metadata": {
        "id": "RZLZDP5z2oWF"
      }
    },
    {
      "cell_type": "markdown",
      "source": [
        "#### Итак, метод ансамблей – более мощный инструмент по сравнению с отдельно стоящими моделями прогнозирования, поскольку:\n",
        "\n",
        "- он сводит к минимуму влияние случайностей, усредняя ошибки каждого базового классификатора;\n",
        "- уменьшает дисперсию, поскольку несколько разных моделей, исходящих из разных гипотез, имеют больше шансов прийти к правильному результату, чем одна отдельно взятая.\n"
      ],
      "metadata": {
        "id": "f7vO2TrK3Ewq"
      }
    },
    {
      "cell_type": "markdown",
      "source": [
        "## 9. CatBoost"
      ],
      "metadata": {
        "id": "mZuSrbEXwyNI"
      }
    },
    {
      "cell_type": "markdown",
      "source": [
        "**Cat Boost** - алгоритм градиентного бустинга решающих деревьев.\n",
        "\n",
        "Разработан в компании Яндекс и используется в поиске, рекомендательных системах, голосовых помощниках, беспилотных автомобилях, предсказаниях погоды, и т.д. не только внутри компании, но и в CERN, Cloudflare, и др.\n",
        "\n",
        "Практически любой современный метод на основе градиентного бустинга работает с числовыми признаками.\n",
        "\n",
        "Если в наборе данных присутствуют не только числовые, но и категориальные признаки, то необходимо переводить категориальные признаки в числовые. Это приводит к искажению их сути и потенциальному снижению точности работы модели. Именно поэтому было важно разработать алгоритм, который умеет работать не только с числовыми признаками, но и с категориальными напрямую, закономерности между которыми этот алгоритм будет выявлять самостоятельно, без ручной «помощи». CatBoost — библиотека для градиентного бустинга, главным преимуществом которой является то, что она одинаково хорошо работает «из коробки» как с числовыми признаками, так и с категориальными.\n",
        "\n",
        "Использует небрежные (oblivious) деревья решений, чтобы вырастить сбалансированное дерево. Одни и те же функции используются для создания левых и правых разделений (split) на каждом уровне дерева."
      ],
      "metadata": {
        "id": "W7hfsCMs3KEJ"
      }
    },
    {
      "cell_type": "code",
      "source": [
        "!pip install catboost -q\n",
        "from google.colab import output\n",
        "output.enable_custom_widget_manager()"
      ],
      "metadata": {
        "colab": {
          "base_uri": "https://localhost:8080/"
        },
        "id": "HzP-DJDjxiPy",
        "outputId": "6e1792b3-be40-4523-90dc-c56c372a889d"
      },
      "execution_count": 70,
      "outputs": [
        {
          "output_type": "stream",
          "name": "stdout",
          "text": [
            "\u001b[2K   \u001b[90m━━━━━━━━━━━━━━━━━━━━━━━━━━━━━━━━━━━━━━━━\u001b[0m \u001b[32m98.7/98.7 MB\u001b[0m \u001b[31m5.7 MB/s\u001b[0m eta \u001b[36m0:00:00\u001b[0m\n",
            "\u001b[?25h"
          ]
        }
      ]
    },
    {
      "cell_type": "code",
      "source": [
        "from catboost import CatBoostClassifier\n",
        "\n",
        "cbst = CatBoostClassifier(verbose=0) # лучше указать параметры, но воспользуемся автоподбором\n",
        "cbst.fit(X_train, y_train)\n",
        "y_pred = cbst.predict(X_test)"
      ],
      "metadata": {
        "id": "OosUO-gJxksg"
      },
      "execution_count": 76,
      "outputs": []
    },
    {
      "cell_type": "code",
      "source": [
        "print(classification_report(y_test, y_pred))"
      ],
      "metadata": {
        "colab": {
          "base_uri": "https://localhost:8080/"
        },
        "id": "2Afm-2KWxnbx",
        "outputId": "ed30da5b-4333-497e-cd93-b019ae1bacee"
      },
      "execution_count": 77,
      "outputs": [
        {
          "output_type": "stream",
          "name": "stdout",
          "text": [
            "              precision    recall  f1-score   support\n",
            "\n",
            "     drizzle       0.00      0.00      0.00         7\n",
            "         fog       0.50      0.05      0.09        58\n",
            "        rain       0.98      0.99      0.98       161\n",
            "        snow       0.50      1.00      0.67         1\n",
            "         sun       0.74      0.96      0.83       173\n",
            "\n",
            "    accuracy                           0.82       400\n",
            "   macro avg       0.54      0.60      0.52       400\n",
            "weighted avg       0.79      0.82      0.77       400\n",
            "\n"
          ]
        }
      ]
    },
    {
      "cell_type": "markdown",
      "source": [
        "Метрики чуть похуже предыдущего классификатора, но зато стали появляться редкие классы"
      ],
      "metadata": {
        "id": "16qpzKKM3kZd"
      }
    },
    {
      "cell_type": "markdown",
      "source": [
        "## 10. Многослойный персептрон MLP Classifier"
      ],
      "metadata": {
        "id": "Aumxke3VyEvi"
      }
    },
    {
      "cell_type": "markdown",
      "source": [
        "Персептрон — это один из первых алгоритмов для обучения нейронных сетей, предназначенный для бинарной классификации. Он состоит из одного слоя нейронов и использует линейную функцию активации. Персептрон обучается с помощью алгоритма, который корректирует веса на основе ошибок предсказания. Хотя персептрон может решать только линейно разделимые задачи, он стал основой для более сложных многослойных нейронных сетей, которые способны решать более сложные задачи."
      ],
      "metadata": {
        "id": "HpazXDhwFiTA"
      }
    },
    {
      "cell_type": "code",
      "source": [
        "from sklearn.neural_network import MLPClassifier\n",
        "# Создание MLP с двумя скрытыми слоями\n",
        "mlp = MLPClassifier(hidden_layer_sizes=(64, 32), alpha=1, max_iter=1000, random_state=42)\n",
        "mlp.fit(X_train, y_train)\n",
        "\n",
        "y_pred = mlp.predict(X_test)"
      ],
      "metadata": {
        "id": "IVOrFjM4yhk9"
      },
      "execution_count": 90,
      "outputs": []
    },
    {
      "cell_type": "code",
      "source": [
        "print(classification_report(y_test, y_pred))"
      ],
      "metadata": {
        "colab": {
          "base_uri": "https://localhost:8080/"
        },
        "id": "DuqAF80YF2xr",
        "outputId": "37a2eaeb-3d04-405d-a549-8a06c7cebcd8"
      },
      "execution_count": 91,
      "outputs": [
        {
          "output_type": "stream",
          "name": "stdout",
          "text": [
            "              precision    recall  f1-score   support\n",
            "\n",
            "     drizzle       0.00      0.00      0.00         7\n",
            "         fog       0.00      0.00      0.00        58\n",
            "        rain       1.00      0.99      0.99       161\n",
            "        snow       1.00      1.00      1.00         1\n",
            "         sun       0.72      1.00      0.84       173\n",
            "\n",
            "    accuracy                           0.83       400\n",
            "   macro avg       0.54      0.60      0.57       400\n",
            "weighted avg       0.72      0.83      0.76       400\n",
            "\n"
          ]
        },
        {
          "output_type": "stream",
          "name": "stderr",
          "text": [
            "/usr/local/lib/python3.11/dist-packages/sklearn/metrics/_classification.py:1565: UndefinedMetricWarning: Precision is ill-defined and being set to 0.0 in labels with no predicted samples. Use `zero_division` parameter to control this behavior.\n",
            "  _warn_prf(average, modifier, f\"{metric.capitalize()} is\", len(result))\n",
            "/usr/local/lib/python3.11/dist-packages/sklearn/metrics/_classification.py:1565: UndefinedMetricWarning: Precision is ill-defined and being set to 0.0 in labels with no predicted samples. Use `zero_division` parameter to control this behavior.\n",
            "  _warn_prf(average, modifier, f\"{metric.capitalize()} is\", len(result))\n",
            "/usr/local/lib/python3.11/dist-packages/sklearn/metrics/_classification.py:1565: UndefinedMetricWarning: Precision is ill-defined and being set to 0.0 in labels with no predicted samples. Use `zero_division` parameter to control this behavior.\n",
            "  _warn_prf(average, modifier, f\"{metric.capitalize()} is\", len(result))\n"
          ]
        }
      ]
    },
    {
      "cell_type": "markdown",
      "source": [
        "Мы видим едва ли не лучшие метрики, сравнимые с градиентным бустингом и CatBoost. Данное наблюдение открывает нам дорогу в мир глубинного обучения и нейронных сетей"
      ],
      "metadata": {
        "id": "rBZRh4y9G2RH"
      }
    },
    {
      "cell_type": "markdown",
      "source": [
        "## Вывод"
      ],
      "metadata": {
        "id": "xfMw8YM_Jpz6"
      }
    },
    {
      "cell_type": "markdown",
      "source": [
        "Лучше всего себя показывают ансамблевые модели - случайный лес и грандиентный бустинг, так как они сводят к минимуму влияние случайностей, корректируя или усредняя ошибки каждого базового классификатора, и уменьшают дисперсию, поскольку несколько разных моделей, исходящих из разных гипотез, имеют больше шансов прийти к правильному результату, чем одна отдельно взятая. Такие же хорошие метрики показывает многослойный персептрон, так как он корректирует веса на основе ошибок предсказания, открывая дорогу в глубинное обучение."
      ],
      "metadata": {
        "id": "ut4n42dXJsRs"
      }
    }
  ]
}