{
  "nbformat": 4,
  "nbformat_minor": 0,
  "metadata": {
    "colab": {
      "provenance": [],
      "gpuType": "T4"
    },
    "kernelspec": {
      "name": "python3",
      "display_name": "Python 3"
    },
    "language_info": {
      "name": "python"
    },
    "accelerator": "GPU"
  },
  "cells": [
    {
      "cell_type": "code",
      "source": [
        "import zipfile\n",
        "from google.colab import drive\n",
        "drive.mount('/content/drive')\n"
      ],
      "metadata": {
        "colab": {
          "base_uri": "https://localhost:8080/"
        },
        "id": "H0qD9YUa0W6f",
        "outputId": "ce595fd5-2ed0-4bb5-c48a-ee465d23307c"
      },
      "execution_count": 2,
      "outputs": [
        {
          "output_type": "stream",
          "name": "stdout",
          "text": [
            "Mounted at /content/drive\n"
          ]
        }
      ]
    },
    {
      "cell_type": "code",
      "source": [
        "with zipfile.ZipFile(\"/content/drive/MyDrive/Colab_Notebooks/data/sii_data/lab_4/miem-hse-ais-2023-lab-04.zip\",\"r\") as zip_ref:\n",
        "    zip_ref.extractall(\"./\")"
      ],
      "metadata": {
        "id": "Bpyax_9UBzzN"
      },
      "execution_count": 24,
      "outputs": []
    },
    {
      "cell_type": "code",
      "source": [
        "import os\n",
        "import glob\n",
        "import librosa\n",
        "import numpy as np\n",
        "import pandas as pd\n",
        "import torch\n",
        "import torch.optim as optim\n",
        "from torch.nn import CrossEntropyLoss\n",
        "from torch.optim.lr_scheduler import StepLR\n",
        "from torch.utils.data import Dataset, DataLoader, random_split\n",
        "from torchvision.models import mobilenet_v2\n",
        "from torchvision.transforms import transforms\n",
        "from torchvision.transforms.functional import to_pil_image\n",
        "from tqdm import tqdm\n",
        "from PIL import Image"
      ],
      "metadata": {
        "id": "eNLYe07OH_Ui"
      },
      "execution_count": 100,
      "outputs": []
    },
    {
      "cell_type": "code",
      "source": [
        "device = torch.device(\"cuda\" if torch.cuda.is_available() else \"cpu\")"
      ],
      "metadata": {
        "id": "1jDy0xgcVqa2"
      },
      "execution_count": 144,
      "outputs": []
    },
    {
      "cell_type": "code",
      "source": [
        "class MyDataset(Dataset):\n",
        "    def __init__(self, path, names, words, labels=None, transform=None, is_test=False, csv=None):\n",
        "        self.names = names\n",
        "        self.words = words\n",
        "        self.labels = labels\n",
        "        self.path = path\n",
        "        self.transform = transform\n",
        "        self.is_test = is_test\n",
        "        self.data = pd.read_csv(csv)\n",
        "\n",
        "    def __len__(self):\n",
        "        return len(self.names)\n",
        "\n",
        "    def __getitem__(self, index):\n",
        "        if self.is_test:\n",
        "            waveform, sr = librosa.load(self.path + '/' + self.data.loc[index, 'id'])\n",
        "            label = self.data.loc[index, 'answer']\n",
        "        else:\n",
        "            waveform, sr = librosa.load(f\"{self.path}/{self.words[index]}/{self.names[index]}\")\n",
        "            label = self.labels[index]\n",
        "\n",
        "        n_fft, step = 1024, 1024 // 4\n",
        "        mel_spectrogram = librosa.power_to_db(librosa.feature.melspectrogram(y=waveform, sr=sr, n_fft=n_fft, hop_length=step), ref=np.max)\n",
        "        mel_spectrogram = np.round(mel_spectrogram)\n",
        "        mel_spectrogram = to_pil_image(mel_spectrogram)\n",
        "\n",
        "        if self.transform is not None:\n",
        "            mel_spectrogram = self.transform(mel_spectrogram)\n",
        "\n",
        "        if self.labels is not None:\n",
        "            return mel_spectrogram, label\n",
        "        else:\n",
        "            return mel_spectrogram"
      ],
      "metadata": {
        "id": "ljqTYFEoIkcY"
      },
      "execution_count": 159,
      "outputs": []
    },
    {
      "cell_type": "code",
      "source": [
        "def transformation(sounds_path, is_test=False):\n",
        "    sounds_path = sorted(glob.glob(sounds_path))\n",
        "\n",
        "    names, words, labels = [], [], []\n",
        "\n",
        "    for path in sounds_path:\n",
        "        if is_test:\n",
        "            word = 'test'\n",
        "            name = os.path.basename(path)\n",
        "        else:\n",
        "            word = os.path.basename(os.path.dirname(path))\n",
        "            name = os.path.basename(path)\n",
        "        words.append(word)\n",
        "        names.append(name)\n",
        "\n",
        "    if not is_test:\n",
        "        for word in words:\n",
        "            labels.append(word)\n",
        "\n",
        "        label_dict = {'house': 0, 'one': 1, 'two': 2, 'three': 3, 'four': 4, 'five': 5, 'six': 6, 'stop': 7, 'cat': 8, 'dog': 9}\n",
        "        labels = [label_dict[label] for label in labels]\n",
        "\n",
        "    return names, words, labels"
      ],
      "metadata": {
        "id": "OSMMP6jYJBNf"
      },
      "execution_count": 160,
      "outputs": []
    },
    {
      "cell_type": "code",
      "source": [
        "def train(model, device, train_loader, optimizer, epoch):\n",
        "    loss_func = CrossEntropyLoss()\n",
        "    model.train()\n",
        "    total_loss = 0.0\n",
        "\n",
        "    for batch_idx, (data, target) in tqdm(enumerate(train_loader)):\n",
        "        data = data.repeat(1, 3, 1, 1).to(device)\n",
        "        target = target.to(device)\n",
        "\n",
        "        optimizer.zero_grad()\n",
        "        output = model(data)\n",
        "        loss = loss_func(output, target)\n",
        "        loss.backward()\n",
        "        optimizer.step()\n",
        "\n",
        "        total_loss += loss.item()\n",
        "\n",
        "        if batch_idx % 20 == 0:\n",
        "            print(f'Train Epoch: {epoch} [{batch_idx * len(data)}/{len(train_loader.dataset)} ({100. * batch_idx / len(train_loader):.0f}%)]\\tLoss: {loss.item():.6f}')\n",
        "\n",
        "    return total_loss / len(train_loader)\n",
        "\n",
        "def valid(model, device, valid_loader):\n",
        "    print(\"Validation\")\n",
        "    loss_func = CrossEntropyLoss()\n",
        "    model.eval()\n",
        "    total_loss = 0.0\n",
        "    correct = 0\n",
        "\n",
        "    with torch.no_grad():\n",
        "        for data, target in tqdm(valid_loader):\n",
        "            data = data.repeat(1, 3, 1, 1).to(device)\n",
        "            target = target.to(device)\n",
        "\n",
        "            output = model(data)\n",
        "            loss = loss_func(output, target)\n",
        "            total_loss += loss.item()\n",
        "\n",
        "            pred = output.argmax(dim=1, keepdim=True)\n",
        "            correct += pred.eq(target.view_as(pred)).sum().item()\n",
        "\n",
        "    total_loss /= len(valid_loader.dataset)\n",
        "    accuracy = correct / len(valid_loader.dataset) * 100.0\n",
        "\n",
        "    return total_loss, accuracy\n",
        "\n",
        "\n",
        "def test(model, device, test_loader):\n",
        "    print(\"Test\")\n",
        "    model.eval()\n",
        "    overall_output = []\n",
        "    with torch.no_grad():\n",
        "        for data in tqdm(test_loader):\n",
        "            data = data.repeat(1, 3, 1, 1).to(device)\n",
        "            output = model(data)\n",
        "            pred = output.argmax(dim=1, keepdim=True)\n",
        "            overall_output += list(pred.cpu().numpy()[:, 0])\n",
        "    return overall_output"
      ],
      "metadata": {
        "id": "6DCCUBWbS7e9"
      },
      "execution_count": 161,
      "outputs": []
    },
    {
      "cell_type": "code",
      "source": [
        "def fit(model, train_loader, valid_loader, optimizer, scheduler, device, epochs):\n",
        "    for epoch in range(1, epochs + 1):\n",
        "        train_loss = train(model, device, train_loader, optimizer, epoch)\n",
        "        valid_loss, accuracy = valid(model, device, valid_loader)\n",
        "\n",
        "        print(f'Epoch {epoch}/{epochs} -> Train Loss: {train_loss:.6f} | Valid Loss: {valid_loss:.6f} | Accuracy: {accuracy:.2f}%')\n",
        "\n",
        "        scheduler.step()"
      ],
      "metadata": {
        "id": "Iz79RQs3V19T"
      },
      "execution_count": 162,
      "outputs": []
    },
    {
      "cell_type": "code",
      "source": [
        "transform = transforms.Compose([\n",
        "    transforms.Resize((128, 128)),\n",
        "    transforms.ToTensor(),\n",
        "])"
      ],
      "metadata": {
        "id": "GW3Rs389ItEa"
      },
      "execution_count": 163,
      "outputs": []
    },
    {
      "cell_type": "code",
      "source": [
        "train_names, train_words, train_labels = transformation('train/*/*.wav')\n",
        "test_names, _, _ = transformation('test/*.wav', is_test=True)\n",
        "\n",
        "train_dataset = MyDataset(path='train', names=train_names, words=train_words, labels=train_labels, transform=transform, csv='sample_submission.csv')"
      ],
      "metadata": {
        "id": "sepwXk_NOdv6"
      },
      "execution_count": 166,
      "outputs": []
    },
    {
      "cell_type": "code",
      "source": [
        "train_size = int(0.9 * len(train_dataset))\n",
        "train_dataset, valid_dataset = random_split(train_dataset, [train_size, len(train_dataset) - train_size])\n",
        "\n",
        "test_dataset = MyDataset(path='test', names=test_names, words=test_names, labels=None, transform=transform, is_test=True, csv='sample_submission.csv')"
      ],
      "metadata": {
        "id": "4WTIPThpXYrM"
      },
      "execution_count": 167,
      "outputs": []
    },
    {
      "cell_type": "code",
      "source": [
        "import matplotlib.pyplot as plt\n",
        "\n",
        "train_example = train_dataset[0][0]\n",
        "train_label = train_dataset[0][1]\n",
        "\n",
        "plt.figure(figsize=(6, 6))\n",
        "plt.title(f\"Train Example\\nLabel: {train_label}\")\n",
        "plt.imshow(train_example.squeeze(), cmap='viridis')\n",
        "plt.axis('off')\n",
        "plt.show()\n",
        "\n",
        "test_example = test_dataset[0]\n",
        "\n",
        "plt.figure(figsize=(6, 6))\n",
        "plt.title(\"Test Example\")\n",
        "plt.imshow(test_example.squeeze(), cmap='viridis')\n",
        "plt.axis('off')\n",
        "plt.show()"
      ],
      "metadata": {
        "colab": {
          "base_uri": "https://localhost:8080/",
          "height": 1000
        },
        "id": "v7bwuX4vZMes",
        "outputId": "5c7e200b-78e6-4a62-815a-81cc17bd2c57"
      },
      "execution_count": 168,
      "outputs": [
        {
          "output_type": "display_data",
          "data": {
            "text/plain": [
              "<Figure size 600x600 with 1 Axes>"
            ],
            "image/png": "[encoded data removed]"
          },
          "metadata": {}
        },
        {
          "output_type": "display_data",
          "data": {
            "text/plain": [
              "<Figure size 600x600 with 1 Axes>"
            ],
            "image/png": "[encoded data removed]"
          },
          "metadata": {}
        }
      ]
    },
    {
      "cell_type": "code",
      "source": [
        "batch_size = 128\n",
        "\n",
        "train_loader = DataLoader(train_dataset, shuffle=True, batch_size=batch_size)\n",
        "valid_loader = DataLoader(valid_dataset, shuffle=False, batch_size=batch_size)\n",
        "test_loader = DataLoader(test_dataset, shuffle=False, batch_size=batch_size)"
      ],
      "metadata": {
        "id": "BVZB3GKcV_ti"
      },
      "execution_count": 169,
      "outputs": []
    },
    {
      "cell_type": "code",
      "source": [
        "epochs = 2\n",
        "\n",
        "\n",
        "model = mobilenet_v2(pretrained=True)\n",
        "model.classifier[1] = torch.nn.Linear(in_features=model.classifier[1].in_features, out_features=10)\n",
        "model.to(device)\n",
        "\n",
        "\n",
        "optimizer = optim.Adam(model.parameters(), lr=0.001)\n",
        "scheduler = StepLR(optimizer, step_size=1, gamma=0.6)\n",
        "\n",
        "\n",
        "\n",
        "fit(model, train_loader, valid_loader, optimizer, scheduler, device, epochs)\n",
        "\n",
        "\n",
        "torch.save(model.state_dict(), \"my_model.pt\")\n",
        "\n",
        "\n",
        "output = test(model, device, test_loader)"
      ],
      "metadata": {
        "colab": {
          "base_uri": "https://localhost:8080/"
        },
        "id": "eEEL1FSvIxRE",
        "outputId": "9d8dbd70-fd19-4716-a09b-7463468bad85"
      },
      "execution_count": 170,
      "outputs": [
        {
          "output_type": "stream",
          "name": "stderr",
          "text": [
            "/usr/local/lib/python3.10/dist-packages/torchvision/models/_utils.py:208: UserWarning: The parameter 'pretrained' is deprecated since 0.13 and may be removed in the future, please use 'weights' instead.\n",
            "  warnings.warn(\n",
            "/usr/local/lib/python3.10/dist-packages/torchvision/models/_utils.py:223: UserWarning: Arguments other than a weight enum or `None` for 'weights' are deprecated since 0.13 and may be removed in the future. The current behavior is equivalent to passing `weights=MobileNet_V2_Weights.IMAGENET1K_V1`. You can also use `weights=MobileNet_V2_Weights.DEFAULT` to get the most up-to-date weights.\n",
            "  warnings.warn(msg)\n",
            "1it [00:01,  1.28s/it]"
          ]
        },
        {
          "output_type": "stream",
          "name": "stdout",
          "text": [
            "Train Epoch: 1 [0/11832 (0%)]\tLoss: 2.405079\n"
          ]
        },
        {
          "output_type": "stream",
          "name": "stderr",
          "text": [
            "21it [00:32,  1.67s/it]"
          ]
        },
        {
          "output_type": "stream",
          "name": "stdout",
          "text": [
            "Train Epoch: 1 [2560/11832 (22%)]\tLoss: 0.237910\n"
          ]
        },
        {
          "output_type": "stream",
          "name": "stderr",
          "text": [
            "41it [01:08,  1.41s/it]"
          ]
        },
        {
          "output_type": "stream",
          "name": "stdout",
          "text": [
            "Train Epoch: 1 [5120/11832 (43%)]\tLoss: 0.166412\n"
          ]
        },
        {
          "output_type": "stream",
          "name": "stderr",
          "text": [
            "61it [01:40,  1.39s/it]"
          ]
        },
        {
          "output_type": "stream",
          "name": "stdout",
          "text": [
            "Train Epoch: 1 [7680/11832 (65%)]\tLoss: 0.152414\n"
          ]
        },
        {
          "output_type": "stream",
          "name": "stderr",
          "text": [
            "81it [02:10,  1.44s/it]"
          ]
        },
        {
          "output_type": "stream",
          "name": "stdout",
          "text": [
            "Train Epoch: 1 [10240/11832 (86%)]\tLoss: 0.052803\n"
          ]
        },
        {
          "output_type": "stream",
          "name": "stderr",
          "text": [
            "93it [02:29,  1.60s/it]\n"
          ]
        },
        {
          "output_type": "stream",
          "name": "stdout",
          "text": [
            "Validation\n"
          ]
        },
        {
          "output_type": "stream",
          "name": "stderr",
          "text": [
            "100%|██████████| 11/11 [00:14<00:00,  1.31s/it]\n"
          ]
        },
        {
          "output_type": "stream",
          "name": "stdout",
          "text": [
            "Epoch 1/2 -> Train Loss: 0.364083 | Valid Loss: 0.001636 | Accuracy: 92.93%\n"
          ]
        },
        {
          "output_type": "stream",
          "name": "stderr",
          "text": [
            "1it [00:01,  1.25s/it]"
          ]
        },
        {
          "output_type": "stream",
          "name": "stdout",
          "text": [
            "Train Epoch: 2 [0/11832 (0%)]\tLoss: 0.130389\n"
          ]
        },
        {
          "output_type": "stream",
          "name": "stderr",
          "text": [
            "21it [00:31,  1.43s/it]"
          ]
        },
        {
          "output_type": "stream",
          "name": "stdout",
          "text": [
            "Train Epoch: 2 [2560/11832 (22%)]\tLoss: 0.039911\n"
          ]
        },
        {
          "output_type": "stream",
          "name": "stderr",
          "text": [
            "41it [01:03,  1.67s/it]"
          ]
        },
        {
          "output_type": "stream",
          "name": "stdout",
          "text": [
            "Train Epoch: 2 [5120/11832 (43%)]\tLoss: 0.074880\n"
          ]
        },
        {
          "output_type": "stream",
          "name": "stderr",
          "text": [
            "61it [01:33,  1.68s/it]"
          ]
        },
        {
          "output_type": "stream",
          "name": "stdout",
          "text": [
            "Train Epoch: 2 [7680/11832 (65%)]\tLoss: 0.011497\n"
          ]
        },
        {
          "output_type": "stream",
          "name": "stderr",
          "text": [
            "81it [02:02,  1.50s/it]"
          ]
        },
        {
          "output_type": "stream",
          "name": "stdout",
          "text": [
            "Train Epoch: 2 [10240/11832 (86%)]\tLoss: 0.092158\n"
          ]
        },
        {
          "output_type": "stream",
          "name": "stderr",
          "text": [
            "93it [02:19,  1.50s/it]\n"
          ]
        },
        {
          "output_type": "stream",
          "name": "stdout",
          "text": [
            "Validation\n"
          ]
        },
        {
          "output_type": "stream",
          "name": "stderr",
          "text": [
            "100%|██████████| 11/11 [00:20<00:00,  1.85s/it]\n"
          ]
        },
        {
          "output_type": "stream",
          "name": "stdout",
          "text": [
            "Epoch 2/2 -> Train Loss: 0.067832 | Valid Loss: 0.000725 | Accuracy: 97.26%\n",
            "Test\n"
          ]
        },
        {
          "output_type": "stream",
          "name": "stderr",
          "text": [
            "100%|██████████| 71/71 [01:41<00:00,  1.43s/it]\n"
          ]
        }
      ]
    },
    {
      "cell_type": "code",
      "source": [
        "label_mapping = {0: 'house', 1: 'one', 2: 'two', 3: 'three', 4: 'four', 5: 'five', 6: 'six', 7: 'stop', 8: 'cat', 9: 'dog'}\n",
        "output_words = [label_mapping[int(label)] for label in output]\n",
        "\n",
        "sam_sub = pd.read_csv('sample_submission.csv')\n",
        "submission = pd.DataFrame(sam_sub['id'], columns=['id'])\n",
        "submission['answer'] = output_words\n",
        "submission.to_csv('gorbuntsov_result.csv', index=False)"
      ],
      "metadata": {
        "id": "LGCbwF2RI1eB"
      },
      "execution_count": 172,
      "outputs": []
    }
  ]
}