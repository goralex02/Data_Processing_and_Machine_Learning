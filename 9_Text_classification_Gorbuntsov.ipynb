{
  "cells": [
    {
      "cell_type": "markdown",
      "metadata": {
        "id": "view-in-github",
        "colab_type": "text"
      },
      "source": [
        "<a href=\"https://colab.research.google.com/github/goralex02/Data_Processing_and_Machine_Learning/blob/main/Text_classification_Gorbuntsov.ipynb\" target=\"_parent\"><img src=\"https://colab.research.google.com/assets/colab-badge.svg\" alt=\"Open In Colab\"/></a>"
      ]
    },
    {
      "cell_type": "markdown",
      "source": [
        "# **Сравнение алгоритмов классификации текстов**"
      ],
      "metadata": {
        "id": "GnB807t_SyWb"
      }
    },
    {
      "cell_type": "markdown",
      "source": [
        "Горбунцов Александр\n",
        "aagorbuntsov@edu.hse.ru"
      ],
      "metadata": {
        "id": "Em63yVSh_I7E"
      }
    },
    {
      "cell_type": "markdown",
      "source": [
        "Ссылка на этот ноутбук в google colab: https://colab.research.google.com/drive/1lGhPjHpC9irgaLIaIhkxF77PlWk8C7EC?usp=sharing"
      ],
      "metadata": {
        "id": "NKieyZHrJUDb"
      }
    },
    {
      "cell_type": "markdown",
      "metadata": {
        "id": "5lfzh4VmvQj2"
      },
      "source": [
        "В .csv файле представлена совокупность данных: заголовок новости, тема новости, текст новости. Все слова в тексте лемматизированы, а сами тексты очищены от стоп-слов.\n",
        "\n",
        "Вам необходимо выбрать и сравнить между собой не менее трех различных алгоритмов классификации текстов, проанализировать полученные результаты и сделать обоснованные выводы о применимости выбранных методов и качестве решения задачи."
      ]
    },
    {
      "cell_type": "markdown",
      "metadata": {
        "id": "QiPGfglhvS0e"
      },
      "source": [
        "Я планирую протестировать следующие алгоритмы:\n",
        "\n",
        "1. Логистическая регрессия с Bag of Words — линейный алгоритм классификации, который предсказывает вероятность принадлежности объекта к тому или иному классу. Для текстов часто используется представление Bag of Words, где тексты преобразуются в векторы на основе частоты встречаемости слов без учета их порядка.\n",
        "\n",
        "2. Случайный лес с TF-IDF — ансамблевый метод, основанный на построении нескольких решающих деревьев и их комбинации для повышения точности классификации. TF-IDF (term frequency-inverse document frequency) — метод взвешивания слов в зависимости от их важности в документе, уменьшающий вес часто встречающихся слов, таких как предлоги, союзы, и акцентирующий внимание на уникальных терминах.\n",
        "\n",
        "3. Классификатор на основе модели RuBERT-tiny2 с AutoModelForSequenceClassification -- RuBERT-tiny2 это облегченная версия BERT, специально обученная для русского языка. Метод AutoModelForSequenceClassification из библиотеки Transformers используется для предобученных моделей, адаптированных к задачам классификации. В этом подходе текст токенизируется с помощью предобученного токенизатора модели RuBERT-tiny2, затем передается в модель для классификации на основе последовательностей.\n",
        "\n",
        "4. Сверточная нейронная сеть с токенизатором RuBERT-tiny2 -- традиционно такие нейронные сети применяются для обработки изображений, но также могут быть адаптированы для обработки текста, захватывая важные локальные паттерны. Использую предобученные эмбеддинги RuBERT-tiny2 — облегченную модель BERT для русского языка, которая создает качественные представления слов на основе их контекста.\n",
        "\n",
        "5. Модель Zero-Shot -- подход, который позволяет модели классифицировать тексты по темам, на которых она не была обучена напрямую. В данном случае используется модель типа MiniLMv2-L6, которая способна предсказывать классы с помощью сопоставления гипотез на естественном языке (например, \"Этот текст о {}\").\n"
      ]
    },
    {
      "cell_type": "code",
      "execution_count": null,
      "metadata": {
        "id": "1l_7L9rpu2Xw",
        "colab": {
          "base_uri": "https://localhost:8080/"
        },
        "outputId": "ae80852c-bf0a-42e6-ef46-dbaa5b20ee14"
      },
      "outputs": [
        {
          "output_type": "stream",
          "name": "stdout",
          "text": [
            "Mounted at /content/drive\n"
          ]
        }
      ],
      "source": [
        "import numpy as np\n",
        "import pandas as pd\n",
        "import matplotlib.pyplot as plt\n",
        "from google.colab import drive\n",
        "drive.mount('/content/drive')\n",
        "data = 'drive/MyDrive/Colab_Notebooks/data/articles_lemmatized_no_SW.csv'"
      ]
    },
    {
      "cell_type": "code",
      "execution_count": null,
      "metadata": {
        "id": "pZ8k_awb1BqT"
      },
      "outputs": [],
      "source": [
        "df = pd.read_csv(data)"
      ]
    },
    {
      "cell_type": "markdown",
      "source": [
        "## **Разведка и предобработка данных**\n",
        "\n",
        "Для начала я хочу узнать с чем вообще имею дело."
      ],
      "metadata": {
        "id": "Mxffy_749pPh"
      }
    },
    {
      "cell_type": "code",
      "execution_count": null,
      "metadata": {
        "colab": {
          "base_uri": "https://localhost:8080/"
        },
        "id": "m4XRC3VG2OXH",
        "outputId": "d15ac2aa-b476-480c-8bd8-c9f23c19ae45"
      },
      "outputs": [
        {
          "output_type": "stream",
          "name": "stdout",
          "text": [
            "<class 'pandas.core.frame.DataFrame'>\n",
            "RangeIndex: 56500 entries, 0 to 56499\n",
            "Data columns (total 4 columns):\n",
            " #   Column      Non-Null Count  Dtype \n",
            "---  ------      --------------  ----- \n",
            " 0   Unnamed: 0  56500 non-null  int64 \n",
            " 1   headline    56500 non-null  object\n",
            " 2   body        56499 non-null  object\n",
            " 3   topic       56500 non-null  object\n",
            "dtypes: int64(1), object(3)\n",
            "memory usage: 1.7+ MB\n"
          ]
        }
      ],
      "source": [
        "df.info()"
      ]
    },
    {
      "cell_type": "code",
      "execution_count": null,
      "metadata": {
        "colab": {
          "base_uri": "https://localhost:8080/",
          "height": 363
        },
        "id": "Pa20Oi6_2RcL",
        "outputId": "ee356c81-b807-49fc-8b7e-65452030013f"
      },
      "outputs": [
        {
          "output_type": "execute_result",
          "data": {
            "text/plain": [
              "   Unnamed: 0                                           headline  \\\n",
              "0        4069  Теперь подарки можно выбрать на сайте при помо...   \n",
              "1        1666                     Тренды розничной торговли 2016   \n",
              "2        1802  Порталы сравнения цен вынуждают мелких ритейле...   \n",
              "3        3784              9 беспроигрышных подарков для мужчины   \n",
              "4        2186  Китайские производители сокращают свой бизнес ...   \n",
              "5        6624  Глава Подмосковья дал старт строительству ново...   \n",
              "6        6625  В Крыму продолжается переход на российские гос...   \n",
              "7       38807  Страховые компании назвали марки самых угоняем...   \n",
              "8        9418  На 14-м Пекинском международном автосалоне пре...   \n",
              "9        9352            Названы лучшие автомобили года в России   \n",
              "\n",
              "                                                body topic  \n",
              "0  поиск подарок любой праздник гораздо просто бл...    IT  \n",
              "1  платформа соцсеть продолжать служить шопинг-пл...    IT  \n",
              "2  последний время активно расти конкуренция обла...    IT  \n",
              "3  каждый накануне февраль возникать сложный вопр...    IT  \n",
              "4  прекращать поставка новый автомобиль дилер рос...  Авто  \n",
              "5  дорожный сооружение появляться пересечение вол...  Авто  \n",
              "6  легально передвигаться полуостров украинский н...  Авто  \n",
              "7  опасаться злоумышленник следовать владелец дор...  Авто  \n",
              "8  большой интерес публика привлекать китайский и...  Авто  \n",
              "9  москва состояться церемония вручение ежегодный...  Авто  "
            ],
            "text/html": [
              "\n",
              "  <div id=\"df-bf5b2f23-5f0d-4a53-b8a5-d5520864925e\" class=\"colab-df-container\">\n",
              "    <div>\n",
              "<style scoped>\n",
              "    .dataframe tbody tr th:only-of-type {\n",
              "        vertical-align: middle;\n",
              "    }\n",
              "\n",
              "    .dataframe tbody tr th {\n",
              "        vertical-align: top;\n",
              "    }\n",
              "\n",
              "    .dataframe thead th {\n",
              "        text-align: right;\n",
              "    }\n",
              "</style>\n",
              "<table border=\"1\" class=\"dataframe\">\n",
              "  <thead>\n",
              "    <tr style=\"text-align: right;\">\n",
              "      <th></th>\n",
              "      <th>Unnamed: 0</th>\n",
              "      <th>headline</th>\n",
              "      <th>body</th>\n",
              "      <th>topic</th>\n",
              "    </tr>\n",
              "  </thead>\n",
              "  <tbody>\n",
              "    <tr>\n",
              "      <th>0</th>\n",
              "      <td>4069</td>\n",
              "      <td>Теперь подарки можно выбрать на сайте при помо...</td>\n",
              "      <td>поиск подарок любой праздник гораздо просто бл...</td>\n",
              "      <td>IT</td>\n",
              "    </tr>\n",
              "    <tr>\n",
              "      <th>1</th>\n",
              "      <td>1666</td>\n",
              "      <td>Тренды розничной торговли 2016</td>\n",
              "      <td>платформа соцсеть продолжать служить шопинг-пл...</td>\n",
              "      <td>IT</td>\n",
              "    </tr>\n",
              "    <tr>\n",
              "      <th>2</th>\n",
              "      <td>1802</td>\n",
              "      <td>Порталы сравнения цен вынуждают мелких ритейле...</td>\n",
              "      <td>последний время активно расти конкуренция обла...</td>\n",
              "      <td>IT</td>\n",
              "    </tr>\n",
              "    <tr>\n",
              "      <th>3</th>\n",
              "      <td>3784</td>\n",
              "      <td>9 беспроигрышных подарков для мужчины</td>\n",
              "      <td>каждый накануне февраль возникать сложный вопр...</td>\n",
              "      <td>IT</td>\n",
              "    </tr>\n",
              "    <tr>\n",
              "      <th>4</th>\n",
              "      <td>2186</td>\n",
              "      <td>Китайские производители сокращают свой бизнес ...</td>\n",
              "      <td>прекращать поставка новый автомобиль дилер рос...</td>\n",
              "      <td>Авто</td>\n",
              "    </tr>\n",
              "    <tr>\n",
              "      <th>5</th>\n",
              "      <td>6624</td>\n",
              "      <td>Глава Подмосковья дал старт строительству ново...</td>\n",
              "      <td>дорожный сооружение появляться пересечение вол...</td>\n",
              "      <td>Авто</td>\n",
              "    </tr>\n",
              "    <tr>\n",
              "      <th>6</th>\n",
              "      <td>6625</td>\n",
              "      <td>В Крыму продолжается переход на российские гос...</td>\n",
              "      <td>легально передвигаться полуостров украинский н...</td>\n",
              "      <td>Авто</td>\n",
              "    </tr>\n",
              "    <tr>\n",
              "      <th>7</th>\n",
              "      <td>38807</td>\n",
              "      <td>Страховые компании назвали марки самых угоняем...</td>\n",
              "      <td>опасаться злоумышленник следовать владелец дор...</td>\n",
              "      <td>Авто</td>\n",
              "    </tr>\n",
              "    <tr>\n",
              "      <th>8</th>\n",
              "      <td>9418</td>\n",
              "      <td>На 14-м Пекинском международном автосалоне пре...</td>\n",
              "      <td>большой интерес публика привлекать китайский и...</td>\n",
              "      <td>Авто</td>\n",
              "    </tr>\n",
              "    <tr>\n",
              "      <th>9</th>\n",
              "      <td>9352</td>\n",
              "      <td>Названы лучшие автомобили года в России</td>\n",
              "      <td>москва состояться церемония вручение ежегодный...</td>\n",
              "      <td>Авто</td>\n",
              "    </tr>\n",
              "  </tbody>\n",
              "</table>\n",
              "</div>\n",
              "    <div class=\"colab-df-buttons\">\n",
              "\n",
              "  <div class=\"colab-df-container\">\n",
              "    <button class=\"colab-df-convert\" onclick=\"convertToInteractive('df-bf5b2f23-5f0d-4a53-b8a5-d5520864925e')\"\n",
              "            title=\"Convert this dataframe to an interactive table.\"\n",
              "            style=\"display:none;\">\n",
              "\n",
              "  <svg xmlns=\"http://www.w3.org/2000/svg\" height=\"24px\" viewBox=\"0 -960 960 960\">\n",
              "    <path d=\"M120-120v-720h720v720H120Zm60-500h600v-160H180v160Zm220 220h160v-160H400v160Zm0 220h160v-160H400v160ZM180-400h160v-160H180v160Zm440 0h160v-160H620v160ZM180-180h160v-160H180v160Zm440 0h160v-160H620v160Z\"/>\n",
              "  </svg>\n",
              "    </button>\n",
              "\n",
              "  <style>\n",
              "    .colab-df-container {\n",
              "      display:flex;\n",
              "      gap: 12px;\n",
              "    }\n",
              "\n",
              "    .colab-df-convert {\n",
              "      background-color: #E8F0FE;\n",
              "      border: none;\n",
              "      border-radius: 50%;\n",
              "      cursor: pointer;\n",
              "      display: none;\n",
              "      fill: #1967D2;\n",
              "      height: 32px;\n",
              "      padding: 0 0 0 0;\n",
              "      width: 32px;\n",
              "    }\n",
              "\n",
              "    .colab-df-convert:hover {\n",
              "      background-color: #E2EBFA;\n",
              "      box-shadow: 0px 1px 2px rgba(60, 64, 67, 0.3), 0px 1px 3px 1px rgba(60, 64, 67, 0.15);\n",
              "      fill: #174EA6;\n",
              "    }\n",
              "\n",
              "    .colab-df-buttons div {\n",
              "      margin-bottom: 4px;\n",
              "    }\n",
              "\n",
              "    [theme=dark] .colab-df-convert {\n",
              "      background-color: #3B4455;\n",
              "      fill: #D2E3FC;\n",
              "    }\n",
              "\n",
              "    [theme=dark] .colab-df-convert:hover {\n",
              "      background-color: #434B5C;\n",
              "      box-shadow: 0px 1px 3px 1px rgba(0, 0, 0, 0.15);\n",
              "      filter: drop-shadow(0px 1px 2px rgba(0, 0, 0, 0.3));\n",
              "      fill: #FFFFFF;\n",
              "    }\n",
              "  </style>\n",
              "\n",
              "    <script>\n",
              "      const buttonEl =\n",
              "        document.querySelector('#df-bf5b2f23-5f0d-4a53-b8a5-d5520864925e button.colab-df-convert');\n",
              "      buttonEl.style.display =\n",
              "        google.colab.kernel.accessAllowed ? 'block' : 'none';\n",
              "\n",
              "      async function convertToInteractive(key) {\n",
              "        const element = document.querySelector('#df-bf5b2f23-5f0d-4a53-b8a5-d5520864925e');\n",
              "        const dataTable =\n",
              "          await google.colab.kernel.invokeFunction('convertToInteractive',\n",
              "                                                    [key], {});\n",
              "        if (!dataTable) return;\n",
              "\n",
              "        const docLinkHtml = 'Like what you see? Visit the ' +\n",
              "          '<a target=\"_blank\" href=https://colab.research.google.com/notebooks/data_table.ipynb>data table notebook</a>'\n",
              "          + ' to learn more about interactive tables.';\n",
              "        element.innerHTML = '';\n",
              "        dataTable['output_type'] = 'display_data';\n",
              "        await google.colab.output.renderOutput(dataTable, element);\n",
              "        const docLink = document.createElement('div');\n",
              "        docLink.innerHTML = docLinkHtml;\n",
              "        element.appendChild(docLink);\n",
              "      }\n",
              "    </script>\n",
              "  </div>\n",
              "\n",
              "\n",
              "<div id=\"df-797e99ad-030f-4152-819a-8170483f6d41\">\n",
              "  <button class=\"colab-df-quickchart\" onclick=\"quickchart('df-797e99ad-030f-4152-819a-8170483f6d41')\"\n",
              "            title=\"Suggest charts\"\n",
              "            style=\"display:none;\">\n",
              "\n",
              "<svg xmlns=\"http://www.w3.org/2000/svg\" height=\"24px\"viewBox=\"0 0 24 24\"\n",
              "     width=\"24px\">\n",
              "    <g>\n",
              "        <path d=\"M19 3H5c-1.1 0-2 .9-2 2v14c0 1.1.9 2 2 2h14c1.1 0 2-.9 2-2V5c0-1.1-.9-2-2-2zM9 17H7v-7h2v7zm4 0h-2V7h2v10zm4 0h-2v-4h2v4z\"/>\n",
              "    </g>\n",
              "</svg>\n",
              "  </button>\n",
              "\n",
              "<style>\n",
              "  .colab-df-quickchart {\n",
              "      --bg-color: #E8F0FE;\n",
              "      --fill-color: #1967D2;\n",
              "      --hover-bg-color: #E2EBFA;\n",
              "      --hover-fill-color: #174EA6;\n",
              "      --disabled-fill-color: #AAA;\n",
              "      --disabled-bg-color: #DDD;\n",
              "  }\n",
              "\n",
              "  [theme=dark] .colab-df-quickchart {\n",
              "      --bg-color: #3B4455;\n",
              "      --fill-color: #D2E3FC;\n",
              "      --hover-bg-color: #434B5C;\n",
              "      --hover-fill-color: #FFFFFF;\n",
              "      --disabled-bg-color: #3B4455;\n",
              "      --disabled-fill-color: #666;\n",
              "  }\n",
              "\n",
              "  .colab-df-quickchart {\n",
              "    background-color: var(--bg-color);\n",
              "    border: none;\n",
              "    border-radius: 50%;\n",
              "    cursor: pointer;\n",
              "    display: none;\n",
              "    fill: var(--fill-color);\n",
              "    height: 32px;\n",
              "    padding: 0;\n",
              "    width: 32px;\n",
              "  }\n",
              "\n",
              "  .colab-df-quickchart:hover {\n",
              "    background-color: var(--hover-bg-color);\n",
              "    box-shadow: 0 1px 2px rgba(60, 64, 67, 0.3), 0 1px 3px 1px rgba(60, 64, 67, 0.15);\n",
              "    fill: var(--button-hover-fill-color);\n",
              "  }\n",
              "\n",
              "  .colab-df-quickchart-complete:disabled,\n",
              "  .colab-df-quickchart-complete:disabled:hover {\n",
              "    background-color: var(--disabled-bg-color);\n",
              "    fill: var(--disabled-fill-color);\n",
              "    box-shadow: none;\n",
              "  }\n",
              "\n",
              "  .colab-df-spinner {\n",
              "    border: 2px solid var(--fill-color);\n",
              "    border-color: transparent;\n",
              "    border-bottom-color: var(--fill-color);\n",
              "    animation:\n",
              "      spin 1s steps(1) infinite;\n",
              "  }\n",
              "\n",
              "  @keyframes spin {\n",
              "    0% {\n",
              "      border-color: transparent;\n",
              "      border-bottom-color: var(--fill-color);\n",
              "      border-left-color: var(--fill-color);\n",
              "    }\n",
              "    20% {\n",
              "      border-color: transparent;\n",
              "      border-left-color: var(--fill-color);\n",
              "      border-top-color: var(--fill-color);\n",
              "    }\n",
              "    30% {\n",
              "      border-color: transparent;\n",
              "      border-left-color: var(--fill-color);\n",
              "      border-top-color: var(--fill-color);\n",
              "      border-right-color: var(--fill-color);\n",
              "    }\n",
              "    40% {\n",
              "      border-color: transparent;\n",
              "      border-right-color: var(--fill-color);\n",
              "      border-top-color: var(--fill-color);\n",
              "    }\n",
              "    60% {\n",
              "      border-color: transparent;\n",
              "      border-right-color: var(--fill-color);\n",
              "    }\n",
              "    80% {\n",
              "      border-color: transparent;\n",
              "      border-right-color: var(--fill-color);\n",
              "      border-bottom-color: var(--fill-color);\n",
              "    }\n",
              "    90% {\n",
              "      border-color: transparent;\n",
              "      border-bottom-color: var(--fill-color);\n",
              "    }\n",
              "  }\n",
              "</style>\n",
              "\n",
              "  <script>\n",
              "    async function quickchart(key) {\n",
              "      const quickchartButtonEl =\n",
              "        document.querySelector('#' + key + ' button');\n",
              "      quickchartButtonEl.disabled = true;  // To prevent multiple clicks.\n",
              "      quickchartButtonEl.classList.add('colab-df-spinner');\n",
              "      try {\n",
              "        const charts = await google.colab.kernel.invokeFunction(\n",
              "            'suggestCharts', [key], {});\n",
              "      } catch (error) {\n",
              "        console.error('Error during call to suggestCharts:', error);\n",
              "      }\n",
              "      quickchartButtonEl.classList.remove('colab-df-spinner');\n",
              "      quickchartButtonEl.classList.add('colab-df-quickchart-complete');\n",
              "    }\n",
              "    (() => {\n",
              "      let quickchartButtonEl =\n",
              "        document.querySelector('#df-797e99ad-030f-4152-819a-8170483f6d41 button');\n",
              "      quickchartButtonEl.style.display =\n",
              "        google.colab.kernel.accessAllowed ? 'block' : 'none';\n",
              "    })();\n",
              "  </script>\n",
              "</div>\n",
              "    </div>\n",
              "  </div>\n"
            ],
            "application/vnd.google.colaboratory.intrinsic+json": {
              "type": "dataframe",
              "variable_name": "df",
              "summary": "{\n  \"name\": \"df\",\n  \"rows\": 56500,\n  \"fields\": [\n    {\n      \"column\": \"Unnamed: 0\",\n      \"properties\": {\n        \"dtype\": \"number\",\n        \"std\": 16310,\n        \"min\": 0,\n        \"max\": 56499,\n        \"num_unique_values\": 56500,\n        \"samples\": [\n          34591,\n          15504,\n          1139\n        ],\n        \"semantic_type\": \"\",\n        \"description\": \"\"\n      }\n    },\n    {\n      \"column\": \"headline\",\n      \"properties\": {\n        \"dtype\": \"string\",\n        \"num_unique_values\": 56396,\n        \"samples\": [\n          \"\\u0410\\u0432\\u0438\\u0430\\u043d\\u043e\\u0441\\u0435\\u0446 \\u00ab\\u0410\\u0434\\u043c\\u0438\\u0440\\u0430\\u043b \\u041a\\u0443\\u0437\\u043d\\u0435\\u0446\\u043e\\u0432\\u00bb \\u043f\\u0435\\u0440\\u0432\\u044b\\u043c \\u043f\\u043e\\u043a\\u0438\\u043d\\u0435\\u0442 \\u0437\\u043e\\u043d\\u0443 \\u043a\\u043e\\u043d\\u0444\\u043b\\u0438\\u043a\\u0442\\u0430 \\u0432 \\u0421\\u0438\\u0440\\u0438\\u0438\",\n          \"\\u0411\\u043e\\u0435\\u0432\\u0438\\u043a\\u0438 \\u0440\\u0430\\u0441\\u0441\\u0442\\u0440\\u0435\\u043b\\u044f\\u043b\\u0438 \\u043c\\u0438\\u0442\\u0438\\u043d\\u0433\\u0443\\u044e\\u0449\\u0438\\u0445 \\u0436\\u0438\\u0442\\u0435\\u043b\\u0435\\u0439 \\u0410\\u043b\\u0435\\u043f\\u043f\\u043e\",\n          \"\\u0411\\u044b\\u0432\\u0448\\u0438\\u0439 \\u0437\\u0430\\u043c\\u0433\\u043b\\u0430\\u0432\\u044b \\u0442\\u0430\\u043c\\u043e\\u0436\\u043d\\u0438 \\u0412\\u043d\\u0443\\u043a\\u043e\\u0432\\u043e \\u0430\\u0440\\u0435\\u0441\\u0442\\u043e\\u0432\\u0430\\u043d \\u043d\\u0430 \\u0434\\u0432\\u0430 \\u043c\\u0435\\u0441\\u044f\\u0446\\u0430\"\n        ],\n        \"semantic_type\": \"\",\n        \"description\": \"\"\n      }\n    },\n    {\n      \"column\": \"body\",\n      \"properties\": {\n        \"dtype\": \"string\",\n        \"num_unique_values\": 56498,\n        \"samples\": [\n          \"\\u0441\\u043e\\u0433\\u043b\\u0430\\u0448\\u0435\\u043d\\u0438\\u0435 \\u043e\\u043d \\u043f\\u043e\\u0434\\u043f\\u0438\\u0441\\u044b\\u0432\\u0430\\u0442\\u044c \\u0432\\u0440\\u0435\\u043c\\u044f \\u0432\\u0438\\u0437\\u0438\\u0442 \\u0441\\u0442\\u0440\\u0430\\u043d\\u0430 \\u0441\\u043f\\u0438\\u043a\\u0435\\u0440 \\u0441\\u043e\\u0432\\u0435\\u0442 \\u0444\\u0435\\u0434\\u0435\\u0440\\u0430\\u0446\\u0438\\u044f \\u0432\\u0430\\u043b\\u0435\\u043d\\u0442\\u0438\\u043d\\u0430 \\u043c\\u0430\\u0442\\u0432\\u0438\\u0435\\u043d\\u043a\\u043e \\u0445\\u043e\\u0434 \\u043e\\u0444\\u0438\\u0446\\u0438\\u0430\\u043b\\u044c\\u043d\\u044b\\u0439 \\u0432\\u0438\\u0437\\u0438\\u0442 \\u0441\\u043f\\u0438\\u043a\\u0435\\u0440 \\u0441\\u043e\\u0432\\u0435\\u0442 \\u0444\\u0435\\u0434\\u0435\\u0440\\u0430\\u0446\\u0438\\u044f \\u0432\\u0430\\u043b\\u0435\\u043d\\u0442\\u0438\\u043d\\u0430 \\u043c\\u0430\\u0442\\u0432\\u0438\\u0435\\u043d\\u043a\\u043e \\u043c\\u0430\\u043b\\u0430\\u0439\\u0437\\u0438\\u044f \\u0441\\u043e\\u0441\\u0442\\u043e\\u044f\\u0442\\u044c\\u0441\\u044f \\u043f\\u043e\\u0434\\u043f\\u0438\\u0441\\u0430\\u043d\\u0438\\u0435 \\u0441\\u043e\\u0433\\u043b\\u0430\\u0448\\u0435\\u043d\\u0438\\u0435 \\u0441\\u043e\\u0437\\u0434\\u0430\\u043d\\u0438\\u0435 \\u0440\\u043e\\u0441\\u0441\\u0438\\u0439\\u0441\\u043a\\u0438\\u0439-\\u043c\\u0430\\u043b\\u0430\\u0439\\u0437\\u0438\\u0439\\u0441\\u043a\\u0438\\u0439 \\u0434\\u0435\\u043b\\u043e\\u0432\\u043e\\u0439 \\u0441\\u043e\\u0432\\u0435\\u0442 \\u0434\\u043e\\u043a\\u0443\\u043c\\u0435\\u043d\\u0442 \\u043d\\u0430\\u043f\\u0440\\u0430\\u0432\\u043b\\u044f\\u0442\\u044c \\u0440\\u0430\\u0441\\u0448\\u0438\\u0440\\u0435\\u043d\\u0438\\u0435 \\u043f\\u0440\\u044f\\u043c\\u043e\\u0439 \\u043a\\u043e\\u043d\\u0442\\u0430\\u043a\\u0442 \\u0434\\u0438\\u0430\\u043b\\u043e\\u0433 \\u043e\\u0431\\u043c\\u0435\\u043d \\u043c\\u043d\\u0435\\u043d\\u0438\\u0435 \\u0438\\u043d\\u0444\\u043e\\u0440\\u043c\\u0430\\u0446\\u0438\\u044f \\u043b\\u0438\\u0434\\u0435\\u0440 \\u0431\\u0438\\u0437\\u043d\\u0435\\u0441-\\u0441\\u043e\\u043e\\u0431\\u0449\\u0435\\u0441\\u0442\\u0432\\u043e \\u0440\\u043e\\u0441\\u0441\\u0438\\u044f \\u043c\\u0430\\u043b\\u0430\\u0439\\u0437\\u0438\\u044f \\u043c\\u0430\\u043b\\u0430\\u0439\\u0437\\u0438\\u044f \\u0440\\u043e\\u0441\\u0441\\u0438\\u044f \\u044f\\u0432\\u043b\\u044f\\u0442\\u044c\\u0441\\u044f \\u043e\\u0447\\u0435\\u043d\\u044c \\u0432\\u0430\\u0436\\u043d\\u044b\\u0439 \\u043f\\u0430\\u0440\\u0442\\u043d\\u0435\\u0440 \\u044e\\u0433\\u043e-\\u0432\\u043e\\u0441\\u0442\\u043e\\u0447\\u043d\\u044b\\u0439 \\u0430\\u0437\\u0438\\u044f \\u0431\\u043e\\u043b\\u044c\\u0448\\u043e\\u0439 \\u0436\\u0435\\u043b\\u0430\\u043d\\u0438\\u0435 \\u0443\\u0433\\u043b\\u0443\\u0431\\u043b\\u044f\\u0442\\u044c \\u0440\\u0430\\u0441\\u0448\\u0438\\u0440\\u044f\\u0442\\u044c \\u0432\\u0441\\u0435\\u0441\\u0442\\u043e\\u0440\\u043e\\u043d\\u043d\\u0435 \\u0441\\u043e\\u0442\\u0440\\u0443\\u0434\\u043d\\u0438\\u0447\\u0435\\u0441\\u0442\\u0432\\u043e \\u043d\\u0435\\u0441\\u043c\\u043e\\u0442\\u0440\\u044f \\u0433\\u0435\\u043e\\u0433\\u0440\\u0430\\u0444\\u0438\\u0447\\u0435\\u0441\\u043a\\u0438\\u0439 \\u0443\\u0434\\u0430\\u043b\\u0435\\u043d\\u043d\\u043e\\u0441\\u0442\\u044c \\u0440\\u043e\\u0441\\u0441\\u0438\\u044f \\u043c\\u0430\\u043b\\u0430\\u0439\\u0437\\u0438\\u044f \\u043d\\u0430\\u0441\\u0442\\u0440\\u0430\\u0438\\u0432\\u0430\\u0442\\u044c \\u0440\\u0430\\u0437\\u0432\\u0438\\u0442\\u0438\\u0435 \\u0441\\u043e\\u0442\\u0440\\u0443\\u0434\\u043d\\u0438\\u0447\\u0435\\u0441\\u0442\\u0432\\u043e \\u0441\\u0430\\u043c\\u044b\\u0439 \\u0448\\u0438\\u0440\\u043e\\u043a\\u0438\\u0439 \\u0441\\u043f\\u0435\\u043a\\u0442\\u0440 \\u043d\\u0430\\u043f\\u0440\\u0430\\u0432\\u043b\\u0435\\u043d\\u0438\\u0435 \\u043e\\u0442\\u043c\\u0435\\u0447\\u0430\\u0442\\u044c \\u043f\\u043e\\u0434\\u043f\\u0438\\u0441\\u0430\\u043d\\u0438\\u0435 \\u0441\\u043e\\u0433\\u043b\\u0430\\u0448\\u0435\\u043d\\u0438\\u0435 \\u0432\\u0430\\u043b\\u0435\\u043d\\u0442\\u0438\\u043d\\u0430 \\u043c\\u0430\\u0442\\u0432\\u0438\\u0435\\u043d\\u043a\\u043e \\u0441\\u043b\\u043e\\u0432\\u043e \\u0441\\u0435\\u0433\\u043e\\u0434\\u043d\\u044f \\u0438\\u0437-\\u0437\\u0430 \\u044d\\u043a\\u043e\\u043d\\u043e\\u043c\\u0438\\u0447\\u0435\\u0441\\u043a\\u0438\\u0439 \\u043a\\u0440\\u0438\\u0437\\u0438\\u0441 \\u043e\\u0431\\u044a\\u0435\\u043c \\u0442\\u043e\\u0432\\u0430\\u0440\\u043e\\u043e\\u0431\\u043e\\u0440\\u043e\\u0442 \\u0440\\u043e\\u0441\\u0441\\u0438\\u044f \\u043c\\u0430\\u043b\\u0430\\u0439\\u0437\\u0438\\u044f \\u0441\\u043d\\u0438\\u0436\\u0430\\u0442\\u044c\\u0441\\u044f \\u0441\\u043a\\u0430\\u0437\\u044b\\u0432\\u0430\\u0442\\u044c\\u0441\\u044f \\u0441\\u0430\\u043d\\u043a\\u0446\\u0438\\u044f \\u043e\\u0442\\u043d\\u043e\\u0448\\u0435\\u043d\\u0438\\u0435 \\u0440\\u043e\\u0441\\u0441\\u0438\\u044f \\u0442\\u0440\\u0443\\u0434\\u043d\\u043e\\u0441\\u0442\\u044c \\u043f\\u0440\\u0435\\u043e\\u0434\\u043e\\u043b\\u0438\\u043c\\u044b\\u0439 \\u0441\\u0430\\u043d\\u043a\\u0446\\u0438\\u044f \\u0441\\u0442\\u0430\\u043d\\u043e\\u0432\\u0438\\u0442\\u044c\\u0441\\u044f \\u0441\\u0442\\u0438\\u043c\\u0443\\u043b \\u0440\\u0430\\u0437\\u0432\\u0438\\u0442\\u0438\\u0435 \\u0432\\u043d\\u0443\\u0442\\u0440\\u0435\\u043d\\u043d\\u0438\\u0439 \\u0432\\u043e\\u0437\\u043c\\u043e\\u0436\\u043d\\u043e\\u0441\\u0442\\u044c \\u0440\\u0435\\u0430\\u043b\\u0438\\u0437\\u0430\\u0446\\u0438\\u044f \\u0448\\u0438\\u0440\\u043e\\u043a\\u0438\\u0439 \\u043f\\u0440\\u043e\\u0433\\u0440\\u0430\\u043c\\u043c\\u0430 \\u0438\\u043c\\u043f\\u043e\\u0440\\u0442\\u043e\\u0437\\u0430\\u043c\\u0435\\u0449\\u0435\\u043d\\u0438\\u0435 \\u0440\\u0430\\u0437\\u0432\\u0438\\u0442\\u0438\\u0435 \\u0441\\u043e\\u0431\\u0441\\u0442\\u0432\\u0435\\u043d\\u043d\\u044b\\u0439 \\u0441\\u0435\\u043b\\u044c\\u0441\\u043a\\u0438\\u0439 \\u0445\\u043e\\u0437\\u044f\\u0439\\u0441\\u0442\\u0432\\u043e \\u0441\\u0435\\u0433\\u043e\\u0434\\u043d\\u044f \\u0443\\u0432\\u0435\\u0440\\u044f\\u0442\\u044c \\u0441\\u043a\\u0430\\u0437\\u0430\\u0442\\u044c \\u043d\\u0435\\u0433\\u0430\\u0442\\u0438\\u0432\\u043d\\u044b\\u0439 \\u044f\\u0432\\u043b\\u0435\\u043d\\u0438\\u0435 \\u043d\\u0435\\u0439\\u0442\\u0440\\u0430\\u043b\\u0438\\u0437\\u043e\\u0432\\u0430\\u0442\\u044c \\u0440\\u043e\\u0441\\u0441\\u0438\\u0439\\u0441\\u043a\\u0438\\u0439 \\u044d\\u043a\\u043e\\u043d\\u043e\\u043c\\u0438\\u043a\\u0430 \\u0431\\u043e\\u043b\\u044c\\u0448\\u043e\\u0439 \\u0437\\u0430\\u043f\\u0430\\u0441 \\u043f\\u0440\\u043e\\u0447\\u043d\\u043e\\u0441\\u0442\\u044c \\u043f\\u043e\\u0434\\u0447\\u0435\\u0440\\u043a\\u0438\\u0432\\u0430\\u0442\\u044c \\u0432\\u0430\\u043b\\u0435\\u043d\\u0442\\u0438\\u043d\\u0430 \\u043c\\u0430\\u0442\\u0432\\u0438\\u0435\\u043d\\u043a\\u043e \\u0432\\u044b\\u0440\\u0430\\u0436\\u0430\\u0442\\u044c \\u043d\\u0430\\u0434\\u0435\\u0436\\u0434\\u0430 \\u0440\\u0430\\u0437\\u0432\\u0438\\u0442\\u0438\\u0435 \\u0440\\u043e\\u0441\\u0441\\u0438\\u0439\\u0441\\u043a\\u0438\\u0439-\\u043c\\u0430\\u043b\\u0430\\u0439\\u0437\\u0438\\u0439\\u0441\\u043a\\u0438\\u0439 \\u0434\\u0435\\u043b\\u043e\\u0432\\u043e\\u0439 \\u043e\\u0442\\u043d\\u043e\\u0448\\u0435\\u043d\\u0438\\u0435 \\u0441\\u0440\\u0435\\u0434\\u0438 \\u0446\\u0435\\u043b\\u044c \\u0441\\u043e\\u0432\\u0435\\u0442 \\u0437\\u043d\\u0430\\u0447\\u0438\\u0442\\u044c\\u0441\\u044f \\u0441\\u043e\\u0434\\u0435\\u0439\\u0441\\u0442\\u0432\\u0438\\u0435 \\u043f\\u0440\\u043e\\u0432\\u0435\\u0434\\u0435\\u043d\\u0438\\u0435 \\u043c\\u0435\\u0440\\u043e\\u043f\\u0440\\u0438\\u044f\\u0442\\u0438\\u0435 \\u0438\\u043d\\u0444\\u043e\\u0440\\u043c\\u0438\\u0440\\u043e\\u0432\\u0430\\u043d\\u0438\\u0435 \\u0434\\u0435\\u043b\\u043e\\u0432\\u043e\\u0439 \\u043a\\u0440\\u0443\\u0433 \\u043e\\u0441\\u043e\\u0431\\u0435\\u043d\\u043d\\u043e\\u0441\\u0442\\u044c \\u0432\\u0435\\u0434\\u0435\\u043d\\u0438\\u0435 \\u0431\\u0438\\u0437\\u043d\\u0435\\u0441 \\u043f\\u0440\\u0430\\u043a\\u0442\\u0438\\u0447\\u0435\\u0441\\u043a\\u0438\\u0439 \\u0430\\u0441\\u043f\\u0435\\u043a\\u0442 \\u0432\\u043d\\u0435\\u0448\\u043d\\u0435\\u044d\\u043a\\u043e\\u043d\\u043e\\u043c\\u0438\\u0447\\u0435\\u0441\\u043a\\u0438\\u0439 \\u0434\\u0435\\u044f\\u0442\\u0435\\u043b\\u044c\\u043d\\u043e\\u0441\\u0442\\u044c \\u0438\\u043d\\u0432\\u0435\\u0441\\u0442\\u0438\\u0446\\u0438\\u043e\\u043d\\u043d\\u044b\\u0439 \\u043a\\u043b\\u0438\\u043c\\u0430\\u0442 \\u043e\\u0431\\u0441\\u0443\\u0436\\u0434\\u0435\\u043d\\u0438\\u0435 \\u0432\\u043e\\u043f\\u0440\\u043e\\u0441 \\u043a\\u0430\\u0441\\u0430\\u0442\\u044c\\u0441\\u044f \\u044d\\u043a\\u043e\\u043d\\u043e\\u043c\\u0438\\u0447\\u0435\\u0441\\u043a\\u0438\\u0439 \\u043d\\u0430\\u0443\\u0447\\u043d\\u043e-\\u0442\\u0435\\u0445\\u043d\\u0438\\u0447\\u0435\\u0441\\u043a\\u0438\\u0439 \\u043a\\u0443\\u043b\\u044c\\u0442\\u0443\\u0440\\u043d\\u044b\\u0439 \\u0441\\u043e\\u0442\\u0440\\u0443\\u0434\\u043d\\u0438\\u0447\\u0435\\u0441\\u0442\\u0432\\u043e \\u0444\\u043e\\u0440\\u043c\\u0438\\u0440\\u043e\\u0432\\u0430\\u043d\\u0438\\u0435 \\u0440\\u0435\\u043a\\u043e\\u043c\\u0435\\u043d\\u0434\\u0430\\u0446\\u0438\\u044f \\u043f\\u043e\\u0432\\u044b\\u0448\\u0435\\u043d\\u0438\\u0435 \\u044d\\u0444\\u0444\\u0435\\u043a\\u0442\\u0438\\u0432\\u043d\\u043e\\u0441\\u0442\\u044c \\u0432\\u0437\\u0430\\u0438\\u043c\\u043e\\u0434\\u0435\\u0439\\u0441\\u0442\\u0432\\u0438\\u0435 \\u043e\\u0442\\u043c\\u0435\\u0447\\u0430\\u0442\\u044c \\u0440\\u043e\\u0441\\u0441\\u0438\\u0439\\u0441\\u043a\\u0438\\u0439 \\u0441\\u0442\\u043e\\u0440\\u043e\\u043d\\u0430 \\u0441\\u043e\\u0437\\u0434\\u0430\\u0432\\u0430\\u0442\\u044c \\u0434\\u0435\\u043b\\u043e\\u0432\\u043e\\u0439 \\u0441\\u043e\\u0432\\u0435\\u0442 \\u0441\\u043e\\u0442\\u0440\\u0443\\u0434\\u043d\\u0438\\u0447\\u0435\\u0441\\u0442\\u0432\\u043e \\u043c\\u0430\\u043b\\u0430\\u0439\\u0437\\u0438\\u044f \\u0440\\u0443\\u043a\\u043e\\u0432\\u043e\\u0434\\u0441\\u0442\\u0432\\u043e \\u0432\\u0438\\u0446\\u0435-\\u043f\\u0440\\u0435\\u0437\\u0438\\u0434\\u0435\\u043d\\u0442 \\u043f\\u0430\\u043e \\u043a\\u043e\\u0440\\u043f\\u043e\\u0440\\u0430\\u0446\\u0438\\u044f \\u0438\\u0440\\u043a\\u0443\\u0442 \\u0432\\u043b\\u0430\\u0434\\u0438\\u043c\\u0438\\u0440 \\u0441\\u0430\\u0443\\u0442\\u043e\\u0432 \\u0441\\u043b\\u0435\\u0434\\u0443\\u044e\\u0449\\u0438\\u0439 \\u0441\\u043e\\u0434\\u0435\\u0439\\u0441\\u0442\\u0432\\u0438\\u0435 \\u0441\\u043e\\u0432\\u0435\\u0442 \\u043c\\u0430\\u043b\\u0430\\u0439\\u0437\\u0438\\u0439\\u0441\\u043a\\u0438\\u0439 \\u0441\\u0442\\u043e\\u043b\\u0438\\u0446\\u0430 \\u043f\\u043e\\u0441\\u0435\\u0449\\u0430\\u0442\\u044c \\u0440\\u043e\\u0441\\u0441\\u0438\\u0439\\u0441\\u043a\\u0438\\u0439 \\u0431\\u0438\\u0437\\u043d\\u0435\\u0441-\\u043c\\u0438\\u0441\\u0441\\u0438\\u044f \\u0432\\u0441\\u0442\\u0440\\u0435\\u0447\\u0430 \\u043f\\u0440\\u0435\\u0434\\u0441\\u0442\\u0430\\u0432\\u0438\\u0442\\u0435\\u043b\\u044c \\u0434\\u0435\\u043b\\u043e\\u0432\\u043e\\u0439 \\u043a\\u0440\\u0443\\u0433 \\u043c\\u0430\\u043b\\u0430\\u0439\\u0437\\u0438\\u044f \\u043f\\u043e\\u043b\\u0435 \\u0430\\u0441\\u0435\\u0430\\u043d \\u043f\\u0440\\u043e\\u0432\\u043e\\u0434\\u0438\\u0442\\u044c \\u043c\\u0438\\u043d\\u0438\\u0441\\u0442\\u0440 \\u0438\\u043d\\u043e\\u0441\\u0442\\u0440\\u0430\\u043d\\u043d\\u044b\\u0439 \\u0434\\u0435\\u043b\\u043e \\u0440\\u043e\\u0441\\u0441\\u0438\\u044f \\u0441\\u0435\\u0440\\u0433\\u0435\\u0439 \\u043b\\u0430\\u0432\\u0440\\u043e\\u0432 \\u043a\\u0443\\u0430\\u043b\\u0430-\\u043b\\u0443\\u043c\\u043f\\u0443\\u0440 \\u043f\\u043e\\u0434\\u043f\\u0438\\u0441\\u044b\\u0432\\u0430\\u0442\\u044c \\u0441\\u043e\\u0433\\u043b\\u0430\\u0448\\u0435\\u043d\\u0438\\u0435 \\u0441\\u043e\\u0437\\u0434\\u0430\\u043d\\u0438\\u0435 \\u0441\\u043e\\u0432\\u043c\\u0435\\u0441\\u0442\\u043d\\u044b\\u0439 \\u0440\\u043e\\u0441\\u0441\\u0438\\u0439\\u0441\\u043a\\u0438\\u0439-\\u043c\\u0430\\u043b\\u0435\\u043d\\u044c\\u043a\\u0438\\u0439 \\u0437\\u0438\\u0439\\u0441\\u043a\\u0438\\u0439 \\u043a\\u043e\\u043c\\u0438\\u0441\\u0441\\u0438\\u044f \\u044d\\u043a\\u043e\\u043d\\u043e\\u043c\\u0438\\u0447\\u0435\\u0441\\u043a\\u0438\\u0439 \\u043d\\u0430\\u0443\\u0447\\u043d\\u043e-\\u0442\\u0435\\u0445\\u043d\\u0438\\u0447\\u0435\\u0441\\u043a\\u0438\\u0439 \\u043a\\u0443\\u043b\\u044c\\u0442\\u0443\\u0440\\u043d\\u044b\\u0439 \\u0441\\u043e\\u0442\\u0440\\u0443\\u0434\\u043d\\u0438\\u0447\\u0435\\u0441\\u0442\\u0432\\u043e \\u043f\\u0440\\u0435\\u0434\\u0441\\u0435\\u0434\\u0430\\u0442\\u0435\\u043b\\u044c \\u0440\\u043e\\u0441\\u0441\\u0438\\u0439\\u0441\\u043a\\u0438\\u0439 \\u0447\\u0430\\u0441\\u0442\\u044c \\u043d\\u0430\\u0437\\u043d\\u0430\\u0447\\u0430\\u0442\\u044c \\u043c\\u0438\\u043d\\u0438\\u0441\\u0442\\u0440 \\u043f\\u0440\\u043e\\u043c\\u044b\\u0448\\u043b\\u0435\\u043d\\u043d\\u043e\\u0441\\u0442\\u044c \\u0442\\u043e\\u0440\\u0433\\u043e\\u0432\\u043b\\u044f \\u0440\\u043e\\u0441\\u0441\\u0438\\u044f \\u0434\\u0435\\u043d\\u0438\\u0441 \\u043c\\u0430\\u043d\\u0442\\u0443\\u0440\\u043e\\u0432 \\u0441\\u043e\\u0432\\u0435\\u0442 \\u0444\\u0435\\u0434\\u0435\\u0440\\u0430\\u0446\\u0438\\u044f \\u0441\\u0447\\u0438\\u0442\\u0430\\u0442\\u044c \\u043c\\u0430\\u043b\\u0430\\u0439\\u0437\\u0438\\u044f \\u043e\\u0441\\u0442\\u0430\\u0432\\u0430\\u0442\\u044c\\u0441\\u044f \\u043e\\u0434\\u0438\\u043d \\u043f\\u0435\\u0440\\u0441\\u043f\\u0435\\u043a\\u0442\\u0438\\u0432\\u043d\\u044b\\u0439 \\u0442\\u043e\\u0440\\u0433\\u043e\\u0432\\u044b\\u0439 \\u043f\\u0430\\u0440\\u0442\\u043d\\u0435\\u0440 \\u0440\\u043e\\u0441\\u0441\\u0438\\u044f \\u0434\\u0432\\u0443\\u0441\\u0442\\u043e\\u0440\\u043e\\u043d\\u043d\\u0438\\u0439 \\u0442\\u043e\\u0432\\u0430\\u0440\\u043e\\u043e\\u0431\\u043e\\u0440\\u043e\\u0442 \\u0441\\u043e\\u0441\\u0442\\u0430\\u0432\\u043b\\u044f\\u0442\\u044c \\u0440\\u043e\\u0441\\u0441\\u0438\\u0439\\u0441\\u043a\\u0438\\u0439 \\u044d\\u043a\\u0441\\u043f\\u043e\\u0440\\u0442 \\u0441\\u043e\\u0441\\u0442\\u0430\\u0432\\u043b\\u044f\\u0442\\u044c \\u0438\\u043c\\u043f\\u043e\\u0440\\u0442\",\n          \"\\u0441\\u043f\\u043e\\u0440 \\u0433\\u043b\\u0430\\u0432\\u043d\\u044b\\u0439 \\u0438\\u043d\\u0434\\u0438\\u0432\\u0438\\u0434\\u0443\\u0430\\u043b\\u044c\\u043d\\u044b\\u0439 \\u043f\\u0440\\u0438\\u0437 \\u0441\\u0435\\u0437\\u043e\\u043d \\u0444\\u0440\\u0430\\u043d\\u0446\\u0443\\u0437 \\u043e\\u0431\\u0445\\u043e\\u0434\\u0438\\u0442\\u044c \\u043c\\u0430\\u043b\\u044c\\u043a\\u043e\\u043b\\u044c\\u043c \\u0434\\u0438\\u043b\\u0435\\u0439\\u043d\\u044f \\u044f\\u043d\\u043d\\u0438\\u0441 \\u0431\\u0443\\u0440\\u0443\\u0441\\u0438\\u0441 -\\u043b\\u0435\\u0442\\u043d\\u0438\\u0439 \\u0437\\u0430\\u0449\\u0438\\u0442\\u043d\\u0438\\u043a \\u043c\\u043e\\u0441\\u043a\\u043e\\u0432\\u0441\\u043a\\u0438\\u0439 \\u0446\\u0441\\u043a\\u0430 \\u043d\\u0430\\u043d\\u0434\\u043e \\u0434\\u0435 \\u043a\\u043e\\u043b\\u043e \\u0441\\u0442\\u0430\\u043d\\u043e\\u0432\\u0438\\u0442\\u044c\\u0441\\u044f \\u0441\\u0430\\u043c\\u044b\\u0439 \\u0446\\u0435\\u043d\\u043d\\u044b\\u0439 \\u0438\\u0433\\u0440\\u043e\\u043a \\u0435\\u0432\\u0440\\u043e\\u043b\\u0438\\u0433\\u0430 \\u0441\\u0435\\u0437\\u043e\\u043d- \\u043e\\u0431\\u044a\\u044f\\u0432\\u043b\\u044f\\u0442\\u044c \\u043e\\u0444\\u0438\\u0446\\u0438\\u0430\\u043b\\u044c\\u043d\\u044b\\u0439 \\u0446\\u0435\\u0440\\u0435\\u043c\\u043e\\u043d\\u0438\\u044f \\u0435\\u0432\\u0440\\u043e\\u043b\\u0438\\u0433\\u0430 \\u0431\\u0435\\u0440\\u043b\\u0438\\u043d \\u0441\\u043f\\u043e\\u0440 \\u0433\\u043b\\u0430\\u0432\\u043d\\u044b\\u0439 \\u0438\\u043d\\u0434\\u0438\\u0432\\u0438\\u0434\\u0443\\u0430\\u043b\\u044c\\u043d\\u044b\\u0439 \\u043f\\u0440\\u0438\\u0437 \\u0441\\u0435\\u0437\\u043e\\u043d \\u0431\\u0430\\u0441\\u043a\\u0435\\u0442\\u0431\\u043e\\u043b\\u0438\\u0441\\u0442 \\u0441\\u0431\\u043e\\u0440\\u043d\\u0430\\u044f \\u0444\\u0440\\u0430\\u043d\\u0446\\u0438\\u044f \\u043e\\u0431\\u0445\\u043e\\u0434\\u0438\\u0442\\u044c \\u0430\\u043c\\u0435\\u0440\\u0438\\u043a\\u0430\\u043d\\u0435\\u0446 \\u043c\\u0430\\u043b\\u044c\\u043a\\u043e\\u043b\\u044c\\u043c \\u0434\\u0438\\u043b\\u0435\\u0439\\u043d\\u044f \\u043b\\u043e\\u043a\\u043e\\u043c\\u043e\\u0442\\u0438\\u0432-\\u043a\\u0443\\u0431\\u0430\\u043d\\u044c \\u0433\\u0440\\u0435\\u043a \\u044f\\u043d\\u043d\\u0438\\u0441 \\u0431\\u0443\\u0440\\u0443\\u0441\\u0438\\u0441 \\u043b\\u0430\\u0431\\u043e\\u0440\\u0430\\u043b\\u044c \\u043a\\u0443\\u0442\\u0447 \\u043c\\u0430\\u0442\\u0447 \\u0441\\u0435\\u0437\\u043e\\u043d \\u0434\\u0435 \\u043a\\u043e\\u043b\\u043e \\u043d\\u0430\\u0431\\u0438\\u0440\\u0430\\u0442\\u044c \\u0441\\u0440\\u0435\\u0434\\u043d\\u0435\\u0435 \\u043e\\u0447\\u043a\\u043e \\u043f\\u043e\\u0434\\u0431\\u043e\\u0440 \\u043f\\u0435\\u0440\\u0435\\u0434\\u0430\\u0447\\u0430 \\u043f\\u0435\\u0440\\u0435\\u0445\\u0432\\u0430\\u0442 \\u0441\\u0442\\u0430\\u043d\\u043e\\u0432\\u0438\\u0442\\u044c\\u0441\\u044f \\u0447\\u0435\\u0442\\u0432\\u0435\\u0440\\u0442\\u044b\\u0439 \\u0438\\u0433\\u0440\\u043e\\u043a \\u0446\\u0441\\u043a\\u0430 \\u0443\\u0434\\u043e\\u0441\\u0442\\u0430\\u0438\\u0432\\u0430\\u0442\\u044c\\u0441\\u044f \\u043f\\u0440\\u0438\\u0437 \\u0434\\u043e\\u0431\\u0430\\u0432\\u043b\\u044f\\u0442\\u044c \\u0441\\u0435\\u0437\\u043e\\u043d \\u0445\\u043e\\u0440\\u043e\\u0448\\u0438\\u0439 \\u0438\\u0433\\u0440\\u043e\\u043a \\u0441\\u0435\\u0437\\u043e\\u043d \\u0435\\u0432\\u0440\\u043e\\u043b\\u0438\\u0433\\u0430 \\u043f\\u0440\\u0438\\u0437\\u043d\\u0430\\u0432\\u0430\\u0442\\u044c \\u0441\\u0435\\u0440\\u0431\\u0441\\u043a\\u0438\\u0439 \\u0444\\u043e\\u0440\\u0432\\u0430\\u0440\\u0434 \\u0444\\u0435\\u043d\\u0435\\u0440\\u0431\\u0430\\u0445\\u0447\\u0435 \\u043d\\u0435\\u043c\\u0430\\u043d\\u044c\\u044f \\u0431\\u044c\\u0435\\u043b\\u0438\\u0446\\u0430 \\u043d\\u044b\\u043d\\u0435 \\u0432\\u044b\\u0441\\u0442\\u0443\\u043f\\u0430\\u0442\\u044c \\u043a\\u043b\\u0443\\u0431 \\u043d\\u0431\\u0430 \\u043c\\u0438\\u043d\\u043d\\u0435\\u0441\\u043e\\u0442\\u0430 \\u0442\\u0438\\u043c\\u0431\\u0435\\u0440\\u0432\\u0443\\u043b\\u0432\\u0437 \\u0434\\u043e\\u0431\\u0430\\u0432\\u043b\\u044f\\u0442\\u044c \\u043f\\u043e\\u0431\\u0435\\u0434\\u0438\\u0442\\u0435\\u043b\\u044c \\u0435\\u0432\\u0440\\u043e\\u043b\\u0438\\u0433\\u0430 \\u043e\\u043f\\u0440\\u0435\\u0434\\u0435\\u043b\\u044f\\u0442\\u044c\\u0441\\u044f \\u0444\\u0438\\u043d\\u0430\\u043b \\u0447\\u0435\\u0442\\u044b\\u0440\\u0435 \\u0441\\u043e\\u0441\\u0442\\u043e\\u044f\\u0442\\u044c\\u0441\\u044f \\u0441\\u0442\\u043e\\u043b\\u0438\\u0446\\u0430 \\u0433\\u0435\\u0440\\u043c\\u0430\\u043d\\u0438\\u044f \\u043c\\u0430\\u0439 \\u043e\\u0431\\u043b\\u0430\\u0434\\u0430\\u0442\\u0435\\u043b\\u044c \\u043f\\u0440\\u0438\\u0437 \\u0435\\u0432\\u0440\\u043e\\u043b\\u0438\\u0433\\u0430 \\u0442\\u043e\\u043d\\u044f \\u043f\\u0430\\u0440\\u043a\\u0435\\u0440 \\u043c\\u0430\\u043a\\u043a\\u0430\\u0431\\u0438 \\u0442\\u043e\\u043d\\u0438 \\u043f\\u0430\\u0440\\u043a\\u0435\\u0440 \\u043c\\u0430\\u043a\\u043a\\u0430\\u0431\\u0438 \\u0442\\u0435\\u043e\\u0434\\u043e\\u0440\\u043e\\u0441 \\u043f\\u0430\\u043f\\u0430\\u043b\\u0443\\u043a\\u0430\\u0441 \\u0446\\u0441\\u043a\\u0430 \\u0440\\u0430\\u043c\\u0443\\u043d\\u0430\\u0441 \\u0448\\u0438\\u0448\\u043a\\u0430\\u0443\\u0441\\u043a\\u0430\\u0441 \\u0446\\u0441\\u043a\\u0430 \\u0445\\u0443\\u0430\\u043d \\u043a\\u0430\\u0440\\u043b\\u043e\\u0441 \\u043d\\u0430\\u0432\\u0430\\u0440\\u0440\\u043e \\u0431\\u0430\\u0440\\u0441\\u0435\\u043b\\u043e\\u043d\\u0430 \\u043c\\u0438\\u043b\\u043e\\u0448 \\u0442\\u0435\\u043e\\u0434\\u043e\\u0441\\u0438\\u0447 \\u043e\\u043b\\u0438\\u043c\\u043f\\u0438\\u0430\\u043a\\u043e\\u0441 \\u0434\\u0438\\u043c\\u0438\\u0442\\u0440\\u0438\\u0441 \\u0434\\u0438\\u0430\\u043c\\u0430\\u043d\\u0442\\u0438\\u0434\\u0438\\u0441 \\u043f\\u0430\\u043d\\u0430\\u0442\\u0438\\u043d\\u0430\\u0438\\u043a\\u043e\\u0441 \\u0430\\u043d\\u0434\\u0440\\u0435\\u0439 \\u043a\\u0438\\u0440\\u0438\\u043b\\u0435\\u043d\\u043a\\u043e \\u0446\\u0441\\u043a\\u0430 \\u0432\\u0430\\u0441\\u0441\\u0438\\u043b\\u0438\\u0441 \\u0441\\u043f\\u0430\\u043d\\u0443\\u043b\\u0438\\u0441 \\u043e\\u043b\\u0438\\u043c\\u043f\\u0438\\u0430\\u043a\\u043e\\u0441 \\u0441\\u0435\\u0440\\u0445\\u0438\\u043e \\u0440\\u043e\\u0434\\u0440\\u0438\\u0433\\u0435\\u0441 \\u0440\\u0435\\u0430\\u043b \\u043d\\u0435\\u043c\\u0430\\u043d\\u044c\\u044f \\u0431\\u044c\\u0435\\u043b\\u0438\\u0446\\u0430 \\u0444\\u0435\\u043d\\u0435\\u0440\\u0431\\u0430\\u0445\\u0447\\u0435 \\u043d\\u0430\\u043d\\u0434\\u043e \\u0434\\u0435 \\u043a\\u043e\\u043b\\u043e \\u0446\\u0441\\u043a\\u0430\",\n          \"\\u043e\\u0434\\u043d\\u0430\\u043a\\u043e \\u043e\\u0437\\u043d\\u0430\\u0447\\u0430\\u0442\\u044c \\u0441\\u043e\\u0435\\u0434\\u0438\\u043d\\u044f\\u0442\\u044c \\u0448\\u0442\\u0430\\u0442 \\u0434\\u043e\\u043b\\u0436\\u043d\\u044b\\u0439 \\u0440\\u0430\\u0437\\u043c\\u0435\\u0449\\u0430\\u0442\\u044c \\u0432\\u043e\\u0439\\u0441\\u043a\\u043e \\u043f\\u043e\\u0432\\u0441\\u044e\\u0434\\u0443 \\u0432\\u043e\\u0437\\u043d\\u0438\\u043a\\u0430\\u0442\\u044c \\u043a\\u0440\\u0438\\u0437\\u0438\\u0441 \\u043e\\u0442\\u043c\\u0435\\u0447\\u0430\\u0442\\u044c \\u0430\\u043c\\u0435\\u0440\\u0438\\u043a\\u0430\\u043d\\u0441\\u043a\\u0438\\u0439 \\u043f\\u0440\\u0435\\u0437\\u0438\\u0434\\u0435\\u043d\\u0442 \\u0431\\u0430\\u0440\\u0430\\u043a \\u043e\\u0431\\u0430\\u043c\\u0430 \\u0443\\u0431\\u0435\\u0436\\u0434\\u0435\\u043d\\u043d\\u044b\\u0439 \\u0441\\u043e\\u0435\\u0434\\u0438\\u043d\\u044f\\u0442\\u044c \\u0448\\u0442\\u0430\\u0442 \\u043d\\u0435\\u0441\\u0442\\u0438 \\u043e\\u0442\\u0432\\u0435\\u0442\\u0441\\u0442\\u0432\\u0435\\u043d\\u043d\\u043e\\u0441\\u0442\\u044c \\u0441\\u0438\\u0442\\u0443\\u0430\\u0446\\u0438\\u044f \\u0440\\u0430\\u0439\\u043e\\u043d \\u043c\\u0438\\u0440 \\u043e\\u0434\\u043d\\u0430\\u043a\\u043e \\u043e\\u0437\\u043d\\u0430\\u0447\\u0430\\u0442\\u044c \\u0434\\u043e\\u043b\\u0436\\u043d\\u044b\\u0439 \\u0440\\u0430\\u0437\\u043c\\u0435\\u0449\\u0430\\u0442\\u044c \\u0432\\u043e\\u0439\\u0441\\u043a\\u043e \\u043f\\u043e\\u0432\\u0441\\u044e\\u0434\\u0443 \\u0432\\u043e\\u0437\\u043d\\u0438\\u043a\\u0430\\u0442\\u044c \\u043a\\u0440\\u0438\\u0437\\u0438\\u0441 \\u0434\\u043e\\u043b\\u0436\\u043d\\u044b\\u0439 \\u043e\\u0447\\u0435\\u043d\\u044c \\u043e\\u0441\\u043c\\u043e\\u0442\\u0440\\u0438\\u0442\\u0435\\u043b\\u044c\\u043d\\u044b\\u0439 \\u0438\\u0441\\u043f\\u043e\\u043b\\u044c\\u0437\\u043e\\u0432\\u0430\\u043d\\u0438\\u0435 \\u0432\\u043e\\u0435\\u043d\\u043d\\u044b\\u0439 \\u0441\\u0438\\u043b\\u0430 \\u043e\\u0442\\u043c\\u0435\\u0447\\u0430\\u0442\\u044c \\u0430\\u043c\\u0435\\u0440\\u0438\\u043a\\u0430\\u043d\\u0441\\u043a\\u0438\\u0439 \\u043f\\u0440\\u0435\\u0437\\u0438\\u0434\\u0435\\u043d\\u0442 \\u0438\\u043d\\u0442\\u0435\\u0440\\u0432\\u044c\\u044e \\u0442\\u0435\\u043b\\u0435\\u043a\\u043e\\u043c\\u043f\\u0430\\u043d\\u0438\\u044f \\u043e\\u0431\\u0430\\u043c\\u0430 \\u0437\\u0430\\u044f\\u0432\\u043b\\u044f\\u0442\\u044c \\u0433\\u043e\\u0440\\u0434\\u0438\\u0442\\u044c\\u0441\\u044f \\u0443\\u0434\\u0430\\u0432\\u0430\\u0442\\u044c\\u0441\\u044f \\u0432\\u044b\\u0432\\u0435\\u0441\\u0442\\u0438 \\u043e\\u0441\\u043d\\u043e\\u0432\\u043d\\u043e\\u0439 \\u0447\\u0430\\u0441\\u0442\\u044c \\u0430\\u043c\\u0435\\u0440\\u0438\\u043a\\u0430\\u043d\\u0441\\u043a\\u0438\\u0439 \\u0432\\u043e\\u0439\\u0441\\u043a\\u043e \\u0430\\u0444\\u0433\\u0430\\u043d\\u0438\\u0441\\u0442\\u0430\\u043d \\u0434\\u043e\\u0431\\u0438\\u0432\\u0430\\u0442\\u044c\\u0441\\u044f \\u043f\\u0440\\u0435\\u043a\\u0440\\u0430\\u0449\\u0435\\u043d\\u0438\\u0435 \\u0443\\u0447\\u0430\\u0441\\u0442\\u0438\\u0435 \\u0430\\u043a\\u0442\\u0438\\u0432\\u043d\\u044b\\u0439 \\u0432\\u043e\\u0435\\u043d\\u043d\\u044b\\u0439 \\u0434\\u0435\\u0439\\u0441\\u0442\\u0432\\u0438\\u0435 \\u0438\\u0440\\u0430\\u043a \\u043e\\u0431\\u0430\\u043c\\u0430 \\u0437\\u0430\\u0432\\u0435\\u0440\\u044f\\u0442\\u044c \\u043d\\u0435\\u0441\\u043c\\u043e\\u0442\\u0440\\u044f \\u043e\\u0441\\u0442\\u043e\\u0440\\u043e\\u0436\\u043d\\u044b\\u0439 \\u043f\\u043e\\u0434\\u0445\\u043e\\u0434 \\u0438\\u0441\\u043f\\u043e\\u043b\\u044c\\u0437\\u043e\\u0432\\u0430\\u043d\\u0438\\u0435 \\u0430\\u043c\\u0435\\u0440\\u0438\\u043a\\u0430\\u043d\\u0441\\u043a\\u0438\\u0439 \\u0432\\u043e\\u0439\\u0441\\u043a\\u043e \\u0440\\u0443\\u0431\\u0435\\u0436 \\u0441\\u043b\\u0443\\u0447\\u0430\\u0439 \\u043d\\u0435\\u043e\\u0431\\u0445\\u043e\\u0434\\u0438\\u043c\\u043e\\u0441\\u0442\\u044c \\u043a\\u043e\\u043b\\u0435\\u0431\\u0430\\u043d\\u0438\\u0435 \\u043f\\u0440\\u0438\\u043d\\u0438\\u043c\\u0430\\u0442\\u044c \\u0440\\u0435\\u0448\\u0435\\u043d\\u0438\\u0435 \\u0438\\u0441\\u043f\\u043e\\u043b\\u044c\\u0437\\u043e\\u0432\\u0430\\u043d\\u0438\\u0435 \\u043f\\u043e\\u0442\\u0440\\u0435\\u0431\\u043e\\u0432\\u0430\\u0442\\u044c \\u0438\\u043d\\u0442\\u0435\\u0440\\u0435\\u0441 \\u043d\\u0430\\u0446\\u0438\\u043e\\u043d\\u0430\\u043b\\u044c\\u043d\\u044b\\u0439 \\u0431\\u0435\\u0437\\u043e\\u043f\\u0430\\u0441\\u043d\\u043e\\u0441\\u0442\\u044c \\u043f\\u0435\\u0440\\u0435\\u0434\\u0430\\u0432\\u0430\\u0442\\u044c \\u0440\\u0438\\u0430 \\u043d\\u043e\\u0432\\u043e\\u0441\\u0442\\u044c \\u043e\\u0442\\u0432\\u0435\\u0447\\u0430\\u0442\\u044c \\u0432\\u043e\\u043f\\u0440\\u043e\\u0441 \\u043f\\u043e\\u043c\\u0435\\u0448\\u0430\\u0442\\u044c \\u0430\\u043c\\u0435\\u0440\\u0438\\u043a\\u0430\\u043d\\u0441\\u043a\\u0438\\u0439 \\u043b\\u0438\\u0434\\u0435\\u0440\\u0441\\u0442\\u0432\\u043e \\u043c\\u0438\\u0440 \\u043f\\u0440\\u043e\\u0446\\u0432\\u0435\\u0442\\u0430\\u043d\\u0438\\u0435 \\u0441\\u043e\\u0435\\u0434\\u0438\\u043d\\u0435\\u043d\\u043d\\u044b\\u0439 \\u0448\\u0442\\u0430\\u0442 \\u0443\\u043a\\u0430\\u0437\\u044b\\u0432\\u0430\\u0442\\u044c \\u0432\\u043d\\u0435\\u0448\\u043d\\u0438\\u0439 \\u0432\\u043d\\u0443\\u0442\\u0440\\u0435\\u043d\\u043d\\u0438\\u0439 \\u0443\\u0433\\u0440\\u043e\\u0437\\u0430 \\u043f\\u0435\\u0440\\u0432\\u044b\\u0439 \\u0432\\u043e\\u0437\\u043d\\u0438\\u043a\\u0430\\u0442\\u044c \\u043f\\u043e\\u043b\\u0438\\u0442\\u0438\\u0447\\u0435\\u0441\\u043a\\u0438\\u0439 \\u0441\\u0438\\u0441\\u0442\\u0435\\u043c\\u0430 \\u0441\\u043c\\u043e\\u0447\\u044c \\u0444\\u0443\\u043d\\u043a\\u0446\\u0438\\u043e\\u043d\\u0438\\u0440\\u043e\\u0432\\u0430\\u0442\\u044c \\u043f\\u043e\\u044f\\u0441\\u043d\\u044f\\u0442\\u044c \\u043f\\u0440\\u0435\\u0437\\u0438\\u0434\\u0435\\u043d\\u0442\"\n        ],\n        \"semantic_type\": \"\",\n        \"description\": \"\"\n      }\n    },\n    {\n      \"column\": \"topic\",\n      \"properties\": {\n        \"dtype\": \"category\",\n        \"num_unique_values\": 37,\n        \"samples\": [\n          \"\\u041d\\u0435\\u0434\\u0432\\u0438\\u0436\\u0438\\u043c\\u043e\\u0441\\u0442\\u044c\",\n          \"\\u041a\\u0443\\u043b\\u044c\\u0442\\u0443\\u0440\\u0430\",\n          \"\\u0412\\u044b\\u0431\\u043e\\u0440\\u044b-2016\"\n        ],\n        \"semantic_type\": \"\",\n        \"description\": \"\"\n      }\n    }\n  ]\n}"
            }
          },
          "metadata": {},
          "execution_count": 4
        }
      ],
      "source": [
        "df.head(10)"
      ]
    },
    {
      "cell_type": "code",
      "source": [
        "# посчитаем количество уникальных тем\n",
        "unique_topics = df['topic'].unique()\n",
        "print (f'Число уникальных тем: {len(unique_topics)}')"
      ],
      "metadata": {
        "colab": {
          "base_uri": "https://localhost:8080/"
        },
        "id": "-qTYa9eVVCub",
        "outputId": "d204cdeb-a0fb-4216-d0bc-07d26fb7c5d5"
      },
      "execution_count": null,
      "outputs": [
        {
          "output_type": "stream",
          "name": "stdout",
          "text": [
            "Число уникальных тем: 37\n"
          ]
        }
      ]
    },
    {
      "cell_type": "code",
      "source": [
        "# Проверка на дубликаты в столбце 'body'\n",
        "duplicates = df[df['body'].duplicated(keep=False)]  # keep=False возвращает все дубликаты\n",
        "\n",
        "# Вывод информации о дубликатах\n",
        "if duplicates.empty:\n",
        "    print(\"Дубликатов в столбце 'body' нет.\")\n",
        "else:\n",
        "    print(\"Дубликаты в столбце 'body':\")\n",
        "    print(duplicates)"
      ],
      "metadata": {
        "colab": {
          "base_uri": "https://localhost:8080/"
        },
        "id": "ISzHHJUuh76v",
        "outputId": "b1aa51b5-c1e2-46b4-92ed-05fc4885ab63"
      },
      "execution_count": null,
      "outputs": [
        {
          "output_type": "stream",
          "name": "stdout",
          "text": [
            "Дубликаты в столбце 'body':\n",
            "       Unnamed: 0                                         headline  \\\n",
            "51415       14989  УЕФА готов применить санкции по отношению к РФС   \n",
            "51436       14971  УЕФА готов применить санкции по отношению к РФС   \n",
            "\n",
            "                                                    body    topic  \n",
            "51415  футбольный власть расследовать поведение росси...  ЧЕ 2016  \n",
            "51436  футбольный власть расследовать поведение росси...  ЧЕ 2016  \n"
          ]
        }
      ]
    },
    {
      "cell_type": "code",
      "source": [
        "# удалим дубликаты\n",
        "df.drop_duplicates(subset=['body'], keep='first', inplace=True)\n",
        "# Проверка на дубликаты в столбце 'body'\n",
        "duplicates = df[df['body'].duplicated(keep=False)]  # keep=False возвращает все дубликаты\n",
        "\n",
        "# Вывод информации о дубликатах\n",
        "if duplicates.empty:\n",
        "    print(\"Дубликатов в столбце 'body' нет.\")\n",
        "else:\n",
        "    print(\"Дубликаты в столбце 'body':\")\n",
        "    print(duplicates)"
      ],
      "metadata": {
        "colab": {
          "base_uri": "https://localhost:8080/"
        },
        "id": "NQgcu8Lzigkl",
        "outputId": "c2a01f3c-6ea4-410f-f009-9ae56080c426"
      },
      "execution_count": null,
      "outputs": [
        {
          "output_type": "stream",
          "name": "stdout",
          "text": [
            "Дубликатов в столбце 'body' нет.\n"
          ]
        }
      ]
    },
    {
      "cell_type": "code",
      "source": [
        "# смотрим на пропущенные значения\n",
        "df_empty_body = df[df['body'].isnull()]\n",
        "\n",
        "# Выводим элементы DataFrame с пустым столбцом 'body'\n",
        "print(df_empty_body)"
      ],
      "metadata": {
        "colab": {
          "base_uri": "https://localhost:8080/"
        },
        "id": "UxYNA7jXioPS",
        "outputId": "cbd94cd6-b935-4944-8c8f-3e8d9e052aa2"
      },
      "execution_count": null,
      "outputs": [
        {
          "output_type": "stream",
          "name": "stdout",
          "text": [
            "     Unnamed: 0                      headline body topic\n",
            "107        3926  Приключения LADA XRAY в Сочи  NaN  Авто\n"
          ]
        }
      ]
    },
    {
      "cell_type": "code",
      "source": [
        "# Удаление записей с NULL в столбце body\n",
        "df = df[df['body'].notna()]\n",
        "\n",
        "df_empty_body = df[df['body'].isnull()]\n",
        "\n",
        "# Выводим элементы DataFrame с пустым столбцом 'body'\n",
        "print(df_empty_body)"
      ],
      "metadata": {
        "colab": {
          "base_uri": "https://localhost:8080/"
        },
        "id": "8_11hIt5jGd5",
        "outputId": "9523c8cc-1151-4baf-dc9e-b58a1e8a512c"
      },
      "execution_count": null,
      "outputs": [
        {
          "output_type": "stream",
          "name": "stdout",
          "text": [
            "Empty DataFrame\n",
            "Columns: [Unnamed: 0, headline, body, topic]\n",
            "Index: []\n"
          ]
        }
      ]
    },
    {
      "cell_type": "code",
      "source": [
        "# смотрим на пропущенные значения в теме\n",
        "df_empty_topic = df[df['topic'].isnull()]\n",
        "print(df_empty_topic)"
      ],
      "metadata": {
        "colab": {
          "base_uri": "https://localhost:8080/"
        },
        "id": "X5KP9JTqiva2",
        "outputId": "31a48da1-3a2a-4b95-d42f-c61a0a40211d"
      },
      "execution_count": null,
      "outputs": [
        {
          "output_type": "stream",
          "name": "stdout",
          "text": [
            "Empty DataFrame\n",
            "Columns: [Unnamed: 0, headline, body, topic]\n",
            "Index: []\n"
          ]
        }
      ]
    },
    {
      "cell_type": "code",
      "source": [
        "# Подсчет числа символов в каждом тексте\n",
        "df['body'] = df['body'].astype(str)\n",
        "df['char_count'] = df['body'].apply(len)"
      ],
      "metadata": {
        "id": "T7w-ovwwlIWY"
      },
      "execution_count": null,
      "outputs": []
    },
    {
      "cell_type": "code",
      "source": [
        "# Создание гистограммы\n",
        "plt.figure(figsize=(12, 6))  # Установка размера фигуры\n",
        "plt.hist(df['char_count'], bins=50, edgecolor='black')  # Создание гистограммы с 35 столбцами\n",
        "plt.xlabel('Количество символов')\n",
        "plt.ylabel('Частота')\n",
        "plt.title('Распределение числа символов в тексте')\n",
        "plt.show()"
      ],
      "metadata": {
        "colab": {
          "base_uri": "https://localhost:8080/",
          "height": 564
        },
        "id": "1Jfsw3FJWa_X",
        "outputId": "72691e50-abd7-4be6-9d96-f27a3ba19ba9"
      },
      "execution_count": null,
      "outputs": [
        {
          "output_type": "display_data",
          "data": {
            "text/plain": [
              "<Figure size 1200x600 with 1 Axes>"
            ],
            "image/png": "[encoded data removed]"
          },
          "metadata": {}
        }
      ]
    },
    {
      "cell_type": "code",
      "source": [
        "# Вычисление 1%-го процентиля длины текста\n",
        "percentile_1 = df['char_count'].quantile(0.01)\n",
        "percentile_90 = df['char_count'].quantile(0.90)\n",
        "\n",
        "# Фильтрация 1% самых коротких и 1% самых длинных текстов\n",
        "shortest_texts = df[df['char_count'] <= percentile_1]\n",
        "longest_texts = df[df['char_count'] >= percentile_90]\n",
        "\n",
        "print(f\"1% самых коротких текстов имеет длину менее чем {percentile_1} символов.\")\n",
        "print(f\"10% самых длинных текстов имеет длину более чем {percentile_90} символов.\")"
      ],
      "metadata": {
        "colab": {
          "base_uri": "https://localhost:8080/"
        },
        "id": "NYihJpPIla4t",
        "outputId": "2bc6acc5-ddaf-4ace-d83e-d3c8ccc8aac3"
      },
      "execution_count": null,
      "outputs": [
        {
          "output_type": "stream",
          "name": "stdout",
          "text": [
            "1% самых коротких текстов имеет длину менее чем 372.0 символов.\n",
            "10% самых длинных текстов имеет длину более чем 3604.0 символов.\n"
          ]
        }
      ]
    },
    {
      "cell_type": "code",
      "source": [
        "# Сортируем DataFrame по длине текста\n",
        "df_sorted = df.sort_values(by='char_count').head(10)\n",
        "\n",
        "# Выводим 10 самых коротких текстов и их длину\n",
        "shortest_texts = df_sorted[['body', 'char_count', 'topic']]\n",
        "\n",
        "print(shortest_texts)"
      ],
      "metadata": {
        "colab": {
          "base_uri": "https://localhost:8080/"
        },
        "id": "vOf670spYNeO",
        "outputId": "90aaf09b-ae45-4bab-e865-de13553e5c0b"
      },
      "execution_count": null,
      "outputs": [
        {
          "output_type": "stream",
          "name": "stdout",
          "text": [
            "                                                    body  char_count  \\\n",
            "2079                                           тест тест           9   \n",
            "44627        турнир франция наступать пора решающий матч          43   \n",
            "40968    расписание календарь летний игра рио-де-жанейро          47   \n",
            "15697  любопытный владелец дрон снимать видео изнутри...         106   \n",
            "18572  результат пострадать человек человек пострадат...         131   \n",
            "14239  информация причина взрыв раненый разрушение по...         139   \n",
            "34825  республиканец набирать голос необходимый канди...         144   \n",
            "2367   декабрь исполняться знаменитый мультипликатор ...         145   \n",
            "28401  движение поезд пока останавливать метро брюссе...         152   \n",
            "18199  получать различный травма берлин территория ро...         162   \n",
            "\n",
            "                   topic  \n",
            "2079   Гаджеты & Телеком  \n",
            "44627              Спорт  \n",
            "40968           РИО-2016  \n",
            "15697                Мир  \n",
            "18572                Мир  \n",
            "14239                Мир  \n",
            "34825           Политика  \n",
            "2367      День в истории  \n",
            "28401           Общество  \n",
            "18199                Мир  \n"
          ]
        }
      ]
    },
    {
      "cell_type": "code",
      "source": [
        "# Сортируем DataFrame по длине текста для длинных текстов\n",
        "df_sorted_long = df.sort_values(by='char_count', ascending=False).head(10)\n",
        "\n",
        "# Выводим 10 самых длинных текстов и их длину\n",
        "longest_texts = df_sorted_long[['body', 'char_count', 'topic']]\n",
        "\n",
        "print(\"\\n10 самых длинных текстов:\")\n",
        "print(longest_texts)"
      ],
      "metadata": {
        "colab": {
          "base_uri": "https://localhost:8080/"
        },
        "id": "60VwBQooZDej",
        "outputId": "5dc53b58-176d-4dce-bb85-8aacc4eaa5b0"
      },
      "execution_count": null,
      "outputs": [
        {
          "output_type": "stream",
          "name": "stdout",
          "text": [
            "\n",
            "10 самых длинных текстов:\n",
            "                                                    body  char_count  \\\n",
            "1555   сентябрь рф проходить выборы депутат госдума с...       48095   \n",
            "24958  вылет сочи разбиваться тот- минобороны россия ...       34493   \n",
            "38959  четыре час президент отвечать вопрос российски...       33213   \n",
            "35800  тринадцатый послание федеральный собрание глав...       31342   \n",
            "11912  председатель комитет совет федерация междунаро...       25563   \n",
            "37939  дискредитация власть накануне выборы главный ц...       23836   \n",
            "38485  спикер совет федерация валентина матвиенко уве...       20008   \n",
            "34202  москва завершаться прямой линия президент росс...       19592   \n",
            "35852  президент фонд общественный мнение александр о...       19491   \n",
            "56221  руководитель служба защита право потребитель ф...       18769   \n",
            "\n",
            "             topic  \n",
            "1555   Выборы-2016  \n",
            "24958     Общество  \n",
            "38959     Политика  \n",
            "35800     Политика  \n",
            "11912          Мир  \n",
            "37939     Политика  \n",
            "38485     Политика  \n",
            "34202     Политика  \n",
            "35852     Политика  \n",
            "56221    Экономика  \n"
          ]
        }
      ]
    },
    {
      "cell_type": "markdown",
      "source": [
        "90% текстов имеет длину менее чем 3604 символа -- в русском языке это приблизительно 612.68 слов и 1.45 страниц. Обрежем длинные тексты по данному значению, и удалим бессмысленный текст с содержанием \"тест тест\"."
      ],
      "metadata": {
        "id": "fMlWxRtaZ69P"
      }
    },
    {
      "cell_type": "code",
      "source": [
        "# Обрезка длины body до 6180 символов\n",
        "df['body'] = df['body'].str[:3604]\n",
        "\n",
        "# Фильтруем DataFrame, оставляя только строки с длиной текста >= 10\n",
        "df = df[df['char_count'] >= 10]"
      ],
      "metadata": {
        "id": "JfXvc0bujQcb"
      },
      "execution_count": null,
      "outputs": []
    },
    {
      "cell_type": "code",
      "source": [
        "# Подсчет числа символов в каждом тексте\n",
        "df['body'] = df['body'].astype(str)\n",
        "df['char_count'] = df['body'].apply(len)\n",
        "\n",
        "# Создание гистограммы\n",
        "plt.figure(figsize=(12, 6))  # Установка размера фигуры\n",
        "plt.hist(df['char_count'], bins=20, edgecolor='black')  # Создание гистограммы с 35 столбцами\n",
        "plt.xlabel('Количество символов')\n",
        "plt.ylabel('Частота')\n",
        "plt.title('Распределение числа символов в тексте')\n",
        "plt.show()"
      ],
      "metadata": {
        "colab": {
          "base_uri": "https://localhost:8080/",
          "height": 668
        },
        "id": "adt23gyRjnD1",
        "outputId": "0e4abbda-593b-4ff0-81c5-89297581e567"
      },
      "execution_count": null,
      "outputs": [
        {
          "output_type": "stream",
          "name": "stderr",
          "text": [
            "<ipython-input-17-4ece5650eb3a>:2: SettingWithCopyWarning: \n",
            "A value is trying to be set on a copy of a slice from a DataFrame.\n",
            "Try using .loc[row_indexer,col_indexer] = value instead\n",
            "\n",
            "See the caveats in the documentation: https://pandas.pydata.org/pandas-docs/stable/user_guide/indexing.html#returning-a-view-versus-a-copy\n",
            "  df['body'] = df['body'].astype(str)\n"
          ]
        },
        {
          "output_type": "display_data",
          "data": {
            "text/plain": [
              "<Figure size 1200x600 with 1 Axes>"
            ],
            "image/png": "[encoded data removed]"
          },
          "metadata": {}
        }
      ]
    },
    {
      "cell_type": "code",
      "execution_count": null,
      "metadata": {
        "colab": {
          "base_uri": "https://localhost:8080/",
          "height": 733
        },
        "id": "0gqnDVc7LYBP",
        "outputId": "5e4807de-760f-4217-b8ec-e1408c3ef9be"
      },
      "outputs": [
        {
          "output_type": "display_data",
          "data": {
            "text/plain": [
              "<Figure size 640x480 with 1 Axes>"
            ],
            "image/png": "[encoded data removed]"
          },
          "metadata": {}
        }
      ],
      "source": [
        "# Посчитаем число текстов по темам\n",
        "\n",
        "text_summary = df.groupby('topic').count().drop(['headline', 'Unnamed: 0', 'char_count'], axis=1)\n",
        "text_summary = text_summary.sort_values(by='body', ascending=False) # Сортируем данные по убыванию.\n",
        "ax = text_summary.plot.bar(y='body') # Рисуем частоты.\n",
        "ax.get_legend().remove() # Удаляем легенду."
      ]
    },
    {
      "cell_type": "code",
      "source": [
        "print(text_summary)"
      ],
      "metadata": {
        "colab": {
          "base_uri": "https://localhost:8080/"
        },
        "id": "_5U3ENMkDgik",
        "outputId": "e6e57df6-941d-4fa0-80b3-b6d3b0a00478"
      },
      "execution_count": null,
      "outputs": [
        {
          "output_type": "stream",
          "name": "stdout",
          "text": [
            "                                      body\n",
            "topic                                     \n",
            "Мир                                  15131\n",
            "Общество                             12147\n",
            "Политика                              7359\n",
            "Страна                                5280\n",
            "Экономика                             5032\n",
            "Спорт                                 4881\n",
            "Культура                              2635\n",
            "Армия                                 1295\n",
            "Наука                                  824\n",
            "Гаджеты & Телеком                      582\n",
            "РИО-2016                               449\n",
            "Авто                                   130\n",
            "Москва                                 118\n",
            "День в истории                         108\n",
            "Выборы в США                            96\n",
            "Выборы-2016                             92\n",
            "ПМЭФ                                    63\n",
            "День Победы                             62\n",
            "ЧЕ 2016                                 55\n",
            "Известия: подробности                   38\n",
            "Россия - регионы                        26\n",
            "Новости компаний                        17\n",
            "Финансы                                 10\n",
            "Транспорт                                9\n",
            "Недвижимость                             7\n",
            "Технологическое предпринимательство      6\n",
            "Нефть и газ                              6\n",
            "Путешествуем по России                   5\n",
            "Знай наших                               5\n",
            "Шопинг                                   5\n",
            "Промышленность                           5\n",
            "Образование                              5\n",
            "IT                                       4\n",
            "Инновации                                4\n",
            "КНАУФ                                    2\n",
            "Деловая среда                            2\n",
            "Формула лидерства                        2\n"
          ]
        }
      ]
    },
    {
      "cell_type": "markdown",
      "source": [
        "Выборка несбалансирована, первые 7 классов абсолютно доминируют над оставшимися 30, более того, первые 2 класса по количеству элементов сравнимы с остальными 35. Малые классы могут вообще попасть либо только в тренировочную, либо только в тестовую выборку. Соотношение самого частого и самого редкого класса составляет 7 565,5 к 1. Ряд классов имеют похожую тематику (например Экономика близка к Промышленности и Финансам, а IT близок к Гаджеты & Телеком)."
      ],
      "metadata": {
        "id": "AfLnNjLJDyXz"
      }
    },
    {
      "cell_type": "markdown",
      "source": [
        "Если малые классы незначительны и вы не хотите усложнять модель, удалите их.\n",
        "\n",
        "Если малые классы важны, но их слишком мало, рассмотрите объединение или пересэмплирование.\n",
        "\n",
        "Если вы хотите сохранить данные и учесть их при обучении, рассмотрите взвешенные потери или oversampling.\n",
        "\n",
        "В нашем случае проводить классификацию классов с 2, 4 или 6 элементами бессмысленно так как модель может вообще не встретить такие классы в обучающей или тестовой выборке. Большую часть самых редких классов можно отнести к более крупным, при этом если присоединить все классы, связанные с экономикой, у которых число элементов менее 26, к классу Экономика, то число элементов класса Экономика вырастет примерно на 40 записей, что составляет 0,0079 от 5032. Поэтому удалим все классы с числом записей менее хотя бы 26. При этом общее число элементов снизится крайне незначительно, примерно на 0,17%."
      ],
      "metadata": {
        "id": "iuMryq84dyRn"
      }
    },
    {
      "cell_type": "code",
      "source": [
        "# Подсчитываем количество записей для каждой темы\n",
        "topic_counts = df['topic'].value_counts()\n",
        "\n",
        "# Оставляем только темы с числом записей >= 26\n",
        "topics_to_keep = topic_counts[topic_counts >= 26].index\n",
        "\n",
        "# Фильтруем DataFrame\n",
        "df = df[df['topic'].isin(topics_to_keep)]\n",
        "\n",
        "# посчитаем количество уникальных тем\n",
        "unique_topics = df['topic'].unique()\n",
        "print (f'Число уникальных тем: {len(unique_topics)}')\n",
        "\n",
        "text_summary = df.groupby('topic').count().drop(['headline', 'Unnamed: 0', 'char_count'], axis=1)\n",
        "text_summary = text_summary.sort_values(by='body', ascending=False) # Сортируем данные по убыванию.\n",
        "ax = text_summary.plot.bar(y='body') # Рисуем частоты.\n",
        "ax.get_legend().remove() # Удаляем легенду."
      ],
      "metadata": {
        "colab": {
          "base_uri": "https://localhost:8080/",
          "height": 625
        },
        "id": "YlYDBou8fXUm",
        "outputId": "f9a3685b-b4c3-4cb7-d87e-ff1287fe99b0"
      },
      "execution_count": null,
      "outputs": [
        {
          "output_type": "stream",
          "name": "stdout",
          "text": [
            "Число уникальных тем: 21\n"
          ]
        },
        {
          "output_type": "display_data",
          "data": {
            "text/plain": [
              "<Figure size 640x480 with 1 Axes>"
            ],
            "image/png": "[encoded data removed]"
          },
          "metadata": {}
        }
      ]
    },
    {
      "cell_type": "markdown",
      "source": [
        "В нашей выборке остались и очень крупные, и очень маленькие классы, но теперь хотя бы есть шанс что они попадут и в тренировочную, и в тестовую выборку. Также значитально уменьшилось число классов с похожими темами, хотя Выборы в США и Выборы-2016, а также Россия - регионы и Москва остались."
      ],
      "metadata": {
        "id": "GxmGHxnLf3aI"
      }
    },
    {
      "cell_type": "markdown",
      "source": [
        "Делим данные на тренировочные и тестовые."
      ],
      "metadata": {
        "id": "b62d9cbJEQJH"
      }
    },
    {
      "cell_type": "code",
      "execution_count": null,
      "metadata": {
        "id": "m4qPvHcqUFwy"
      },
      "outputs": [],
      "source": [
        "X = df['body']\n",
        "y = df['topic']"
      ]
    },
    {
      "cell_type": "code",
      "execution_count": null,
      "metadata": {
        "colab": {
          "base_uri": "https://localhost:8080/"
        },
        "id": "puDYE4QvY1Lq",
        "outputId": "f64c722d-b12f-4431-9336-53136b036242"
      },
      "outputs": [
        {
          "output_type": "execute_result",
          "data": {
            "text/plain": [
              "((56403,), (56403,))"
            ]
          },
          "metadata": {},
          "execution_count": 22
        }
      ],
      "source": [
        "X.shape, y.shape"
      ]
    },
    {
      "cell_type": "code",
      "execution_count": null,
      "metadata": {
        "id": "Aax2ZAu2UVcC"
      },
      "outputs": [],
      "source": [
        "from sklearn.model_selection import train_test_split\n",
        "\n",
        "X_train, X_test, y_train, y_test = train_test_split(X, y, test_size=0.3, random_state=42)"
      ]
    },
    {
      "cell_type": "code",
      "execution_count": null,
      "metadata": {
        "colab": {
          "base_uri": "https://localhost:8080/"
        },
        "id": "BnYvA5kNY5Kp",
        "outputId": "19a4f4dd-d2ea-454b-df80-ed3d377788eb"
      },
      "outputs": [
        {
          "output_type": "execute_result",
          "data": {
            "text/plain": [
              "((39482,), (16921,), (39482,), (16921,))"
            ]
          },
          "metadata": {},
          "execution_count": 24
        }
      ],
      "source": [
        "X_train.shape, X_test.shape, y_train.shape, y_test.shape"
      ]
    },
    {
      "cell_type": "markdown",
      "source": [
        "## **Логистическая регрессия**"
      ],
      "metadata": {
        "id": "wr-qEqlm-W_D"
      }
    },
    {
      "cell_type": "markdown",
      "metadata": {
        "id": "SjuDkR89MjRR"
      },
      "source": [
        "Начнем с самого простого и очевидного алгоритма - логистической регрессии с Bag of Words."
      ]
    },
    {
      "cell_type": "markdown",
      "source": [
        "**Плюсы:**\n",
        "- Простота реализации и интерпретации.\n",
        "- Хорошо работает на небольших наборах данных.\n",
        "- Быстрое обучение и предсказание.\n",
        "\n",
        "**Минусы:**\n",
        "- Не учитывает порядок слов и их контекст.\n",
        "- В BoW большие тексты могут приводить к очень разреженным матрицам.\n",
        "- Ограниченные возможности для обработки сложных языковых конструкций."
      ],
      "metadata": {
        "id": "MqtnXt2M8FC2"
      }
    },
    {
      "cell_type": "code",
      "execution_count": null,
      "metadata": {
        "id": "6KMpNDqC4O-O"
      },
      "outputs": [],
      "source": [
        "from sklearn.linear_model import LogisticRegression\n",
        "from sklearn.feature_extraction.text import CountVectorizer\n",
        "from sklearn.metrics import *\n",
        "from nltk import ngrams"
      ]
    },
    {
      "cell_type": "code",
      "execution_count": null,
      "metadata": {
        "id": "1u_SrQxvS_EI"
      },
      "outputs": [],
      "source": [
        "vec = CountVectorizer(ngram_range=(1, 1)) # строим BoW для слов\n",
        "bow = vec.fit_transform(X_train)"
      ]
    },
    {
      "cell_type": "code",
      "execution_count": null,
      "metadata": {
        "colab": {
          "base_uri": "https://localhost:8080/",
          "height": 219
        },
        "id": "XIE_YpasTIHC",
        "outputId": "13673577-8bd7-4287-e963-a1508945e896"
      },
      "outputs": [
        {
          "output_type": "stream",
          "name": "stderr",
          "text": [
            "/usr/local/lib/python3.10/dist-packages/sklearn/linear_model/_logistic.py:469: ConvergenceWarning: lbfgs failed to converge (status=1):\n",
            "STOP: TOTAL NO. of ITERATIONS REACHED LIMIT.\n",
            "\n",
            "Increase the number of iterations (max_iter) or scale the data as shown in:\n",
            "    https://scikit-learn.org/stable/modules/preprocessing.html\n",
            "Please also refer to the documentation for alternative solver options:\n",
            "    https://scikit-learn.org/stable/modules/linear_model.html#logistic-regression\n",
            "  n_iter_i = _check_optimize_result(\n"
          ]
        },
        {
          "output_type": "execute_result",
          "data": {
            "text/plain": [
              "LogisticRegression(random_state=42)"
            ],
            "text/html": [
              "<style>#sk-container-id-1 {\n",
              "  /* Definition of color scheme common for light and dark mode */\n",
              "  --sklearn-color-text: black;\n",
              "  --sklearn-color-line: gray;\n",
              "  /* Definition of color scheme for unfitted estimators */\n",
              "  --sklearn-color-unfitted-level-0: #fff5e6;\n",
              "  --sklearn-color-unfitted-level-1: #f6e4d2;\n",
              "  --sklearn-color-unfitted-level-2: #ffe0b3;\n",
              "  --sklearn-color-unfitted-level-3: chocolate;\n",
              "  /* Definition of color scheme for fitted estimators */\n",
              "  --sklearn-color-fitted-level-0: #f0f8ff;\n",
              "  --sklearn-color-fitted-level-1: #d4ebff;\n",
              "  --sklearn-color-fitted-level-2: #b3dbfd;\n",
              "  --sklearn-color-fitted-level-3: cornflowerblue;\n",
              "\n",
              "  /* Specific color for light theme */\n",
              "  --sklearn-color-text-on-default-background: var(--sg-text-color, var(--theme-code-foreground, var(--jp-content-font-color1, black)));\n",
              "  --sklearn-color-background: var(--sg-background-color, var(--theme-background, var(--jp-layout-color0, white)));\n",
              "  --sklearn-color-border-box: var(--sg-text-color, var(--theme-code-foreground, var(--jp-content-font-color1, black)));\n",
              "  --sklearn-color-icon: #696969;\n",
              "\n",
              "  @media (prefers-color-scheme: dark) {\n",
              "    /* Redefinition of color scheme for dark theme */\n",
              "    --sklearn-color-text-on-default-background: var(--sg-text-color, var(--theme-code-foreground, var(--jp-content-font-color1, white)));\n",
              "    --sklearn-color-background: var(--sg-background-color, var(--theme-background, var(--jp-layout-color0, #111)));\n",
              "    --sklearn-color-border-box: var(--sg-text-color, var(--theme-code-foreground, var(--jp-content-font-color1, white)));\n",
              "    --sklearn-color-icon: #878787;\n",
              "  }\n",
              "}\n",
              "\n",
              "#sk-container-id-1 {\n",
              "  color: var(--sklearn-color-text);\n",
              "}\n",
              "\n",
              "#sk-container-id-1 pre {\n",
              "  padding: 0;\n",
              "}\n",
              "\n",
              "#sk-container-id-1 input.sk-hidden--visually {\n",
              "  border: 0;\n",
              "  clip: rect(1px 1px 1px 1px);\n",
              "  clip: rect(1px, 1px, 1px, 1px);\n",
              "  height: 1px;\n",
              "  margin: -1px;\n",
              "  overflow: hidden;\n",
              "  padding: 0;\n",
              "  position: absolute;\n",
              "  width: 1px;\n",
              "}\n",
              "\n",
              "#sk-container-id-1 div.sk-dashed-wrapped {\n",
              "  border: 1px dashed var(--sklearn-color-line);\n",
              "  margin: 0 0.4em 0.5em 0.4em;\n",
              "  box-sizing: border-box;\n",
              "  padding-bottom: 0.4em;\n",
              "  background-color: var(--sklearn-color-background);\n",
              "}\n",
              "\n",
              "#sk-container-id-1 div.sk-container {\n",
              "  /* jupyter's `normalize.less` sets `[hidden] { display: none; }`\n",
              "     but bootstrap.min.css set `[hidden] { display: none !important; }`\n",
              "     so we also need the `!important` here to be able to override the\n",
              "     default hidden behavior on the sphinx rendered scikit-learn.org.\n",
              "     See: https://github.com/scikit-learn/scikit-learn/issues/21755 */\n",
              "  display: inline-block !important;\n",
              "  position: relative;\n",
              "}\n",
              "\n",
              "#sk-container-id-1 div.sk-text-repr-fallback {\n",
              "  display: none;\n",
              "}\n",
              "\n",
              "div.sk-parallel-item,\n",
              "div.sk-serial,\n",
              "div.sk-item {\n",
              "  /* draw centered vertical line to link estimators */\n",
              "  background-image: linear-gradient(var(--sklearn-color-text-on-default-background), var(--sklearn-color-text-on-default-background));\n",
              "  background-size: 2px 100%;\n",
              "  background-repeat: no-repeat;\n",
              "  background-position: center center;\n",
              "}\n",
              "\n",
              "/* Parallel-specific style estimator block */\n",
              "\n",
              "#sk-container-id-1 div.sk-parallel-item::after {\n",
              "  content: \"\";\n",
              "  width: 100%;\n",
              "  border-bottom: 2px solid var(--sklearn-color-text-on-default-background);\n",
              "  flex-grow: 1;\n",
              "}\n",
              "\n",
              "#sk-container-id-1 div.sk-parallel {\n",
              "  display: flex;\n",
              "  align-items: stretch;\n",
              "  justify-content: center;\n",
              "  background-color: var(--sklearn-color-background);\n",
              "  position: relative;\n",
              "}\n",
              "\n",
              "#sk-container-id-1 div.sk-parallel-item {\n",
              "  display: flex;\n",
              "  flex-direction: column;\n",
              "}\n",
              "\n",
              "#sk-container-id-1 div.sk-parallel-item:first-child::after {\n",
              "  align-self: flex-end;\n",
              "  width: 50%;\n",
              "}\n",
              "\n",
              "#sk-container-id-1 div.sk-parallel-item:last-child::after {\n",
              "  align-self: flex-start;\n",
              "  width: 50%;\n",
              "}\n",
              "\n",
              "#sk-container-id-1 div.sk-parallel-item:only-child::after {\n",
              "  width: 0;\n",
              "}\n",
              "\n",
              "/* Serial-specific style estimator block */\n",
              "\n",
              "#sk-container-id-1 div.sk-serial {\n",
              "  display: flex;\n",
              "  flex-direction: column;\n",
              "  align-items: center;\n",
              "  background-color: var(--sklearn-color-background);\n",
              "  padding-right: 1em;\n",
              "  padding-left: 1em;\n",
              "}\n",
              "\n",
              "\n",
              "/* Toggleable style: style used for estimator/Pipeline/ColumnTransformer box that is\n",
              "clickable and can be expanded/collapsed.\n",
              "- Pipeline and ColumnTransformer use this feature and define the default style\n",
              "- Estimators will overwrite some part of the style using the `sk-estimator` class\n",
              "*/\n",
              "\n",
              "/* Pipeline and ColumnTransformer style (default) */\n",
              "\n",
              "#sk-container-id-1 div.sk-toggleable {\n",
              "  /* Default theme specific background. It is overwritten whether we have a\n",
              "  specific estimator or a Pipeline/ColumnTransformer */\n",
              "  background-color: var(--sklearn-color-background);\n",
              "}\n",
              "\n",
              "/* Toggleable label */\n",
              "#sk-container-id-1 label.sk-toggleable__label {\n",
              "  cursor: pointer;\n",
              "  display: block;\n",
              "  width: 100%;\n",
              "  margin-bottom: 0;\n",
              "  padding: 0.5em;\n",
              "  box-sizing: border-box;\n",
              "  text-align: center;\n",
              "}\n",
              "\n",
              "#sk-container-id-1 label.sk-toggleable__label-arrow:before {\n",
              "  /* Arrow on the left of the label */\n",
              "  content: \"▸\";\n",
              "  float: left;\n",
              "  margin-right: 0.25em;\n",
              "  color: var(--sklearn-color-icon);\n",
              "}\n",
              "\n",
              "#sk-container-id-1 label.sk-toggleable__label-arrow:hover:before {\n",
              "  color: var(--sklearn-color-text);\n",
              "}\n",
              "\n",
              "/* Toggleable content - dropdown */\n",
              "\n",
              "#sk-container-id-1 div.sk-toggleable__content {\n",
              "  max-height: 0;\n",
              "  max-width: 0;\n",
              "  overflow: hidden;\n",
              "  text-align: left;\n",
              "  /* unfitted */\n",
              "  background-color: var(--sklearn-color-unfitted-level-0);\n",
              "}\n",
              "\n",
              "#sk-container-id-1 div.sk-toggleable__content.fitted {\n",
              "  /* fitted */\n",
              "  background-color: var(--sklearn-color-fitted-level-0);\n",
              "}\n",
              "\n",
              "#sk-container-id-1 div.sk-toggleable__content pre {\n",
              "  margin: 0.2em;\n",
              "  border-radius: 0.25em;\n",
              "  color: var(--sklearn-color-text);\n",
              "  /* unfitted */\n",
              "  background-color: var(--sklearn-color-unfitted-level-0);\n",
              "}\n",
              "\n",
              "#sk-container-id-1 div.sk-toggleable__content.fitted pre {\n",
              "  /* unfitted */\n",
              "  background-color: var(--sklearn-color-fitted-level-0);\n",
              "}\n",
              "\n",
              "#sk-container-id-1 input.sk-toggleable__control:checked~div.sk-toggleable__content {\n",
              "  /* Expand drop-down */\n",
              "  max-height: 200px;\n",
              "  max-width: 100%;\n",
              "  overflow: auto;\n",
              "}\n",
              "\n",
              "#sk-container-id-1 input.sk-toggleable__control:checked~label.sk-toggleable__label-arrow:before {\n",
              "  content: \"▾\";\n",
              "}\n",
              "\n",
              "/* Pipeline/ColumnTransformer-specific style */\n",
              "\n",
              "#sk-container-id-1 div.sk-label input.sk-toggleable__control:checked~label.sk-toggleable__label {\n",
              "  color: var(--sklearn-color-text);\n",
              "  background-color: var(--sklearn-color-unfitted-level-2);\n",
              "}\n",
              "\n",
              "#sk-container-id-1 div.sk-label.fitted input.sk-toggleable__control:checked~label.sk-toggleable__label {\n",
              "  background-color: var(--sklearn-color-fitted-level-2);\n",
              "}\n",
              "\n",
              "/* Estimator-specific style */\n",
              "\n",
              "/* Colorize estimator box */\n",
              "#sk-container-id-1 div.sk-estimator input.sk-toggleable__control:checked~label.sk-toggleable__label {\n",
              "  /* unfitted */\n",
              "  background-color: var(--sklearn-color-unfitted-level-2);\n",
              "}\n",
              "\n",
              "#sk-container-id-1 div.sk-estimator.fitted input.sk-toggleable__control:checked~label.sk-toggleable__label {\n",
              "  /* fitted */\n",
              "  background-color: var(--sklearn-color-fitted-level-2);\n",
              "}\n",
              "\n",
              "#sk-container-id-1 div.sk-label label.sk-toggleable__label,\n",
              "#sk-container-id-1 div.sk-label label {\n",
              "  /* The background is the default theme color */\n",
              "  color: var(--sklearn-color-text-on-default-background);\n",
              "}\n",
              "\n",
              "/* On hover, darken the color of the background */\n",
              "#sk-container-id-1 div.sk-label:hover label.sk-toggleable__label {\n",
              "  color: var(--sklearn-color-text);\n",
              "  background-color: var(--sklearn-color-unfitted-level-2);\n",
              "}\n",
              "\n",
              "/* Label box, darken color on hover, fitted */\n",
              "#sk-container-id-1 div.sk-label.fitted:hover label.sk-toggleable__label.fitted {\n",
              "  color: var(--sklearn-color-text);\n",
              "  background-color: var(--sklearn-color-fitted-level-2);\n",
              "}\n",
              "\n",
              "/* Estimator label */\n",
              "\n",
              "#sk-container-id-1 div.sk-label label {\n",
              "  font-family: monospace;\n",
              "  font-weight: bold;\n",
              "  display: inline-block;\n",
              "  line-height: 1.2em;\n",
              "}\n",
              "\n",
              "#sk-container-id-1 div.sk-label-container {\n",
              "  text-align: center;\n",
              "}\n",
              "\n",
              "/* Estimator-specific */\n",
              "#sk-container-id-1 div.sk-estimator {\n",
              "  font-family: monospace;\n",
              "  border: 1px dotted var(--sklearn-color-border-box);\n",
              "  border-radius: 0.25em;\n",
              "  box-sizing: border-box;\n",
              "  margin-bottom: 0.5em;\n",
              "  /* unfitted */\n",
              "  background-color: var(--sklearn-color-unfitted-level-0);\n",
              "}\n",
              "\n",
              "#sk-container-id-1 div.sk-estimator.fitted {\n",
              "  /* fitted */\n",
              "  background-color: var(--sklearn-color-fitted-level-0);\n",
              "}\n",
              "\n",
              "/* on hover */\n",
              "#sk-container-id-1 div.sk-estimator:hover {\n",
              "  /* unfitted */\n",
              "  background-color: var(--sklearn-color-unfitted-level-2);\n",
              "}\n",
              "\n",
              "#sk-container-id-1 div.sk-estimator.fitted:hover {\n",
              "  /* fitted */\n",
              "  background-color: var(--sklearn-color-fitted-level-2);\n",
              "}\n",
              "\n",
              "/* Specification for estimator info (e.g. \"i\" and \"?\") */\n",
              "\n",
              "/* Common style for \"i\" and \"?\" */\n",
              "\n",
              ".sk-estimator-doc-link,\n",
              "a:link.sk-estimator-doc-link,\n",
              "a:visited.sk-estimator-doc-link {\n",
              "  float: right;\n",
              "  font-size: smaller;\n",
              "  line-height: 1em;\n",
              "  font-family: monospace;\n",
              "  background-color: var(--sklearn-color-background);\n",
              "  border-radius: 1em;\n",
              "  height: 1em;\n",
              "  width: 1em;\n",
              "  text-decoration: none !important;\n",
              "  margin-left: 1ex;\n",
              "  /* unfitted */\n",
              "  border: var(--sklearn-color-unfitted-level-1) 1pt solid;\n",
              "  color: var(--sklearn-color-unfitted-level-1);\n",
              "}\n",
              "\n",
              ".sk-estimator-doc-link.fitted,\n",
              "a:link.sk-estimator-doc-link.fitted,\n",
              "a:visited.sk-estimator-doc-link.fitted {\n",
              "  /* fitted */\n",
              "  border: var(--sklearn-color-fitted-level-1) 1pt solid;\n",
              "  color: var(--sklearn-color-fitted-level-1);\n",
              "}\n",
              "\n",
              "/* On hover */\n",
              "div.sk-estimator:hover .sk-estimator-doc-link:hover,\n",
              ".sk-estimator-doc-link:hover,\n",
              "div.sk-label-container:hover .sk-estimator-doc-link:hover,\n",
              ".sk-estimator-doc-link:hover {\n",
              "  /* unfitted */\n",
              "  background-color: var(--sklearn-color-unfitted-level-3);\n",
              "  color: var(--sklearn-color-background);\n",
              "  text-decoration: none;\n",
              "}\n",
              "\n",
              "div.sk-estimator.fitted:hover .sk-estimator-doc-link.fitted:hover,\n",
              ".sk-estimator-doc-link.fitted:hover,\n",
              "div.sk-label-container:hover .sk-estimator-doc-link.fitted:hover,\n",
              ".sk-estimator-doc-link.fitted:hover {\n",
              "  /* fitted */\n",
              "  background-color: var(--sklearn-color-fitted-level-3);\n",
              "  color: var(--sklearn-color-background);\n",
              "  text-decoration: none;\n",
              "}\n",
              "\n",
              "/* Span, style for the box shown on hovering the info icon */\n",
              ".sk-estimator-doc-link span {\n",
              "  display: none;\n",
              "  z-index: 9999;\n",
              "  position: relative;\n",
              "  font-weight: normal;\n",
              "  right: .2ex;\n",
              "  padding: .5ex;\n",
              "  margin: .5ex;\n",
              "  width: min-content;\n",
              "  min-width: 20ex;\n",
              "  max-width: 50ex;\n",
              "  color: var(--sklearn-color-text);\n",
              "  box-shadow: 2pt 2pt 4pt #999;\n",
              "  /* unfitted */\n",
              "  background: var(--sklearn-color-unfitted-level-0);\n",
              "  border: .5pt solid var(--sklearn-color-unfitted-level-3);\n",
              "}\n",
              "\n",
              ".sk-estimator-doc-link.fitted span {\n",
              "  /* fitted */\n",
              "  background: var(--sklearn-color-fitted-level-0);\n",
              "  border: var(--sklearn-color-fitted-level-3);\n",
              "}\n",
              "\n",
              ".sk-estimator-doc-link:hover span {\n",
              "  display: block;\n",
              "}\n",
              "\n",
              "/* \"?\"-specific style due to the `<a>` HTML tag */\n",
              "\n",
              "#sk-container-id-1 a.estimator_doc_link {\n",
              "  float: right;\n",
              "  font-size: 1rem;\n",
              "  line-height: 1em;\n",
              "  font-family: monospace;\n",
              "  background-color: var(--sklearn-color-background);\n",
              "  border-radius: 1rem;\n",
              "  height: 1rem;\n",
              "  width: 1rem;\n",
              "  text-decoration: none;\n",
              "  /* unfitted */\n",
              "  color: var(--sklearn-color-unfitted-level-1);\n",
              "  border: var(--sklearn-color-unfitted-level-1) 1pt solid;\n",
              "}\n",
              "\n",
              "#sk-container-id-1 a.estimator_doc_link.fitted {\n",
              "  /* fitted */\n",
              "  border: var(--sklearn-color-fitted-level-1) 1pt solid;\n",
              "  color: var(--sklearn-color-fitted-level-1);\n",
              "}\n",
              "\n",
              "/* On hover */\n",
              "#sk-container-id-1 a.estimator_doc_link:hover {\n",
              "  /* unfitted */\n",
              "  background-color: var(--sklearn-color-unfitted-level-3);\n",
              "  color: var(--sklearn-color-background);\n",
              "  text-decoration: none;\n",
              "}\n",
              "\n",
              "#sk-container-id-1 a.estimator_doc_link.fitted:hover {\n",
              "  /* fitted */\n",
              "  background-color: var(--sklearn-color-fitted-level-3);\n",
              "}\n",
              "</style><div id=\"sk-container-id-1\" class=\"sk-top-container\"><div class=\"sk-text-repr-fallback\"><pre>LogisticRegression(random_state=42)</pre><b>In a Jupyter environment, please rerun this cell to show the HTML representation or trust the notebook. <br />On GitHub, the HTML representation is unable to render, please try loading this page with nbviewer.org.</b></div><div class=\"sk-container\" hidden><div class=\"sk-item\"><div class=\"sk-estimator fitted sk-toggleable\"><input class=\"sk-toggleable__control sk-hidden--visually\" id=\"sk-estimator-id-1\" type=\"checkbox\" checked><label for=\"sk-estimator-id-1\" class=\"sk-toggleable__label fitted sk-toggleable__label-arrow fitted\">&nbsp;&nbsp;LogisticRegression<a class=\"sk-estimator-doc-link fitted\" rel=\"noreferrer\" target=\"_blank\" href=\"https://scikit-learn.org/1.5/modules/generated/sklearn.linear_model.LogisticRegression.html\">?<span>Documentation for LogisticRegression</span></a><span class=\"sk-estimator-doc-link fitted\">i<span>Fitted</span></span></label><div class=\"sk-toggleable__content fitted\"><pre>LogisticRegression(random_state=42)</pre></div> </div></div></div></div>"
            ]
          },
          "metadata": {},
          "execution_count": 46
        }
      ],
      "source": [
        "clf = LogisticRegression(random_state=42)\n",
        "clf.fit(bow, y_train)"
      ]
    },
    {
      "cell_type": "code",
      "execution_count": null,
      "metadata": {
        "colab": {
          "base_uri": "https://localhost:8080/"
        },
        "id": "Y_1W5BBNTL4z",
        "outputId": "44c33a53-78de-46d9-fc00-5ff225bac9ef"
      },
      "outputs": [
        {
          "output_type": "stream",
          "name": "stderr",
          "text": [
            "/usr/local/lib/python3.10/dist-packages/sklearn/metrics/_classification.py:1531: UndefinedMetricWarning: Recall is ill-defined and being set to 0.0 in labels with no true samples. Use `zero_division` parameter to control this behavior.\n",
            "  _warn_prf(average, modifier, f\"{metric.capitalize()} is\", len(result))\n"
          ]
        },
        {
          "output_type": "stream",
          "name": "stdout",
          "text": [
            "                       precision    recall  f1-score   support\n",
            "\n",
            "                 Авто       0.42      0.64      0.51        22\n",
            "                Армия       0.65      0.73      0.69       358\n",
            "         Выборы в США       0.24      0.67      0.36        12\n",
            "          Выборы-2016       0.22      0.46      0.30        13\n",
            "    Гаджеты & Телеком       0.63      0.62      0.63       168\n",
            "          День Победы       0.35      0.60      0.44        10\n",
            "       День в истории       0.29      0.80      0.43        15\n",
            "Известия: подробности       0.00      0.00      0.00         1\n",
            "             Культура       0.84      0.87      0.85       774\n",
            "                  Мир       0.80      0.76      0.78      4763\n",
            "               Москва       0.00      0.00      0.00         2\n",
            "                Наука       0.59      0.70      0.64       211\n",
            "             Общество       0.74      0.71      0.73      3769\n",
            "                 ПМЭФ       0.44      0.62      0.52        13\n",
            "             Политика       0.54      0.55      0.54      2141\n",
            "             РИО-2016       0.70      0.76      0.73       127\n",
            "     Россия - регионы       0.00      0.00      0.00         0\n",
            "                Спорт       0.94      0.93      0.93      1468\n",
            "               Страна       0.88      0.90      0.89      1539\n",
            "              ЧЕ 2016       0.50      0.80      0.62        10\n",
            "            Экономика       0.74      0.77      0.76      1505\n",
            "\n",
            "             accuracy                           0.75     16921\n",
            "            macro avg       0.50      0.61      0.54     16921\n",
            "         weighted avg       0.76      0.75      0.76     16921\n",
            "\n"
          ]
        },
        {
          "output_type": "stream",
          "name": "stderr",
          "text": [
            "/usr/local/lib/python3.10/dist-packages/sklearn/metrics/_classification.py:1531: UndefinedMetricWarning: Recall is ill-defined and being set to 0.0 in labels with no true samples. Use `zero_division` parameter to control this behavior.\n",
            "  _warn_prf(average, modifier, f\"{metric.capitalize()} is\", len(result))\n",
            "/usr/local/lib/python3.10/dist-packages/sklearn/metrics/_classification.py:1531: UndefinedMetricWarning: Recall is ill-defined and being set to 0.0 in labels with no true samples. Use `zero_division` parameter to control this behavior.\n",
            "  _warn_prf(average, modifier, f\"{metric.capitalize()} is\", len(result))\n"
          ]
        }
      ],
      "source": [
        "pred = clf.predict(vec.transform(X_test))\n",
        "print(classification_report(pred, y_test))"
      ]
    },
    {
      "cell_type": "markdown",
      "source": [
        "## **Random Forest**"
      ],
      "metadata": {
        "id": "jzTzzPddfqQ5"
      }
    },
    {
      "cell_type": "markdown",
      "source": [
        "**Плюсы:**\n",
        "- Случайный лес устойчив к переобучению и может справляться с высокоразмерными данными (например, текстами).\n",
        "- Хорошо работает с разреженными матрицами (TF-IDF).\n",
        "- Может находить нелинейные зависимости между данными.\n",
        "\n",
        "**Минусы:**\n",
        "- Более медленный в обучении по сравнению с логистической регрессией.\n",
        "- Может быть сложен в интерпретации.\n",
        "- Требует большого объема памяти для работы с большими наборами данных."
      ],
      "metadata": {
        "id": "fr0h9vGq537S"
      }
    },
    {
      "cell_type": "code",
      "source": [
        "import pandas as pd\n",
        "from sklearn.model_selection import train_test_split\n",
        "from sklearn.feature_extraction.text import TfidfVectorizer\n",
        "from sklearn.ensemble import RandomForestClassifier\n",
        "from sklearn.metrics import classification_report\n",
        "from sklearn.preprocessing import LabelEncoder"
      ],
      "metadata": {
        "id": "y1reBXGOf5du"
      },
      "execution_count": null,
      "outputs": []
    },
    {
      "cell_type": "code",
      "source": [
        "# Векторизация текста\n",
        "tfidf_vectorizer = TfidfVectorizer()\n",
        "X_train_tfidf = tfidf_vectorizer.fit_transform(X_train)\n",
        "X_test_tfidf = tfidf_vectorizer.transform(X_test)"
      ],
      "metadata": {
        "id": "fQnNQP-SfvpH"
      },
      "execution_count": null,
      "outputs": []
    },
    {
      "cell_type": "code",
      "source": [
        "# Обучение классификатора\n",
        "clf = RandomForestClassifier(random_state=42)\n",
        "clf.fit(X_train_tfidf, y_train)"
      ],
      "metadata": {
        "colab": {
          "base_uri": "https://localhost:8080/",
          "height": 80
        },
        "id": "vtrxi-PGgAYC",
        "outputId": "977b1ac5-04ba-4393-8524-76dab25aa627"
      },
      "execution_count": null,
      "outputs": [
        {
          "output_type": "execute_result",
          "data": {
            "text/plain": [
              "RandomForestClassifier(random_state=42)"
            ],
            "text/html": [
              "<style>#sk-container-id-2 {\n",
              "  /* Definition of color scheme common for light and dark mode */\n",
              "  --sklearn-color-text: black;\n",
              "  --sklearn-color-line: gray;\n",
              "  /* Definition of color scheme for unfitted estimators */\n",
              "  --sklearn-color-unfitted-level-0: #fff5e6;\n",
              "  --sklearn-color-unfitted-level-1: #f6e4d2;\n",
              "  --sklearn-color-unfitted-level-2: #ffe0b3;\n",
              "  --sklearn-color-unfitted-level-3: chocolate;\n",
              "  /* Definition of color scheme for fitted estimators */\n",
              "  --sklearn-color-fitted-level-0: #f0f8ff;\n",
              "  --sklearn-color-fitted-level-1: #d4ebff;\n",
              "  --sklearn-color-fitted-level-2: #b3dbfd;\n",
              "  --sklearn-color-fitted-level-3: cornflowerblue;\n",
              "\n",
              "  /* Specific color for light theme */\n",
              "  --sklearn-color-text-on-default-background: var(--sg-text-color, var(--theme-code-foreground, var(--jp-content-font-color1, black)));\n",
              "  --sklearn-color-background: var(--sg-background-color, var(--theme-background, var(--jp-layout-color0, white)));\n",
              "  --sklearn-color-border-box: var(--sg-text-color, var(--theme-code-foreground, var(--jp-content-font-color1, black)));\n",
              "  --sklearn-color-icon: #696969;\n",
              "\n",
              "  @media (prefers-color-scheme: dark) {\n",
              "    /* Redefinition of color scheme for dark theme */\n",
              "    --sklearn-color-text-on-default-background: var(--sg-text-color, var(--theme-code-foreground, var(--jp-content-font-color1, white)));\n",
              "    --sklearn-color-background: var(--sg-background-color, var(--theme-background, var(--jp-layout-color0, #111)));\n",
              "    --sklearn-color-border-box: var(--sg-text-color, var(--theme-code-foreground, var(--jp-content-font-color1, white)));\n",
              "    --sklearn-color-icon: #878787;\n",
              "  }\n",
              "}\n",
              "\n",
              "#sk-container-id-2 {\n",
              "  color: var(--sklearn-color-text);\n",
              "}\n",
              "\n",
              "#sk-container-id-2 pre {\n",
              "  padding: 0;\n",
              "}\n",
              "\n",
              "#sk-container-id-2 input.sk-hidden--visually {\n",
              "  border: 0;\n",
              "  clip: rect(1px 1px 1px 1px);\n",
              "  clip: rect(1px, 1px, 1px, 1px);\n",
              "  height: 1px;\n",
              "  margin: -1px;\n",
              "  overflow: hidden;\n",
              "  padding: 0;\n",
              "  position: absolute;\n",
              "  width: 1px;\n",
              "}\n",
              "\n",
              "#sk-container-id-2 div.sk-dashed-wrapped {\n",
              "  border: 1px dashed var(--sklearn-color-line);\n",
              "  margin: 0 0.4em 0.5em 0.4em;\n",
              "  box-sizing: border-box;\n",
              "  padding-bottom: 0.4em;\n",
              "  background-color: var(--sklearn-color-background);\n",
              "}\n",
              "\n",
              "#sk-container-id-2 div.sk-container {\n",
              "  /* jupyter's `normalize.less` sets `[hidden] { display: none; }`\n",
              "     but bootstrap.min.css set `[hidden] { display: none !important; }`\n",
              "     so we also need the `!important` here to be able to override the\n",
              "     default hidden behavior on the sphinx rendered scikit-learn.org.\n",
              "     See: https://github.com/scikit-learn/scikit-learn/issues/21755 */\n",
              "  display: inline-block !important;\n",
              "  position: relative;\n",
              "}\n",
              "\n",
              "#sk-container-id-2 div.sk-text-repr-fallback {\n",
              "  display: none;\n",
              "}\n",
              "\n",
              "div.sk-parallel-item,\n",
              "div.sk-serial,\n",
              "div.sk-item {\n",
              "  /* draw centered vertical line to link estimators */\n",
              "  background-image: linear-gradient(var(--sklearn-color-text-on-default-background), var(--sklearn-color-text-on-default-background));\n",
              "  background-size: 2px 100%;\n",
              "  background-repeat: no-repeat;\n",
              "  background-position: center center;\n",
              "}\n",
              "\n",
              "/* Parallel-specific style estimator block */\n",
              "\n",
              "#sk-container-id-2 div.sk-parallel-item::after {\n",
              "  content: \"\";\n",
              "  width: 100%;\n",
              "  border-bottom: 2px solid var(--sklearn-color-text-on-default-background);\n",
              "  flex-grow: 1;\n",
              "}\n",
              "\n",
              "#sk-container-id-2 div.sk-parallel {\n",
              "  display: flex;\n",
              "  align-items: stretch;\n",
              "  justify-content: center;\n",
              "  background-color: var(--sklearn-color-background);\n",
              "  position: relative;\n",
              "}\n",
              "\n",
              "#sk-container-id-2 div.sk-parallel-item {\n",
              "  display: flex;\n",
              "  flex-direction: column;\n",
              "}\n",
              "\n",
              "#sk-container-id-2 div.sk-parallel-item:first-child::after {\n",
              "  align-self: flex-end;\n",
              "  width: 50%;\n",
              "}\n",
              "\n",
              "#sk-container-id-2 div.sk-parallel-item:last-child::after {\n",
              "  align-self: flex-start;\n",
              "  width: 50%;\n",
              "}\n",
              "\n",
              "#sk-container-id-2 div.sk-parallel-item:only-child::after {\n",
              "  width: 0;\n",
              "}\n",
              "\n",
              "/* Serial-specific style estimator block */\n",
              "\n",
              "#sk-container-id-2 div.sk-serial {\n",
              "  display: flex;\n",
              "  flex-direction: column;\n",
              "  align-items: center;\n",
              "  background-color: var(--sklearn-color-background);\n",
              "  padding-right: 1em;\n",
              "  padding-left: 1em;\n",
              "}\n",
              "\n",
              "\n",
              "/* Toggleable style: style used for estimator/Pipeline/ColumnTransformer box that is\n",
              "clickable and can be expanded/collapsed.\n",
              "- Pipeline and ColumnTransformer use this feature and define the default style\n",
              "- Estimators will overwrite some part of the style using the `sk-estimator` class\n",
              "*/\n",
              "\n",
              "/* Pipeline and ColumnTransformer style (default) */\n",
              "\n",
              "#sk-container-id-2 div.sk-toggleable {\n",
              "  /* Default theme specific background. It is overwritten whether we have a\n",
              "  specific estimator or a Pipeline/ColumnTransformer */\n",
              "  background-color: var(--sklearn-color-background);\n",
              "}\n",
              "\n",
              "/* Toggleable label */\n",
              "#sk-container-id-2 label.sk-toggleable__label {\n",
              "  cursor: pointer;\n",
              "  display: block;\n",
              "  width: 100%;\n",
              "  margin-bottom: 0;\n",
              "  padding: 0.5em;\n",
              "  box-sizing: border-box;\n",
              "  text-align: center;\n",
              "}\n",
              "\n",
              "#sk-container-id-2 label.sk-toggleable__label-arrow:before {\n",
              "  /* Arrow on the left of the label */\n",
              "  content: \"▸\";\n",
              "  float: left;\n",
              "  margin-right: 0.25em;\n",
              "  color: var(--sklearn-color-icon);\n",
              "}\n",
              "\n",
              "#sk-container-id-2 label.sk-toggleable__label-arrow:hover:before {\n",
              "  color: var(--sklearn-color-text);\n",
              "}\n",
              "\n",
              "/* Toggleable content - dropdown */\n",
              "\n",
              "#sk-container-id-2 div.sk-toggleable__content {\n",
              "  max-height: 0;\n",
              "  max-width: 0;\n",
              "  overflow: hidden;\n",
              "  text-align: left;\n",
              "  /* unfitted */\n",
              "  background-color: var(--sklearn-color-unfitted-level-0);\n",
              "}\n",
              "\n",
              "#sk-container-id-2 div.sk-toggleable__content.fitted {\n",
              "  /* fitted */\n",
              "  background-color: var(--sklearn-color-fitted-level-0);\n",
              "}\n",
              "\n",
              "#sk-container-id-2 div.sk-toggleable__content pre {\n",
              "  margin: 0.2em;\n",
              "  border-radius: 0.25em;\n",
              "  color: var(--sklearn-color-text);\n",
              "  /* unfitted */\n",
              "  background-color: var(--sklearn-color-unfitted-level-0);\n",
              "}\n",
              "\n",
              "#sk-container-id-2 div.sk-toggleable__content.fitted pre {\n",
              "  /* unfitted */\n",
              "  background-color: var(--sklearn-color-fitted-level-0);\n",
              "}\n",
              "\n",
              "#sk-container-id-2 input.sk-toggleable__control:checked~div.sk-toggleable__content {\n",
              "  /* Expand drop-down */\n",
              "  max-height: 200px;\n",
              "  max-width: 100%;\n",
              "  overflow: auto;\n",
              "}\n",
              "\n",
              "#sk-container-id-2 input.sk-toggleable__control:checked~label.sk-toggleable__label-arrow:before {\n",
              "  content: \"▾\";\n",
              "}\n",
              "\n",
              "/* Pipeline/ColumnTransformer-specific style */\n",
              "\n",
              "#sk-container-id-2 div.sk-label input.sk-toggleable__control:checked~label.sk-toggleable__label {\n",
              "  color: var(--sklearn-color-text);\n",
              "  background-color: var(--sklearn-color-unfitted-level-2);\n",
              "}\n",
              "\n",
              "#sk-container-id-2 div.sk-label.fitted input.sk-toggleable__control:checked~label.sk-toggleable__label {\n",
              "  background-color: var(--sklearn-color-fitted-level-2);\n",
              "}\n",
              "\n",
              "/* Estimator-specific style */\n",
              "\n",
              "/* Colorize estimator box */\n",
              "#sk-container-id-2 div.sk-estimator input.sk-toggleable__control:checked~label.sk-toggleable__label {\n",
              "  /* unfitted */\n",
              "  background-color: var(--sklearn-color-unfitted-level-2);\n",
              "}\n",
              "\n",
              "#sk-container-id-2 div.sk-estimator.fitted input.sk-toggleable__control:checked~label.sk-toggleable__label {\n",
              "  /* fitted */\n",
              "  background-color: var(--sklearn-color-fitted-level-2);\n",
              "}\n",
              "\n",
              "#sk-container-id-2 div.sk-label label.sk-toggleable__label,\n",
              "#sk-container-id-2 div.sk-label label {\n",
              "  /* The background is the default theme color */\n",
              "  color: var(--sklearn-color-text-on-default-background);\n",
              "}\n",
              "\n",
              "/* On hover, darken the color of the background */\n",
              "#sk-container-id-2 div.sk-label:hover label.sk-toggleable__label {\n",
              "  color: var(--sklearn-color-text);\n",
              "  background-color: var(--sklearn-color-unfitted-level-2);\n",
              "}\n",
              "\n",
              "/* Label box, darken color on hover, fitted */\n",
              "#sk-container-id-2 div.sk-label.fitted:hover label.sk-toggleable__label.fitted {\n",
              "  color: var(--sklearn-color-text);\n",
              "  background-color: var(--sklearn-color-fitted-level-2);\n",
              "}\n",
              "\n",
              "/* Estimator label */\n",
              "\n",
              "#sk-container-id-2 div.sk-label label {\n",
              "  font-family: monospace;\n",
              "  font-weight: bold;\n",
              "  display: inline-block;\n",
              "  line-height: 1.2em;\n",
              "}\n",
              "\n",
              "#sk-container-id-2 div.sk-label-container {\n",
              "  text-align: center;\n",
              "}\n",
              "\n",
              "/* Estimator-specific */\n",
              "#sk-container-id-2 div.sk-estimator {\n",
              "  font-family: monospace;\n",
              "  border: 1px dotted var(--sklearn-color-border-box);\n",
              "  border-radius: 0.25em;\n",
              "  box-sizing: border-box;\n",
              "  margin-bottom: 0.5em;\n",
              "  /* unfitted */\n",
              "  background-color: var(--sklearn-color-unfitted-level-0);\n",
              "}\n",
              "\n",
              "#sk-container-id-2 div.sk-estimator.fitted {\n",
              "  /* fitted */\n",
              "  background-color: var(--sklearn-color-fitted-level-0);\n",
              "}\n",
              "\n",
              "/* on hover */\n",
              "#sk-container-id-2 div.sk-estimator:hover {\n",
              "  /* unfitted */\n",
              "  background-color: var(--sklearn-color-unfitted-level-2);\n",
              "}\n",
              "\n",
              "#sk-container-id-2 div.sk-estimator.fitted:hover {\n",
              "  /* fitted */\n",
              "  background-color: var(--sklearn-color-fitted-level-2);\n",
              "}\n",
              "\n",
              "/* Specification for estimator info (e.g. \"i\" and \"?\") */\n",
              "\n",
              "/* Common style for \"i\" and \"?\" */\n",
              "\n",
              ".sk-estimator-doc-link,\n",
              "a:link.sk-estimator-doc-link,\n",
              "a:visited.sk-estimator-doc-link {\n",
              "  float: right;\n",
              "  font-size: smaller;\n",
              "  line-height: 1em;\n",
              "  font-family: monospace;\n",
              "  background-color: var(--sklearn-color-background);\n",
              "  border-radius: 1em;\n",
              "  height: 1em;\n",
              "  width: 1em;\n",
              "  text-decoration: none !important;\n",
              "  margin-left: 1ex;\n",
              "  /* unfitted */\n",
              "  border: var(--sklearn-color-unfitted-level-1) 1pt solid;\n",
              "  color: var(--sklearn-color-unfitted-level-1);\n",
              "}\n",
              "\n",
              ".sk-estimator-doc-link.fitted,\n",
              "a:link.sk-estimator-doc-link.fitted,\n",
              "a:visited.sk-estimator-doc-link.fitted {\n",
              "  /* fitted */\n",
              "  border: var(--sklearn-color-fitted-level-1) 1pt solid;\n",
              "  color: var(--sklearn-color-fitted-level-1);\n",
              "}\n",
              "\n",
              "/* On hover */\n",
              "div.sk-estimator:hover .sk-estimator-doc-link:hover,\n",
              ".sk-estimator-doc-link:hover,\n",
              "div.sk-label-container:hover .sk-estimator-doc-link:hover,\n",
              ".sk-estimator-doc-link:hover {\n",
              "  /* unfitted */\n",
              "  background-color: var(--sklearn-color-unfitted-level-3);\n",
              "  color: var(--sklearn-color-background);\n",
              "  text-decoration: none;\n",
              "}\n",
              "\n",
              "div.sk-estimator.fitted:hover .sk-estimator-doc-link.fitted:hover,\n",
              ".sk-estimator-doc-link.fitted:hover,\n",
              "div.sk-label-container:hover .sk-estimator-doc-link.fitted:hover,\n",
              ".sk-estimator-doc-link.fitted:hover {\n",
              "  /* fitted */\n",
              "  background-color: var(--sklearn-color-fitted-level-3);\n",
              "  color: var(--sklearn-color-background);\n",
              "  text-decoration: none;\n",
              "}\n",
              "\n",
              "/* Span, style for the box shown on hovering the info icon */\n",
              ".sk-estimator-doc-link span {\n",
              "  display: none;\n",
              "  z-index: 9999;\n",
              "  position: relative;\n",
              "  font-weight: normal;\n",
              "  right: .2ex;\n",
              "  padding: .5ex;\n",
              "  margin: .5ex;\n",
              "  width: min-content;\n",
              "  min-width: 20ex;\n",
              "  max-width: 50ex;\n",
              "  color: var(--sklearn-color-text);\n",
              "  box-shadow: 2pt 2pt 4pt #999;\n",
              "  /* unfitted */\n",
              "  background: var(--sklearn-color-unfitted-level-0);\n",
              "  border: .5pt solid var(--sklearn-color-unfitted-level-3);\n",
              "}\n",
              "\n",
              ".sk-estimator-doc-link.fitted span {\n",
              "  /* fitted */\n",
              "  background: var(--sklearn-color-fitted-level-0);\n",
              "  border: var(--sklearn-color-fitted-level-3);\n",
              "}\n",
              "\n",
              ".sk-estimator-doc-link:hover span {\n",
              "  display: block;\n",
              "}\n",
              "\n",
              "/* \"?\"-specific style due to the `<a>` HTML tag */\n",
              "\n",
              "#sk-container-id-2 a.estimator_doc_link {\n",
              "  float: right;\n",
              "  font-size: 1rem;\n",
              "  line-height: 1em;\n",
              "  font-family: monospace;\n",
              "  background-color: var(--sklearn-color-background);\n",
              "  border-radius: 1rem;\n",
              "  height: 1rem;\n",
              "  width: 1rem;\n",
              "  text-decoration: none;\n",
              "  /* unfitted */\n",
              "  color: var(--sklearn-color-unfitted-level-1);\n",
              "  border: var(--sklearn-color-unfitted-level-1) 1pt solid;\n",
              "}\n",
              "\n",
              "#sk-container-id-2 a.estimator_doc_link.fitted {\n",
              "  /* fitted */\n",
              "  border: var(--sklearn-color-fitted-level-1) 1pt solid;\n",
              "  color: var(--sklearn-color-fitted-level-1);\n",
              "}\n",
              "\n",
              "/* On hover */\n",
              "#sk-container-id-2 a.estimator_doc_link:hover {\n",
              "  /* unfitted */\n",
              "  background-color: var(--sklearn-color-unfitted-level-3);\n",
              "  color: var(--sklearn-color-background);\n",
              "  text-decoration: none;\n",
              "}\n",
              "\n",
              "#sk-container-id-2 a.estimator_doc_link.fitted:hover {\n",
              "  /* fitted */\n",
              "  background-color: var(--sklearn-color-fitted-level-3);\n",
              "}\n",
              "</style><div id=\"sk-container-id-2\" class=\"sk-top-container\"><div class=\"sk-text-repr-fallback\"><pre>RandomForestClassifier(random_state=42)</pre><b>In a Jupyter environment, please rerun this cell to show the HTML representation or trust the notebook. <br />On GitHub, the HTML representation is unable to render, please try loading this page with nbviewer.org.</b></div><div class=\"sk-container\" hidden><div class=\"sk-item\"><div class=\"sk-estimator fitted sk-toggleable\"><input class=\"sk-toggleable__control sk-hidden--visually\" id=\"sk-estimator-id-2\" type=\"checkbox\" checked><label for=\"sk-estimator-id-2\" class=\"sk-toggleable__label fitted sk-toggleable__label-arrow fitted\">&nbsp;&nbsp;RandomForestClassifier<a class=\"sk-estimator-doc-link fitted\" rel=\"noreferrer\" target=\"_blank\" href=\"https://scikit-learn.org/1.5/modules/generated/sklearn.ensemble.RandomForestClassifier.html\">?<span>Documentation for RandomForestClassifier</span></a><span class=\"sk-estimator-doc-link fitted\">i<span>Fitted</span></span></label><div class=\"sk-toggleable__content fitted\"><pre>RandomForestClassifier(random_state=42)</pre></div> </div></div></div></div>"
            ]
          },
          "metadata": {},
          "execution_count": 52
        }
      ]
    },
    {
      "cell_type": "code",
      "source": [
        "# Прогнозирование на тестовой выборке\n",
        "y_pred = clf.predict(X_test_tfidf)\n",
        "\n",
        "# Вывод отчета о классификации\n",
        "report = classification_report(y_test, y_pred)\n",
        "print(report)"
      ],
      "metadata": {
        "colab": {
          "base_uri": "https://localhost:8080/"
        },
        "id": "P3YJcsZYgCte",
        "outputId": "cd65ef5a-0ae1-4d7c-e5f7-e98c92d54cea"
      },
      "execution_count": null,
      "outputs": [
        {
          "output_type": "stream",
          "name": "stderr",
          "text": [
            "/usr/local/lib/python3.10/dist-packages/sklearn/metrics/_classification.py:1531: UndefinedMetricWarning: Precision is ill-defined and being set to 0.0 in labels with no predicted samples. Use `zero_division` parameter to control this behavior.\n",
            "  _warn_prf(average, modifier, f\"{metric.capitalize()} is\", len(result))\n"
          ]
        },
        {
          "output_type": "stream",
          "name": "stdout",
          "text": [
            "                       precision    recall  f1-score   support\n",
            "\n",
            "                 Авто       0.00      0.00      0.00        33\n",
            "                Армия       0.94      0.39      0.56       406\n",
            "         Выборы в США       0.00      0.00      0.00        33\n",
            "          Выборы-2016       0.00      0.00      0.00        27\n",
            "    Гаджеты & Телеком       1.00      0.05      0.09       166\n",
            "          День Победы       0.00      0.00      0.00        17\n",
            "       День в истории       0.00      0.00      0.00        41\n",
            "Известия: подробности       0.00      0.00      0.00         5\n",
            "             Культура       0.88      0.76      0.81       804\n",
            "                  Мир       0.68      0.91      0.78      4527\n",
            "               Москва       0.00      0.00      0.00        49\n",
            "                Наука       0.85      0.28      0.43       250\n",
            "             Общество       0.67      0.78      0.72      3631\n",
            "                 ПМЭФ       1.00      0.11      0.20        18\n",
            "             Политика       0.66      0.42      0.51      2169\n",
            "             РИО-2016       0.93      0.41      0.57       138\n",
            "     Россия - регионы       0.00      0.00      0.00        10\n",
            "                Спорт       0.86      0.98      0.92      1451\n",
            "               Страна       0.94      0.73      0.82      1560\n",
            "              ЧЕ 2016       0.00      0.00      0.00        16\n",
            "            Экономика       0.78      0.70      0.74      1570\n",
            "\n",
            "             accuracy                           0.73     16921\n",
            "            macro avg       0.48      0.31      0.34     16921\n",
            "         weighted avg       0.74      0.73      0.72     16921\n",
            "\n"
          ]
        },
        {
          "output_type": "stream",
          "name": "stderr",
          "text": [
            "/usr/local/lib/python3.10/dist-packages/sklearn/metrics/_classification.py:1531: UndefinedMetricWarning: Precision is ill-defined and being set to 0.0 in labels with no predicted samples. Use `zero_division` parameter to control this behavior.\n",
            "  _warn_prf(average, modifier, f\"{metric.capitalize()} is\", len(result))\n",
            "/usr/local/lib/python3.10/dist-packages/sklearn/metrics/_classification.py:1531: UndefinedMetricWarning: Precision is ill-defined and being set to 0.0 in labels with no predicted samples. Use `zero_division` parameter to control this behavior.\n",
            "  _warn_prf(average, modifier, f\"{metric.capitalize()} is\", len(result))\n"
          ]
        }
      ]
    },
    {
      "cell_type": "markdown",
      "source": [
        "## **BERT.**"
      ],
      "metadata": {
        "id": "XakoFA3T-r9C"
      }
    },
    {
      "cell_type": "markdown",
      "metadata": {
        "id": "Dd0GSAQGMF8z"
      },
      "source": [
        "Используем трансформер RuBERT-tiny2"
      ]
    },
    {
      "cell_type": "markdown",
      "metadata": {
        "id": "nfjFKZnq1FSQ"
      },
      "source": [
        "Плюсы данного метода:\n",
        " - Учитывает контекст и зависимости между словами при предсказывании, что позволяет ему понять семантическую связь между словами в предложении.\n",
        " - Может быть дообучен на различных задачах классификации, и его представления могут быть использованы для различных языков и типов данных.\n",
        " - Показывает высокую производительность во многих классификационных задачах, особенно на больших и сложных датасетах. Его способность учитывать контекст и семантику позволяет ему лучше идентифицировать семантическую связь между словами и принимать более точные решения о классификации.\n",
        "\n",
        "Минусы:\n",
        " - Модель, несмотря на свою «облегченную» версию, все равно требует больше ресурсов для обучения и инференса по сравнению с классическими моделями.\n",
        " - Для достижения высокой производительности модели необходимо достаточное количество тренировочных данных.\n",
        " - Необходимо правильно подбирать гиперпараметры (например, learning rate, количество эпох) для получения оптимальных результатов."
      ]
    },
    {
      "cell_type": "code",
      "execution_count": null,
      "metadata": {
        "id": "-KW-2DgwHR-p"
      },
      "outputs": [],
      "source": [
        "! pip install -U transformers"
      ]
    },
    {
      "cell_type": "code",
      "execution_count": null,
      "metadata": {
        "id": "7uFaubC3HUuQ"
      },
      "outputs": [],
      "source": [
        "import torch\n",
        "import pandas as pd\n",
        "import numpy as np\n",
        "from sklearn.model_selection import train_test_split\n",
        "from sklearn.metrics import classification_report\n",
        "from transformers import AutoTokenizer, AutoModelForSequenceClassification"
      ]
    },
    {
      "cell_type": "code",
      "execution_count": null,
      "metadata": {
        "colab": {
          "base_uri": "https://localhost:8080/",
          "height": 264,
          "referenced_widgets": [
            "0eabdc74aeff4d689e9f0a008d4ae775",
            "46f4211a71c0441abe9238353aad7c99",
            "3d28e5b22dff42e1881a33d18066c0b7",
            "c99ffdbfa24c48dc9a48b7acbdad9f69",
            "d76489d59c024a89a6dad28fa8d2fe62",
            "3676cd8b429540adb33be082026bca94",
            "4a62929706ae4f138835bf02d0a7e145",
            "bf4b7e726bf042288ad32e17c09c3106",
            "df77007844724cd99885dc69e5413ed0",
            "7726425672bd477eb63723bdbfaacbd1",
            "8214089a59f5433fab8f5c852c86d52e",
            "6d641cc556754423bd50c150993b255d",
            "84e371c5b53945afb7d5f78a92e73cf9",
            "42249e68698d423aa9cb315b30afa7dd",
            "3f81afdc12ce41b780be20210f1eed4c",
            "78cf36a9b150488e941f806672447a60",
            "6f7a1e995bb44077a5d0c52d1df7a3b8",
            "81585427da0a4c36ae25767da9124c48",
            "d1b69ea57023499999392e088f7e16d7",
            "eb2b7aad97d14edb99dcaeabf8a6788a",
            "7dd4fcb1c43f4894b5d249ac4ec7921b",
            "4f3cb48d58ed4b8ab11ab6df26d1f2e7",
            "bd22b89ea82f4422b4224fb746cb5de8",
            "34882c16cfe64ebba6f305a1cc2a4599",
            "8077de3f4e814121b1e865210ab610c7",
            "c366240302ff4dedbb85630f5d0b4354",
            "0350006fe34e40a580d6c747f34382a7",
            "06663698ebcf4b0b8bb266388b7cd97d",
            "107d9f4abca2409fa6f2e1d413f6066c",
            "02395de198cd4dc4b7212f473e62d2b3",
            "818bf8939e434905aea9b38c671db787",
            "daf2d72c09624ea696e5dc2d2ad590df",
            "e68fc1d540a646509f89742d2402ccbc",
            "956cb3bbd5044c5787f22c884a99964e",
            "ea0d034fe7ef43d68ba72d15eb22d05b",
            "d06cb0f6a52c47f49a5c358af176c128",
            "c0bba739b7ec4984b5afa17200c6147d",
            "f646e90d2b0c4919a7c453c3429befdf",
            "ee6f9d7a25e64e9384f224ecc436b817",
            "14ad56cb1abc4a83af0a7c2ec1a3e5b9",
            "49a09d79c686438d90b344eb9fc5ef56",
            "f16a6334b5aa4e64a9b9b04afa48e800",
            "fe17988a55d54aec91abd25babb89133",
            "23846c6b3952435083e863a2626d8b77",
            "9293248c368447b78377e31f64a4dd6a",
            "0c6b37cef13c44cc933151c144a1036c",
            "9d6ec10d36694f798cc10433ac62c5aa",
            "722ec07af1514fbeb764e11b891198c8",
            "72d1987da2bd4c3382dc65d153fc23ac",
            "d6d75c93b846478b9ce68c8c9a7252d3",
            "e842f195d9544500b5aff204bd3c8a0d",
            "4391055f83f5439fa649389dd39bbf8a",
            "64ccae2a9eb847cea838a65a22f12f74",
            "e402518de4284fc480e701af6bdabe9f",
            "c089043d7aa24418b440ad9ba618717e",
            "3b62b68576ad405a91a909818d1ab33c",
            "a70c1aac90b24da3873f778d6daf2217",
            "b219eec8a5b34551b54c432dc7c38c2b",
            "8a12abd236494341ad8a839a2c6dce16",
            "8f2efe0ba3d0432bb65e5843668085a7",
            "586fa08dd06046e29300564b49b186aa",
            "e18ed27132254383b1a8432c87fc8efd",
            "ac59983a202c4d5392cd7b3c3162881d",
            "1bc87feac41743898e2a56211acfcf1f",
            "bf39e26ce2ec4c7aa7db6f0894fcd860",
            "aa9c88bb78ed411a8a46fc6d297fa378"
          ]
        },
        "id": "SyrGEO7rHXtj",
        "outputId": "f67b7f80-a16a-464a-c832-40786f620e1a"
      },
      "outputs": [
        {
          "output_type": "display_data",
          "data": {
            "text/plain": [
              "Downloading (…)okenizer_config.json:   0%|          | 0.00/401 [00:00<?, ?B/s]"
            ],
            "application/vnd.jupyter.widget-view+json": {
              "version_major": 2,
              "version_minor": 0,
              "model_id": "0eabdc74aeff4d689e9f0a008d4ae775"
            }
          },
          "metadata": {}
        },
        {
          "output_type": "display_data",
          "data": {
            "text/plain": [
              "Downloading (…)solve/main/vocab.txt:   0%|          | 0.00/1.08M [00:00<?, ?B/s]"
            ],
            "application/vnd.jupyter.widget-view+json": {
              "version_major": 2,
              "version_minor": 0,
              "model_id": "6d641cc556754423bd50c150993b255d"
            }
          },
          "metadata": {}
        },
        {
          "output_type": "display_data",
          "data": {
            "text/plain": [
              "Downloading (…)/main/tokenizer.json:   0%|          | 0.00/1.74M [00:00<?, ?B/s]"
            ],
            "application/vnd.jupyter.widget-view+json": {
              "version_major": 2,
              "version_minor": 0,
              "model_id": "bd22b89ea82f4422b4224fb746cb5de8"
            }
          },
          "metadata": {}
        },
        {
          "output_type": "display_data",
          "data": {
            "text/plain": [
              "Downloading (…)cial_tokens_map.json:   0%|          | 0.00/112 [00:00<?, ?B/s]"
            ],
            "application/vnd.jupyter.widget-view+json": {
              "version_major": 2,
              "version_minor": 0,
              "model_id": "956cb3bbd5044c5787f22c884a99964e"
            }
          },
          "metadata": {}
        },
        {
          "output_type": "display_data",
          "data": {
            "text/plain": [
              "Downloading (…)lve/main/config.json:   0%|          | 0.00/715 [00:00<?, ?B/s]"
            ],
            "application/vnd.jupyter.widget-view+json": {
              "version_major": 2,
              "version_minor": 0,
              "model_id": "9293248c368447b78377e31f64a4dd6a"
            }
          },
          "metadata": {}
        },
        {
          "output_type": "display_data",
          "data": {
            "text/plain": [
              "Downloading model.safetensors:   0%|          | 0.00/118M [00:00<?, ?B/s]"
            ],
            "application/vnd.jupyter.widget-view+json": {
              "version_major": 2,
              "version_minor": 0,
              "model_id": "3b62b68576ad405a91a909818d1ab33c"
            }
          },
          "metadata": {}
        },
        {
          "output_type": "stream",
          "name": "stderr",
          "text": [
            "Some weights of BertForSequenceClassification were not initialized from the model checkpoint at cointegrated/rubert-tiny2 and are newly initialized: ['classifier.bias', 'classifier.weight']\n",
            "You should probably TRAIN this model on a down-stream task to be able to use it for predictions and inference.\n"
          ]
        }
      ],
      "source": [
        "model_name = \"cointegrated/rubert-tiny2\"\n",
        "tokenizer = AutoTokenizer.from_pretrained(model_name)\n",
        "model = AutoModelForSequenceClassification.from_pretrained(model_name, num_labels=37)\n",
        "device = torch.device(\"cuda\" if torch.cuda.is_available() else \"cpu\")"
      ]
    },
    {
      "cell_type": "code",
      "execution_count": null,
      "metadata": {
        "id": "wLO8zU6MHl3Z"
      },
      "outputs": [],
      "source": [
        "X = df['body'].values\n",
        "y = df['topic'].values\n",
        "labels = np.unique(y)"
      ]
    },
    {
      "cell_type": "code",
      "execution_count": null,
      "metadata": {
        "id": "dejt3dWJHpp-"
      },
      "outputs": [],
      "source": [
        "encoded_inputs_train = tokenizer(X_train.tolist(), truncation=True, padding=True, max_length=96)\n",
        "encoded_inputs_test = tokenizer(X_test.tolist(), truncation=True, padding=True, max_length=96)"
      ]
    },
    {
      "cell_type": "code",
      "execution_count": null,
      "metadata": {
        "id": "JpLdpm17HsLg"
      },
      "outputs": [],
      "source": [
        "input_ids_train = torch.tensor(encoded_inputs_train['input_ids'])\n",
        "attention_mask_train = torch.tensor(encoded_inputs_train['attention_mask'])\n",
        "input_ids_test = torch.tensor(encoded_inputs_test['input_ids'])\n",
        "attention_mask_test = torch.tensor(encoded_inputs_test['attention_mask'])\n",
        "labels_train = torch.tensor([labels.tolist().index(label) for label in y_train])\n",
        "labels_test = torch.tensor([labels.tolist().index(label) for label in y_test])"
      ]
    },
    {
      "cell_type": "code",
      "execution_count": null,
      "metadata": {
        "id": "a-K4aCKEHu5i"
      },
      "outputs": [],
      "source": [
        "# Создание датасетов\n",
        "train_dataset = torch.utils.data.TensorDataset(input_ids_train, attention_mask_train, labels_train)\n",
        "test_dataset = torch.utils.data.TensorDataset(input_ids_test, attention_mask_test, labels_test)\n",
        "\n",
        "# Создание загрузчиков данных\n",
        "train_loader = torch.utils.data.DataLoader(train_dataset, batch_size=8, shuffle=True)\n",
        "test_loader = torch.utils.data.DataLoader(test_dataset, batch_size=8, shuffle=False)"
      ]
    },
    {
      "cell_type": "code",
      "execution_count": null,
      "metadata": {
        "colab": {
          "base_uri": "https://localhost:8080/"
        },
        "outputId": "6a5a26e4-bd48-43c6-f8e6-ed72550c2bb7",
        "id": "ZxqIcSjEFd7F"
      },
      "outputs": [
        {
          "output_type": "stream",
          "name": "stdout",
          "text": [
            "Epoch 1 loss: 1.1439306537622234\n",
            "Epoch 2 loss: 0.6826569672939602\n",
            "Epoch 3 loss: 0.5722419952202401\n",
            "Epoch 4 loss: 0.4886608528829145\n",
            "Epoch 5 loss: 0.40895556464694693\n"
          ]
        }
      ],
      "source": [
        "model.to(device)\n",
        "optimizer = torch.optim.AdamW(model.parameters(), lr=2e-5)\n",
        "num_epochs = 5\n",
        "\n",
        "for epoch in range(num_epochs):\n",
        "    model.train()\n",
        "    total_loss = 0\n",
        "    for batch in train_loader:\n",
        "        batch = tuple(t.to(device) for t in batch)\n",
        "        input_ids, attention_mask, labels = batch\n",
        "\n",
        "        optimizer.zero_grad()\n",
        "        outputs = model(input_ids, attention_mask=attention_mask, labels=labels)\n",
        "        loss = outputs.loss\n",
        "        total_loss += loss.item()\n",
        "\n",
        "        loss.backward()\n",
        "        optimizer.step()\n",
        "    print(f\"Epoch {epoch+1} loss: {total_loss/len(train_loader)}\")"
      ]
    },
    {
      "cell_type": "code",
      "execution_count": null,
      "metadata": {
        "id": "j66AOyMrH25l"
      },
      "outputs": [],
      "source": [
        "model.eval()\n",
        "predictions = []\n",
        "all_labels = []\n",
        "\n",
        "with torch.no_grad():\n",
        "    for batch in test_loader:\n",
        "        batch = tuple(t.to(device) for t in batch)\n",
        "        input_ids, attention_mask, labels = batch\n",
        "\n",
        "        outputs = model(input_ids, attention_mask=attention_mask)\n",
        "        logits = outputs.logits\n",
        "        predictions.extend(torch.argmax(logits, dim=1).tolist())\n",
        "        all_labels.extend(labels.tolist())"
      ]
    },
    {
      "cell_type": "code",
      "execution_count": null,
      "metadata": {
        "colab": {
          "base_uri": "https://localhost:8080/"
        },
        "outputId": "71016de9-6b6f-44a3-fba5-9ecfbb76d134",
        "id": "nnrARlZFFVLu"
      },
      "outputs": [
        {
          "output_type": "stream",
          "name": "stdout",
          "text": [
            "                       precision    recall  f1-score   support\n",
            "\n",
            "                 Авто       0.50      0.55      0.52        33\n",
            "                Армия       0.59      0.76      0.66       406\n",
            "         Выборы в США       0.50      0.03      0.06        33\n",
            "          Выборы-2016       0.75      0.22      0.34        27\n",
            "    Гаджеты & Телеком       0.54      0.71      0.61       166\n",
            "          День Победы       0.40      0.35      0.38        17\n",
            "       День в истории       1.00      0.05      0.09        41\n",
            "Известия: подробности       0.00      0.00      0.00         5\n",
            "             Культура       0.76      0.91      0.83       804\n",
            "                  Мир       0.81      0.83      0.82      4527\n",
            "               Москва       0.00      0.00      0.00        49\n",
            "                Наука       0.61      0.73      0.66       250\n",
            "             Общество       0.76      0.72      0.74      3631\n",
            "                 ПМЭФ       0.00      0.00      0.00        18\n",
            "             Политика       0.71      0.47      0.57      2169\n",
            "             РИО-2016       0.70      0.59      0.64       138\n",
            "     Россия - регионы       0.00      0.00      0.00        10\n",
            "                Спорт       0.87      0.96      0.91      1451\n",
            "               Страна       0.81      0.93      0.87      1560\n",
            "              ЧЕ 2016       0.00      0.00      0.00        16\n",
            "            Экономика       0.72      0.85      0.78      1570\n",
            "\n",
            "             accuracy                           0.77     16921\n",
            "            macro avg       0.53      0.46      0.45     16921\n",
            "         weighted avg       0.76      0.77      0.76     16921\n",
            "\n"
          ]
        },
        {
          "output_type": "stream",
          "name": "stderr",
          "text": [
            "/usr/local/lib/python3.10/dist-packages/sklearn/metrics/_classification.py:1531: UndefinedMetricWarning: Precision is ill-defined and being set to 0.0 in labels with no predicted samples. Use `zero_division` parameter to control this behavior.\n",
            "  _warn_prf(average, modifier, f\"{metric.capitalize()} is\", len(result))\n",
            "/usr/local/lib/python3.10/dist-packages/sklearn/metrics/_classification.py:1531: UndefinedMetricWarning: Precision is ill-defined and being set to 0.0 in labels with no predicted samples. Use `zero_division` parameter to control this behavior.\n",
            "  _warn_prf(average, modifier, f\"{metric.capitalize()} is\", len(result))\n",
            "/usr/local/lib/python3.10/dist-packages/sklearn/metrics/_classification.py:1531: UndefinedMetricWarning: Precision is ill-defined and being set to 0.0 in labels with no predicted samples. Use `zero_division` parameter to control this behavior.\n",
            "  _warn_prf(average, modifier, f\"{metric.capitalize()} is\", len(result))\n"
          ]
        }
      ],
      "source": [
        "target_names = np.unique(y_test)\n",
        "print(classification_report(all_labels, predictions, target_names=target_names))"
      ]
    },
    {
      "cell_type": "markdown",
      "source": [
        "## **CNN**"
      ],
      "metadata": {
        "id": "B1AKWBjFTFPS"
      }
    },
    {
      "cell_type": "markdown",
      "source": [
        "**Плюсы:**\n",
        "- CNN хорошо захватывают локальные паттерны в тексте (например, соседние слова), что полезно для сложных текстовых структур.\n",
        "- RuBERT-tiny2 предоставляет качественные контекстуальные эмбеддинги для русского языка.\n",
        "- Хорошо справляется с задачами, где контекст и последовательность слов важны.\n",
        "\n",
        "**Минусы:**\n",
        "- Требует большего объема данных для эффективного обучения по сравнению с классическими алгоритмами.\n",
        "- Более сложен в настройке и требует больше вычислительных ресурсов.\n",
        "- Модель может быть сложной для интерпретации."
      ],
      "metadata": {
        "id": "21qRUmZZ6NKj"
      }
    },
    {
      "cell_type": "code",
      "source": [
        "import pandas as pd\n",
        "import numpy as np\n",
        "from sklearn.model_selection import train_test_split\n",
        "from sklearn.preprocessing import LabelEncoder\n",
        "from transformers import AutoTokenizer, AutoModel\n",
        "import torch\n",
        "import torch.nn as nn\n",
        "import torch.optim as optim\n",
        "from torch.utils.data import DataLoader, Dataset\n",
        "from tqdm import tqdm"
      ],
      "metadata": {
        "id": "_4NPYgL2Jw_G"
      },
      "execution_count": null,
      "outputs": []
    },
    {
      "cell_type": "code",
      "source": [
        "X = df['body']\n",
        "y = df['topic']\n",
        "\n",
        "# Кодируем метки\n",
        "label_encoder = LabelEncoder()\n",
        "y_encoded = label_encoder.fit_transform(y)\n",
        "\n",
        "# Разделение данных на обучающую и тестовую выборки\n",
        "X_train, X_test, y_train, y_test = train_test_split(X, y_encoded, test_size=0.3, random_state=42)"
      ],
      "metadata": {
        "id": "DgQuoqjLJ9Q_"
      },
      "execution_count": null,
      "outputs": []
    },
    {
      "cell_type": "code",
      "source": [
        "# После разбиения на обучающую и тестовую выборки сбросим индексы\n",
        "X_train = pd.DataFrame(X_train).reset_index(drop=True)\n",
        "X_test = pd.DataFrame(X_test).reset_index(drop=True)\n",
        "y_train = pd.Series(y_train).reset_index(drop=True)\n",
        "y_test = pd.Series(y_test).reset_index(drop=True)"
      ],
      "metadata": {
        "id": "ryIFXn_nMdOL"
      },
      "execution_count": null,
      "outputs": []
    },
    {
      "cell_type": "code",
      "source": [
        "print(X_train.iloc[0]['body'])\n",
        "print(y_train.loc[0])"
      ],
      "metadata": {
        "colab": {
          "base_uri": "https://localhost:8080/"
        },
        "id": "vtAna-CzMruk",
        "outputId": "618f6e67-2618-4663-feb4-9f780f39413f"
      },
      "execution_count": null,
      "outputs": [
        {
          "output_type": "stream",
          "name": "stdout",
          "text": [
            "владимир путин отмечать важность контроль сторона предприниматель качество исполнение принимать нормативный акт фото пресс-служба президент россия президент владимир путин проводить заседание наблюдательный совет агентство стратегический инициатива ход обсуждаться проект организация способствовать развитие экономика россия поддержка предприниматель формирование профессиональный кадры повышение престиж рабочий профессия линия ася реализовываться проект предлагать ряд интересный идея системный проект смочь объединять вокруг деловой круг эксперт представитель гражданский общество орган власть поработать достаточно эффективно новый институт развитие налаживать нормальный отношение должный отмечать широкий сотрудничество помогать добиваться практический результат интерес весь экономика страна ваш активный участие целое выполнять дорожный карта национальный предпринимательский инициатива серьезно изменяться законодательный нормативный база объективный механизм оценка правоприменение место субъект российский федерация поддержка бизнес становиться национальный рейтинг инвестиционный климат важно организовывать контроль сторона предприниматель качество исполнение принимать нормативный акт прежде уровень регион муниципалитет убежденный результат проверка должный открытый общество гражданин безусловно помогать улучшать деловой климат дальнейший становиться действенный антикоррупционный механизм сказать глава государство владимир путин называть важный условие развитие россия улучшение возможность ведение бизнес расширение свобода предпринимательство слово президент федеральный уровень многий барьер снимать оставаться распространять практика регион президент поручать ася оказывать содействие формирование регион современный управленческий команда быть понимать запрос бизнес-сообщество вместе они менять экономика область республика путин попросить развивать центр обмен практик госуправление формирование инвестиционный климат действовать база российский академия народный хозяйство государственный служба слово генеральный директор ася андрей никитин центр проходить около тысяча человек десять каждый субъект россия один мера улучшение инвестиционный климат место система онлайн-контроль работа чиновник запускать электронный система онлайн-образование контроль изменение инвестклимат дорожный карта регион собираться сокращать административный барьер быть загружать система наблюдать иной регион снимать административный барьер рассказывать андрей никитин планироваться система начинать работать май первый этап образовательный чиновник бизнесмен смочь обмениваться идея опыт выезд столица друг друг регион портал предполагать выставление оценка отвечать инвестиционный проект чиновник оценивать реализация обещание инициатива улучшение ведение бизнес быть сам местный предприниматель система помогать профильный руководитель оценивать реальный эффективность применять практика закон ася социальный проект организация планировать помогать несовершеннолетний оказываться следствие получать дистанционный образование пока запрещать\n",
            "14\n"
          ]
        }
      ]
    },
    {
      "cell_type": "code",
      "source": [
        "# Инициализация токенизатора и модели\n",
        "tokenizer = AutoTokenizer.from_pretrained(\"cointegrated/rubert-tiny2\")\n",
        "model_name = \"cointegrated/rubert-tiny2\""
      ],
      "metadata": {
        "colab": {
          "base_uri": "https://localhost:8080/",
          "height": 304,
          "referenced_widgets": [
            "99fe0237a40d47aeb02c94005d10d3eb",
            "48778d4c9c48405db3155ef5424d0b34",
            "3ebf038e77864b6bb7c34d4724612d45",
            "a6409e93520c401eab0335da2f023ef0",
            "cc016d3f6a66443488b7cc40618a06bb",
            "1590d9ea31034b4f9c59774cec350668",
            "3e2e247080d94ab0996aaab649dfd934",
            "98c2730e1cea41f989e577b0c5f41f8e",
            "766d3097a455449cb36bd0a660c840ae",
            "89b0c1e1f56d419ea954ca826700db5c",
            "2210bf4b4abb4d8ea8cd6082ccc708b9",
            "f99f9917b0fd4003b9f64614224944cf",
            "4d4b851aa4074146b045472782c10bc0",
            "d4e3f1bcb24b4756bb0fc45797b5574a",
            "dc5919c16dfb485ca837726bfe285634",
            "bef42819c3004e30b538c2f85fb41d98",
            "572f3f018b6045c3a338a0cd879af6c4",
            "8423328c63cf43d18e86f41f06f7b2d3",
            "0001cbd0b02e4abc8bde1a7b0697b036",
            "59249972ecb04ebc8dfed14f499f99f5",
            "38b7c2b8b8bf4ad483dd43f7ef6978da",
            "e7e994fe88e44c06805a7854eafb2df0",
            "92d19e55d7e14b06a434fc7ce0244a6d",
            "d11a819842494226ac7cf85cd986c613",
            "ca6b38e08ef24aefa3d5a3e325fe54b0",
            "a72d1aa04e9841debe8bee71df1211a2",
            "daea1e644f79476dade1704af06f97b0",
            "338eeee5bb414528bb2bd1be620123b8",
            "1728fbad08b14046ab5bfaf186389c74",
            "451a2b4bf2c64562ac4fa270b96ba786",
            "9408611a1b6743859cfde1436b6aa757",
            "7bee9999d65c427b94ff67f15b71c6e9",
            "bf3b6b6f77844eca873d5c92f47ba2dd",
            "5248349d13a145658582e79ce89ec924",
            "2e10d07ed1dd47e29a904cfe65e68343",
            "ef6d13547ecd459794fea3049d119725",
            "8446aaf805734648a58be734f221f51c",
            "6e4e91aa38e14e92bc3e10a94f54b8be",
            "f7e2b6dfee324603b15076608a991ced",
            "8b6fff15a41643f0b5886e0a7cd4cfcc",
            "5f15a78ab54a4b078aa0555015ed0d68",
            "34ddc30c55b44ba4a3e5313f188a155d",
            "e2e0cb58dd5746a3b565c2b54ace32ab",
            "5a6cee92db9a4856a6bba23ad310abc6"
          ]
        },
        "id": "-1l7RUzlKVt0",
        "outputId": "9764a44d-a0e4-4ecb-95ac-346aacfbce65"
      },
      "execution_count": null,
      "outputs": [
        {
          "output_type": "stream",
          "name": "stderr",
          "text": [
            "/usr/local/lib/python3.10/dist-packages/huggingface_hub/utils/_token.py:89: UserWarning: \n",
            "The secret `HF_TOKEN` does not exist in your Colab secrets.\n",
            "To authenticate with the Hugging Face Hub, create a token in your settings tab (https://huggingface.co/settings/tokens), set it as secret in your Google Colab and restart your session.\n",
            "You will be able to reuse this secret in all of your notebooks.\n",
            "Please note that authentication is recommended but still optional to access public models or datasets.\n",
            "  warnings.warn(\n"
          ]
        },
        {
          "output_type": "display_data",
          "data": {
            "text/plain": [
              "tokenizer_config.json:   0%|          | 0.00/401 [00:00<?, ?B/s]"
            ],
            "application/vnd.jupyter.widget-view+json": {
              "version_major": 2,
              "version_minor": 0,
              "model_id": "99fe0237a40d47aeb02c94005d10d3eb"
            }
          },
          "metadata": {}
        },
        {
          "output_type": "display_data",
          "data": {
            "text/plain": [
              "vocab.txt:   0%|          | 0.00/1.08M [00:00<?, ?B/s]"
            ],
            "application/vnd.jupyter.widget-view+json": {
              "version_major": 2,
              "version_minor": 0,
              "model_id": "f99f9917b0fd4003b9f64614224944cf"
            }
          },
          "metadata": {}
        },
        {
          "output_type": "display_data",
          "data": {
            "text/plain": [
              "tokenizer.json:   0%|          | 0.00/1.74M [00:00<?, ?B/s]"
            ],
            "application/vnd.jupyter.widget-view+json": {
              "version_major": 2,
              "version_minor": 0,
              "model_id": "92d19e55d7e14b06a434fc7ce0244a6d"
            }
          },
          "metadata": {}
        },
        {
          "output_type": "display_data",
          "data": {
            "text/plain": [
              "special_tokens_map.json:   0%|          | 0.00/112 [00:00<?, ?B/s]"
            ],
            "application/vnd.jupyter.widget-view+json": {
              "version_major": 2,
              "version_minor": 0,
              "model_id": "5248349d13a145658582e79ce89ec924"
            }
          },
          "metadata": {}
        },
        {
          "output_type": "stream",
          "name": "stderr",
          "text": [
            "/usr/local/lib/python3.10/dist-packages/transformers/tokenization_utils_base.py:1601: FutureWarning: `clean_up_tokenization_spaces` was not set. It will be set to `True` by default. This behavior will be depracted in transformers v4.45, and will be then set to `False` by default. For more details check this issue: https://github.com/huggingface/transformers/issues/31884\n",
            "  warnings.warn(\n"
          ]
        }
      ]
    },
    {
      "cell_type": "code",
      "source": [
        "# Подготовка данных для модели\n",
        "max_length = 2048 # ограничение модели rubert-tiny2\n",
        "class NewsDataset(Dataset):\n",
        "    def __init__(self, texts, labels):\n",
        "        self.texts = texts\n",
        "        self.labels = labels\n",
        "\n",
        "    def __len__(self):\n",
        "        return len(self.texts)\n",
        "\n",
        "    def __getitem__(self, idx):\n",
        "        text = self.texts.iloc[idx]['body']\n",
        "        label = self.labels.iloc[idx]\n",
        "        encoding = tokenizer(text, truncation=True, padding='max_length', max_length=max_length, return_tensors='pt')\n",
        "        return {**encoding, 'labels': torch.tensor(label)}"
      ],
      "metadata": {
        "id": "DaWSCIKQKr00"
      },
      "execution_count": null,
      "outputs": []
    },
    {
      "cell_type": "code",
      "source": [
        "train_dataset = NewsDataset(X_train, y_train)\n",
        "test_dataset = NewsDataset(X_test, y_test)\n",
        "\n",
        "# Создание загрузчиков данных\n",
        "train_loader = DataLoader(train_dataset, batch_size=16, shuffle=True)\n",
        "test_loader = DataLoader(test_dataset, batch_size=16)"
      ],
      "metadata": {
        "id": "DnHJHsAxKx-p"
      },
      "execution_count": null,
      "outputs": []
    },
    {
      "cell_type": "code",
      "source": [
        "# Определение модели с 3 сверточными слоями\n",
        "class TextCNN(nn.Module):\n",
        "    def __init__(self, num_classes):\n",
        "        super(TextCNN, self).__init__()\n",
        "        self.bert = AutoModel.from_pretrained(model_name)\n",
        "        self.conv1 = nn.Conv1d(312, 128, kernel_size=3)  # Первый сверточный слой, 312 - длина эмбеддинга rubert tiny2\n",
        "        self.conv2 = nn.Conv1d(128, 128, kernel_size=3)  # Второй сверточный слой\n",
        "        self.conv3 = nn.Conv1d(128, 128, kernel_size=3)  # Третий сверточный слой\n",
        "        self.pool1 = nn.MaxPool1d(kernel_size=2)\n",
        "        self.fc1 = nn.Linear(128 * (max_length - 6) // 2, num_classes)  # Учитываем три свертки и пуллинг\n",
        "\n",
        "    def forward(self, input_ids, attention_mask):\n",
        "        with torch.no_grad():\n",
        "            outputs = self.bert(input_ids=input_ids, attention_mask=attention_mask)\n",
        "        x = outputs.last_hidden_state.permute(0, 2, 1)  # [batch_size, seq_len, hidden_size] -> [batch_size, hidden_size, seq_len]\n",
        "        x = self.conv1(x)\n",
        "        x = self.conv2(x)\n",
        "        x = self.conv3(x)\n",
        "        x = self.pool1(x)\n",
        "        x = x.view(x.size(0), -1)  # Flatten\n",
        "        return self.fc1(x)"
      ],
      "metadata": {
        "id": "ym4mcNqcKzNM"
      },
      "execution_count": null,
      "outputs": []
    },
    {
      "cell_type": "code",
      "source": [
        "# Инициализация модели\n",
        "model = TextCNN(num_classes=len(label_encoder.classes_))\n",
        "device = torch.device('cuda' if torch.cuda.is_available() else 'cpu')\n",
        "model.to(device)\n",
        "optimizer = optim.Adam(model.parameters(), lr=1e-5)\n",
        "criterion = nn.CrossEntropyLoss()"
      ],
      "metadata": {
        "id": "4oJen99wLjgX"
      },
      "execution_count": null,
      "outputs": []
    },
    {
      "cell_type": "code",
      "source": [
        "# Обучение модели\n",
        "model.train()\n",
        "for epoch in range(8):\n",
        "    total_loss = 0\n",
        "    for batch in tqdm(train_loader, desc=f\"Epoch {epoch + 1}\"):\n",
        "        optimizer.zero_grad()\n",
        "        input_ids = batch['input_ids'].squeeze(1).to(device)\n",
        "        attention_mask = batch['attention_mask'].squeeze(1).to(device)\n",
        "        labels = batch['labels'].to(device)\n",
        "        outputs = model(input_ids, attention_mask)\n",
        "        loss = criterion(outputs, labels)\n",
        "        loss.backward()\n",
        "        optimizer.step()\n",
        "        total_loss += loss.item()\n",
        "    print(f'Epoch {epoch + 1}, Loss: {total_loss / len(train_loader):.4f}')"
      ],
      "metadata": {
        "colab": {
          "base_uri": "https://localhost:8080/"
        },
        "id": "EKN1iTMrLglq",
        "outputId": "8ab9b0d7-51ea-4d23-c532-f2f6dbd66e55"
      },
      "execution_count": null,
      "outputs": [
        {
          "output_type": "stream",
          "name": "stderr",
          "text": [
            "Epoch 1: 100%|██████████| 2468/2468 [13:12<00:00,  3.12it/s]\n"
          ]
        },
        {
          "output_type": "stream",
          "name": "stdout",
          "text": [
            "Epoch 1, Loss: 1.0406\n"
          ]
        },
        {
          "output_type": "stream",
          "name": "stderr",
          "text": [
            "Epoch 2: 100%|██████████| 2468/2468 [13:12<00:00,  3.11it/s]\n"
          ]
        },
        {
          "output_type": "stream",
          "name": "stdout",
          "text": [
            "Epoch 2, Loss: 0.8737\n"
          ]
        },
        {
          "output_type": "stream",
          "name": "stderr",
          "text": [
            "Epoch 3: 100%|██████████| 2468/2468 [13:12<00:00,  3.11it/s]\n"
          ]
        },
        {
          "output_type": "stream",
          "name": "stdout",
          "text": [
            "Epoch 3, Loss: 0.8286\n"
          ]
        },
        {
          "output_type": "stream",
          "name": "stderr",
          "text": [
            "Epoch 4: 100%|██████████| 2468/2468 [13:10<00:00,  3.12it/s]\n"
          ]
        },
        {
          "output_type": "stream",
          "name": "stdout",
          "text": [
            "Epoch 4, Loss: 0.7966\n"
          ]
        },
        {
          "output_type": "stream",
          "name": "stderr",
          "text": [
            "Epoch 5: 100%|██████████| 2468/2468 [13:09<00:00,  3.13it/s]\n"
          ]
        },
        {
          "output_type": "stream",
          "name": "stdout",
          "text": [
            "Epoch 5, Loss: 0.7692\n"
          ]
        },
        {
          "output_type": "stream",
          "name": "stderr",
          "text": [
            "Epoch 6: 100%|██████████| 2468/2468 [13:11<00:00,  3.12it/s]\n"
          ]
        },
        {
          "output_type": "stream",
          "name": "stdout",
          "text": [
            "Epoch 6, Loss: 0.7440\n"
          ]
        },
        {
          "output_type": "stream",
          "name": "stderr",
          "text": [
            "Epoch 7: 100%|██████████| 2468/2468 [13:11<00:00,  3.12it/s]\n"
          ]
        },
        {
          "output_type": "stream",
          "name": "stdout",
          "text": [
            "Epoch 7, Loss: 0.7198\n"
          ]
        },
        {
          "output_type": "stream",
          "name": "stderr",
          "text": [
            "Epoch 8: 100%|██████████| 2468/2468 [13:09<00:00,  3.13it/s]"
          ]
        },
        {
          "output_type": "stream",
          "name": "stdout",
          "text": [
            "Epoch 8, Loss: 0.6975\n"
          ]
        },
        {
          "output_type": "stream",
          "name": "stderr",
          "text": [
            "\n"
          ]
        }
      ]
    },
    {
      "cell_type": "code",
      "source": [
        "# Сохранение только параметров модели (state_dict)\n",
        "torch.save(model.state_dict(), '/content/drive/MyDrive/Colab_Notebooks/data/cnn_rubert_tiny2_model.pth')\n",
        "\n",
        "# Сохранение всей модели\n",
        "torch.save(model, '/content/drive/MyDrive/Colab_Notebooks/data/cnn_rubert_tiny2_full_model.pth')"
      ],
      "metadata": {
        "id": "JzCRuXvXk7Wt"
      },
      "execution_count": null,
      "outputs": []
    },
    {
      "cell_type": "code",
      "source": [
        "from sklearn.metrics import classification_report"
      ],
      "metadata": {
        "id": "-R1cIBhSSxYm"
      },
      "execution_count": null,
      "outputs": []
    },
    {
      "cell_type": "code",
      "source": [
        "# Оценка модели и вывод sklearn classification report\n",
        "model.eval()\n",
        "all_labels = []\n",
        "all_preds = []\n",
        "\n",
        "with torch.no_grad():\n",
        "    for batch in tqdm(test_loader):\n",
        "        input_ids = batch['input_ids'].squeeze(1).to(device)\n",
        "        attention_mask = batch['attention_mask'].squeeze(1).to(device)\n",
        "        labels = batch['labels'].to(device)\n",
        "        outputs = model(input_ids, attention_mask)\n",
        "        _, predicted = torch.max(outputs, 1)\n",
        "        all_labels.extend(labels.cpu().numpy())\n",
        "        all_preds.extend(predicted.cpu().numpy())"
      ],
      "metadata": {
        "colab": {
          "base_uri": "https://localhost:8080/"
        },
        "id": "FS2xfoDYLYoK",
        "outputId": "2ae67359-3ef5-4c7b-87f3-c87bd0a59d87"
      },
      "execution_count": null,
      "outputs": [
        {
          "output_type": "stream",
          "name": "stderr",
          "text": [
            "100%|██████████| 1058/1058 [05:00<00:00,  3.52it/s]\n"
          ]
        }
      ]
    },
    {
      "cell_type": "code",
      "source": [
        "print(set(all_preds))"
      ],
      "metadata": {
        "colab": {
          "base_uri": "https://localhost:8080/"
        },
        "id": "eA9Z0gA-XTbu",
        "outputId": "bc8e6ee5-b542-4443-b398-612dac5208c6"
      },
      "execution_count": null,
      "outputs": [
        {
          "output_type": "stream",
          "name": "stdout",
          "text": [
            "{0, 1, 2, 3, 4, 5, 6, 7, 8, 9, 10, 11, 12, 13, 14, 15, 17, 18, 19, 20}\n"
          ]
        }
      ]
    },
    {
      "cell_type": "code",
      "source": [
        "print(set(all_labels))"
      ],
      "metadata": {
        "colab": {
          "base_uri": "https://localhost:8080/"
        },
        "id": "NRAs3EFhXgcg",
        "outputId": "b6352516-82ec-4d26-875e-c2bb61df8e75"
      },
      "execution_count": null,
      "outputs": [
        {
          "output_type": "stream",
          "name": "stdout",
          "text": [
            "{0, 1, 2, 3, 4, 5, 6, 7, 8, 9, 10, 11, 12, 13, 14, 15, 16, 17, 18, 19, 20}\n"
          ]
        }
      ]
    },
    {
      "cell_type": "code",
      "source": [
        "# Вывод sklearn classification report\n",
        "report = classification_report(all_labels, all_preds, labels=[str(label) for label in set(all_labels)],\n",
        "                               target_names=label_encoder.classes_, zero_division=0)\n",
        "print(report)"
      ],
      "metadata": {
        "colab": {
          "base_uri": "https://localhost:8080/"
        },
        "id": "kRbDbvXcXmgk",
        "outputId": "f048f603-691c-4dfa-85a3-f0195bb7854b"
      },
      "execution_count": null,
      "outputs": [
        {
          "output_type": "stream",
          "name": "stdout",
          "text": [
            "                       precision    recall  f1-score   support\n",
            "\n",
            "                 Авто       0.52      0.33      0.41        33\n",
            "                Армия       0.57      0.74      0.64       406\n",
            "         Выборы в США       0.40      0.06      0.11        33\n",
            "          Выборы-2016       0.26      0.19      0.22        27\n",
            "    Гаджеты & Телеком       0.47      0.73      0.57       166\n",
            "          День Победы       0.70      0.41      0.52        17\n",
            "       День в истории       0.73      0.20      0.31        41\n",
            "Известия: подробности       0.00      0.00      0.00         5\n",
            "             Культура       0.82      0.85      0.84       804\n",
            "                  Мир       0.77      0.71      0.74      4527\n",
            "               Москва       0.00      0.00      0.00        49\n",
            "                Наука       0.50      0.70      0.59       250\n",
            "             Общество       0.66      0.67      0.66      3631\n",
            "                 ПМЭФ       0.67      0.22      0.33        18\n",
            "             Политика       0.57      0.50      0.54      2169\n",
            "             РИО-2016       0.55      0.66      0.60       138\n",
            "     Россия - регионы       0.00      0.00      0.00        10\n",
            "                Спорт       0.90      0.90      0.90      1451\n",
            "               Страна       0.68      0.75      0.72      1560\n",
            "              ЧЕ 2016       0.75      0.38      0.50        16\n",
            "            Экономика       0.71      0.81      0.76      1570\n",
            "\n",
            "            micro avg       0.70      0.70      0.70     16921\n",
            "            macro avg       0.54      0.47      0.47     16921\n",
            "         weighted avg       0.70      0.70      0.70     16921\n",
            "\n"
          ]
        }
      ]
    },
    {
      "cell_type": "markdown",
      "source": [
        "## **Zero-shot**"
      ],
      "metadata": {
        "id": "tk1bvnjbSkyG"
      }
    },
    {
      "cell_type": "markdown",
      "source": [
        "**Плюсы:**\n",
        "- Не требует обучения на конкретных данных для каждой задачи.\n",
        "- Может быть использована для классификации новых категорий, для которых нет обучающего набора данных.\n",
        "- Гибкость при работе с множеством задач без необходимости в повторном обучении.\n",
        "\n",
        "**Минусы:**\n",
        "- Модели Zero-Shot обычно медленнее и требуют больше вычислительных ресурсов для инференса.\n",
        "- Результаты могут быть менее точными по сравнению с моделями, специально обученными для конкретной задачи.\n",
        "- Ограниченная точность на специализированных или очень сложных задачах."
      ],
      "metadata": {
        "id": "Wtk1PFze6dqX"
      }
    },
    {
      "cell_type": "code",
      "source": [
        "!pip install transformers[sentencepiece] -q"
      ],
      "metadata": {
        "id": "zs-R8oduENia",
        "collapsed": true
      },
      "execution_count": null,
      "outputs": []
    },
    {
      "cell_type": "code",
      "source": [
        "import pandas as pd\n",
        "from transformers import pipeline\n",
        "from sklearn.metrics import classification_report\n",
        "from tqdm import tqdm\n",
        "import time"
      ],
      "metadata": {
        "id": "RKSmI4Lt0oBX"
      },
      "execution_count": null,
      "outputs": []
    },
    {
      "cell_type": "code",
      "source": [
        "# Убедимся, что классы уникальны\n",
        "classes_verbalized = list(set(y_test))\n",
        "\n",
        "# Инициализация модели\n",
        "hypothesis_template = \"Тема этой новости {}\"\n",
        "zeroshot_classifier = pipeline(\"zero-shot-classification\", model=\"MoritzLaurer/multilingual-MiniLMv2-L6-mnli-xnli\", device='cuda')"
      ],
      "metadata": {
        "id": "dRLuJKWRyo57"
      },
      "execution_count": null,
      "outputs": []
    },
    {
      "cell_type": "code",
      "source": [
        "# Предсказания с tqdm\n",
        "predictions = []\n",
        "start_time = time.time()\n",
        "for text in tqdm(X_test, desc=\"Classifying\"):\n",
        "    output = zeroshot_classifier(text, classes_verbalized, hypothesis_template=hypothesis_template, multi_label=False)\n",
        "    predictions.append(output['labels'][0])  # Берем первый предсказанный класс\n",
        "\n",
        "# Вывод времени выполнения\n",
        "end_time = time.time()\n",
        "print(f\"Затраченное время: {end_time - start_time:.2f} секунд\")"
      ],
      "metadata": {
        "colab": {
          "base_uri": "https://localhost:8080/"
        },
        "outputId": "bb60cfef-8263-4dd2-9e1b-2f4f1556fb61",
        "id": "-77j26sUyItL"
      },
      "execution_count": null,
      "outputs": [
        {
          "output_type": "stream",
          "name": "stderr",
          "text": [
            "Classifying: 100%|██████████| 16921/16921 [48:53<00:00,  5.77it/s]\n"
          ]
        },
        {
          "output_type": "stream",
          "name": "stdout",
          "text": [
            "Затраченное время: 2933.96 секунд\n"
          ]
        }
      ]
    },
    {
      "cell_type": "code",
      "source": [
        "# Генерация отчета\n",
        "report = classification_report(y_test, predictions, labels=[str(label) for label in set(y_test)], target_names=classes_verbalized, zero_division=0)\n",
        "print(report)"
      ],
      "metadata": {
        "colab": {
          "base_uri": "https://localhost:8080/"
        },
        "outputId": "2fe71306-2a31-4d2a-a75e-bd0161ac5dc7",
        "id": "6NE4d-ayyM5B"
      },
      "execution_count": null,
      "outputs": [
        {
          "output_type": "stream",
          "name": "stdout",
          "text": [
            "                       precision    recall  f1-score   support\n",
            "\n",
            "             РИО-2016       0.00      0.00      0.00       138\n",
            "Известия: подробности       0.00      0.00      0.00         5\n",
            "                Наука       0.30      0.09      0.14       250\n",
            "     Россия - регионы       0.00      0.60      0.00        10\n",
            "       День в истории       0.05      0.07      0.06        41\n",
            "               Страна       0.08      0.28      0.12      1560\n",
            "    Гаджеты & Телеком       0.12      0.08      0.10       166\n",
            "                Армия       0.24      0.13      0.16       406\n",
            "               Москва       0.02      0.53      0.03        49\n",
            "             Культура       0.26      0.04      0.08       804\n",
            "          День Победы       0.01      0.35      0.02        17\n",
            "                Спорт       0.75      0.30      0.43      1451\n",
            "             Политика       0.26      0.04      0.07      2169\n",
            "                  Мир       0.18      0.02      0.04      4527\n",
            "                 Авто       0.03      0.42      0.06        33\n",
            "            Экономика       0.54      0.04      0.07      1570\n",
            "             Общество       0.29      0.09      0.14      3631\n",
            "          Выборы-2016       0.00      0.00      0.00        27\n",
            "         Выборы в США       0.02      0.58      0.03        33\n",
            "              ЧЕ 2016       0.00      0.00      0.00        16\n",
            "                 ПМЭФ       0.01      0.44      0.01        18\n",
            "\n",
            "             accuracy                           0.10     16921\n",
            "            macro avg       0.15      0.20      0.07     16921\n",
            "         weighted avg       0.29      0.10      0.11     16921\n",
            "\n"
          ]
        }
      ]
    },
    {
      "cell_type": "markdown",
      "source": [
        "## **Выводы**"
      ],
      "metadata": {
        "id": "r74awB-vyVDp"
      }
    },
    {
      "cell_type": "markdown",
      "source": [
        "**Логистическая регрессия с Bag of Words:**\n",
        "\n",
        "- Точность (accuracy): 75%\n",
        "- Логистическая регрессия показала хорошие результаты для большинства классов, таких как \"Мир\" (80% точность), \"Общество\" (74% точность) и \"Экономика\" (74% точность). Эти классы имеют наибольшее количество данных, что способствует лучшему обучению модели.\n",
        "- Однако она слабо справляется с малочисленными классами, такими как \"Известия: подробности\" и \"Россия - регионы\", где точность равна нулю. Это связано с тем, что BoW не учитывает контекст и зависимость между словами, что делает модель менее чувствительной к сложным структурам текста.\n",
        "- Заключение: Логистическая регрессия с Bag of Words хорошо подходит для классов с большими объемами данных, но слабее справляется с малочисленными и редкими классами.\n",
        "\n",
        "**Случайный лес с TF-IDF:**\n",
        "\n",
        "- Точность (accuracy): 73%\n",
        "- Случайный лес с TF-IDF показал сходные с логистической регрессией результаты для крупных классов, таких как \"Мир\" (68% точность) и \"Общество\" (67% точность).\n",
        "- Однако модель хуже справляется с малочисленными классами, такими как \"Авто\" (0%), \"Выборы в США\" (0%) и \"Известия: подробности\" (0%).\n",
        "- Важно отметить, что случайный лес имеет тенденцию быть менее интерпретируемым и чувствительным к редким классам.\n",
        "- Заключение: Хотя TF-IDF помогает лучше учитывать важные слова, модель все еще плохо работает с малочисленными классами. Случайный лес хорошо подходит для задач с большим количеством признаков, но требует доработки для лучшего учета редких классов.\n",
        "\n",
        "**BERT (RuBERT-tiny2):**\n",
        "\n",
        "- Точность (accuracy): 77%\n",
        "- Модель BERT показала более высокие результаты на крупных классах, таких как \"Мир\" (81% точность), \"Экономика\" (72% точность) и \"Политика\" (71% точность).\n",
        "- BERT, благодаря своим контекстным эмбеддингам, лучше справляется с классификацией текстов, даже когда классы имеют малые размеры, например \"Авто\" (50%) и \"День Победы\" (40%).\n",
        "- Однако модель все еще испытывает проблемы с очень редкими классами, где данных слишком мало для адекватного обучения.\n",
        "- Заключение: BERT — мощная модель, особенно для задач, где требуется учитывать контекст текста. Она превосходит простые модели, но требует достаточного объема данных для эффективной работы.\n",
        "\n",
        "**CNN:**\n",
        "\n",
        "- Точность (accuracy): 70%\n",
        "- Сверточная нейронная сеть (CNN) показала результаты ниже, чем BERT, но лучше, чем случайный лес на некоторых малочисленных классах, таких как \"Авто\" (52%), \"Гаджеты & Телеком\" (47%).\n",
        "- CNN хорошо справляется с задачами, где важен порядок слов и соседние зависимости, что дает ей преимущество перед BoW и TF-IDF.\n",
        "- Заключение: CNN может быть эффективной для задач, где контекст и соседние слова играют ключевую роль. Однако для задачи классификации новостей она уступает более сложным моделям, таким как BERT.\n",
        "\n",
        "**Zero-Shot:**\n",
        "\n",
        "- Точность (accuracy): 10%\n",
        "- Модель Zero-Shot показала наихудшие результаты, с точностью 0% для большинства классов.\n",
        "- Это ожидаемо, так как Zero-Shot классификация не требует обучения на тренировочных данных, но использует обобщенные знания из предобученной модели. - Она неэффективна для такой сложной и многоклассовой задачи, как классификация новостей.\n",
        "- Заключение: Zero-Shot классификация плохо подходит для задачи с большим числом классов и разнородными темами. Она может быть полезна для небольших, простых задач, но явно уступает обучаемым моделям на конкретных данных.\n",
        "\n",
        "**Выводы о применимости методов и качестве решения задачи:**\n",
        "\n",
        "- Модели, такие как BERT и CNN, показывают лучший результат на задаче классификации новостей, благодаря способности учитывать контекст и структуру текста. Однако они требуют больше вычислительных ресурсов и времени на обучение.\n",
        "\n",
        "- Классические методы (логистическая регрессия и случайный лес) все еще дают неплохие результаты, особенно для крупных классов. Они проще в использовании и быстрее обучаются, но менее эффективны для редких классов и сложных текстов.\n",
        "\n",
        "- Zero-Shot подход оказался неэффективным для многоклассовой классификации новостей. Этот метод может быть полезен для небольших задач, но не подходит для крупномасштабных проектов с множеством категорий.\n",
        "\n",
        "- Общий вывод: Для задачи классификации новостей наиболее эффективными оказываются модели, способные учитывать контекст, такие как BERT. Однако для эффективного их использования необходимо обеспечить достаточное количество данных для всех классов, либо рассмотреть возможность обработки редких классов (например, объединение или удаление)."
      ],
      "metadata": {
        "id": "SFmCkL6lNGHx"
      }
    }
  ],
  "metadata": {
    "colab": {
      "provenance": [],
      "gpuType": "T4",
      "collapsed_sections": [
        "Mxffy_749pPh",
        "wr-qEqlm-W_D",
        "jzTzzPddfqQ5",
        "WVT-U6XZ-dUj",
        "7ILE1VTs-oj9",
        "XakoFA3T-r9C",
        "tk1bvnjbSkyG",
        "B1AKWBjFTFPS"
      ],
      "authorship_tag": "ABX9TyNpNbZMyfxq00CPquymWqjb",
      "include_colab_link": true
    },
    "kernelspec": {
      "display_name": "Python 3",
      "name": "python3"
    },
    "language_info": {
      "name": "python"
    },
    "widgets": {
      "application/vnd.jupyter.widget-state+json": {
        "0eabdc74aeff4d689e9f0a008d4ae775": {
          "model_module": "@jupyter-widgets/controls",
          "model_name": "HBoxModel",
          "model_module_version": "1.5.0",
          "state": {
            "_dom_classes": [],
            "_model_module": "@jupyter-widgets/controls",
            "_model_module_version": "1.5.0",
            "_model_name": "HBoxModel",
            "_view_count": null,
            "_view_module": "@jupyter-widgets/controls",
            "_view_module_version": "1.5.0",
            "_view_name": "HBoxView",
            "box_style": "",
            "children": [
              "IPY_MODEL_46f4211a71c0441abe9238353aad7c99",
              "IPY_MODEL_3d28e5b22dff42e1881a33d18066c0b7",
              "IPY_MODEL_c99ffdbfa24c48dc9a48b7acbdad9f69"
            ],
            "layout": "IPY_MODEL_d76489d59c024a89a6dad28fa8d2fe62"
          }
        },
        "46f4211a71c0441abe9238353aad7c99": {
          "model_module": "@jupyter-widgets/controls",
          "model_name": "HTMLModel",
          "model_module_version": "1.5.0",
          "state": {
            "_dom_classes": [],
            "_model_module": "@jupyter-widgets/controls",
            "_model_module_version": "1.5.0",
            "_model_name": "HTMLModel",
            "_view_count": null,
            "_view_module": "@jupyter-widgets/controls",
            "_view_module_version": "1.5.0",
            "_view_name": "HTMLView",
            "description": "",
            "description_tooltip": null,
            "layout": "IPY_MODEL_3676cd8b429540adb33be082026bca94",
            "placeholder": "​",
            "style": "IPY_MODEL_4a62929706ae4f138835bf02d0a7e145",
            "value": "Downloading (…)okenizer_config.json: 100%"
          }
        },
        "3d28e5b22dff42e1881a33d18066c0b7": {
          "model_module": "@jupyter-widgets/controls",
          "model_name": "FloatProgressModel",
          "model_module_version": "1.5.0",
          "state": {
            "_dom_classes": [],
            "_model_module": "@jupyter-widgets/controls",
            "_model_module_version": "1.5.0",
            "_model_name": "FloatProgressModel",
            "_view_count": null,
            "_view_module": "@jupyter-widgets/controls",
            "_view_module_version": "1.5.0",
            "_view_name": "ProgressView",
            "bar_style": "success",
            "description": "",
            "description_tooltip": null,
            "layout": "IPY_MODEL_bf4b7e726bf042288ad32e17c09c3106",
            "max": 401,
            "min": 0,
            "orientation": "horizontal",
            "style": "IPY_MODEL_df77007844724cd99885dc69e5413ed0",
            "value": 401
          }
        },
        "c99ffdbfa24c48dc9a48b7acbdad9f69": {
          "model_module": "@jupyter-widgets/controls",
          "model_name": "HTMLModel",
          "model_module_version": "1.5.0",
          "state": {
            "_dom_classes": [],
            "_model_module": "@jupyter-widgets/controls",
            "_model_module_version": "1.5.0",
            "_model_name": "HTMLModel",
            "_view_count": null,
            "_view_module": "@jupyter-widgets/controls",
            "_view_module_version": "1.5.0",
            "_view_name": "HTMLView",
            "description": "",
            "description_tooltip": null,
            "layout": "IPY_MODEL_7726425672bd477eb63723bdbfaacbd1",
            "placeholder": "​",
            "style": "IPY_MODEL_8214089a59f5433fab8f5c852c86d52e",
            "value": " 401/401 [00:00&lt;00:00, 5.89kB/s]"
          }
        },
        "d76489d59c024a89a6dad28fa8d2fe62": {
          "model_module": "@jupyter-widgets/base",
          "model_name": "LayoutModel",
          "model_module_version": "1.2.0",
          "state": {
            "_model_module": "@jupyter-widgets/base",
            "_model_module_version": "1.2.0",
            "_model_name": "LayoutModel",
            "_view_count": null,
            "_view_module": "@jupyter-widgets/base",
            "_view_module_version": "1.2.0",
            "_view_name": "LayoutView",
            "align_content": null,
            "align_items": null,
            "align_self": null,
            "border": null,
            "bottom": null,
            "display": null,
            "flex": null,
            "flex_flow": null,
            "grid_area": null,
            "grid_auto_columns": null,
            "grid_auto_flow": null,
            "grid_auto_rows": null,
            "grid_column": null,
            "grid_gap": null,
            "grid_row": null,
            "grid_template_areas": null,
            "grid_template_columns": null,
            "grid_template_rows": null,
            "height": null,
            "justify_content": null,
            "justify_items": null,
            "left": null,
            "margin": null,
            "max_height": null,
            "max_width": null,
            "min_height": null,
            "min_width": null,
            "object_fit": null,
            "object_position": null,
            "order": null,
            "overflow": null,
            "overflow_x": null,
            "overflow_y": null,
            "padding": null,
            "right": null,
            "top": null,
            "visibility": null,
            "width": null
          }
        },
        "3676cd8b429540adb33be082026bca94": {
          "model_module": "@jupyter-widgets/base",
          "model_name": "LayoutModel",
          "model_module_version": "1.2.0",
          "state": {
            "_model_module": "@jupyter-widgets/base",
            "_model_module_version": "1.2.0",
            "_model_name": "LayoutModel",
            "_view_count": null,
            "_view_module": "@jupyter-widgets/base",
            "_view_module_version": "1.2.0",
            "_view_name": "LayoutView",
            "align_content": null,
            "align_items": null,
            "align_self": null,
            "border": null,
            "bottom": null,
            "display": null,
            "flex": null,
            "flex_flow": null,
            "grid_area": null,
            "grid_auto_columns": null,
            "grid_auto_flow": null,
            "grid_auto_rows": null,
            "grid_column": null,
            "grid_gap": null,
            "grid_row": null,
            "grid_template_areas": null,
            "grid_template_columns": null,
            "grid_template_rows": null,
            "height": null,
            "justify_content": null,
            "justify_items": null,
            "left": null,
            "margin": null,
            "max_height": null,
            "max_width": null,
            "min_height": null,
            "min_width": null,
            "object_fit": null,
            "object_position": null,
            "order": null,
            "overflow": null,
            "overflow_x": null,
            "overflow_y": null,
            "padding": null,
            "right": null,
            "top": null,
            "visibility": null,
            "width": null
          }
        },
        "4a62929706ae4f138835bf02d0a7e145": {
          "model_module": "@jupyter-widgets/controls",
          "model_name": "DescriptionStyleModel",
          "model_module_version": "1.5.0",
          "state": {
            "_model_module": "@jupyter-widgets/controls",
            "_model_module_version": "1.5.0",
            "_model_name": "DescriptionStyleModel",
            "_view_count": null,
            "_view_module": "@jupyter-widgets/base",
            "_view_module_version": "1.2.0",
            "_view_name": "StyleView",
            "description_width": ""
          }
        },
        "bf4b7e726bf042288ad32e17c09c3106": {
          "model_module": "@jupyter-widgets/base",
          "model_name": "LayoutModel",
          "model_module_version": "1.2.0",
          "state": {
            "_model_module": "@jupyter-widgets/base",
            "_model_module_version": "1.2.0",
            "_model_name": "LayoutModel",
            "_view_count": null,
            "_view_module": "@jupyter-widgets/base",
            "_view_module_version": "1.2.0",
            "_view_name": "LayoutView",
            "align_content": null,
            "align_items": null,
            "align_self": null,
            "border": null,
            "bottom": null,
            "display": null,
            "flex": null,
            "flex_flow": null,
            "grid_area": null,
            "grid_auto_columns": null,
            "grid_auto_flow": null,
            "grid_auto_rows": null,
            "grid_column": null,
            "grid_gap": null,
            "grid_row": null,
            "grid_template_areas": null,
            "grid_template_columns": null,
            "grid_template_rows": null,
            "height": null,
            "justify_content": null,
            "justify_items": null,
            "left": null,
            "margin": null,
            "max_height": null,
            "max_width": null,
            "min_height": null,
            "min_width": null,
            "object_fit": null,
            "object_position": null,
            "order": null,
            "overflow": null,
            "overflow_x": null,
            "overflow_y": null,
            "padding": null,
            "right": null,
            "top": null,
            "visibility": null,
            "width": null
          }
        },
        "df77007844724cd99885dc69e5413ed0": {
          "model_module": "@jupyter-widgets/controls",
          "model_name": "ProgressStyleModel",
          "model_module_version": "1.5.0",
          "state": {
            "_model_module": "@jupyter-widgets/controls",
            "_model_module_version": "1.5.0",
            "_model_name": "ProgressStyleModel",
            "_view_count": null,
            "_view_module": "@jupyter-widgets/base",
            "_view_module_version": "1.2.0",
            "_view_name": "StyleView",
            "bar_color": null,
            "description_width": ""
          }
        },
        "7726425672bd477eb63723bdbfaacbd1": {
          "model_module": "@jupyter-widgets/base",
          "model_name": "LayoutModel",
          "model_module_version": "1.2.0",
          "state": {
            "_model_module": "@jupyter-widgets/base",
            "_model_module_version": "1.2.0",
            "_model_name": "LayoutModel",
            "_view_count": null,
            "_view_module": "@jupyter-widgets/base",
            "_view_module_version": "1.2.0",
            "_view_name": "LayoutView",
            "align_content": null,
            "align_items": null,
            "align_self": null,
            "border": null,
            "bottom": null,
            "display": null,
            "flex": null,
            "flex_flow": null,
            "grid_area": null,
            "grid_auto_columns": null,
            "grid_auto_flow": null,
            "grid_auto_rows": null,
            "grid_column": null,
            "grid_gap": null,
            "grid_row": null,
            "grid_template_areas": null,
            "grid_template_columns": null,
            "grid_template_rows": null,
            "height": null,
            "justify_content": null,
            "justify_items": null,
            "left": null,
            "margin": null,
            "max_height": null,
            "max_width": null,
            "min_height": null,
            "min_width": null,
            "object_fit": null,
            "object_position": null,
            "order": null,
            "overflow": null,
            "overflow_x": null,
            "overflow_y": null,
            "padding": null,
            "right": null,
            "top": null,
            "visibility": null,
            "width": null
          }
        },
        "8214089a59f5433fab8f5c852c86d52e": {
          "model_module": "@jupyter-widgets/controls",
          "model_name": "DescriptionStyleModel",
          "model_module_version": "1.5.0",
          "state": {
            "_model_module": "@jupyter-widgets/controls",
            "_model_module_version": "1.5.0",
            "_model_name": "DescriptionStyleModel",
            "_view_count": null,
            "_view_module": "@jupyter-widgets/base",
            "_view_module_version": "1.2.0",
            "_view_name": "StyleView",
            "description_width": ""
          }
        },
        "6d641cc556754423bd50c150993b255d": {
          "model_module": "@jupyter-widgets/controls",
          "model_name": "HBoxModel",
          "model_module_version": "1.5.0",
          "state": {
            "_dom_classes": [],
            "_model_module": "@jupyter-widgets/controls",
            "_model_module_version": "1.5.0",
            "_model_name": "HBoxModel",
            "_view_count": null,
            "_view_module": "@jupyter-widgets/controls",
            "_view_module_version": "1.5.0",
            "_view_name": "HBoxView",
            "box_style": "",
            "children": [
              "IPY_MODEL_84e371c5b53945afb7d5f78a92e73cf9",
              "IPY_MODEL_42249e68698d423aa9cb315b30afa7dd",
              "IPY_MODEL_3f81afdc12ce41b780be20210f1eed4c"
            ],
            "layout": "IPY_MODEL_78cf36a9b150488e941f806672447a60"
          }
        },
        "84e371c5b53945afb7d5f78a92e73cf9": {
          "model_module": "@jupyter-widgets/controls",
          "model_name": "HTMLModel",
          "model_module_version": "1.5.0",
          "state": {
            "_dom_classes": [],
            "_model_module": "@jupyter-widgets/controls",
            "_model_module_version": "1.5.0",
            "_model_name": "HTMLModel",
            "_view_count": null,
            "_view_module": "@jupyter-widgets/controls",
            "_view_module_version": "1.5.0",
            "_view_name": "HTMLView",
            "description": "",
            "description_tooltip": null,
            "layout": "IPY_MODEL_6f7a1e995bb44077a5d0c52d1df7a3b8",
            "placeholder": "​",
            "style": "IPY_MODEL_81585427da0a4c36ae25767da9124c48",
            "value": "Downloading (…)solve/main/vocab.txt: 100%"
          }
        },
        "42249e68698d423aa9cb315b30afa7dd": {
          "model_module": "@jupyter-widgets/controls",
          "model_name": "FloatProgressModel",
          "model_module_version": "1.5.0",
          "state": {
            "_dom_classes": [],
            "_model_module": "@jupyter-widgets/controls",
            "_model_module_version": "1.5.0",
            "_model_name": "FloatProgressModel",
            "_view_count": null,
            "_view_module": "@jupyter-widgets/controls",
            "_view_module_version": "1.5.0",
            "_view_name": "ProgressView",
            "bar_style": "success",
            "description": "",
            "description_tooltip": null,
            "layout": "IPY_MODEL_d1b69ea57023499999392e088f7e16d7",
            "max": 1080667,
            "min": 0,
            "orientation": "horizontal",
            "style": "IPY_MODEL_eb2b7aad97d14edb99dcaeabf8a6788a",
            "value": 1080667
          }
        },
        "3f81afdc12ce41b780be20210f1eed4c": {
          "model_module": "@jupyter-widgets/controls",
          "model_name": "HTMLModel",
          "model_module_version": "1.5.0",
          "state": {
            "_dom_classes": [],
            "_model_module": "@jupyter-widgets/controls",
            "_model_module_version": "1.5.0",
            "_model_name": "HTMLModel",
            "_view_count": null,
            "_view_module": "@jupyter-widgets/controls",
            "_view_module_version": "1.5.0",
            "_view_name": "HTMLView",
            "description": "",
            "description_tooltip": null,
            "layout": "IPY_MODEL_7dd4fcb1c43f4894b5d249ac4ec7921b",
            "placeholder": "​",
            "style": "IPY_MODEL_4f3cb48d58ed4b8ab11ab6df26d1f2e7",
            "value": " 1.08M/1.08M [00:00&lt;00:00, 7.02MB/s]"
          }
        },
        "78cf36a9b150488e941f806672447a60": {
          "model_module": "@jupyter-widgets/base",
          "model_name": "LayoutModel",
          "model_module_version": "1.2.0",
          "state": {
            "_model_module": "@jupyter-widgets/base",
            "_model_module_version": "1.2.0",
            "_model_name": "LayoutModel",
            "_view_count": null,
            "_view_module": "@jupyter-widgets/base",
            "_view_module_version": "1.2.0",
            "_view_name": "LayoutView",
            "align_content": null,
            "align_items": null,
            "align_self": null,
            "border": null,
            "bottom": null,
            "display": null,
            "flex": null,
            "flex_flow": null,
            "grid_area": null,
            "grid_auto_columns": null,
            "grid_auto_flow": null,
            "grid_auto_rows": null,
            "grid_column": null,
            "grid_gap": null,
            "grid_row": null,
            "grid_template_areas": null,
            "grid_template_columns": null,
            "grid_template_rows": null,
            "height": null,
            "justify_content": null,
            "justify_items": null,
            "left": null,
            "margin": null,
            "max_height": null,
            "max_width": null,
            "min_height": null,
            "min_width": null,
            "object_fit": null,
            "object_position": null,
            "order": null,
            "overflow": null,
            "overflow_x": null,
            "overflow_y": null,
            "padding": null,
            "right": null,
            "top": null,
            "visibility": null,
            "width": null
          }
        },
        "6f7a1e995bb44077a5d0c52d1df7a3b8": {
          "model_module": "@jupyter-widgets/base",
          "model_name": "LayoutModel",
          "model_module_version": "1.2.0",
          "state": {
            "_model_module": "@jupyter-widgets/base",
            "_model_module_version": "1.2.0",
            "_model_name": "LayoutModel",
            "_view_count": null,
            "_view_module": "@jupyter-widgets/base",
            "_view_module_version": "1.2.0",
            "_view_name": "LayoutView",
            "align_content": null,
            "align_items": null,
            "align_self": null,
            "border": null,
            "bottom": null,
            "display": null,
            "flex": null,
            "flex_flow": null,
            "grid_area": null,
            "grid_auto_columns": null,
            "grid_auto_flow": null,
            "grid_auto_rows": null,
            "grid_column": null,
            "grid_gap": null,
            "grid_row": null,
            "grid_template_areas": null,
            "grid_template_columns": null,
            "grid_template_rows": null,
            "height": null,
            "justify_content": null,
            "justify_items": null,
            "left": null,
            "margin": null,
            "max_height": null,
            "max_width": null,
            "min_height": null,
            "min_width": null,
            "object_fit": null,
            "object_position": null,
            "order": null,
            "overflow": null,
            "overflow_x": null,
            "overflow_y": null,
            "padding": null,
            "right": null,
            "top": null,
            "visibility": null,
            "width": null
          }
        },
        "81585427da0a4c36ae25767da9124c48": {
          "model_module": "@jupyter-widgets/controls",
          "model_name": "DescriptionStyleModel",
          "model_module_version": "1.5.0",
          "state": {
            "_model_module": "@jupyter-widgets/controls",
            "_model_module_version": "1.5.0",
            "_model_name": "DescriptionStyleModel",
            "_view_count": null,
            "_view_module": "@jupyter-widgets/base",
            "_view_module_version": "1.2.0",
            "_view_name": "StyleView",
            "description_width": ""
          }
        },
        "d1b69ea57023499999392e088f7e16d7": {
          "model_module": "@jupyter-widgets/base",
          "model_name": "LayoutModel",
          "model_module_version": "1.2.0",
          "state": {
            "_model_module": "@jupyter-widgets/base",
            "_model_module_version": "1.2.0",
            "_model_name": "LayoutModel",
            "_view_count": null,
            "_view_module": "@jupyter-widgets/base",
            "_view_module_version": "1.2.0",
            "_view_name": "LayoutView",
            "align_content": null,
            "align_items": null,
            "align_self": null,
            "border": null,
            "bottom": null,
            "display": null,
            "flex": null,
            "flex_flow": null,
            "grid_area": null,
            "grid_auto_columns": null,
            "grid_auto_flow": null,
            "grid_auto_rows": null,
            "grid_column": null,
            "grid_gap": null,
            "grid_row": null,
            "grid_template_areas": null,
            "grid_template_columns": null,
            "grid_template_rows": null,
            "height": null,
            "justify_content": null,
            "justify_items": null,
            "left": null,
            "margin": null,
            "max_height": null,
            "max_width": null,
            "min_height": null,
            "min_width": null,
            "object_fit": null,
            "object_position": null,
            "order": null,
            "overflow": null,
            "overflow_x": null,
            "overflow_y": null,
            "padding": null,
            "right": null,
            "top": null,
            "visibility": null,
            "width": null
          }
        },
        "eb2b7aad97d14edb99dcaeabf8a6788a": {
          "model_module": "@jupyter-widgets/controls",
          "model_name": "ProgressStyleModel",
          "model_module_version": "1.5.0",
          "state": {
            "_model_module": "@jupyter-widgets/controls",
            "_model_module_version": "1.5.0",
            "_model_name": "ProgressStyleModel",
            "_view_count": null,
            "_view_module": "@jupyter-widgets/base",
            "_view_module_version": "1.2.0",
            "_view_name": "StyleView",
            "bar_color": null,
            "description_width": ""
          }
        },
        "7dd4fcb1c43f4894b5d249ac4ec7921b": {
          "model_module": "@jupyter-widgets/base",
          "model_name": "LayoutModel",
          "model_module_version": "1.2.0",
          "state": {
            "_model_module": "@jupyter-widgets/base",
            "_model_module_version": "1.2.0",
            "_model_name": "LayoutModel",
            "_view_count": null,
            "_view_module": "@jupyter-widgets/base",
            "_view_module_version": "1.2.0",
            "_view_name": "LayoutView",
            "align_content": null,
            "align_items": null,
            "align_self": null,
            "border": null,
            "bottom": null,
            "display": null,
            "flex": null,
            "flex_flow": null,
            "grid_area": null,
            "grid_auto_columns": null,
            "grid_auto_flow": null,
            "grid_auto_rows": null,
            "grid_column": null,
            "grid_gap": null,
            "grid_row": null,
            "grid_template_areas": null,
            "grid_template_columns": null,
            "grid_template_rows": null,
            "height": null,
            "justify_content": null,
            "justify_items": null,
            "left": null,
            "margin": null,
            "max_height": null,
            "max_width": null,
            "min_height": null,
            "min_width": null,
            "object_fit": null,
            "object_position": null,
            "order": null,
            "overflow": null,
            "overflow_x": null,
            "overflow_y": null,
            "padding": null,
            "right": null,
            "top": null,
            "visibility": null,
            "width": null
          }
        },
        "4f3cb48d58ed4b8ab11ab6df26d1f2e7": {
          "model_module": "@jupyter-widgets/controls",
          "model_name": "DescriptionStyleModel",
          "model_module_version": "1.5.0",
          "state": {
            "_model_module": "@jupyter-widgets/controls",
            "_model_module_version": "1.5.0",
            "_model_name": "DescriptionStyleModel",
            "_view_count": null,
            "_view_module": "@jupyter-widgets/base",
            "_view_module_version": "1.2.0",
            "_view_name": "StyleView",
            "description_width": ""
          }
        },
        "bd22b89ea82f4422b4224fb746cb5de8": {
          "model_module": "@jupyter-widgets/controls",
          "model_name": "HBoxModel",
          "model_module_version": "1.5.0",
          "state": {
            "_dom_classes": [],
            "_model_module": "@jupyter-widgets/controls",
            "_model_module_version": "1.5.0",
            "_model_name": "HBoxModel",
            "_view_count": null,
            "_view_module": "@jupyter-widgets/controls",
            "_view_module_version": "1.5.0",
            "_view_name": "HBoxView",
            "box_style": "",
            "children": [
              "IPY_MODEL_34882c16cfe64ebba6f305a1cc2a4599",
              "IPY_MODEL_8077de3f4e814121b1e865210ab610c7",
              "IPY_MODEL_c366240302ff4dedbb85630f5d0b4354"
            ],
            "layout": "IPY_MODEL_0350006fe34e40a580d6c747f34382a7"
          }
        },
        "34882c16cfe64ebba6f305a1cc2a4599": {
          "model_module": "@jupyter-widgets/controls",
          "model_name": "HTMLModel",
          "model_module_version": "1.5.0",
          "state": {
            "_dom_classes": [],
            "_model_module": "@jupyter-widgets/controls",
            "_model_module_version": "1.5.0",
            "_model_name": "HTMLModel",
            "_view_count": null,
            "_view_module": "@jupyter-widgets/controls",
            "_view_module_version": "1.5.0",
            "_view_name": "HTMLView",
            "description": "",
            "description_tooltip": null,
            "layout": "IPY_MODEL_06663698ebcf4b0b8bb266388b7cd97d",
            "placeholder": "​",
            "style": "IPY_MODEL_107d9f4abca2409fa6f2e1d413f6066c",
            "value": "Downloading (…)/main/tokenizer.json: 100%"
          }
        },
        "8077de3f4e814121b1e865210ab610c7": {
          "model_module": "@jupyter-widgets/controls",
          "model_name": "FloatProgressModel",
          "model_module_version": "1.5.0",
          "state": {
            "_dom_classes": [],
            "_model_module": "@jupyter-widgets/controls",
            "_model_module_version": "1.5.0",
            "_model_name": "FloatProgressModel",
            "_view_count": null,
            "_view_module": "@jupyter-widgets/controls",
            "_view_module_version": "1.5.0",
            "_view_name": "ProgressView",
            "bar_style": "success",
            "description": "",
            "description_tooltip": null,
            "layout": "IPY_MODEL_02395de198cd4dc4b7212f473e62d2b3",
            "max": 1741842,
            "min": 0,
            "orientation": "horizontal",
            "style": "IPY_MODEL_818bf8939e434905aea9b38c671db787",
            "value": 1741842
          }
        },
        "c366240302ff4dedbb85630f5d0b4354": {
          "model_module": "@jupyter-widgets/controls",
          "model_name": "HTMLModel",
          "model_module_version": "1.5.0",
          "state": {
            "_dom_classes": [],
            "_model_module": "@jupyter-widgets/controls",
            "_model_module_version": "1.5.0",
            "_model_name": "HTMLModel",
            "_view_count": null,
            "_view_module": "@jupyter-widgets/controls",
            "_view_module_version": "1.5.0",
            "_view_name": "HTMLView",
            "description": "",
            "description_tooltip": null,
            "layout": "IPY_MODEL_daf2d72c09624ea696e5dc2d2ad590df",
            "placeholder": "​",
            "style": "IPY_MODEL_e68fc1d540a646509f89742d2402ccbc",
            "value": " 1.74M/1.74M [00:00&lt;00:00, 12.2MB/s]"
          }
        },
        "0350006fe34e40a580d6c747f34382a7": {
          "model_module": "@jupyter-widgets/base",
          "model_name": "LayoutModel",
          "model_module_version": "1.2.0",
          "state": {
            "_model_module": "@jupyter-widgets/base",
            "_model_module_version": "1.2.0",
            "_model_name": "LayoutModel",
            "_view_count": null,
            "_view_module": "@jupyter-widgets/base",
            "_view_module_version": "1.2.0",
            "_view_name": "LayoutView",
            "align_content": null,
            "align_items": null,
            "align_self": null,
            "border": null,
            "bottom": null,
            "display": null,
            "flex": null,
            "flex_flow": null,
            "grid_area": null,
            "grid_auto_columns": null,
            "grid_auto_flow": null,
            "grid_auto_rows": null,
            "grid_column": null,
            "grid_gap": null,
            "grid_row": null,
            "grid_template_areas": null,
            "grid_template_columns": null,
            "grid_template_rows": null,
            "height": null,
            "justify_content": null,
            "justify_items": null,
            "left": null,
            "margin": null,
            "max_height": null,
            "max_width": null,
            "min_height": null,
            "min_width": null,
            "object_fit": null,
            "object_position": null,
            "order": null,
            "overflow": null,
            "overflow_x": null,
            "overflow_y": null,
            "padding": null,
            "right": null,
            "top": null,
            "visibility": null,
            "width": null
          }
        },
        "06663698ebcf4b0b8bb266388b7cd97d": {
          "model_module": "@jupyter-widgets/base",
          "model_name": "LayoutModel",
          "model_module_version": "1.2.0",
          "state": {
            "_model_module": "@jupyter-widgets/base",
            "_model_module_version": "1.2.0",
            "_model_name": "LayoutModel",
            "_view_count": null,
            "_view_module": "@jupyter-widgets/base",
            "_view_module_version": "1.2.0",
            "_view_name": "LayoutView",
            "align_content": null,
            "align_items": null,
            "align_self": null,
            "border": null,
            "bottom": null,
            "display": null,
            "flex": null,
            "flex_flow": null,
            "grid_area": null,
            "grid_auto_columns": null,
            "grid_auto_flow": null,
            "grid_auto_rows": null,
            "grid_column": null,
            "grid_gap": null,
            "grid_row": null,
            "grid_template_areas": null,
            "grid_template_columns": null,
            "grid_template_rows": null,
            "height": null,
            "justify_content": null,
            "justify_items": null,
            "left": null,
            "margin": null,
            "max_height": null,
            "max_width": null,
            "min_height": null,
            "min_width": null,
            "object_fit": null,
            "object_position": null,
            "order": null,
            "overflow": null,
            "overflow_x": null,
            "overflow_y": null,
            "padding": null,
            "right": null,
            "top": null,
            "visibility": null,
            "width": null
          }
        },
        "107d9f4abca2409fa6f2e1d413f6066c": {
          "model_module": "@jupyter-widgets/controls",
          "model_name": "DescriptionStyleModel",
          "model_module_version": "1.5.0",
          "state": {
            "_model_module": "@jupyter-widgets/controls",
            "_model_module_version": "1.5.0",
            "_model_name": "DescriptionStyleModel",
            "_view_count": null,
            "_view_module": "@jupyter-widgets/base",
            "_view_module_version": "1.2.0",
            "_view_name": "StyleView",
            "description_width": ""
          }
        },
        "02395de198cd4dc4b7212f473e62d2b3": {
          "model_module": "@jupyter-widgets/base",
          "model_name": "LayoutModel",
          "model_module_version": "1.2.0",
          "state": {
            "_model_module": "@jupyter-widgets/base",
            "_model_module_version": "1.2.0",
            "_model_name": "LayoutModel",
            "_view_count": null,
            "_view_module": "@jupyter-widgets/base",
            "_view_module_version": "1.2.0",
            "_view_name": "LayoutView",
            "align_content": null,
            "align_items": null,
            "align_self": null,
            "border": null,
            "bottom": null,
            "display": null,
            "flex": null,
            "flex_flow": null,
            "grid_area": null,
            "grid_auto_columns": null,
            "grid_auto_flow": null,
            "grid_auto_rows": null,
            "grid_column": null,
            "grid_gap": null,
            "grid_row": null,
            "grid_template_areas": null,
            "grid_template_columns": null,
            "grid_template_rows": null,
            "height": null,
            "justify_content": null,
            "justify_items": null,
            "left": null,
            "margin": null,
            "max_height": null,
            "max_width": null,
            "min_height": null,
            "min_width": null,
            "object_fit": null,
            "object_position": null,
            "order": null,
            "overflow": null,
            "overflow_x": null,
            "overflow_y": null,
            "padding": null,
            "right": null,
            "top": null,
            "visibility": null,
            "width": null
          }
        },
        "818bf8939e434905aea9b38c671db787": {
          "model_module": "@jupyter-widgets/controls",
          "model_name": "ProgressStyleModel",
          "model_module_version": "1.5.0",
          "state": {
            "_model_module": "@jupyter-widgets/controls",
            "_model_module_version": "1.5.0",
            "_model_name": "ProgressStyleModel",
            "_view_count": null,
            "_view_module": "@jupyter-widgets/base",
            "_view_module_version": "1.2.0",
            "_view_name": "StyleView",
            "bar_color": null,
            "description_width": ""
          }
        },
        "daf2d72c09624ea696e5dc2d2ad590df": {
          "model_module": "@jupyter-widgets/base",
          "model_name": "LayoutModel",
          "model_module_version": "1.2.0",
          "state": {
            "_model_module": "@jupyter-widgets/base",
            "_model_module_version": "1.2.0",
            "_model_name": "LayoutModel",
            "_view_count": null,
            "_view_module": "@jupyter-widgets/base",
            "_view_module_version": "1.2.0",
            "_view_name": "LayoutView",
            "align_content": null,
            "align_items": null,
            "align_self": null,
            "border": null,
            "bottom": null,
            "display": null,
            "flex": null,
            "flex_flow": null,
            "grid_area": null,
            "grid_auto_columns": null,
            "grid_auto_flow": null,
            "grid_auto_rows": null,
            "grid_column": null,
            "grid_gap": null,
            "grid_row": null,
            "grid_template_areas": null,
            "grid_template_columns": null,
            "grid_template_rows": null,
            "height": null,
            "justify_content": null,
            "justify_items": null,
            "left": null,
            "margin": null,
            "max_height": null,
            "max_width": null,
            "min_height": null,
            "min_width": null,
            "object_fit": null,
            "object_position": null,
            "order": null,
            "overflow": null,
            "overflow_x": null,
            "overflow_y": null,
            "padding": null,
            "right": null,
            "top": null,
            "visibility": null,
            "width": null
          }
        },
        "e68fc1d540a646509f89742d2402ccbc": {
          "model_module": "@jupyter-widgets/controls",
          "model_name": "DescriptionStyleModel",
          "model_module_version": "1.5.0",
          "state": {
            "_model_module": "@jupyter-widgets/controls",
            "_model_module_version": "1.5.0",
            "_model_name": "DescriptionStyleModel",
            "_view_count": null,
            "_view_module": "@jupyter-widgets/base",
            "_view_module_version": "1.2.0",
            "_view_name": "StyleView",
            "description_width": ""
          }
        },
        "956cb3bbd5044c5787f22c884a99964e": {
          "model_module": "@jupyter-widgets/controls",
          "model_name": "HBoxModel",
          "model_module_version": "1.5.0",
          "state": {
            "_dom_classes": [],
            "_model_module": "@jupyter-widgets/controls",
            "_model_module_version": "1.5.0",
            "_model_name": "HBoxModel",
            "_view_count": null,
            "_view_module": "@jupyter-widgets/controls",
            "_view_module_version": "1.5.0",
            "_view_name": "HBoxView",
            "box_style": "",
            "children": [
              "IPY_MODEL_ea0d034fe7ef43d68ba72d15eb22d05b",
              "IPY_MODEL_d06cb0f6a52c47f49a5c358af176c128",
              "IPY_MODEL_c0bba739b7ec4984b5afa17200c6147d"
            ],
            "layout": "IPY_MODEL_f646e90d2b0c4919a7c453c3429befdf"
          }
        },
        "ea0d034fe7ef43d68ba72d15eb22d05b": {
          "model_module": "@jupyter-widgets/controls",
          "model_name": "HTMLModel",
          "model_module_version": "1.5.0",
          "state": {
            "_dom_classes": [],
            "_model_module": "@jupyter-widgets/controls",
            "_model_module_version": "1.5.0",
            "_model_name": "HTMLModel",
            "_view_count": null,
            "_view_module": "@jupyter-widgets/controls",
            "_view_module_version": "1.5.0",
            "_view_name": "HTMLView",
            "description": "",
            "description_tooltip": null,
            "layout": "IPY_MODEL_ee6f9d7a25e64e9384f224ecc436b817",
            "placeholder": "​",
            "style": "IPY_MODEL_14ad56cb1abc4a83af0a7c2ec1a3e5b9",
            "value": "Downloading (…)cial_tokens_map.json: 100%"
          }
        },
        "d06cb0f6a52c47f49a5c358af176c128": {
          "model_module": "@jupyter-widgets/controls",
          "model_name": "FloatProgressModel",
          "model_module_version": "1.5.0",
          "state": {
            "_dom_classes": [],
            "_model_module": "@jupyter-widgets/controls",
            "_model_module_version": "1.5.0",
            "_model_name": "FloatProgressModel",
            "_view_count": null,
            "_view_module": "@jupyter-widgets/controls",
            "_view_module_version": "1.5.0",
            "_view_name": "ProgressView",
            "bar_style": "success",
            "description": "",
            "description_tooltip": null,
            "layout": "IPY_MODEL_49a09d79c686438d90b344eb9fc5ef56",
            "max": 112,
            "min": 0,
            "orientation": "horizontal",
            "style": "IPY_MODEL_f16a6334b5aa4e64a9b9b04afa48e800",
            "value": 112
          }
        },
        "c0bba739b7ec4984b5afa17200c6147d": {
          "model_module": "@jupyter-widgets/controls",
          "model_name": "HTMLModel",
          "model_module_version": "1.5.0",
          "state": {
            "_dom_classes": [],
            "_model_module": "@jupyter-widgets/controls",
            "_model_module_version": "1.5.0",
            "_model_name": "HTMLModel",
            "_view_count": null,
            "_view_module": "@jupyter-widgets/controls",
            "_view_module_version": "1.5.0",
            "_view_name": "HTMLView",
            "description": "",
            "description_tooltip": null,
            "layout": "IPY_MODEL_fe17988a55d54aec91abd25babb89133",
            "placeholder": "​",
            "style": "IPY_MODEL_23846c6b3952435083e863a2626d8b77",
            "value": " 112/112 [00:00&lt;00:00, 3.61kB/s]"
          }
        },
        "f646e90d2b0c4919a7c453c3429befdf": {
          "model_module": "@jupyter-widgets/base",
          "model_name": "LayoutModel",
          "model_module_version": "1.2.0",
          "state": {
            "_model_module": "@jupyter-widgets/base",
            "_model_module_version": "1.2.0",
            "_model_name": "LayoutModel",
            "_view_count": null,
            "_view_module": "@jupyter-widgets/base",
            "_view_module_version": "1.2.0",
            "_view_name": "LayoutView",
            "align_content": null,
            "align_items": null,
            "align_self": null,
            "border": null,
            "bottom": null,
            "display": null,
            "flex": null,
            "flex_flow": null,
            "grid_area": null,
            "grid_auto_columns": null,
            "grid_auto_flow": null,
            "grid_auto_rows": null,
            "grid_column": null,
            "grid_gap": null,
            "grid_row": null,
            "grid_template_areas": null,
            "grid_template_columns": null,
            "grid_template_rows": null,
            "height": null,
            "justify_content": null,
            "justify_items": null,
            "left": null,
            "margin": null,
            "max_height": null,
            "max_width": null,
            "min_height": null,
            "min_width": null,
            "object_fit": null,
            "object_position": null,
            "order": null,
            "overflow": null,
            "overflow_x": null,
            "overflow_y": null,
            "padding": null,
            "right": null,
            "top": null,
            "visibility": null,
            "width": null
          }
        },
        "ee6f9d7a25e64e9384f224ecc436b817": {
          "model_module": "@jupyter-widgets/base",
          "model_name": "LayoutModel",
          "model_module_version": "1.2.0",
          "state": {
            "_model_module": "@jupyter-widgets/base",
            "_model_module_version": "1.2.0",
            "_model_name": "LayoutModel",
            "_view_count": null,
            "_view_module": "@jupyter-widgets/base",
            "_view_module_version": "1.2.0",
            "_view_name": "LayoutView",
            "align_content": null,
            "align_items": null,
            "align_self": null,
            "border": null,
            "bottom": null,
            "display": null,
            "flex": null,
            "flex_flow": null,
            "grid_area": null,
            "grid_auto_columns": null,
            "grid_auto_flow": null,
            "grid_auto_rows": null,
            "grid_column": null,
            "grid_gap": null,
            "grid_row": null,
            "grid_template_areas": null,
            "grid_template_columns": null,
            "grid_template_rows": null,
            "height": null,
            "justify_content": null,
            "justify_items": null,
            "left": null,
            "margin": null,
            "max_height": null,
            "max_width": null,
            "min_height": null,
            "min_width": null,
            "object_fit": null,
            "object_position": null,
            "order": null,
            "overflow": null,
            "overflow_x": null,
            "overflow_y": null,
            "padding": null,
            "right": null,
            "top": null,
            "visibility": null,
            "width": null
          }
        },
        "14ad56cb1abc4a83af0a7c2ec1a3e5b9": {
          "model_module": "@jupyter-widgets/controls",
          "model_name": "DescriptionStyleModel",
          "model_module_version": "1.5.0",
          "state": {
            "_model_module": "@jupyter-widgets/controls",
            "_model_module_version": "1.5.0",
            "_model_name": "DescriptionStyleModel",
            "_view_count": null,
            "_view_module": "@jupyter-widgets/base",
            "_view_module_version": "1.2.0",
            "_view_name": "StyleView",
            "description_width": ""
          }
        },
        "49a09d79c686438d90b344eb9fc5ef56": {
          "model_module": "@jupyter-widgets/base",
          "model_name": "LayoutModel",
          "model_module_version": "1.2.0",
          "state": {
            "_model_module": "@jupyter-widgets/base",
            "_model_module_version": "1.2.0",
            "_model_name": "LayoutModel",
            "_view_count": null,
            "_view_module": "@jupyter-widgets/base",
            "_view_module_version": "1.2.0",
            "_view_name": "LayoutView",
            "align_content": null,
            "align_items": null,
            "align_self": null,
            "border": null,
            "bottom": null,
            "display": null,
            "flex": null,
            "flex_flow": null,
            "grid_area": null,
            "grid_auto_columns": null,
            "grid_auto_flow": null,
            "grid_auto_rows": null,
            "grid_column": null,
            "grid_gap": null,
            "grid_row": null,
            "grid_template_areas": null,
            "grid_template_columns": null,
            "grid_template_rows": null,
            "height": null,
            "justify_content": null,
            "justify_items": null,
            "left": null,
            "margin": null,
            "max_height": null,
            "max_width": null,
            "min_height": null,
            "min_width": null,
            "object_fit": null,
            "object_position": null,
            "order": null,
            "overflow": null,
            "overflow_x": null,
            "overflow_y": null,
            "padding": null,
            "right": null,
            "top": null,
            "visibility": null,
            "width": null
          }
        },
        "f16a6334b5aa4e64a9b9b04afa48e800": {
          "model_module": "@jupyter-widgets/controls",
          "model_name": "ProgressStyleModel",
          "model_module_version": "1.5.0",
          "state": {
            "_model_module": "@jupyter-widgets/controls",
            "_model_module_version": "1.5.0",
            "_model_name": "ProgressStyleModel",
            "_view_count": null,
            "_view_module": "@jupyter-widgets/base",
            "_view_module_version": "1.2.0",
            "_view_name": "StyleView",
            "bar_color": null,
            "description_width": ""
          }
        },
        "fe17988a55d54aec91abd25babb89133": {
          "model_module": "@jupyter-widgets/base",
          "model_name": "LayoutModel",
          "model_module_version": "1.2.0",
          "state": {
            "_model_module": "@jupyter-widgets/base",
            "_model_module_version": "1.2.0",
            "_model_name": "LayoutModel",
            "_view_count": null,
            "_view_module": "@jupyter-widgets/base",
            "_view_module_version": "1.2.0",
            "_view_name": "LayoutView",
            "align_content": null,
            "align_items": null,
            "align_self": null,
            "border": null,
            "bottom": null,
            "display": null,
            "flex": null,
            "flex_flow": null,
            "grid_area": null,
            "grid_auto_columns": null,
            "grid_auto_flow": null,
            "grid_auto_rows": null,
            "grid_column": null,
            "grid_gap": null,
            "grid_row": null,
            "grid_template_areas": null,
            "grid_template_columns": null,
            "grid_template_rows": null,
            "height": null,
            "justify_content": null,
            "justify_items": null,
            "left": null,
            "margin": null,
            "max_height": null,
            "max_width": null,
            "min_height": null,
            "min_width": null,
            "object_fit": null,
            "object_position": null,
            "order": null,
            "overflow": null,
            "overflow_x": null,
            "overflow_y": null,
            "padding": null,
            "right": null,
            "top": null,
            "visibility": null,
            "width": null
          }
        },
        "23846c6b3952435083e863a2626d8b77": {
          "model_module": "@jupyter-widgets/controls",
          "model_name": "DescriptionStyleModel",
          "model_module_version": "1.5.0",
          "state": {
            "_model_module": "@jupyter-widgets/controls",
            "_model_module_version": "1.5.0",
            "_model_name": "DescriptionStyleModel",
            "_view_count": null,
            "_view_module": "@jupyter-widgets/base",
            "_view_module_version": "1.2.0",
            "_view_name": "StyleView",
            "description_width": ""
          }
        },
        "9293248c368447b78377e31f64a4dd6a": {
          "model_module": "@jupyter-widgets/controls",
          "model_name": "HBoxModel",
          "model_module_version": "1.5.0",
          "state": {
            "_dom_classes": [],
            "_model_module": "@jupyter-widgets/controls",
            "_model_module_version": "1.5.0",
            "_model_name": "HBoxModel",
            "_view_count": null,
            "_view_module": "@jupyter-widgets/controls",
            "_view_module_version": "1.5.0",
            "_view_name": "HBoxView",
            "box_style": "",
            "children": [
              "IPY_MODEL_0c6b37cef13c44cc933151c144a1036c",
              "IPY_MODEL_9d6ec10d36694f798cc10433ac62c5aa",
              "IPY_MODEL_722ec07af1514fbeb764e11b891198c8"
            ],
            "layout": "IPY_MODEL_72d1987da2bd4c3382dc65d153fc23ac"
          }
        },
        "0c6b37cef13c44cc933151c144a1036c": {
          "model_module": "@jupyter-widgets/controls",
          "model_name": "HTMLModel",
          "model_module_version": "1.5.0",
          "state": {
            "_dom_classes": [],
            "_model_module": "@jupyter-widgets/controls",
            "_model_module_version": "1.5.0",
            "_model_name": "HTMLModel",
            "_view_count": null,
            "_view_module": "@jupyter-widgets/controls",
            "_view_module_version": "1.5.0",
            "_view_name": "HTMLView",
            "description": "",
            "description_tooltip": null,
            "layout": "IPY_MODEL_d6d75c93b846478b9ce68c8c9a7252d3",
            "placeholder": "​",
            "style": "IPY_MODEL_e842f195d9544500b5aff204bd3c8a0d",
            "value": "Downloading (…)lve/main/config.json: 100%"
          }
        },
        "9d6ec10d36694f798cc10433ac62c5aa": {
          "model_module": "@jupyter-widgets/controls",
          "model_name": "FloatProgressModel",
          "model_module_version": "1.5.0",
          "state": {
            "_dom_classes": [],
            "_model_module": "@jupyter-widgets/controls",
            "_model_module_version": "1.5.0",
            "_model_name": "FloatProgressModel",
            "_view_count": null,
            "_view_module": "@jupyter-widgets/controls",
            "_view_module_version": "1.5.0",
            "_view_name": "ProgressView",
            "bar_style": "success",
            "description": "",
            "description_tooltip": null,
            "layout": "IPY_MODEL_4391055f83f5439fa649389dd39bbf8a",
            "max": 715,
            "min": 0,
            "orientation": "horizontal",
            "style": "IPY_MODEL_64ccae2a9eb847cea838a65a22f12f74",
            "value": 715
          }
        },
        "722ec07af1514fbeb764e11b891198c8": {
          "model_module": "@jupyter-widgets/controls",
          "model_name": "HTMLModel",
          "model_module_version": "1.5.0",
          "state": {
            "_dom_classes": [],
            "_model_module": "@jupyter-widgets/controls",
            "_model_module_version": "1.5.0",
            "_model_name": "HTMLModel",
            "_view_count": null,
            "_view_module": "@jupyter-widgets/controls",
            "_view_module_version": "1.5.0",
            "_view_name": "HTMLView",
            "description": "",
            "description_tooltip": null,
            "layout": "IPY_MODEL_e402518de4284fc480e701af6bdabe9f",
            "placeholder": "​",
            "style": "IPY_MODEL_c089043d7aa24418b440ad9ba618717e",
            "value": " 715/715 [00:00&lt;00:00, 16.1kB/s]"
          }
        },
        "72d1987da2bd4c3382dc65d153fc23ac": {
          "model_module": "@jupyter-widgets/base",
          "model_name": "LayoutModel",
          "model_module_version": "1.2.0",
          "state": {
            "_model_module": "@jupyter-widgets/base",
            "_model_module_version": "1.2.0",
            "_model_name": "LayoutModel",
            "_view_count": null,
            "_view_module": "@jupyter-widgets/base",
            "_view_module_version": "1.2.0",
            "_view_name": "LayoutView",
            "align_content": null,
            "align_items": null,
            "align_self": null,
            "border": null,
            "bottom": null,
            "display": null,
            "flex": null,
            "flex_flow": null,
            "grid_area": null,
            "grid_auto_columns": null,
            "grid_auto_flow": null,
            "grid_auto_rows": null,
            "grid_column": null,
            "grid_gap": null,
            "grid_row": null,
            "grid_template_areas": null,
            "grid_template_columns": null,
            "grid_template_rows": null,
            "height": null,
            "justify_content": null,
            "justify_items": null,
            "left": null,
            "margin": null,
            "max_height": null,
            "max_width": null,
            "min_height": null,
            "min_width": null,
            "object_fit": null,
            "object_position": null,
            "order": null,
            "overflow": null,
            "overflow_x": null,
            "overflow_y": null,
            "padding": null,
            "right": null,
            "top": null,
            "visibility": null,
            "width": null
          }
        },
        "d6d75c93b846478b9ce68c8c9a7252d3": {
          "model_module": "@jupyter-widgets/base",
          "model_name": "LayoutModel",
          "model_module_version": "1.2.0",
          "state": {
            "_model_module": "@jupyter-widgets/base",
            "_model_module_version": "1.2.0",
            "_model_name": "LayoutModel",
            "_view_count": null,
            "_view_module": "@jupyter-widgets/base",
            "_view_module_version": "1.2.0",
            "_view_name": "LayoutView",
            "align_content": null,
            "align_items": null,
            "align_self": null,
            "border": null,
            "bottom": null,
            "display": null,
            "flex": null,
            "flex_flow": null,
            "grid_area": null,
            "grid_auto_columns": null,
            "grid_auto_flow": null,
            "grid_auto_rows": null,
            "grid_column": null,
            "grid_gap": null,
            "grid_row": null,
            "grid_template_areas": null,
            "grid_template_columns": null,
            "grid_template_rows": null,
            "height": null,
            "justify_content": null,
            "justify_items": null,
            "left": null,
            "margin": null,
            "max_height": null,
            "max_width": null,
            "min_height": null,
            "min_width": null,
            "object_fit": null,
            "object_position": null,
            "order": null,
            "overflow": null,
            "overflow_x": null,
            "overflow_y": null,
            "padding": null,
            "right": null,
            "top": null,
            "visibility": null,
            "width": null
          }
        },
        "e842f195d9544500b5aff204bd3c8a0d": {
          "model_module": "@jupyter-widgets/controls",
          "model_name": "DescriptionStyleModel",
          "model_module_version": "1.5.0",
          "state": {
            "_model_module": "@jupyter-widgets/controls",
            "_model_module_version": "1.5.0",
            "_model_name": "DescriptionStyleModel",
            "_view_count": null,
            "_view_module": "@jupyter-widgets/base",
            "_view_module_version": "1.2.0",
            "_view_name": "StyleView",
            "description_width": ""
          }
        },
        "4391055f83f5439fa649389dd39bbf8a": {
          "model_module": "@jupyter-widgets/base",
          "model_name": "LayoutModel",
          "model_module_version": "1.2.0",
          "state": {
            "_model_module": "@jupyter-widgets/base",
            "_model_module_version": "1.2.0",
            "_model_name": "LayoutModel",
            "_view_count": null,
            "_view_module": "@jupyter-widgets/base",
            "_view_module_version": "1.2.0",
            "_view_name": "LayoutView",
            "align_content": null,
            "align_items": null,
            "align_self": null,
            "border": null,
            "bottom": null,
            "display": null,
            "flex": null,
            "flex_flow": null,
            "grid_area": null,
            "grid_auto_columns": null,
            "grid_auto_flow": null,
            "grid_auto_rows": null,
            "grid_column": null,
            "grid_gap": null,
            "grid_row": null,
            "grid_template_areas": null,
            "grid_template_columns": null,
            "grid_template_rows": null,
            "height": null,
            "justify_content": null,
            "justify_items": null,
            "left": null,
            "margin": null,
            "max_height": null,
            "max_width": null,
            "min_height": null,
            "min_width": null,
            "object_fit": null,
            "object_position": null,
            "order": null,
            "overflow": null,
            "overflow_x": null,
            "overflow_y": null,
            "padding": null,
            "right": null,
            "top": null,
            "visibility": null,
            "width": null
          }
        },
        "64ccae2a9eb847cea838a65a22f12f74": {
          "model_module": "@jupyter-widgets/controls",
          "model_name": "ProgressStyleModel",
          "model_module_version": "1.5.0",
          "state": {
            "_model_module": "@jupyter-widgets/controls",
            "_model_module_version": "1.5.0",
            "_model_name": "ProgressStyleModel",
            "_view_count": null,
            "_view_module": "@jupyter-widgets/base",
            "_view_module_version": "1.2.0",
            "_view_name": "StyleView",
            "bar_color": null,
            "description_width": ""
          }
        },
        "e402518de4284fc480e701af6bdabe9f": {
          "model_module": "@jupyter-widgets/base",
          "model_name": "LayoutModel",
          "model_module_version": "1.2.0",
          "state": {
            "_model_module": "@jupyter-widgets/base",
            "_model_module_version": "1.2.0",
            "_model_name": "LayoutModel",
            "_view_count": null,
            "_view_module": "@jupyter-widgets/base",
            "_view_module_version": "1.2.0",
            "_view_name": "LayoutView",
            "align_content": null,
            "align_items": null,
            "align_self": null,
            "border": null,
            "bottom": null,
            "display": null,
            "flex": null,
            "flex_flow": null,
            "grid_area": null,
            "grid_auto_columns": null,
            "grid_auto_flow": null,
            "grid_auto_rows": null,
            "grid_column": null,
            "grid_gap": null,
            "grid_row": null,
            "grid_template_areas": null,
            "grid_template_columns": null,
            "grid_template_rows": null,
            "height": null,
            "justify_content": null,
            "justify_items": null,
            "left": null,
            "margin": null,
            "max_height": null,
            "max_width": null,
            "min_height": null,
            "min_width": null,
            "object_fit": null,
            "object_position": null,
            "order": null,
            "overflow": null,
            "overflow_x": null,
            "overflow_y": null,
            "padding": null,
            "right": null,
            "top": null,
            "visibility": null,
            "width": null
          }
        },
        "c089043d7aa24418b440ad9ba618717e": {
          "model_module": "@jupyter-widgets/controls",
          "model_name": "DescriptionStyleModel",
          "model_module_version": "1.5.0",
          "state": {
            "_model_module": "@jupyter-widgets/controls",
            "_model_module_version": "1.5.0",
            "_model_name": "DescriptionStyleModel",
            "_view_count": null,
            "_view_module": "@jupyter-widgets/base",
            "_view_module_version": "1.2.0",
            "_view_name": "StyleView",
            "description_width": ""
          }
        },
        "3b62b68576ad405a91a909818d1ab33c": {
          "model_module": "@jupyter-widgets/controls",
          "model_name": "HBoxModel",
          "model_module_version": "1.5.0",
          "state": {
            "_dom_classes": [],
            "_model_module": "@jupyter-widgets/controls",
            "_model_module_version": "1.5.0",
            "_model_name": "HBoxModel",
            "_view_count": null,
            "_view_module": "@jupyter-widgets/controls",
            "_view_module_version": "1.5.0",
            "_view_name": "HBoxView",
            "box_style": "",
            "children": [
              "IPY_MODEL_a70c1aac90b24da3873f778d6daf2217",
              "IPY_MODEL_b219eec8a5b34551b54c432dc7c38c2b",
              "IPY_MODEL_8a12abd236494341ad8a839a2c6dce16"
            ],
            "layout": "IPY_MODEL_8f2efe0ba3d0432bb65e5843668085a7"
          }
        },
        "a70c1aac90b24da3873f778d6daf2217": {
          "model_module": "@jupyter-widgets/controls",
          "model_name": "HTMLModel",
          "model_module_version": "1.5.0",
          "state": {
            "_dom_classes": [],
            "_model_module": "@jupyter-widgets/controls",
            "_model_module_version": "1.5.0",
            "_model_name": "HTMLModel",
            "_view_count": null,
            "_view_module": "@jupyter-widgets/controls",
            "_view_module_version": "1.5.0",
            "_view_name": "HTMLView",
            "description": "",
            "description_tooltip": null,
            "layout": "IPY_MODEL_586fa08dd06046e29300564b49b186aa",
            "placeholder": "​",
            "style": "IPY_MODEL_e18ed27132254383b1a8432c87fc8efd",
            "value": "Downloading model.safetensors: 100%"
          }
        },
        "b219eec8a5b34551b54c432dc7c38c2b": {
          "model_module": "@jupyter-widgets/controls",
          "model_name": "FloatProgressModel",
          "model_module_version": "1.5.0",
          "state": {
            "_dom_classes": [],
            "_model_module": "@jupyter-widgets/controls",
            "_model_module_version": "1.5.0",
            "_model_name": "FloatProgressModel",
            "_view_count": null,
            "_view_module": "@jupyter-widgets/controls",
            "_view_module_version": "1.5.0",
            "_view_name": "ProgressView",
            "bar_style": "success",
            "description": "",
            "description_tooltip": null,
            "layout": "IPY_MODEL_ac59983a202c4d5392cd7b3c3162881d",
            "max": 117529600,
            "min": 0,
            "orientation": "horizontal",
            "style": "IPY_MODEL_1bc87feac41743898e2a56211acfcf1f",
            "value": 117529600
          }
        },
        "8a12abd236494341ad8a839a2c6dce16": {
          "model_module": "@jupyter-widgets/controls",
          "model_name": "HTMLModel",
          "model_module_version": "1.5.0",
          "state": {
            "_dom_classes": [],
            "_model_module": "@jupyter-widgets/controls",
            "_model_module_version": "1.5.0",
            "_model_name": "HTMLModel",
            "_view_count": null,
            "_view_module": "@jupyter-widgets/controls",
            "_view_module_version": "1.5.0",
            "_view_name": "HTMLView",
            "description": "",
            "description_tooltip": null,
            "layout": "IPY_MODEL_bf39e26ce2ec4c7aa7db6f0894fcd860",
            "placeholder": "​",
            "style": "IPY_MODEL_aa9c88bb78ed411a8a46fc6d297fa378",
            "value": " 118M/118M [00:01&lt;00:00, 104MB/s]"
          }
        },
        "8f2efe0ba3d0432bb65e5843668085a7": {
          "model_module": "@jupyter-widgets/base",
          "model_name": "LayoutModel",
          "model_module_version": "1.2.0",
          "state": {
            "_model_module": "@jupyter-widgets/base",
            "_model_module_version": "1.2.0",
            "_model_name": "LayoutModel",
            "_view_count": null,
            "_view_module": "@jupyter-widgets/base",
            "_view_module_version": "1.2.0",
            "_view_name": "LayoutView",
            "align_content": null,
            "align_items": null,
            "align_self": null,
            "border": null,
            "bottom": null,
            "display": null,
            "flex": null,
            "flex_flow": null,
            "grid_area": null,
            "grid_auto_columns": null,
            "grid_auto_flow": null,
            "grid_auto_rows": null,
            "grid_column": null,
            "grid_gap": null,
            "grid_row": null,
            "grid_template_areas": null,
            "grid_template_columns": null,
            "grid_template_rows": null,
            "height": null,
            "justify_content": null,
            "justify_items": null,
            "left": null,
            "margin": null,
            "max_height": null,
            "max_width": null,
            "min_height": null,
            "min_width": null,
            "object_fit": null,
            "object_position": null,
            "order": null,
            "overflow": null,
            "overflow_x": null,
            "overflow_y": null,
            "padding": null,
            "right": null,
            "top": null,
            "visibility": null,
            "width": null
          }
        },
        "586fa08dd06046e29300564b49b186aa": {
          "model_module": "@jupyter-widgets/base",
          "model_name": "LayoutModel",
          "model_module_version": "1.2.0",
          "state": {
            "_model_module": "@jupyter-widgets/base",
            "_model_module_version": "1.2.0",
            "_model_name": "LayoutModel",
            "_view_count": null,
            "_view_module": "@jupyter-widgets/base",
            "_view_module_version": "1.2.0",
            "_view_name": "LayoutView",
            "align_content": null,
            "align_items": null,
            "align_self": null,
            "border": null,
            "bottom": null,
            "display": null,
            "flex": null,
            "flex_flow": null,
            "grid_area": null,
            "grid_auto_columns": null,
            "grid_auto_flow": null,
            "grid_auto_rows": null,
            "grid_column": null,
            "grid_gap": null,
            "grid_row": null,
            "grid_template_areas": null,
            "grid_template_columns": null,
            "grid_template_rows": null,
            "height": null,
            "justify_content": null,
            "justify_items": null,
            "left": null,
            "margin": null,
            "max_height": null,
            "max_width": null,
            "min_height": null,
            "min_width": null,
            "object_fit": null,
            "object_position": null,
            "order": null,
            "overflow": null,
            "overflow_x": null,
            "overflow_y": null,
            "padding": null,
            "right": null,
            "top": null,
            "visibility": null,
            "width": null
          }
        },
        "e18ed27132254383b1a8432c87fc8efd": {
          "model_module": "@jupyter-widgets/controls",
          "model_name": "DescriptionStyleModel",
          "model_module_version": "1.5.0",
          "state": {
            "_model_module": "@jupyter-widgets/controls",
            "_model_module_version": "1.5.0",
            "_model_name": "DescriptionStyleModel",
            "_view_count": null,
            "_view_module": "@jupyter-widgets/base",
            "_view_module_version": "1.2.0",
            "_view_name": "StyleView",
            "description_width": ""
          }
        },
        "ac59983a202c4d5392cd7b3c3162881d": {
          "model_module": "@jupyter-widgets/base",
          "model_name": "LayoutModel",
          "model_module_version": "1.2.0",
          "state": {
            "_model_module": "@jupyter-widgets/base",
            "_model_module_version": "1.2.0",
            "_model_name": "LayoutModel",
            "_view_count": null,
            "_view_module": "@jupyter-widgets/base",
            "_view_module_version": "1.2.0",
            "_view_name": "LayoutView",
            "align_content": null,
            "align_items": null,
            "align_self": null,
            "border": null,
            "bottom": null,
            "display": null,
            "flex": null,
            "flex_flow": null,
            "grid_area": null,
            "grid_auto_columns": null,
            "grid_auto_flow": null,
            "grid_auto_rows": null,
            "grid_column": null,
            "grid_gap": null,
            "grid_row": null,
            "grid_template_areas": null,
            "grid_template_columns": null,
            "grid_template_rows": null,
            "height": null,
            "justify_content": null,
            "justify_items": null,
            "left": null,
            "margin": null,
            "max_height": null,
            "max_width": null,
            "min_height": null,
            "min_width": null,
            "object_fit": null,
            "object_position": null,
            "order": null,
            "overflow": null,
            "overflow_x": null,
            "overflow_y": null,
            "padding": null,
            "right": null,
            "top": null,
            "visibility": null,
            "width": null
          }
        },
        "1bc87feac41743898e2a56211acfcf1f": {
          "model_module": "@jupyter-widgets/controls",
          "model_name": "ProgressStyleModel",
          "model_module_version": "1.5.0",
          "state": {
            "_model_module": "@jupyter-widgets/controls",
            "_model_module_version": "1.5.0",
            "_model_name": "ProgressStyleModel",
            "_view_count": null,
            "_view_module": "@jupyter-widgets/base",
            "_view_module_version": "1.2.0",
            "_view_name": "StyleView",
            "bar_color": null,
            "description_width": ""
          }
        },
        "bf39e26ce2ec4c7aa7db6f0894fcd860": {
          "model_module": "@jupyter-widgets/base",
          "model_name": "LayoutModel",
          "model_module_version": "1.2.0",
          "state": {
            "_model_module": "@jupyter-widgets/base",
            "_model_module_version": "1.2.0",
            "_model_name": "LayoutModel",
            "_view_count": null,
            "_view_module": "@jupyter-widgets/base",
            "_view_module_version": "1.2.0",
            "_view_name": "LayoutView",
            "align_content": null,
            "align_items": null,
            "align_self": null,
            "border": null,
            "bottom": null,
            "display": null,
            "flex": null,
            "flex_flow": null,
            "grid_area": null,
            "grid_auto_columns": null,
            "grid_auto_flow": null,
            "grid_auto_rows": null,
            "grid_column": null,
            "grid_gap": null,
            "grid_row": null,
            "grid_template_areas": null,
            "grid_template_columns": null,
            "grid_template_rows": null,
            "height": null,
            "justify_content": null,
            "justify_items": null,
            "left": null,
            "margin": null,
            "max_height": null,
            "max_width": null,
            "min_height": null,
            "min_width": null,
            "object_fit": null,
            "object_position": null,
            "order": null,
            "overflow": null,
            "overflow_x": null,
            "overflow_y": null,
            "padding": null,
            "right": null,
            "top": null,
            "visibility": null,
            "width": null
          }
        },
        "aa9c88bb78ed411a8a46fc6d297fa378": {
          "model_module": "@jupyter-widgets/controls",
          "model_name": "DescriptionStyleModel",
          "model_module_version": "1.5.0",
          "state": {
            "_model_module": "@jupyter-widgets/controls",
            "_model_module_version": "1.5.0",
            "_model_name": "DescriptionStyleModel",
            "_view_count": null,
            "_view_module": "@jupyter-widgets/base",
            "_view_module_version": "1.2.0",
            "_view_name": "StyleView",
            "description_width": ""
          }
        },
        "99fe0237a40d47aeb02c94005d10d3eb": {
          "model_module": "@jupyter-widgets/controls",
          "model_name": "HBoxModel",
          "model_module_version": "1.5.0",
          "state": {
            "_dom_classes": [],
            "_model_module": "@jupyter-widgets/controls",
            "_model_module_version": "1.5.0",
            "_model_name": "HBoxModel",
            "_view_count": null,
            "_view_module": "@jupyter-widgets/controls",
            "_view_module_version": "1.5.0",
            "_view_name": "HBoxView",
            "box_style": "",
            "children": [
              "IPY_MODEL_48778d4c9c48405db3155ef5424d0b34",
              "IPY_MODEL_3ebf038e77864b6bb7c34d4724612d45",
              "IPY_MODEL_a6409e93520c401eab0335da2f023ef0"
            ],
            "layout": "IPY_MODEL_cc016d3f6a66443488b7cc40618a06bb"
          }
        },
        "48778d4c9c48405db3155ef5424d0b34": {
          "model_module": "@jupyter-widgets/controls",
          "model_name": "HTMLModel",
          "model_module_version": "1.5.0",
          "state": {
            "_dom_classes": [],
            "_model_module": "@jupyter-widgets/controls",
            "_model_module_version": "1.5.0",
            "_model_name": "HTMLModel",
            "_view_count": null,
            "_view_module": "@jupyter-widgets/controls",
            "_view_module_version": "1.5.0",
            "_view_name": "HTMLView",
            "description": "",
            "description_tooltip": null,
            "layout": "IPY_MODEL_1590d9ea31034b4f9c59774cec350668",
            "placeholder": "​",
            "style": "IPY_MODEL_3e2e247080d94ab0996aaab649dfd934",
            "value": "tokenizer_config.json: 100%"
          }
        },
        "3ebf038e77864b6bb7c34d4724612d45": {
          "model_module": "@jupyter-widgets/controls",
          "model_name": "FloatProgressModel",
          "model_module_version": "1.5.0",
          "state": {
            "_dom_classes": [],
            "_model_module": "@jupyter-widgets/controls",
            "_model_module_version": "1.5.0",
            "_model_name": "FloatProgressModel",
            "_view_count": null,
            "_view_module": "@jupyter-widgets/controls",
            "_view_module_version": "1.5.0",
            "_view_name": "ProgressView",
            "bar_style": "success",
            "description": "",
            "description_tooltip": null,
            "layout": "IPY_MODEL_98c2730e1cea41f989e577b0c5f41f8e",
            "max": 401,
            "min": 0,
            "orientation": "horizontal",
            "style": "IPY_MODEL_766d3097a455449cb36bd0a660c840ae",
            "value": 401
          }
        },
        "a6409e93520c401eab0335da2f023ef0": {
          "model_module": "@jupyter-widgets/controls",
          "model_name": "HTMLModel",
          "model_module_version": "1.5.0",
          "state": {
            "_dom_classes": [],
            "_model_module": "@jupyter-widgets/controls",
            "_model_module_version": "1.5.0",
            "_model_name": "HTMLModel",
            "_view_count": null,
            "_view_module": "@jupyter-widgets/controls",
            "_view_module_version": "1.5.0",
            "_view_name": "HTMLView",
            "description": "",
            "description_tooltip": null,
            "layout": "IPY_MODEL_89b0c1e1f56d419ea954ca826700db5c",
            "placeholder": "​",
            "style": "IPY_MODEL_2210bf4b4abb4d8ea8cd6082ccc708b9",
            "value": " 401/401 [00:00&lt;00:00, 6.61kB/s]"
          }
        },
        "cc016d3f6a66443488b7cc40618a06bb": {
          "model_module": "@jupyter-widgets/base",
          "model_name": "LayoutModel",
          "model_module_version": "1.2.0",
          "state": {
            "_model_module": "@jupyter-widgets/base",
            "_model_module_version": "1.2.0",
            "_model_name": "LayoutModel",
            "_view_count": null,
            "_view_module": "@jupyter-widgets/base",
            "_view_module_version": "1.2.0",
            "_view_name": "LayoutView",
            "align_content": null,
            "align_items": null,
            "align_self": null,
            "border": null,
            "bottom": null,
            "display": null,
            "flex": null,
            "flex_flow": null,
            "grid_area": null,
            "grid_auto_columns": null,
            "grid_auto_flow": null,
            "grid_auto_rows": null,
            "grid_column": null,
            "grid_gap": null,
            "grid_row": null,
            "grid_template_areas": null,
            "grid_template_columns": null,
            "grid_template_rows": null,
            "height": null,
            "justify_content": null,
            "justify_items": null,
            "left": null,
            "margin": null,
            "max_height": null,
            "max_width": null,
            "min_height": null,
            "min_width": null,
            "object_fit": null,
            "object_position": null,
            "order": null,
            "overflow": null,
            "overflow_x": null,
            "overflow_y": null,
            "padding": null,
            "right": null,
            "top": null,
            "visibility": null,
            "width": null
          }
        },
        "1590d9ea31034b4f9c59774cec350668": {
          "model_module": "@jupyter-widgets/base",
          "model_name": "LayoutModel",
          "model_module_version": "1.2.0",
          "state": {
            "_model_module": "@jupyter-widgets/base",
            "_model_module_version": "1.2.0",
            "_model_name": "LayoutModel",
            "_view_count": null,
            "_view_module": "@jupyter-widgets/base",
            "_view_module_version": "1.2.0",
            "_view_name": "LayoutView",
            "align_content": null,
            "align_items": null,
            "align_self": null,
            "border": null,
            "bottom": null,
            "display": null,
            "flex": null,
            "flex_flow": null,
            "grid_area": null,
            "grid_auto_columns": null,
            "grid_auto_flow": null,
            "grid_auto_rows": null,
            "grid_column": null,
            "grid_gap": null,
            "grid_row": null,
            "grid_template_areas": null,
            "grid_template_columns": null,
            "grid_template_rows": null,
            "height": null,
            "justify_content": null,
            "justify_items": null,
            "left": null,
            "margin": null,
            "max_height": null,
            "max_width": null,
            "min_height": null,
            "min_width": null,
            "object_fit": null,
            "object_position": null,
            "order": null,
            "overflow": null,
            "overflow_x": null,
            "overflow_y": null,
            "padding": null,
            "right": null,
            "top": null,
            "visibility": null,
            "width": null
          }
        },
        "3e2e247080d94ab0996aaab649dfd934": {
          "model_module": "@jupyter-widgets/controls",
          "model_name": "DescriptionStyleModel",
          "model_module_version": "1.5.0",
          "state": {
            "_model_module": "@jupyter-widgets/controls",
            "_model_module_version": "1.5.0",
            "_model_name": "DescriptionStyleModel",
            "_view_count": null,
            "_view_module": "@jupyter-widgets/base",
            "_view_module_version": "1.2.0",
            "_view_name": "StyleView",
            "description_width": ""
          }
        },
        "98c2730e1cea41f989e577b0c5f41f8e": {
          "model_module": "@jupyter-widgets/base",
          "model_name": "LayoutModel",
          "model_module_version": "1.2.0",
          "state": {
            "_model_module": "@jupyter-widgets/base",
            "_model_module_version": "1.2.0",
            "_model_name": "LayoutModel",
            "_view_count": null,
            "_view_module": "@jupyter-widgets/base",
            "_view_module_version": "1.2.0",
            "_view_name": "LayoutView",
            "align_content": null,
            "align_items": null,
            "align_self": null,
            "border": null,
            "bottom": null,
            "display": null,
            "flex": null,
            "flex_flow": null,
            "grid_area": null,
            "grid_auto_columns": null,
            "grid_auto_flow": null,
            "grid_auto_rows": null,
            "grid_column": null,
            "grid_gap": null,
            "grid_row": null,
            "grid_template_areas": null,
            "grid_template_columns": null,
            "grid_template_rows": null,
            "height": null,
            "justify_content": null,
            "justify_items": null,
            "left": null,
            "margin": null,
            "max_height": null,
            "max_width": null,
            "min_height": null,
            "min_width": null,
            "object_fit": null,
            "object_position": null,
            "order": null,
            "overflow": null,
            "overflow_x": null,
            "overflow_y": null,
            "padding": null,
            "right": null,
            "top": null,
            "visibility": null,
            "width": null
          }
        },
        "766d3097a455449cb36bd0a660c840ae": {
          "model_module": "@jupyter-widgets/controls",
          "model_name": "ProgressStyleModel",
          "model_module_version": "1.5.0",
          "state": {
            "_model_module": "@jupyter-widgets/controls",
            "_model_module_version": "1.5.0",
            "_model_name": "ProgressStyleModel",
            "_view_count": null,
            "_view_module": "@jupyter-widgets/base",
            "_view_module_version": "1.2.0",
            "_view_name": "StyleView",
            "bar_color": null,
            "description_width": ""
          }
        },
        "89b0c1e1f56d419ea954ca826700db5c": {
          "model_module": "@jupyter-widgets/base",
          "model_name": "LayoutModel",
          "model_module_version": "1.2.0",
          "state": {
            "_model_module": "@jupyter-widgets/base",
            "_model_module_version": "1.2.0",
            "_model_name": "LayoutModel",
            "_view_count": null,
            "_view_module": "@jupyter-widgets/base",
            "_view_module_version": "1.2.0",
            "_view_name": "LayoutView",
            "align_content": null,
            "align_items": null,
            "align_self": null,
            "border": null,
            "bottom": null,
            "display": null,
            "flex": null,
            "flex_flow": null,
            "grid_area": null,
            "grid_auto_columns": null,
            "grid_auto_flow": null,
            "grid_auto_rows": null,
            "grid_column": null,
            "grid_gap": null,
            "grid_row": null,
            "grid_template_areas": null,
            "grid_template_columns": null,
            "grid_template_rows": null,
            "height": null,
            "justify_content": null,
            "justify_items": null,
            "left": null,
            "margin": null,
            "max_height": null,
            "max_width": null,
            "min_height": null,
            "min_width": null,
            "object_fit": null,
            "object_position": null,
            "order": null,
            "overflow": null,
            "overflow_x": null,
            "overflow_y": null,
            "padding": null,
            "right": null,
            "top": null,
            "visibility": null,
            "width": null
          }
        },
        "2210bf4b4abb4d8ea8cd6082ccc708b9": {
          "model_module": "@jupyter-widgets/controls",
          "model_name": "DescriptionStyleModel",
          "model_module_version": "1.5.0",
          "state": {
            "_model_module": "@jupyter-widgets/controls",
            "_model_module_version": "1.5.0",
            "_model_name": "DescriptionStyleModel",
            "_view_count": null,
            "_view_module": "@jupyter-widgets/base",
            "_view_module_version": "1.2.0",
            "_view_name": "StyleView",
            "description_width": ""
          }
        },
        "f99f9917b0fd4003b9f64614224944cf": {
          "model_module": "@jupyter-widgets/controls",
          "model_name": "HBoxModel",
          "model_module_version": "1.5.0",
          "state": {
            "_dom_classes": [],
            "_model_module": "@jupyter-widgets/controls",
            "_model_module_version": "1.5.0",
            "_model_name": "HBoxModel",
            "_view_count": null,
            "_view_module": "@jupyter-widgets/controls",
            "_view_module_version": "1.5.0",
            "_view_name": "HBoxView",
            "box_style": "",
            "children": [
              "IPY_MODEL_4d4b851aa4074146b045472782c10bc0",
              "IPY_MODEL_d4e3f1bcb24b4756bb0fc45797b5574a",
              "IPY_MODEL_dc5919c16dfb485ca837726bfe285634"
            ],
            "layout": "IPY_MODEL_bef42819c3004e30b538c2f85fb41d98"
          }
        },
        "4d4b851aa4074146b045472782c10bc0": {
          "model_module": "@jupyter-widgets/controls",
          "model_name": "HTMLModel",
          "model_module_version": "1.5.0",
          "state": {
            "_dom_classes": [],
            "_model_module": "@jupyter-widgets/controls",
            "_model_module_version": "1.5.0",
            "_model_name": "HTMLModel",
            "_view_count": null,
            "_view_module": "@jupyter-widgets/controls",
            "_view_module_version": "1.5.0",
            "_view_name": "HTMLView",
            "description": "",
            "description_tooltip": null,
            "layout": "IPY_MODEL_572f3f018b6045c3a338a0cd879af6c4",
            "placeholder": "​",
            "style": "IPY_MODEL_8423328c63cf43d18e86f41f06f7b2d3",
            "value": "vocab.txt: 100%"
          }
        },
        "d4e3f1bcb24b4756bb0fc45797b5574a": {
          "model_module": "@jupyter-widgets/controls",
          "model_name": "FloatProgressModel",
          "model_module_version": "1.5.0",
          "state": {
            "_dom_classes": [],
            "_model_module": "@jupyter-widgets/controls",
            "_model_module_version": "1.5.0",
            "_model_name": "FloatProgressModel",
            "_view_count": null,
            "_view_module": "@jupyter-widgets/controls",
            "_view_module_version": "1.5.0",
            "_view_name": "ProgressView",
            "bar_style": "success",
            "description": "",
            "description_tooltip": null,
            "layout": "IPY_MODEL_0001cbd0b02e4abc8bde1a7b0697b036",
            "max": 1080667,
            "min": 0,
            "orientation": "horizontal",
            "style": "IPY_MODEL_59249972ecb04ebc8dfed14f499f99f5",
            "value": 1080667
          }
        },
        "dc5919c16dfb485ca837726bfe285634": {
          "model_module": "@jupyter-widgets/controls",
          "model_name": "HTMLModel",
          "model_module_version": "1.5.0",
          "state": {
            "_dom_classes": [],
            "_model_module": "@jupyter-widgets/controls",
            "_model_module_version": "1.5.0",
            "_model_name": "HTMLModel",
            "_view_count": null,
            "_view_module": "@jupyter-widgets/controls",
            "_view_module_version": "1.5.0",
            "_view_name": "HTMLView",
            "description": "",
            "description_tooltip": null,
            "layout": "IPY_MODEL_38b7c2b8b8bf4ad483dd43f7ef6978da",
            "placeholder": "​",
            "style": "IPY_MODEL_e7e994fe88e44c06805a7854eafb2df0",
            "value": " 1.08M/1.08M [00:00&lt;00:00, 1.68MB/s]"
          }
        },
        "bef42819c3004e30b538c2f85fb41d98": {
          "model_module": "@jupyter-widgets/base",
          "model_name": "LayoutModel",
          "model_module_version": "1.2.0",
          "state": {
            "_model_module": "@jupyter-widgets/base",
            "_model_module_version": "1.2.0",
            "_model_name": "LayoutModel",
            "_view_count": null,
            "_view_module": "@jupyter-widgets/base",
            "_view_module_version": "1.2.0",
            "_view_name": "LayoutView",
            "align_content": null,
            "align_items": null,
            "align_self": null,
            "border": null,
            "bottom": null,
            "display": null,
            "flex": null,
            "flex_flow": null,
            "grid_area": null,
            "grid_auto_columns": null,
            "grid_auto_flow": null,
            "grid_auto_rows": null,
            "grid_column": null,
            "grid_gap": null,
            "grid_row": null,
            "grid_template_areas": null,
            "grid_template_columns": null,
            "grid_template_rows": null,
            "height": null,
            "justify_content": null,
            "justify_items": null,
            "left": null,
            "margin": null,
            "max_height": null,
            "max_width": null,
            "min_height": null,
            "min_width": null,
            "object_fit": null,
            "object_position": null,
            "order": null,
            "overflow": null,
            "overflow_x": null,
            "overflow_y": null,
            "padding": null,
            "right": null,
            "top": null,
            "visibility": null,
            "width": null
          }
        },
        "572f3f018b6045c3a338a0cd879af6c4": {
          "model_module": "@jupyter-widgets/base",
          "model_name": "LayoutModel",
          "model_module_version": "1.2.0",
          "state": {
            "_model_module": "@jupyter-widgets/base",
            "_model_module_version": "1.2.0",
            "_model_name": "LayoutModel",
            "_view_count": null,
            "_view_module": "@jupyter-widgets/base",
            "_view_module_version": "1.2.0",
            "_view_name": "LayoutView",
            "align_content": null,
            "align_items": null,
            "align_self": null,
            "border": null,
            "bottom": null,
            "display": null,
            "flex": null,
            "flex_flow": null,
            "grid_area": null,
            "grid_auto_columns": null,
            "grid_auto_flow": null,
            "grid_auto_rows": null,
            "grid_column": null,
            "grid_gap": null,
            "grid_row": null,
            "grid_template_areas": null,
            "grid_template_columns": null,
            "grid_template_rows": null,
            "height": null,
            "justify_content": null,
            "justify_items": null,
            "left": null,
            "margin": null,
            "max_height": null,
            "max_width": null,
            "min_height": null,
            "min_width": null,
            "object_fit": null,
            "object_position": null,
            "order": null,
            "overflow": null,
            "overflow_x": null,
            "overflow_y": null,
            "padding": null,
            "right": null,
            "top": null,
            "visibility": null,
            "width": null
          }
        },
        "8423328c63cf43d18e86f41f06f7b2d3": {
          "model_module": "@jupyter-widgets/controls",
          "model_name": "DescriptionStyleModel",
          "model_module_version": "1.5.0",
          "state": {
            "_model_module": "@jupyter-widgets/controls",
            "_model_module_version": "1.5.0",
            "_model_name": "DescriptionStyleModel",
            "_view_count": null,
            "_view_module": "@jupyter-widgets/base",
            "_view_module_version": "1.2.0",
            "_view_name": "StyleView",
            "description_width": ""
          }
        },
        "0001cbd0b02e4abc8bde1a7b0697b036": {
          "model_module": "@jupyter-widgets/base",
          "model_name": "LayoutModel",
          "model_module_version": "1.2.0",
          "state": {
            "_model_module": "@jupyter-widgets/base",
            "_model_module_version": "1.2.0",
            "_model_name": "LayoutModel",
            "_view_count": null,
            "_view_module": "@jupyter-widgets/base",
            "_view_module_version": "1.2.0",
            "_view_name": "LayoutView",
            "align_content": null,
            "align_items": null,
            "align_self": null,
            "border": null,
            "bottom": null,
            "display": null,
            "flex": null,
            "flex_flow": null,
            "grid_area": null,
            "grid_auto_columns": null,
            "grid_auto_flow": null,
            "grid_auto_rows": null,
            "grid_column": null,
            "grid_gap": null,
            "grid_row": null,
            "grid_template_areas": null,
            "grid_template_columns": null,
            "grid_template_rows": null,
            "height": null,
            "justify_content": null,
            "justify_items": null,
            "left": null,
            "margin": null,
            "max_height": null,
            "max_width": null,
            "min_height": null,
            "min_width": null,
            "object_fit": null,
            "object_position": null,
            "order": null,
            "overflow": null,
            "overflow_x": null,
            "overflow_y": null,
            "padding": null,
            "right": null,
            "top": null,
            "visibility": null,
            "width": null
          }
        },
        "59249972ecb04ebc8dfed14f499f99f5": {
          "model_module": "@jupyter-widgets/controls",
          "model_name": "ProgressStyleModel",
          "model_module_version": "1.5.0",
          "state": {
            "_model_module": "@jupyter-widgets/controls",
            "_model_module_version": "1.5.0",
            "_model_name": "ProgressStyleModel",
            "_view_count": null,
            "_view_module": "@jupyter-widgets/base",
            "_view_module_version": "1.2.0",
            "_view_name": "StyleView",
            "bar_color": null,
            "description_width": ""
          }
        },
        "38b7c2b8b8bf4ad483dd43f7ef6978da": {
          "model_module": "@jupyter-widgets/base",
          "model_name": "LayoutModel",
          "model_module_version": "1.2.0",
          "state": {
            "_model_module": "@jupyter-widgets/base",
            "_model_module_version": "1.2.0",
            "_model_name": "LayoutModel",
            "_view_count": null,
            "_view_module": "@jupyter-widgets/base",
            "_view_module_version": "1.2.0",
            "_view_name": "LayoutView",
            "align_content": null,
            "align_items": null,
            "align_self": null,
            "border": null,
            "bottom": null,
            "display": null,
            "flex": null,
            "flex_flow": null,
            "grid_area": null,
            "grid_auto_columns": null,
            "grid_auto_flow": null,
            "grid_auto_rows": null,
            "grid_column": null,
            "grid_gap": null,
            "grid_row": null,
            "grid_template_areas": null,
            "grid_template_columns": null,
            "grid_template_rows": null,
            "height": null,
            "justify_content": null,
            "justify_items": null,
            "left": null,
            "margin": null,
            "max_height": null,
            "max_width": null,
            "min_height": null,
            "min_width": null,
            "object_fit": null,
            "object_position": null,
            "order": null,
            "overflow": null,
            "overflow_x": null,
            "overflow_y": null,
            "padding": null,
            "right": null,
            "top": null,
            "visibility": null,
            "width": null
          }
        },
        "e7e994fe88e44c06805a7854eafb2df0": {
          "model_module": "@jupyter-widgets/controls",
          "model_name": "DescriptionStyleModel",
          "model_module_version": "1.5.0",
          "state": {
            "_model_module": "@jupyter-widgets/controls",
            "_model_module_version": "1.5.0",
            "_model_name": "DescriptionStyleModel",
            "_view_count": null,
            "_view_module": "@jupyter-widgets/base",
            "_view_module_version": "1.2.0",
            "_view_name": "StyleView",
            "description_width": ""
          }
        },
        "92d19e55d7e14b06a434fc7ce0244a6d": {
          "model_module": "@jupyter-widgets/controls",
          "model_name": "HBoxModel",
          "model_module_version": "1.5.0",
          "state": {
            "_dom_classes": [],
            "_model_module": "@jupyter-widgets/controls",
            "_model_module_version": "1.5.0",
            "_model_name": "HBoxModel",
            "_view_count": null,
            "_view_module": "@jupyter-widgets/controls",
            "_view_module_version": "1.5.0",
            "_view_name": "HBoxView",
            "box_style": "",
            "children": [
              "IPY_MODEL_d11a819842494226ac7cf85cd986c613",
              "IPY_MODEL_ca6b38e08ef24aefa3d5a3e325fe54b0",
              "IPY_MODEL_a72d1aa04e9841debe8bee71df1211a2"
            ],
            "layout": "IPY_MODEL_daea1e644f79476dade1704af06f97b0"
          }
        },
        "d11a819842494226ac7cf85cd986c613": {
          "model_module": "@jupyter-widgets/controls",
          "model_name": "HTMLModel",
          "model_module_version": "1.5.0",
          "state": {
            "_dom_classes": [],
            "_model_module": "@jupyter-widgets/controls",
            "_model_module_version": "1.5.0",
            "_model_name": "HTMLModel",
            "_view_count": null,
            "_view_module": "@jupyter-widgets/controls",
            "_view_module_version": "1.5.0",
            "_view_name": "HTMLView",
            "description": "",
            "description_tooltip": null,
            "layout": "IPY_MODEL_338eeee5bb414528bb2bd1be620123b8",
            "placeholder": "​",
            "style": "IPY_MODEL_1728fbad08b14046ab5bfaf186389c74",
            "value": "tokenizer.json: 100%"
          }
        },
        "ca6b38e08ef24aefa3d5a3e325fe54b0": {
          "model_module": "@jupyter-widgets/controls",
          "model_name": "FloatProgressModel",
          "model_module_version": "1.5.0",
          "state": {
            "_dom_classes": [],
            "_model_module": "@jupyter-widgets/controls",
            "_model_module_version": "1.5.0",
            "_model_name": "FloatProgressModel",
            "_view_count": null,
            "_view_module": "@jupyter-widgets/controls",
            "_view_module_version": "1.5.0",
            "_view_name": "ProgressView",
            "bar_style": "success",
            "description": "",
            "description_tooltip": null,
            "layout": "IPY_MODEL_451a2b4bf2c64562ac4fa270b96ba786",
            "max": 1741842,
            "min": 0,
            "orientation": "horizontal",
            "style": "IPY_MODEL_9408611a1b6743859cfde1436b6aa757",
            "value": 1741842
          }
        },
        "a72d1aa04e9841debe8bee71df1211a2": {
          "model_module": "@jupyter-widgets/controls",
          "model_name": "HTMLModel",
          "model_module_version": "1.5.0",
          "state": {
            "_dom_classes": [],
            "_model_module": "@jupyter-widgets/controls",
            "_model_module_version": "1.5.0",
            "_model_name": "HTMLModel",
            "_view_count": null,
            "_view_module": "@jupyter-widgets/controls",
            "_view_module_version": "1.5.0",
            "_view_name": "HTMLView",
            "description": "",
            "description_tooltip": null,
            "layout": "IPY_MODEL_7bee9999d65c427b94ff67f15b71c6e9",
            "placeholder": "​",
            "style": "IPY_MODEL_bf3b6b6f77844eca873d5c92f47ba2dd",
            "value": " 1.74M/1.74M [00:03&lt;00:00, 579kB/s]"
          }
        },
        "daea1e644f79476dade1704af06f97b0": {
          "model_module": "@jupyter-widgets/base",
          "model_name": "LayoutModel",
          "model_module_version": "1.2.0",
          "state": {
            "_model_module": "@jupyter-widgets/base",
            "_model_module_version": "1.2.0",
            "_model_name": "LayoutModel",
            "_view_count": null,
            "_view_module": "@jupyter-widgets/base",
            "_view_module_version": "1.2.0",
            "_view_name": "LayoutView",
            "align_content": null,
            "align_items": null,
            "align_self": null,
            "border": null,
            "bottom": null,
            "display": null,
            "flex": null,
            "flex_flow": null,
            "grid_area": null,
            "grid_auto_columns": null,
            "grid_auto_flow": null,
            "grid_auto_rows": null,
            "grid_column": null,
            "grid_gap": null,
            "grid_row": null,
            "grid_template_areas": null,
            "grid_template_columns": null,
            "grid_template_rows": null,
            "height": null,
            "justify_content": null,
            "justify_items": null,
            "left": null,
            "margin": null,
            "max_height": null,
            "max_width": null,
            "min_height": null,
            "min_width": null,
            "object_fit": null,
            "object_position": null,
            "order": null,
            "overflow": null,
            "overflow_x": null,
            "overflow_y": null,
            "padding": null,
            "right": null,
            "top": null,
            "visibility": null,
            "width": null
          }
        },
        "338eeee5bb414528bb2bd1be620123b8": {
          "model_module": "@jupyter-widgets/base",
          "model_name": "LayoutModel",
          "model_module_version": "1.2.0",
          "state": {
            "_model_module": "@jupyter-widgets/base",
            "_model_module_version": "1.2.0",
            "_model_name": "LayoutModel",
            "_view_count": null,
            "_view_module": "@jupyter-widgets/base",
            "_view_module_version": "1.2.0",
            "_view_name": "LayoutView",
            "align_content": null,
            "align_items": null,
            "align_self": null,
            "border": null,
            "bottom": null,
            "display": null,
            "flex": null,
            "flex_flow": null,
            "grid_area": null,
            "grid_auto_columns": null,
            "grid_auto_flow": null,
            "grid_auto_rows": null,
            "grid_column": null,
            "grid_gap": null,
            "grid_row": null,
            "grid_template_areas": null,
            "grid_template_columns": null,
            "grid_template_rows": null,
            "height": null,
            "justify_content": null,
            "justify_items": null,
            "left": null,
            "margin": null,
            "max_height": null,
            "max_width": null,
            "min_height": null,
            "min_width": null,
            "object_fit": null,
            "object_position": null,
            "order": null,
            "overflow": null,
            "overflow_x": null,
            "overflow_y": null,
            "padding": null,
            "right": null,
            "top": null,
            "visibility": null,
            "width": null
          }
        },
        "1728fbad08b14046ab5bfaf186389c74": {
          "model_module": "@jupyter-widgets/controls",
          "model_name": "DescriptionStyleModel",
          "model_module_version": "1.5.0",
          "state": {
            "_model_module": "@jupyter-widgets/controls",
            "_model_module_version": "1.5.0",
            "_model_name": "DescriptionStyleModel",
            "_view_count": null,
            "_view_module": "@jupyter-widgets/base",
            "_view_module_version": "1.2.0",
            "_view_name": "StyleView",
            "description_width": ""
          }
        },
        "451a2b4bf2c64562ac4fa270b96ba786": {
          "model_module": "@jupyter-widgets/base",
          "model_name": "LayoutModel",
          "model_module_version": "1.2.0",
          "state": {
            "_model_module": "@jupyter-widgets/base",
            "_model_module_version": "1.2.0",
            "_model_name": "LayoutModel",
            "_view_count": null,
            "_view_module": "@jupyter-widgets/base",
            "_view_module_version": "1.2.0",
            "_view_name": "LayoutView",
            "align_content": null,
            "align_items": null,
            "align_self": null,
            "border": null,
            "bottom": null,
            "display": null,
            "flex": null,
            "flex_flow": null,
            "grid_area": null,
            "grid_auto_columns": null,
            "grid_auto_flow": null,
            "grid_auto_rows": null,
            "grid_column": null,
            "grid_gap": null,
            "grid_row": null,
            "grid_template_areas": null,
            "grid_template_columns": null,
            "grid_template_rows": null,
            "height": null,
            "justify_content": null,
            "justify_items": null,
            "left": null,
            "margin": null,
            "max_height": null,
            "max_width": null,
            "min_height": null,
            "min_width": null,
            "object_fit": null,
            "object_position": null,
            "order": null,
            "overflow": null,
            "overflow_x": null,
            "overflow_y": null,
            "padding": null,
            "right": null,
            "top": null,
            "visibility": null,
            "width": null
          }
        },
        "9408611a1b6743859cfde1436b6aa757": {
          "model_module": "@jupyter-widgets/controls",
          "model_name": "ProgressStyleModel",
          "model_module_version": "1.5.0",
          "state": {
            "_model_module": "@jupyter-widgets/controls",
            "_model_module_version": "1.5.0",
            "_model_name": "ProgressStyleModel",
            "_view_count": null,
            "_view_module": "@jupyter-widgets/base",
            "_view_module_version": "1.2.0",
            "_view_name": "StyleView",
            "bar_color": null,
            "description_width": ""
          }
        },
        "7bee9999d65c427b94ff67f15b71c6e9": {
          "model_module": "@jupyter-widgets/base",
          "model_name": "LayoutModel",
          "model_module_version": "1.2.0",
          "state": {
            "_model_module": "@jupyter-widgets/base",
            "_model_module_version": "1.2.0",
            "_model_name": "LayoutModel",
            "_view_count": null,
            "_view_module": "@jupyter-widgets/base",
            "_view_module_version": "1.2.0",
            "_view_name": "LayoutView",
            "align_content": null,
            "align_items": null,
            "align_self": null,
            "border": null,
            "bottom": null,
            "display": null,
            "flex": null,
            "flex_flow": null,
            "grid_area": null,
            "grid_auto_columns": null,
            "grid_auto_flow": null,
            "grid_auto_rows": null,
            "grid_column": null,
            "grid_gap": null,
            "grid_row": null,
            "grid_template_areas": null,
            "grid_template_columns": null,
            "grid_template_rows": null,
            "height": null,
            "justify_content": null,
            "justify_items": null,
            "left": null,
            "margin": null,
            "max_height": null,
            "max_width": null,
            "min_height": null,
            "min_width": null,
            "object_fit": null,
            "object_position": null,
            "order": null,
            "overflow": null,
            "overflow_x": null,
            "overflow_y": null,
            "padding": null,
            "right": null,
            "top": null,
            "visibility": null,
            "width": null
          }
        },
        "bf3b6b6f77844eca873d5c92f47ba2dd": {
          "model_module": "@jupyter-widgets/controls",
          "model_name": "DescriptionStyleModel",
          "model_module_version": "1.5.0",
          "state": {
            "_model_module": "@jupyter-widgets/controls",
            "_model_module_version": "1.5.0",
            "_model_name": "DescriptionStyleModel",
            "_view_count": null,
            "_view_module": "@jupyter-widgets/base",
            "_view_module_version": "1.2.0",
            "_view_name": "StyleView",
            "description_width": ""
          }
        },
        "5248349d13a145658582e79ce89ec924": {
          "model_module": "@jupyter-widgets/controls",
          "model_name": "HBoxModel",
          "model_module_version": "1.5.0",
          "state": {
            "_dom_classes": [],
            "_model_module": "@jupyter-widgets/controls",
            "_model_module_version": "1.5.0",
            "_model_name": "HBoxModel",
            "_view_count": null,
            "_view_module": "@jupyter-widgets/controls",
            "_view_module_version": "1.5.0",
            "_view_name": "HBoxView",
            "box_style": "",
            "children": [
              "IPY_MODEL_2e10d07ed1dd47e29a904cfe65e68343",
              "IPY_MODEL_ef6d13547ecd459794fea3049d119725",
              "IPY_MODEL_8446aaf805734648a58be734f221f51c"
            ],
            "layout": "IPY_MODEL_6e4e91aa38e14e92bc3e10a94f54b8be"
          }
        },
        "2e10d07ed1dd47e29a904cfe65e68343": {
          "model_module": "@jupyter-widgets/controls",
          "model_name": "HTMLModel",
          "model_module_version": "1.5.0",
          "state": {
            "_dom_classes": [],
            "_model_module": "@jupyter-widgets/controls",
            "_model_module_version": "1.5.0",
            "_model_name": "HTMLModel",
            "_view_count": null,
            "_view_module": "@jupyter-widgets/controls",
            "_view_module_version": "1.5.0",
            "_view_name": "HTMLView",
            "description": "",
            "description_tooltip": null,
            "layout": "IPY_MODEL_f7e2b6dfee324603b15076608a991ced",
            "placeholder": "​",
            "style": "IPY_MODEL_8b6fff15a41643f0b5886e0a7cd4cfcc",
            "value": "special_tokens_map.json: 100%"
          }
        },
        "ef6d13547ecd459794fea3049d119725": {
          "model_module": "@jupyter-widgets/controls",
          "model_name": "FloatProgressModel",
          "model_module_version": "1.5.0",
          "state": {
            "_dom_classes": [],
            "_model_module": "@jupyter-widgets/controls",
            "_model_module_version": "1.5.0",
            "_model_name": "FloatProgressModel",
            "_view_count": null,
            "_view_module": "@jupyter-widgets/controls",
            "_view_module_version": "1.5.0",
            "_view_name": "ProgressView",
            "bar_style": "success",
            "description": "",
            "description_tooltip": null,
            "layout": "IPY_MODEL_5f15a78ab54a4b078aa0555015ed0d68",
            "max": 112,
            "min": 0,
            "orientation": "horizontal",
            "style": "IPY_MODEL_34ddc30c55b44ba4a3e5313f188a155d",
            "value": 112
          }
        },
        "8446aaf805734648a58be734f221f51c": {
          "model_module": "@jupyter-widgets/controls",
          "model_name": "HTMLModel",
          "model_module_version": "1.5.0",
          "state": {
            "_dom_classes": [],
            "_model_module": "@jupyter-widgets/controls",
            "_model_module_version": "1.5.0",
            "_model_name": "HTMLModel",
            "_view_count": null,
            "_view_module": "@jupyter-widgets/controls",
            "_view_module_version": "1.5.0",
            "_view_name": "HTMLView",
            "description": "",
            "description_tooltip": null,
            "layout": "IPY_MODEL_e2e0cb58dd5746a3b565c2b54ace32ab",
            "placeholder": "​",
            "style": "IPY_MODEL_5a6cee92db9a4856a6bba23ad310abc6",
            "value": " 112/112 [00:00&lt;00:00, 1.71kB/s]"
          }
        },
        "6e4e91aa38e14e92bc3e10a94f54b8be": {
          "model_module": "@jupyter-widgets/base",
          "model_name": "LayoutModel",
          "model_module_version": "1.2.0",
          "state": {
            "_model_module": "@jupyter-widgets/base",
            "_model_module_version": "1.2.0",
            "_model_name": "LayoutModel",
            "_view_count": null,
            "_view_module": "@jupyter-widgets/base",
            "_view_module_version": "1.2.0",
            "_view_name": "LayoutView",
            "align_content": null,
            "align_items": null,
            "align_self": null,
            "border": null,
            "bottom": null,
            "display": null,
            "flex": null,
            "flex_flow": null,
            "grid_area": null,
            "grid_auto_columns": null,
            "grid_auto_flow": null,
            "grid_auto_rows": null,
            "grid_column": null,
            "grid_gap": null,
            "grid_row": null,
            "grid_template_areas": null,
            "grid_template_columns": null,
            "grid_template_rows": null,
            "height": null,
            "justify_content": null,
            "justify_items": null,
            "left": null,
            "margin": null,
            "max_height": null,
            "max_width": null,
            "min_height": null,
            "min_width": null,
            "object_fit": null,
            "object_position": null,
            "order": null,
            "overflow": null,
            "overflow_x": null,
            "overflow_y": null,
            "padding": null,
            "right": null,
            "top": null,
            "visibility": null,
            "width": null
          }
        },
        "f7e2b6dfee324603b15076608a991ced": {
          "model_module": "@jupyter-widgets/base",
          "model_name": "LayoutModel",
          "model_module_version": "1.2.0",
          "state": {
            "_model_module": "@jupyter-widgets/base",
            "_model_module_version": "1.2.0",
            "_model_name": "LayoutModel",
            "_view_count": null,
            "_view_module": "@jupyter-widgets/base",
            "_view_module_version": "1.2.0",
            "_view_name": "LayoutView",
            "align_content": null,
            "align_items": null,
            "align_self": null,
            "border": null,
            "bottom": null,
            "display": null,
            "flex": null,
            "flex_flow": null,
            "grid_area": null,
            "grid_auto_columns": null,
            "grid_auto_flow": null,
            "grid_auto_rows": null,
            "grid_column": null,
            "grid_gap": null,
            "grid_row": null,
            "grid_template_areas": null,
            "grid_template_columns": null,
            "grid_template_rows": null,
            "height": null,
            "justify_content": null,
            "justify_items": null,
            "left": null,
            "margin": null,
            "max_height": null,
            "max_width": null,
            "min_height": null,
            "min_width": null,
            "object_fit": null,
            "object_position": null,
            "order": null,
            "overflow": null,
            "overflow_x": null,
            "overflow_y": null,
            "padding": null,
            "right": null,
            "top": null,
            "visibility": null,
            "width": null
          }
        },
        "8b6fff15a41643f0b5886e0a7cd4cfcc": {
          "model_module": "@jupyter-widgets/controls",
          "model_name": "DescriptionStyleModel",
          "model_module_version": "1.5.0",
          "state": {
            "_model_module": "@jupyter-widgets/controls",
            "_model_module_version": "1.5.0",
            "_model_name": "DescriptionStyleModel",
            "_view_count": null,
            "_view_module": "@jupyter-widgets/base",
            "_view_module_version": "1.2.0",
            "_view_name": "StyleView",
            "description_width": ""
          }
        },
        "5f15a78ab54a4b078aa0555015ed0d68": {
          "model_module": "@jupyter-widgets/base",
          "model_name": "LayoutModel",
          "model_module_version": "1.2.0",
          "state": {
            "_model_module": "@jupyter-widgets/base",
            "_model_module_version": "1.2.0",
            "_model_name": "LayoutModel",
            "_view_count": null,
            "_view_module": "@jupyter-widgets/base",
            "_view_module_version": "1.2.0",
            "_view_name": "LayoutView",
            "align_content": null,
            "align_items": null,
            "align_self": null,
            "border": null,
            "bottom": null,
            "display": null,
            "flex": null,
            "flex_flow": null,
            "grid_area": null,
            "grid_auto_columns": null,
            "grid_auto_flow": null,
            "grid_auto_rows": null,
            "grid_column": null,
            "grid_gap": null,
            "grid_row": null,
            "grid_template_areas": null,
            "grid_template_columns": null,
            "grid_template_rows": null,
            "height": null,
            "justify_content": null,
            "justify_items": null,
            "left": null,
            "margin": null,
            "max_height": null,
            "max_width": null,
            "min_height": null,
            "min_width": null,
            "object_fit": null,
            "object_position": null,
            "order": null,
            "overflow": null,
            "overflow_x": null,
            "overflow_y": null,
            "padding": null,
            "right": null,
            "top": null,
            "visibility": null,
            "width": null
          }
        },
        "34ddc30c55b44ba4a3e5313f188a155d": {
          "model_module": "@jupyter-widgets/controls",
          "model_name": "ProgressStyleModel",
          "model_module_version": "1.5.0",
          "state": {
            "_model_module": "@jupyter-widgets/controls",
            "_model_module_version": "1.5.0",
            "_model_name": "ProgressStyleModel",
            "_view_count": null,
            "_view_module": "@jupyter-widgets/base",
            "_view_module_version": "1.2.0",
            "_view_name": "StyleView",
            "bar_color": null,
            "description_width": ""
          }
        },
        "e2e0cb58dd5746a3b565c2b54ace32ab": {
          "model_module": "@jupyter-widgets/base",
          "model_name": "LayoutModel",
          "model_module_version": "1.2.0",
          "state": {
            "_model_module": "@jupyter-widgets/base",
            "_model_module_version": "1.2.0",
            "_model_name": "LayoutModel",
            "_view_count": null,
            "_view_module": "@jupyter-widgets/base",
            "_view_module_version": "1.2.0",
            "_view_name": "LayoutView",
            "align_content": null,
            "align_items": null,
            "align_self": null,
            "border": null,
            "bottom": null,
            "display": null,
            "flex": null,
            "flex_flow": null,
            "grid_area": null,
            "grid_auto_columns": null,
            "grid_auto_flow": null,
            "grid_auto_rows": null,
            "grid_column": null,
            "grid_gap": null,
            "grid_row": null,
            "grid_template_areas": null,
            "grid_template_columns": null,
            "grid_template_rows": null,
            "height": null,
            "justify_content": null,
            "justify_items": null,
            "left": null,
            "margin": null,
            "max_height": null,
            "max_width": null,
            "min_height": null,
            "min_width": null,
            "object_fit": null,
            "object_position": null,
            "order": null,
            "overflow": null,
            "overflow_x": null,
            "overflow_y": null,
            "padding": null,
            "right": null,
            "top": null,
            "visibility": null,
            "width": null
          }
        },
        "5a6cee92db9a4856a6bba23ad310abc6": {
          "model_module": "@jupyter-widgets/controls",
          "model_name": "DescriptionStyleModel",
          "model_module_version": "1.5.0",
          "state": {
            "_model_module": "@jupyter-widgets/controls",
            "_model_module_version": "1.5.0",
            "_model_name": "DescriptionStyleModel",
            "_view_count": null,
            "_view_module": "@jupyter-widgets/base",
            "_view_module_version": "1.2.0",
            "_view_name": "StyleView",
            "description_width": ""
          }
        }
      }
    },
    "accelerator": "GPU"
  },
  "nbformat": 4,
  "nbformat_minor": 0
}
