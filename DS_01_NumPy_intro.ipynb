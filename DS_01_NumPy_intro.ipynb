{
  "cells": [
    {
      "cell_type": "markdown",
      "metadata": {
        "id": "f_ES-UiXoEl_"
      },
      "source": [
        "# Знакомство с NumPy\n"
      ]
    },
    {
      "cell_type": "markdown",
      "metadata": {
        "id": "7bw67Xe1oEmC"
      },
      "source": [
        "### О задании\n",
        "\n",
        "В этом домашнем задании вы попрактикуетесь в работе с библиотекой numpy, которая позволяет сравнительно легко и удобно выполнять разнообразные вычисления, избегая самостоятельной реализации поэлементной обработки."
      ]
    },
    {
      "cell_type": "markdown",
      "metadata": {
        "id": "br7b67XToEmF"
      },
      "source": [
        "Во всех задачах необходимо написать код решения внутри функции и убедиться, что она работает, с помощью [assert](https://python-reference.readthedocs.io/en/latest/docs/statements/assert.html) на выражение с использованием этой функции для данных из условия.\n",
        "\n",
        "При решении задач запрещается использовать циклы (`for`, `while`) и оператор `if`.\n",
        "\n",
        "Везде, где встречаются массивы или матрицы, подразумевается, что это `numpy.array`.\n",
        "\n",
        "**numpy reference:** https://numpy.org/doc/stable/reference/index.html"
      ]
    },
    {
      "cell_type": "code",
      "execution_count": 1,
      "metadata": {
        "pycharm": {
          "name": "#%%\n"
        },
        "id": "dobtSJ1hoEmI"
      },
      "outputs": [],
      "source": [
        "import numpy as np"
      ]
    },
    {
      "cell_type": "markdown",
      "metadata": {
        "id": "oaoV5WfvoEmK"
      },
      "source": [
        "### Задание 1"
      ]
    },
    {
      "cell_type": "markdown",
      "metadata": {
        "id": "08929FmpoEmM"
      },
      "source": [
        "Напишите функцию, возвращающую округленную взвешенную сумму оценок по данным оценкам и весам. Можете посчитать свою оценку за курс :) В нашем случае вес экзамена равен 0.3, вес домашек - 0.4, вес контрольной - 0.2, вес самостоятельных - 0.1. Например, если за экзамен у вас 7, за домашки 10, за контрольную 8, а за самостоятельные 6, то вы получите отличную оценку 8!"
      ]
    },
    {
      "cell_type": "code",
      "execution_count": 2,
      "metadata": {
        "pycharm": {
          "name": "#%%\n"
        },
        "id": "3s_JCnudoEmN"
      },
      "outputs": [],
      "source": [
        "def result_mark(weights: np.array, marks: np.array) -> int:\n",
        "    return np.round(weights.dot(marks))"
      ]
    },
    {
      "cell_type": "code",
      "execution_count": 3,
      "metadata": {
        "pycharm": {
          "name": "#%%\n"
        },
        "id": "TnJJgc_loEmP"
      },
      "outputs": [],
      "source": [
        "weights = np.array([0.3, 0.4, 0.2, 0.1])\n",
        "marks = np.array([7, 10, 8, 6])\n",
        "\n",
        "assert result_mark(weights, marks) == 8"
      ]
    },
    {
      "cell_type": "code",
      "execution_count": 4,
      "metadata": {
        "pycharm": {
          "name": "#%%\n"
        },
        "id": "Saz2Vv-aoEmR"
      },
      "outputs": [],
      "source": [
        "weights = np.array([0.3, 0.4, 0.2, 0.1])\n",
        "marks = np.array([7, 0, 8, 6])\n",
        "\n",
        "assert result_mark(weights, marks) == 4"
      ]
    },
    {
      "cell_type": "markdown",
      "metadata": {
        "id": "z69StXoJoEmS"
      },
      "source": [
        "### Задание 2"
      ]
    },
    {
      "cell_type": "markdown",
      "metadata": {
        "id": "ddg1eSt4oEmT"
      },
      "source": [
        "Напишите функцию, меняющую каждое третье (начиная с 0) значение массива целых чисел на заданное число. Например, если на вход поступает массив `array([3, 5, 1, 0, -3, 22, 213436])` и число `-111`, то на выходе должен получиться массив `array([-111, 5, 1, -111, -3, 22, -111])`."
      ]
    },
    {
      "cell_type": "code",
      "execution_count": 5,
      "metadata": {
        "pycharm": {
          "name": "#%%\n"
        },
        "id": "5yRtP3j0oEmU"
      },
      "outputs": [],
      "source": [
        "def change_array(array: np.array, number: int) -> np.array:\n",
        "    array[::3] = number\n",
        "    return array"
      ]
    },
    {
      "cell_type": "code",
      "execution_count": 6,
      "metadata": {
        "pycharm": {
          "name": "#%%\n"
        },
        "id": "tH-n3dFZoEmV"
      },
      "outputs": [],
      "source": [
        "array = np.array([3, 5, 1, 0, -3, 22, 213436])\n",
        "number = -111\n",
        "\n",
        "assert np.allclose(change_array(array, number), np.array([-111, 5, 1, -111, -3, 22, -111]))"
      ]
    },
    {
      "cell_type": "code",
      "execution_count": 7,
      "metadata": {
        "pycharm": {
          "name": "#%%\n"
        },
        "id": "0N7G7YKfoEmY"
      },
      "outputs": [],
      "source": [
        "array = np.array([3, 14, 15, 92, 6])\n",
        "number = 8\n",
        "\n",
        "assert np.allclose(change_array(array, number), np.array([8, 14, 15, 8, 6]))"
      ]
    },
    {
      "cell_type": "markdown",
      "metadata": {
        "id": "un2gSZ5hoEmY"
      },
      "source": [
        "### Задание 3"
      ]
    },
    {
      "cell_type": "markdown",
      "metadata": {
        "id": "kXqbuSOxoEmZ"
      },
      "source": [
        "Напишите функцию, выдающую индексы «близких» элементов заданных массивов, а именно тех пар элементов, чей модуль разницы не превосходит заданного значения. Например, если на вход поступают массив `array([1.5, 0.5, 2, -4.1, -3, 6, -1])`, массив `array([1.2, 0.5, 1, -4, 3, 0, -1.2])` и число `0.5`, то на выходе должен получиться массив `array([0, 1, 3, 6])` (**важно: не `tuple`, а одномерный массив типа `numpy.ndarray` (то есть `.ndim` от него равно 1)!**)."
      ]
    },
    {
      "cell_type": "code",
      "execution_count": 8,
      "metadata": {
        "pycharm": {
          "name": "#%%\n"
        },
        "id": "uRkV_N7xoEmZ"
      },
      "outputs": [],
      "source": [
        "def find_close(array1: np.array, array2: np.array,\n",
        "               precision: float) -> np.array:\n",
        "    return np.where(np.abs(array1 - array2) <= precision)[0]"
      ]
    },
    {
      "cell_type": "code",
      "execution_count": 9,
      "metadata": {
        "pycharm": {
          "name": "#%%\n"
        },
        "id": "mZ5tiPUJoEmZ"
      },
      "outputs": [],
      "source": [
        "array1 = np.array([1.5, 0.5, 2, -4.1, -3, 6, -1])\n",
        "array2 = np.array([1.2, 0.5, 1, -4.0,  3, 0, -1.2])\n",
        "precision = 0.5\n",
        "res = find_close(array1, array2, precision)\n",
        "\n",
        "assert res.ndim == 1\n",
        "assert np.allclose(res, np.array([0, 1, 3, 6]))"
      ]
    },
    {
      "cell_type": "code",
      "execution_count": 10,
      "metadata": {
        "pycharm": {
          "name": "#%%\n"
        },
        "id": "ELhNWFe-oEma"
      },
      "outputs": [],
      "source": [
        "array1 = np.array([3.1415, 2.7182, 1.6180, 6.6261])\n",
        "array2 = np.array([6.6730, 1.3807, -1,     6.0222])\n",
        "precision = 1.7\n",
        "res = find_close(array1, array2, precision)\n",
        "\n",
        "assert res.ndim == 1\n",
        "assert np.allclose(res, np.array([1, 3]))"
      ]
    },
    {
      "cell_type": "markdown",
      "metadata": {
        "id": "SKYi9w6joEmb"
      },
      "source": [
        "### Задание 4"
      ]
    },
    {
      "cell_type": "markdown",
      "metadata": {
        "id": "H2Nd_PsDoEmb"
      },
      "source": [
        "Напишите функцию, которая составляет блочную матрицу из четырех блоков, где каждый блок - это заданная матрица. Например, если на вход поступает матрица\n",
        "$$\n",
        "\\begin{pmatrix}\n",
        "0 & 1 & 2\\\\\n",
        "3 & 4 & 5\\\\\n",
        "\\end{pmatrix},\n",
        "$$\n",
        "то ответом будет матрица\n",
        "$$\n",
        "\\begin{pmatrix}\n",
        "0 & 1 & 2 & 0 & 1 & 2\\\\\n",
        "3 & 4 & 5 & 3 & 4 & 5\\\\\n",
        "0 & 1 & 2 & 0 & 1 & 2\\\\\n",
        "3 & 4 & 5 & 3 & 4 & 5\\\\\n",
        "\\end{pmatrix}\n",
        "$$"
      ]
    },
    {
      "cell_type": "code",
      "execution_count": 11,
      "metadata": {
        "pycharm": {
          "name": "#%%\n"
        },
        "id": "sKDEcbr8oEmb"
      },
      "outputs": [],
      "source": [
        "def block_matrix(block: np.array) -> np.array:\n",
        "    array1 = np.hstack([block, block])\n",
        "    return np.vstack([array1, array1])"
      ]
    },
    {
      "cell_type": "code",
      "execution_count": 12,
      "metadata": {
        "pycharm": {
          "name": "#%%\n"
        },
        "id": "slVKoLwjoEmc"
      },
      "outputs": [],
      "source": [
        "block = np.array([[1, 3, 3], [7, 0, 0]])\n",
        "\n",
        "assert np.allclose(\n",
        "    block_matrix(block),\n",
        "    np.array([[1, 3, 3, 1, 3, 3],\n",
        "              [7, 0, 0, 7, 0, 0],\n",
        "              [1, 3, 3, 1, 3, 3],\n",
        "              [7, 0, 0, 7, 0, 0]])\n",
        ")"
      ]
    },
    {
      "cell_type": "markdown",
      "metadata": {
        "id": "aBLN_SploEmc"
      },
      "source": [
        "### Задание 5"
      ]
    },
    {
      "cell_type": "markdown",
      "metadata": {
        "id": "VZ71qSheoEmc"
      },
      "source": [
        "Напишите функцию, вычисляющую произведение всех ненулевых диагональных элементов на диагонали данной квадратной матрицы. Например, если на вход поступает матрица\n",
        "$$\n",
        "\\begin{pmatrix}\n",
        "0 & 1 & 2\\\\\n",
        "3 & 4 & 5\\\\\n",
        "6 & 7 & 8\\\\\n",
        "\\end{pmatrix},\n",
        "$$\n",
        "то ответом будет 32.\n",
        "\n",
        "Элементы матрицы считать целочисленными."
      ]
    },
    {
      "cell_type": "code",
      "execution_count": 15,
      "metadata": {
        "pycharm": {
          "name": "#%%\n"
        },
        "id": "cFaa2czjoEmd"
      },
      "outputs": [],
      "source": [
        "def diag_prod(matrix: np.array) -> int:\n",
        "    diag = np.diagonal(matrix)\n",
        "    nz_diag = diag[diag !=0]\n",
        "    return np.prod(nz_diag)"
      ]
    },
    {
      "cell_type": "code",
      "execution_count": 16,
      "metadata": {
        "pycharm": {
          "name": "#%%\n"
        },
        "id": "r3XvuTDKoEmd"
      },
      "outputs": [],
      "source": [
        "matrix = np.array([[0, 1, 2, 3],\n",
        "                   [4, 5, 6, 7],\n",
        "                   [8, 9, 10, 11],\n",
        "                   [12, 13, 14, 15]])\n",
        "\n",
        "assert diag_prod(matrix) == 750"
      ]
    },
    {
      "cell_type": "markdown",
      "metadata": {
        "id": "idMi0gdMoEmd"
      },
      "source": [
        "### Задание 6"
      ]
    },
    {
      "cell_type": "markdown",
      "metadata": {
        "id": "WO-4w6lVoEme"
      },
      "source": [
        "Для улучшения качества работы некоторых алгоритмов машинного обучения может быть полезно использовать [нормализацию данных](https://vk.cc/8xmfQk), чтобы привести признаки в выборке к одному масштабу — а именно, из каждого столбца вычесть среднее его значений и поделить на их стандартное отклонение. Напишите функцию, нормализующую входящую матрицу (по столбцам). Например, если на вход подается матрица\n",
        "$$\n",
        "\\begin{pmatrix}\n",
        "1 & 4 & 4200\\\\\n",
        "0 & 10 & 5000\\\\\n",
        "1 & 2 & 1000\\\\\n",
        "\\end{pmatrix},\n",
        "$$\n",
        "то результатом с точностью до сотых будет матрица\n",
        "$$\n",
        "\\begin{pmatrix}\n",
        "0.71 & -0.39 & 0.46\\\\\n",
        "-1.41 & 1.37 & 0.93\\\\\n",
        "0.71 & -0.98 & -1.39\\\\\n",
        "\\end{pmatrix}\n",
        "$$\n",
        "\n",
        "Учтите, что в вашем матрице не должно получаться никаких nan. Подумайте, в каком случае они могут возникнуть и как обойти эту проблему.\n",
        "\n",
        "_Подсказка. Казалось бы, при чем тут деление на ноль._"
      ]
    },
    {
      "cell_type": "code",
      "execution_count": 21,
      "metadata": {
        "pycharm": {
          "name": "#%%\n"
        },
        "id": "ZVZ-VJcxoEme"
      },
      "outputs": [],
      "source": [
        "def normalize(matrix: np.array) -> np.array:\n",
        "  mean = np.mean(matrix, axis=0)\n",
        "  std = np.std(matrix, axis=0)\n",
        "  std += 1e-8 # маленькая константа для предотвращения деления на ноль\n",
        "  normalized_matrix = (matrix - mean) / std\n",
        "  return normalized_matrix"
      ]
    },
    {
      "cell_type": "code",
      "execution_count": 22,
      "metadata": {
        "pycharm": {
          "name": "#%%\n"
        },
        "id": "jqagWaxNoEme"
      },
      "outputs": [],
      "source": [
        "matrix = np.array([[1, 4, 4200], [0, 10, 5000], [1, 2, 1000]])\n",
        "\n",
        "assert np.allclose(\n",
        "    normalize(matrix),\n",
        "    np.array([[ 0.7071, -0.39223,  0.46291],\n",
        "              [-1.4142,  1.37281,  0.92582],\n",
        "              [ 0.7071, -0.98058, -1.38873]])\n",
        ")"
      ]
    },
    {
      "cell_type": "code",
      "execution_count": 23,
      "metadata": {
        "pycharm": {
          "name": "#%%\n"
        },
        "id": "WxqITHO5oEme"
      },
      "outputs": [],
      "source": [
        "matrix = np.array([[-7, 2, 42], [2, 10, 50], [5, 4, 10]])\n",
        "\n",
        "assert np.allclose(\n",
        "    normalize(matrix),\n",
        "    np.array([[-1.37281, -0.98058,  0.46291],\n",
        "              [ 0.39223,  1.37281,  0.92582],\n",
        "              [ 0.98058, -0.39223, -1.38873]])\n",
        ")"
      ]
    },
    {
      "cell_type": "markdown",
      "metadata": {
        "id": "LvS8NZMNoEmg"
      },
      "source": [
        "### Задание 7"
      ]
    },
    {
      "cell_type": "markdown",
      "metadata": {
        "id": "bRYtJJG5oEmg"
      },
      "source": [
        "Написать функцию, возвращающую максимальный элемент в векторе x среди элементов, перед которыми стоит нулевой. <br>\n",
        "Для x = np.array([6, 2, 0, 3, 0, 0, 5, 7, 0]) ответом является 5."
      ]
    },
    {
      "cell_type": "code",
      "execution_count": 34,
      "metadata": {
        "pycharm": {
          "name": "#%%\n"
        },
        "id": "isrMJM1koEmh"
      },
      "outputs": [],
      "source": [
        "def prevZeroMax(matrix: np.array) -> int:\n",
        "    # условие, что предыдущий элемент 0\n",
        "    is_prev_zero = (matrix[:-1] == 0)\n",
        "\n",
        "    # выбираем элементы, которые следуют за нулями\n",
        "    candidates = matrix[1:][is_prev_zero]\n",
        "\n",
        "    return np.max(candidates)"
      ]
    },
    {
      "cell_type": "code",
      "execution_count": 35,
      "metadata": {
        "pycharm": {
          "name": "#%%\n"
        },
        "id": "EytWp0WaoEmi"
      },
      "outputs": [],
      "source": [
        "coefs = np.array([6, 2, 0, 3, 0, 0, 5, 7, 0])\n",
        "\n",
        "assert  prevZeroMax(coefs) == 5"
      ]
    },
    {
      "cell_type": "code",
      "execution_count": 36,
      "metadata": {
        "pycharm": {
          "name": "#%%\n"
        },
        "id": "GyYo5_t2oEml"
      },
      "outputs": [],
      "source": [
        "coefs = np.array([1, 0, 1, 0, 4, 2, 0])\n",
        "\n",
        "assert prevZeroMax(coefs) == 4\n",
        ""
      ]
    },
    {
      "cell_type": "markdown",
      "metadata": {
        "id": "4z94I947oEml"
      },
      "source": [
        "### Задание 8"
      ]
    },
    {
      "cell_type": "markdown",
      "metadata": {
        "id": "D_VsXFzmoEmm"
      },
      "source": [
        "Напишите функцию, делающую данную [треугольную матрицу](https://ru.wikipedia.org/wiki/%D0%A2%D1%80%D0%B5%D1%83%D0%B3%D0%BE%D0%BB%D1%8C%D0%BD%D0%B0%D1%8F_%D0%BC%D0%B0%D1%82%D1%80%D0%B8%D1%86%D0%B0) симметричной. Например, если на вход поступает матрица\n",
        "$$\n",
        "\\begin{pmatrix}\n",
        "1 & 2 & 3 & 4\\\\\n",
        "0 & 5 & 6 & 7\\\\\n",
        "0 & 0 & 8 & 9\\\\\n",
        "0 & 0 & 0 & 10\\\\\n",
        "\\end{pmatrix},\n",
        "$$\n",
        "то на выходе должна быть матрица\n",
        "$$\n",
        "\\begin{pmatrix}\n",
        "1 & 2 & 3 & 4\\\\\n",
        "2 & 5 & 6 & 7\\\\\n",
        "3 & 6 & 8 & 9\\\\\n",
        "4 & 7 & 9 & 10\\\\\n",
        "\\end{pmatrix}.\n",
        "$$"
      ]
    },
    {
      "cell_type": "code",
      "execution_count": 49,
      "metadata": {
        "pycharm": {
          "name": "#%%\n"
        },
        "id": "Y7BDKdLJoEmv"
      },
      "outputs": [],
      "source": [
        "def make_symmetric(matrix: np.array) -> np.array:\n",
        "    # получаем индексы нижней треугольной части матрицы\n",
        "    indices = np.tril_indices_from(matrix, k=0)\n",
        "\n",
        "    # заполняем нижнюю треугольную часть значениями из верхней\n",
        "    matrix[indices] = matrix.T[indices]\n",
        "    return matrix"
      ]
    },
    {
      "cell_type": "code",
      "execution_count": 50,
      "metadata": {
        "pycharm": {
          "name": "#%%\n"
        },
        "id": "RYAxGmU5oEmw"
      },
      "outputs": [],
      "source": [
        "matrix = np.array([[1, 2, 3, 4], [0, 5, 6, 7], [0, 0, 8, 9], [0, 0, 0, 10]])\n",
        "\n",
        "assert np.allclose(\n",
        "    make_symmetric(matrix),\n",
        "    np.array([[ 1,  2,  3,  4],\n",
        "              [ 2,  5,  6,  7],\n",
        "              [ 3,  6,  8,  9],\n",
        "              [ 4,  7,  9, 10]])\n",
        ")"
      ]
    },
    {
      "cell_type": "code",
      "execution_count": 51,
      "metadata": {
        "pycharm": {
          "name": "#%%\n"
        },
        "id": "xSeSsKGtoEmw"
      },
      "outputs": [],
      "source": [
        "matrix = np.array([[10, 21, 32, 49], [0, 53, 62, 78], [0, 0, 82, 92], [0, 0, 0, 10]])\n",
        "\n",
        "assert np.allclose(\n",
        "    make_symmetric(matrix),\n",
        "    np.array([[10, 21, 32, 49],\n",
        "              [21, 53, 62, 78],\n",
        "              [32, 62, 82, 92],\n",
        "              [49, 78, 92, 10]])\n",
        ")"
      ]
    },
    {
      "cell_type": "markdown",
      "metadata": {
        "id": "S1dynrXFoEmw"
      },
      "source": [
        "### Задание 9"
      ]
    },
    {
      "cell_type": "markdown",
      "metadata": {
        "id": "WToGMGLToEmx"
      },
      "source": [
        "Напишите функцию, создающую прямоугольную матрицу из m одинаковых строк, заполненных последовательными натуральными числами от a до b включительно в возрастающем порядке. Например, если m = 5, a = 3, b = 10, то на выходе будет матрица\n",
        "$$\n",
        "\\begin{pmatrix}\n",
        "3 & 4 & 5 & 6 & 7 & 8 & 9 & 10\\\\\n",
        "3 & 4 & 5 & 6 & 7 & 8 & 9 & 10\\\\\n",
        "3 & 4 & 5 & 6 & 7 & 8 & 9 & 10\\\\\n",
        "3 & 4 & 5 & 6 & 7 & 8 & 9 & 10\\\\\n",
        "3 & 4 & 5 & 6 & 7 & 8 & 9 & 10\\\\\n",
        "\\end{pmatrix}\n",
        "$$"
      ]
    },
    {
      "cell_type": "code",
      "execution_count": 55,
      "metadata": {
        "pycharm": {
          "name": "#%%\n"
        },
        "id": "gCCuouYfoEmx"
      },
      "outputs": [],
      "source": [
        "def construct_matrix(m: int, a: int, b: int) -> np.array:\n",
        "    row = np.arange(a, b + 1)\n",
        "    matrix = np.tile(row, (m, 1))\n",
        "    return matrix"
      ]
    },
    {
      "cell_type": "code",
      "execution_count": 56,
      "metadata": {
        "pycharm": {
          "name": "#%%\n"
        },
        "id": "hE8atzTxoEmx"
      },
      "outputs": [],
      "source": [
        "m = 5\n",
        "a = 3\n",
        "b = 10\n",
        "\n",
        "assert np.allclose(\n",
        "    construct_matrix(m, a, b),\n",
        "    np.array([[ 3,  4,  5,  6,  7,  8,  9, 10],\n",
        "              [ 3,  4,  5,  6,  7,  8,  9, 10],\n",
        "              [ 3,  4,  5,  6,  7,  8,  9, 10],\n",
        "              [ 3,  4,  5,  6,  7,  8,  9, 10],\n",
        "              [ 3,  4,  5,  6,  7,  8,  9, 10]])\n",
        ")"
      ]
    },
    {
      "cell_type": "code",
      "execution_count": 57,
      "metadata": {
        "pycharm": {
          "name": "#%%\n"
        },
        "id": "iDu3iB4roEmy"
      },
      "outputs": [],
      "source": [
        "m = 3\n",
        "a = 2\n",
        "b = 6\n",
        "\n",
        "assert np.allclose(\n",
        "    construct_matrix(m, a, b),\n",
        "    np.array([[2, 3, 4, 5, 6],\n",
        "              [2, 3, 4, 5, 6],\n",
        "              [2, 3, 4, 5, 6]])\n",
        ")"
      ]
    },
    {
      "cell_type": "markdown",
      "metadata": {
        "id": "enxE5nStoEmy"
      },
      "source": [
        "### Задание 10"
      ]
    },
    {
      "cell_type": "markdown",
      "metadata": {
        "id": "196Gt4-moEmz"
      },
      "source": [
        "Напишите функцию, вычисляющую [косинусную близость](https://en.wikipedia.org/wiki/Cosine_similarity) двух векторов. Например, если на вход поступают вектора `array([-2, 1, 0, -5, 4, 3, -3])` и `array([0, 2, -2, 10, 6, 0, 0])`, ответом будет -0.25."
      ]
    },
    {
      "cell_type": "markdown",
      "source": [
        "![image.png](data:image/png;base64,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)"
      ],
      "metadata": {
        "id": "QjiUdS3Wdyc6"
      }
    },
    {
      "cell_type": "code",
      "execution_count": 60,
      "metadata": {
        "pycharm": {
          "name": "#%%\n"
        },
        "id": "e8BUJWQ-oEmz"
      },
      "outputs": [],
      "source": [
        "def cosine_similarity(vec1: np.array, vec2: np.array) -> float:\n",
        "    dot_prod = np.dot(vec1, vec2)\n",
        "    cos_sim = dot_prod / (np.linalg.norm(vec1) * np.linalg.norm(vec2))\n",
        "    return cos_sim"
      ]
    },
    {
      "cell_type": "code",
      "execution_count": 61,
      "metadata": {
        "pycharm": {
          "name": "#%%\n"
        },
        "id": "oKtvDJHjoEmz"
      },
      "outputs": [],
      "source": [
        "vec1 = np.array([-2, 1,  0, -5, 4, 3, -3])\n",
        "vec2 = np.array([ 0, 2, -2, 10, 6, 0,  0])\n",
        "\n",
        "assert np.allclose(cosine_similarity(vec1, vec2), -0.25)"
      ]
    },
    {
      "cell_type": "code",
      "execution_count": 62,
      "metadata": {
        "pycharm": {
          "name": "#%%\n"
        },
        "id": "R50EffIXoEmz"
      },
      "outputs": [],
      "source": [
        "vec1 = np.array([-4, 2,  9, -8, 9, 0, -2])\n",
        "vec2 = np.array([ 3, 2, -4, -1, 3, 2,  2])\n",
        "\n",
        "assert np.allclose(cosine_similarity(vec1, vec2), -0.119929)"
      ]
    }
  ],
  "metadata": {
    "kernelspec": {
      "display_name": "Python 3 (ipykernel)",
      "language": "python",
      "name": "python3"
    },
    "language_info": {
      "codemirror_mode": {
        "name": "ipython",
        "version": 3
      },
      "file_extension": ".py",
      "mimetype": "text/x-python",
      "name": "python",
      "nbconvert_exporter": "python",
      "pygments_lexer": "ipython3",
      "version": "3.7.9"
    },
    "colab": {
      "provenance": []
    }
  },
  "nbformat": 4,
  "nbformat_minor": 0
}