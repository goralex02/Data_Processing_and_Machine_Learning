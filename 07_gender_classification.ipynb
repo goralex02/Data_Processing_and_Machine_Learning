{
  "cells": [
    {
      "attachments": {},
      "cell_type": "markdown",
      "metadata": {},
      "source": [
        "Необходимо разработать программу, классифицирующую людей по полу. Для классификации необходимо использовать сверточную нейронную сеть. Поэкспериментировать с параметрами и структурой нейронной сети."
      ]
    },
    {
      "attachments": {},
      "cell_type": "markdown",
      "metadata": {
        "id": "7fkErhyc4Ae2"
      },
      "source": [
        "## Import libraries"
      ]
    },
    {
      "cell_type": "code",
      "execution_count": null,
      "metadata": {
        "colab": {
          "base_uri": "https://localhost:8080/"
        },
        "id": "cuuGRwfs5WfU",
        "outputId": "ab4f4ab7-87d5-4dde-b584-d5663b12b47f"
      },
      "outputs": [
        {
          "name": "stdout",
          "output_type": "stream",
          "text": [
            "Mounted at /content/drive\n"
          ]
        }
      ],
      "source": [
        "from google.colab import drive\n",
        "drive.mount('/content/drive')"
      ]
    },
    {
      "cell_type": "code",
      "execution_count": null,
      "metadata": {
        "id": "BGhrPd0v8e18"
      },
      "outputs": [],
      "source": [
        "!unzip -qq /content/drive/MyDrive/dataset/archive.zip"
      ]
    },
    {
      "cell_type": "code",
      "execution_count": null,
      "metadata": {
        "id": "aYH9DkEx89dO"
      },
      "outputs": [],
      "source": [
        "import numpy as np\n",
        "import pandas as pd\n",
        "\n",
        "import matplotlib.pyplot as plt\n",
        "import seaborn as sns\n",
        "\n",
        "from tensorflow import keras\n",
        "from keras.preprocessing.image import ImageDataGenerator as Imgen\n",
        "from keras.models import Model,Sequential\n",
        "from keras.layers import Input,Conv2D,MaxPooling2D,Dropout,Flatten,Dense,GlobalAveragePooling2D,BatchNormalization\n",
        "from keras.callbacks import EarlyStopping,ModelCheckpoint\n",
        "\n",
        "from sklearn.metrics import confusion_matrix,classification_report"
      ]
    },
    {
      "attachments": {},
      "cell_type": "markdown",
      "metadata": {
        "id": "Uea5flzw4I8L"
      },
      "source": [
        "## Data preprocessing"
      ]
    },
    {
      "cell_type": "code",
      "execution_count": null,
      "metadata": {
        "id": "je1_QWuYBniz"
      },
      "outputs": [],
      "source": [
        "traingen = Imgen(rescale=1./255, \n",
        "                shear_range = 0.2, \n",
        "                zoom_range = 0.2,\n",
        "                width_shift_range = 0.2,\n",
        "                height_shift_range = 0.2,\n",
        "                fill_mode=\"nearest\",\n",
        "                validation_split=0.15)\n",
        "\n",
        "\n",
        "testgen = Imgen(rescale=1./255)"
      ]
    },
    {
      "cell_type": "code",
      "execution_count": null,
      "metadata": {
        "colab": {
          "base_uri": "https://localhost:8080/"
        },
        "id": "xaMNRAQTBqed",
        "outputId": "e4085e79-d07f-419f-d152-b204466ff623"
      },
      "outputs": [
        {
          "name": "stdout",
          "output_type": "stream",
          "text": [
            "Found 39959 images belonging to 2 classes.\n",
            "Found 7050 images belonging to 2 classes.\n",
            "Found 11649 images belonging to 2 classes.\n"
          ]
        }
      ],
      "source": [
        "trainds = traingen.flow_from_directory(\"/content/Training\",\n",
        "                                      target_size=(96,96),\n",
        "                                       seed=123,\n",
        "                                       batch_size=32,\n",
        "                                       subset=\"training\"\n",
        "                                      )\n",
        "valds = traingen.flow_from_directory(\"/content/Training\",\n",
        "                                      target_size=(96,96),\n",
        "                                       seed=123,\n",
        "                                       batch_size=32,\n",
        "                                       subset=\"validation\"\n",
        "                                      )\n",
        "testds = testgen.flow_from_directory(\"/content/Validation\",\n",
        "                                    target_size=(96,96),\n",
        "                                    seed=123,\n",
        "                                    batch_size=32,\n",
        "                                    shuffle=False)"
      ]
    },
    {
      "attachments": {},
      "cell_type": "markdown",
      "metadata": {
        "id": "Uw742a5jEfrJ"
      },
      "source": [
        "## Visualisation"
      ]
    },
    {
      "cell_type": "code",
      "execution_count": null,
      "metadata": {
        "colab": {
          "base_uri": "https://localhost:8080/"
        },
        "id": "05rRV3LJEiPz",
        "outputId": "4d6d6e53-14e3-4d5d-ac8f-03e1b9979fbb"
      },
      "outputs": [
        {
          "name": "stdout",
          "output_type": "stream",
          "text": [
            "\u001b[33mWARNING: Skipping umap as it is not installed.\u001b[0m\n",
            "Looking in indexes: https://pypi.org/simple, https://us-python.pkg.dev/colab-wheels/public/simple/\n",
            "Collecting umap-learn\n",
            "  Downloading umap-learn-0.5.3.tar.gz (88 kB)\n",
            "\u001b[K     |████████████████████████████████| 88 kB 2.7 MB/s \n",
            "\u001b[?25hRequirement already satisfied: numpy>=1.17 in /usr/local/lib/python3.7/dist-packages (from umap-learn) (1.21.6)\n",
            "Requirement already satisfied: scikit-learn>=0.22 in /usr/local/lib/python3.7/dist-packages (from umap-learn) (1.0.2)\n",
            "Requirement already satisfied: scipy>=1.0 in /usr/local/lib/python3.7/dist-packages (from umap-learn) (1.4.1)\n",
            "Requirement already satisfied: numba>=0.49 in /usr/local/lib/python3.7/dist-packages (from umap-learn) (0.51.2)\n",
            "Collecting pynndescent>=0.5\n",
            "  Downloading pynndescent-0.5.7.tar.gz (1.1 MB)\n",
            "\u001b[K     |████████████████████████████████| 1.1 MB 31.4 MB/s \n",
            "\u001b[?25hRequirement already satisfied: tqdm in /usr/local/lib/python3.7/dist-packages (from umap-learn) (4.64.0)\n",
            "Requirement already satisfied: llvmlite<0.35,>=0.34.0.dev0 in /usr/local/lib/python3.7/dist-packages (from numba>=0.49->umap-learn) (0.34.0)\n",
            "Requirement already satisfied: setuptools in /usr/local/lib/python3.7/dist-packages (from numba>=0.49->umap-learn) (57.4.0)\n",
            "Requirement already satisfied: joblib>=0.11 in /usr/local/lib/python3.7/dist-packages (from pynndescent>=0.5->umap-learn) (1.1.0)\n",
            "Requirement already satisfied: threadpoolctl>=2.0.0 in /usr/local/lib/python3.7/dist-packages (from scikit-learn>=0.22->umap-learn) (3.1.0)\n",
            "Building wheels for collected packages: umap-learn, pynndescent\n",
            "  Building wheel for umap-learn (setup.py) ... \u001b[?25l\u001b[?25hdone\n",
            "  Created wheel for umap-learn: filename=umap_learn-0.5.3-py3-none-any.whl size=82829 sha256=78bdb28adf4d3e18c12bbf18df4a2dfd1088110ea93f97e191128d1f5735f888\n",
            "  Stored in directory: /root/.cache/pip/wheels/b3/52/a5/1fd9e3e76a7ab34f134c07469cd6f16e27ef3a37aeff1fe821\n",
            "  Building wheel for pynndescent (setup.py) ... \u001b[?25l\u001b[?25hdone\n",
            "  Created wheel for pynndescent: filename=pynndescent-0.5.7-py3-none-any.whl size=54286 sha256=d1806f4050bbe5df6011ebe6503333910f413102ba5d55757d521f3f89e3c337\n",
            "  Stored in directory: /root/.cache/pip/wheels/7f/2a/f8/7bd5dcec71bd5c669f6f574db3113513696b98f3f9b51f496c\n",
            "Successfully built umap-learn pynndescent\n",
            "Installing collected packages: pynndescent, umap-learn\n",
            "Successfully installed pynndescent-0.5.7 umap-learn-0.5.3\n"
          ]
        }
      ],
      "source": [
        "!pip uninstall umap\n",
        "!pip install umap-learn"
      ]
    },
    {
      "cell_type": "code",
      "execution_count": null,
      "metadata": {
        "id": "RfksELRxEkzQ"
      },
      "outputs": [],
      "source": [
        "import umap.umap_ as umap"
      ]
    },
    {
      "cell_type": "code",
      "execution_count": null,
      "metadata": {
        "colab": {
          "base_uri": "https://localhost:8080/"
        },
        "id": "9ch74O2NBzFc",
        "outputId": "6c9684b6-8586-416d-9d8f-bcd345e1d076"
      },
      "outputs": [
        {
          "data": {
            "text/plain": [
              "['female', 'male']"
            ]
          },
          "execution_count": 8,
          "metadata": {},
          "output_type": "execute_result"
        }
      ],
      "source": [
        "c = trainds.class_indices\n",
        "classes = list(c.keys())\n",
        "classes"
      ]
    },
    {
      "cell_type": "code",
      "execution_count": null,
      "metadata": {
        "colab": {
          "base_uri": "https://localhost:8080/",
          "height": 456
        },
        "id": "oLZlZ7wOB0_n",
        "outputId": "0097691f-1462-4f45-c61d-a7c898db7992"
      },
      "outputs": [
        {
          "data": {
            "image/png": "[encoded data removed]",
            "text/plain": [
              "<Figure size 1440x576 with 1 Axes>"
            ]
          },
          "metadata": {
            "needs_background": "light"
          },
          "output_type": "display_data"
        }
      ],
      "source": [
        "plt.figure(figsize=[20,8])\n",
        "sns.countplot(x=trainds.classes);"
      ]
    },
    {
      "cell_type": "code",
      "execution_count": null,
      "metadata": {
        "id": "t8uVZDrvEtMC"
      },
      "outputs": [],
      "source": [
        "um = umap.UMAP()\n",
        "umaped_data = um.fit_transform(valds)\n",
        "\n",
        "plt.scatter(umaped_data[:, 0], umaped_data[:, 1], s = 6)\n",
        "\n",
        "# НЕ РАБОТАЕТ, ПОТОМУ ЧТО КОЛАБУ НЕ ХВАТАЕТ ОЗУ НА ОБРАБОТКУ, ДОВОЛЬСТВУЕМСЯ ТЕМ, ЧТО БЫЛО ВЫШЕ..."
      ]
    },
    {
      "cell_type": "code",
      "execution_count": null,
      "metadata": {
        "id": "lnp6ZnJz3-vS"
      },
      "outputs": [],
      "source": [
        "my_calls = [EarlyStopping(monitor=\"val_accuracy\",patience=3),\n",
        "            ModelCheckpoint(\"Model.h5\", verbose= 1, save_best_only=True)]"
      ]
    },
    {
      "attachments": {},
      "cell_type": "markdown",
      "metadata": {
        "id": "eQehgf7_4SvU"
      },
      "source": [
        "## Functions"
      ]
    },
    {
      "cell_type": "code",
      "execution_count": null,
      "metadata": {
        "id": "bwGhKJy_4V1C"
      },
      "outputs": [],
      "source": [
        "def plot(hist):\n",
        "  plt.figure(figsize=(15,6))\n",
        "\n",
        "  plt.subplot(1,2,1)\n",
        "  plt.plot(hist.epoch, hist.history['accuracy'],label = 'Training')\n",
        "  plt.plot(hist.epoch, hist.history['val_accuracy'],label = 'Validation')\n",
        "\n",
        "  plt.title(\"Accuracy\")\n",
        "  plt.legend()\n",
        "\n",
        "  plt.subplot(1,2,2)\n",
        "  plt.plot(hist.epoch, hist.history['loss'],label = 'Training')\n",
        "  plt.plot(hist.epoch, hist.history['val_loss'],label = 'Validation')\n",
        "\n",
        "  plt.title(\"Loss\")\n",
        "  plt.legend()\n",
        "  plt.show()"
      ]
    },
    {
      "cell_type": "code",
      "execution_count": null,
      "metadata": {
        "id": "LdSW3b_n5NTo"
      },
      "outputs": [],
      "source": [
        "def report(model, testds):\n",
        "  pred = model.predict(testds,verbose=1)\n",
        "  predicted,confidence = [np.argmax(i) for i in pred], [np.round((max(i)*100),2) for i in pred]\n",
        "  y_test = testds.classes\n",
        "  print(classification_report(y_test, predicted))\n",
        "  plt.figure(figsize=[12,6])\n",
        "  hm = sns.heatmap(confusion_matrix(y_test, predicted), annot=True, fmt=\"d\", cmap=\"Blues\")\n",
        "  hm.set(xlabel='predicted', ylabel='true')"
      ]
    },
    {
      "attachments": {},
      "cell_type": "markdown",
      "metadata": {
        "id": "iLDEqjPwusNs"
      },
      "source": [
        "## CNN #1"
      ]
    },
    {
      "cell_type": "code",
      "execution_count": null,
      "metadata": {
        "id": "TfA4do99B63z"
      },
      "outputs": [],
      "source": [
        "image_input = Input(shape=(96,96,3))\n",
        "\n",
        "x = Conv2D(32,(3,3),activation = \"relu\")(image_input)\n",
        "x = BatchNormalization()(x)\n",
        "x = MaxPooling2D((2,2))(x)\n",
        "x = Dropout(0.2)(x)\n",
        "\n",
        "x = Conv2D(64,(3,3),activation = \"relu\")(x)\n",
        "x = BatchNormalization()(x)\n",
        "x = MaxPooling2D((2,2))(x)\n",
        "x = Dropout(0.2)(x)\n",
        "\n",
        "x = Conv2D(128,(3,3),activation = \"relu\")(x)\n",
        "x = BatchNormalization()(x)\n",
        "x = MaxPooling2D((2,2))(x)\n",
        "x = Dropout(0.2)(x)\n",
        "\n",
        "x = Flatten()(x)\n",
        "\n",
        "x = Dense(256,activation=\"relu\")(x)\n",
        "x = BatchNormalization()(x)\n",
        "x = Dropout(0.5)(x)\n",
        "\n",
        "image_output = Dense(2,activation=\"softmax\")(x)\n",
        "\n",
        "model = Model(image_input,image_output)"
      ]
    },
    {
      "cell_type": "code",
      "execution_count": null,
      "metadata": {
        "colab": {
          "base_uri": "https://localhost:8080/"
        },
        "id": "LPl32qG0B9gF",
        "outputId": "d8da16ac-68b6-4a7b-bc6d-cee1ac631b8d"
      },
      "outputs": [
        {
          "name": "stdout",
          "output_type": "stream",
          "text": [
            "Model: \"model\"\n",
            "_________________________________________________________________\n",
            " Layer (type)                Output Shape              Param #   \n",
            "=================================================================\n",
            " input_1 (InputLayer)        [(None, 96, 96, 3)]       0         \n",
            "                                                                 \n",
            " conv2d (Conv2D)             (None, 94, 94, 32)        896       \n",
            "                                                                 \n",
            " batch_normalization (BatchN  (None, 94, 94, 32)       128       \n",
            " ormalization)                                                   \n",
            "                                                                 \n",
            " max_pooling2d (MaxPooling2D  (None, 47, 47, 32)       0         \n",
            " )                                                               \n",
            "                                                                 \n",
            " dropout (Dropout)           (None, 47, 47, 32)        0         \n",
            "                                                                 \n",
            " conv2d_1 (Conv2D)           (None, 45, 45, 64)        18496     \n",
            "                                                                 \n",
            " batch_normalization_1 (Batc  (None, 45, 45, 64)       256       \n",
            " hNormalization)                                                 \n",
            "                                                                 \n",
            " max_pooling2d_1 (MaxPooling  (None, 22, 22, 64)       0         \n",
            " 2D)                                                             \n",
            "                                                                 \n",
            " dropout_1 (Dropout)         (None, 22, 22, 64)        0         \n",
            "                                                                 \n",
            " conv2d_2 (Conv2D)           (None, 20, 20, 128)       73856     \n",
            "                                                                 \n",
            " batch_normalization_2 (Batc  (None, 20, 20, 128)      512       \n",
            " hNormalization)                                                 \n",
            "                                                                 \n",
            " max_pooling2d_2 (MaxPooling  (None, 10, 10, 128)      0         \n",
            " 2D)                                                             \n",
            "                                                                 \n",
            " dropout_2 (Dropout)         (None, 10, 10, 128)       0         \n",
            "                                                                 \n",
            " flatten (Flatten)           (None, 12800)             0         \n",
            "                                                                 \n",
            " dense (Dense)               (None, 256)               3277056   \n",
            "                                                                 \n",
            " batch_normalization_3 (Batc  (None, 256)              1024      \n",
            " hNormalization)                                                 \n",
            "                                                                 \n",
            " dropout_3 (Dropout)         (None, 256)               0         \n",
            "                                                                 \n",
            " dense_1 (Dense)             (None, 2)                 514       \n",
            "                                                                 \n",
            "=================================================================\n",
            "Total params: 3,372,738\n",
            "Trainable params: 3,371,778\n",
            "Non-trainable params: 960\n",
            "_________________________________________________________________\n"
          ]
        }
      ],
      "source": [
        "model.summary()"
      ]
    },
    {
      "cell_type": "code",
      "execution_count": null,
      "metadata": {
        "id": "kP2ODSSJCAVD"
      },
      "outputs": [],
      "source": [
        "model.compile(optimizer=\"adam\",loss=\"categorical_crossentropy\",metrics=[\"accuracy\"])"
      ]
    },
    {
      "cell_type": "code",
      "execution_count": null,
      "metadata": {
        "colab": {
          "base_uri": "https://localhost:8080/"
        },
        "id": "flfEKlRJCKTe",
        "outputId": "23bc03fc-d2d6-401f-b9fc-bfe05c71dffc"
      },
      "outputs": [
        {
          "name": "stdout",
          "output_type": "stream",
          "text": [
            "Epoch 1/20\n",
            "1249/1249 [==============================] - ETA: 0s - loss: 0.4719 - accuracy: 0.7942\n",
            "Epoch 1: val_loss improved from inf to 0.33499, saving model to Model.h5\n",
            "1249/1249 [==============================] - 139s 109ms/step - loss: 0.4719 - accuracy: 0.7942 - val_loss: 0.3350 - val_accuracy: 0.8521\n",
            "Epoch 2/20\n",
            "1249/1249 [==============================] - ETA: 0s - loss: 0.2473 - accuracy: 0.8993\n",
            "Epoch 2: val_loss improved from 0.33499 to 0.21667, saving model to Model.h5\n",
            "1249/1249 [==============================] - 124s 99ms/step - loss: 0.2473 - accuracy: 0.8993 - val_loss: 0.2167 - val_accuracy: 0.9133\n",
            "Epoch 3/20\n",
            "1249/1249 [==============================] - ETA: 0s - loss: 0.2102 - accuracy: 0.9190\n",
            "Epoch 3: val_loss improved from 0.21667 to 0.19176, saving model to Model.h5\n",
            "1249/1249 [==============================] - 125s 100ms/step - loss: 0.2102 - accuracy: 0.9190 - val_loss: 0.1918 - val_accuracy: 0.9265\n",
            "Epoch 4/20\n",
            "1249/1249 [==============================] - ETA: 0s - loss: 0.1952 - accuracy: 0.9256\n",
            "Epoch 4: val_loss did not improve from 0.19176\n",
            "1249/1249 [==============================] - 126s 101ms/step - loss: 0.1952 - accuracy: 0.9256 - val_loss: 0.2842 - val_accuracy: 0.8804\n",
            "Epoch 5/20\n",
            "1249/1249 [==============================] - ETA: 0s - loss: 0.1796 - accuracy: 0.9334\n",
            "Epoch 5: val_loss improved from 0.19176 to 0.14664, saving model to Model.h5\n",
            "1249/1249 [==============================] - 124s 100ms/step - loss: 0.1796 - accuracy: 0.9334 - val_loss: 0.1466 - val_accuracy: 0.9448\n",
            "Epoch 6/20\n",
            "1249/1249 [==============================] - ETA: 0s - loss: 0.1755 - accuracy: 0.9336\n",
            "Epoch 6: val_loss improved from 0.14664 to 0.12551, saving model to Model.h5\n",
            "1249/1249 [==============================] - 128s 102ms/step - loss: 0.1755 - accuracy: 0.9336 - val_loss: 0.1255 - val_accuracy: 0.9511\n",
            "Epoch 7/20\n",
            "1249/1249 [==============================] - ETA: 0s - loss: 0.1642 - accuracy: 0.9379\n",
            "Epoch 7: val_loss did not improve from 0.12551\n",
            "1249/1249 [==============================] - 124s 100ms/step - loss: 0.1642 - accuracy: 0.9379 - val_loss: 0.3336 - val_accuracy: 0.8383\n",
            "Epoch 8/20\n",
            "1249/1249 [==============================] - ETA: 0s - loss: 0.1638 - accuracy: 0.9379\n",
            "Epoch 8: val_loss did not improve from 0.12551\n",
            "1249/1249 [==============================] - 125s 100ms/step - loss: 0.1638 - accuracy: 0.9379 - val_loss: 0.1801 - val_accuracy: 0.9292\n",
            "Epoch 9/20\n",
            "1249/1249 [==============================] - ETA: 0s - loss: 0.1552 - accuracy: 0.9437\n",
            "Epoch 9: val_loss did not improve from 0.12551\n",
            "1249/1249 [==============================] - 126s 101ms/step - loss: 0.1552 - accuracy: 0.9437 - val_loss: 0.2884 - val_accuracy: 0.8885\n"
          ]
        }
      ],
      "source": [
        "hist = model.fit(trainds,epochs=20,validation_data=valds,callbacks=my_calls)"
      ]
    },
    {
      "cell_type": "code",
      "execution_count": null,
      "metadata": {
        "colab": {
          "base_uri": "https://localhost:8080/"
        },
        "id": "RpvC5vi9IiQr",
        "outputId": "0981ad66-95c7-4659-f2c2-bd5eddfd317c"
      },
      "outputs": [
        {
          "name": "stdout",
          "output_type": "stream",
          "text": [
            "365/365 [==============================] - 7s 20ms/step - loss: 0.2336 - accuracy: 0.9137\n"
          ]
        },
        {
          "data": {
            "text/plain": [
              "[0.23357044160366058, 0.9137265086174011]"
            ]
          },
          "execution_count": 15,
          "metadata": {},
          "output_type": "execute_result"
        }
      ],
      "source": [
        "model.evaluate(testds)"
      ]
    },
    {
      "cell_type": "code",
      "execution_count": null,
      "metadata": {
        "colab": {
          "base_uri": "https://localhost:8080/",
          "height": 390
        },
        "id": "l0wRPwtJI4o_",
        "outputId": "fe787859-768a-40d1-d7e8-fefbf94660a1"
      },
      "outputs": [
        {
          "data": {
            "image/png": "[encoded data removed]",
            "text/plain": [
              "<Figure size 1080x432 with 2 Axes>"
            ]
          },
          "metadata": {
            "needs_background": "light"
          },
          "output_type": "display_data"
        }
      ],
      "source": [
        "plot(hist)"
      ]
    },
    {
      "cell_type": "code",
      "execution_count": null,
      "metadata": {
        "colab": {
          "base_uri": "https://localhost:8080/",
          "height": 562
        },
        "id": "_iPY8_D75kN5",
        "outputId": "f0a505fc-d8f3-4a2d-8df4-47d8758ef91c"
      },
      "outputs": [
        {
          "name": "stdout",
          "output_type": "stream",
          "text": [
            "365/365 [==============================] - 7s 18ms/step\n",
            "              precision    recall  f1-score   support\n",
            "\n",
            "           0       0.85      1.00      0.92      5841\n",
            "           1       1.00      0.83      0.91      5808\n",
            "\n",
            "    accuracy                           0.91     11649\n",
            "   macro avg       0.93      0.91      0.91     11649\n",
            "weighted avg       0.93      0.91      0.91     11649\n",
            "\n"
          ]
        },
        {
          "data": {
            "image/png": "[encoded data removed]",
            "text/plain": [
              "<Figure size 864x432 with 2 Axes>"
            ]
          },
          "metadata": {
            "needs_background": "light"
          },
          "output_type": "display_data"
        }
      ],
      "source": [
        "report(model, testds)"
      ]
    },
    {
      "attachments": {},
      "cell_type": "markdown",
      "metadata": {
        "id": "R7EzPvPiu3IH"
      },
      "source": [
        "## CNN #2"
      ]
    },
    {
      "cell_type": "code",
      "execution_count": null,
      "metadata": {
        "id": "mJmXJw2Pu25F"
      },
      "outputs": [],
      "source": [
        "image_input = Input(shape=(96,96,3))\n",
        "\n",
        "x = Conv2D(32,(3,3),activation = \"relu\")(image_input)\n",
        "x = BatchNormalization()(x)\n",
        "x = MaxPooling2D((2,2))(x)\n",
        "x = Dropout(0.2)(x)\n",
        "\n",
        "x = Conv2D(64,(3,3),activation = \"relu\")(x)\n",
        "x = BatchNormalization()(x)\n",
        "x = MaxPooling2D((2,2))(x)\n",
        "x = Dropout(0.2)(x)\n",
        "\n",
        "x = Flatten()(x)\n",
        "\n",
        "x = Dense(64,activation=\"sigmoid\")(x)\n",
        "x = BatchNormalization()(x)\n",
        "x = Dropout(0.5)(x)\n",
        "\n",
        "image_output = Dense(2,activation=\"softmax\")(x)\n",
        "\n",
        "model = Model(image_input,image_output)"
      ]
    },
    {
      "cell_type": "code",
      "execution_count": null,
      "metadata": {
        "colab": {
          "base_uri": "https://localhost:8080/"
        },
        "id": "TbkI_0o0vTGL",
        "outputId": "c197306e-9e7c-4faa-d589-2e557c8c8fe9"
      },
      "outputs": [
        {
          "name": "stdout",
          "output_type": "stream",
          "text": [
            "Model: \"model_1\"\n",
            "_________________________________________________________________\n",
            " Layer (type)                Output Shape              Param #   \n",
            "=================================================================\n",
            " input_2 (InputLayer)        [(None, 96, 96, 3)]       0         \n",
            "                                                                 \n",
            " conv2d_3 (Conv2D)           (None, 94, 94, 32)        896       \n",
            "                                                                 \n",
            " batch_normalization_4 (Batc  (None, 94, 94, 32)       128       \n",
            " hNormalization)                                                 \n",
            "                                                                 \n",
            " max_pooling2d_3 (MaxPooling  (None, 47, 47, 32)       0         \n",
            " 2D)                                                             \n",
            "                                                                 \n",
            " dropout_4 (Dropout)         (None, 47, 47, 32)        0         \n",
            "                                                                 \n",
            " conv2d_4 (Conv2D)           (None, 45, 45, 64)        18496     \n",
            "                                                                 \n",
            " batch_normalization_5 (Batc  (None, 45, 45, 64)       256       \n",
            " hNormalization)                                                 \n",
            "                                                                 \n",
            " max_pooling2d_4 (MaxPooling  (None, 22, 22, 64)       0         \n",
            " 2D)                                                             \n",
            "                                                                 \n",
            " dropout_5 (Dropout)         (None, 22, 22, 64)        0         \n",
            "                                                                 \n",
            " flatten_1 (Flatten)         (None, 30976)             0         \n",
            "                                                                 \n",
            " dense_2 (Dense)             (None, 64)                1982528   \n",
            "                                                                 \n",
            " batch_normalization_6 (Batc  (None, 64)               256       \n",
            " hNormalization)                                                 \n",
            "                                                                 \n",
            " dropout_6 (Dropout)         (None, 64)                0         \n",
            "                                                                 \n",
            " dense_3 (Dense)             (None, 2)                 130       \n",
            "                                                                 \n",
            "=================================================================\n",
            "Total params: 2,002,690\n",
            "Trainable params: 2,002,370\n",
            "Non-trainable params: 320\n",
            "_________________________________________________________________\n"
          ]
        }
      ],
      "source": [
        "model.summary()"
      ]
    },
    {
      "cell_type": "code",
      "execution_count": null,
      "metadata": {
        "id": "tQZ_j2Fyvgrs"
      },
      "outputs": [],
      "source": [
        "model.compile(optimizer=\"adam\",loss=\"categorical_crossentropy\",metrics=[\"accuracy\"])"
      ]
    },
    {
      "cell_type": "code",
      "execution_count": null,
      "metadata": {
        "colab": {
          "base_uri": "https://localhost:8080/"
        },
        "id": "-PH4xCDLv10U",
        "outputId": "9c322741-6de6-4c35-9532-c31237362992"
      },
      "outputs": [
        {
          "name": "stdout",
          "output_type": "stream",
          "text": [
            "Epoch 1/20\n",
            "1249/1249 [==============================] - ETA: 0s - loss: 0.6670 - accuracy: 0.6614\n",
            "Epoch 1: val_loss improved from inf to 0.53750, saving model to Model.h5\n",
            "1249/1249 [==============================] - 124s 99ms/step - loss: 0.6670 - accuracy: 0.6614 - val_loss: 0.5375 - val_accuracy: 0.7447\n",
            "Epoch 2/20\n",
            "1249/1249 [==============================] - ETA: 0s - loss: 0.5277 - accuracy: 0.7411\n",
            "Epoch 2: val_loss did not improve from 0.53750\n",
            "1249/1249 [==============================] - 125s 100ms/step - loss: 0.5277 - accuracy: 0.7411 - val_loss: 0.5456 - val_accuracy: 0.7325\n",
            "Epoch 3/20\n",
            "1249/1249 [==============================] - ETA: 0s - loss: 0.5071 - accuracy: 0.7557\n",
            "Epoch 3: val_loss improved from 0.53750 to 0.48164, saving model to Model.h5\n",
            "1249/1249 [==============================] - 122s 98ms/step - loss: 0.5071 - accuracy: 0.7557 - val_loss: 0.4816 - val_accuracy: 0.7746\n",
            "Epoch 4/20\n",
            "1249/1249 [==============================] - ETA: 0s - loss: 0.4846 - accuracy: 0.7713\n",
            "Epoch 4: val_loss improved from 0.48164 to 0.43901, saving model to Model.h5\n",
            "1249/1249 [==============================] - 122s 98ms/step - loss: 0.4846 - accuracy: 0.7713 - val_loss: 0.4390 - val_accuracy: 0.7986\n",
            "Epoch 5/20\n",
            "1249/1249 [==============================] - ETA: 0s - loss: 0.4626 - accuracy: 0.7851\n",
            "Epoch 5: val_loss did not improve from 0.43901\n",
            "1249/1249 [==============================] - 123s 99ms/step - loss: 0.4626 - accuracy: 0.7851 - val_loss: 0.4801 - val_accuracy: 0.7681\n",
            "Epoch 6/20\n",
            "1249/1249 [==============================] - ETA: 0s - loss: 0.4287 - accuracy: 0.8070\n",
            "Epoch 6: val_loss did not improve from 0.43901\n",
            "1249/1249 [==============================] - 122s 97ms/step - loss: 0.4287 - accuracy: 0.8070 - val_loss: 0.5442 - val_accuracy: 0.7287\n",
            "Epoch 7/20\n",
            "1249/1249 [==============================] - ETA: 0s - loss: 0.4033 - accuracy: 0.8228\n",
            "Epoch 7: val_loss did not improve from 0.43901\n",
            "1249/1249 [==============================] - 122s 97ms/step - loss: 0.4033 - accuracy: 0.8228 - val_loss: 0.6195 - val_accuracy: 0.6733\n"
          ]
        }
      ],
      "source": [
        "hist = model.fit(trainds,epochs=20,validation_data=valds,callbacks=my_calls)"
      ]
    },
    {
      "cell_type": "code",
      "execution_count": null,
      "metadata": {
        "colab": {
          "base_uri": "https://localhost:8080/"
        },
        "id": "5UDiXCjf0ThI",
        "outputId": "b9d98175-c824-48c7-a990-190622a8f65d"
      },
      "outputs": [
        {
          "name": "stdout",
          "output_type": "stream",
          "text": [
            "365/365 [==============================] - 8s 22ms/step - loss: 0.5550 - accuracy: 0.6981\n"
          ]
        },
        {
          "data": {
            "text/plain": [
              "[0.555040180683136, 0.6980856657028198]"
            ]
          },
          "execution_count": 23,
          "metadata": {},
          "output_type": "execute_result"
        }
      ],
      "source": [
        "model.evaluate(testds)"
      ]
    },
    {
      "cell_type": "code",
      "execution_count": null,
      "metadata": {
        "colab": {
          "base_uri": "https://localhost:8080/",
          "height": 390
        },
        "id": "wuJ6955_0XMf",
        "outputId": "97d057f9-9d42-4d46-cc3e-0d461cbbfbf0"
      },
      "outputs": [
        {
          "data": {
            "image/png": "[encoded data removed]",
            "text/plain": [
              "<Figure size 1080x432 with 2 Axes>"
            ]
          },
          "metadata": {
            "needs_background": "light"
          },
          "output_type": "display_data"
        }
      ],
      "source": [
        "plot(hist)"
      ]
    },
    {
      "cell_type": "code",
      "execution_count": null,
      "metadata": {
        "colab": {
          "base_uri": "https://localhost:8080/",
          "height": 562
        },
        "id": "4oC1GPYr5WP1",
        "outputId": "f57bbae5-ff35-4415-e104-71c7f7d61d51"
      },
      "outputs": [
        {
          "name": "stdout",
          "output_type": "stream",
          "text": [
            "365/365 [==============================] - 7s 18ms/step\n",
            "              precision    recall  f1-score   support\n",
            "\n",
            "           0       0.63      0.99      0.77      5841\n",
            "           1       0.97      0.41      0.57      5808\n",
            "\n",
            "    accuracy                           0.70     11649\n",
            "   macro avg       0.80      0.70      0.67     11649\n",
            "weighted avg       0.80      0.70      0.67     11649\n",
            "\n"
          ]
        },
        {
          "data": {
            "image/png": "[encoded data removed]",
            "text/plain": [
              "<Figure size 864x432 with 2 Axes>"
            ]
          },
          "metadata": {
            "needs_background": "light"
          },
          "output_type": "display_data"
        }
      ],
      "source": [
        "report(model, testds)"
      ]
    }
  ],
  "metadata": {
    "accelerator": "GPU",
    "colab": {
      "collapsed_sections": [],
      "name": "SelinMoldataev_project.ipynb",
      "provenance": []
    },
    "kernelspec": {
      "display_name": "Python 3",
      "name": "python3"
    },
    "language_info": {
      "name": "python"
    }
  },
  "nbformat": 4,
  "nbformat_minor": 0
}
