{
  "nbformat": 4,
  "nbformat_minor": 0,
  "metadata": {
    "colab": {
      "provenance": []
    },
    "kernelspec": {
      "name": "python3",
      "display_name": "Python 3"
    },
    "language_info": {
      "name": "python"
    }
  },
  "cells": [
    {
      "cell_type": "markdown",
      "source": [
        "# Предсказание оттока абонентов"
      ],
      "metadata": {
        "id": "v1fXxmmo0wQs"
      }
    },
    {
      "cell_type": "markdown",
      "source": [
        "Ваша задача в качестве аналитика как можно точнее предсказать, откажется ли абонент от услуг компании на следующий месяц. В данной задаче вам нужно предсказать вероятность отказа, то есть вывести вещественное число на промежутке от 0 до 1 для каждого абонента из тестового набора.\n",
        "\n",
        "\n",
        "Метрикой качества в задаче является ROC-AUC."
      ],
      "metadata": {
        "id": "p5duU_xT1Q2x"
      }
    },
    {
      "cell_type": "code",
      "source": [
        "# с XGBoost у sklearn конфликт версий, откатываемся назад\n",
        "!pip uninstall -y scikit-learn\n",
        "!pip install scikit-learn==1.3.1"
      ],
      "metadata": {
        "colab": {
          "base_uri": "https://localhost:8080/",
          "height": 373
        },
        "id": "h056cwoU9caj",
        "outputId": "ae4b425d-d0a6-43a9-964a-ddd85d36417b"
      },
      "execution_count": 46,
      "outputs": [
        {
          "output_type": "stream",
          "name": "stdout",
          "text": [
            "Found existing installation: scikit-learn 1.6.1\n",
            "Uninstalling scikit-learn-1.6.1:\n",
            "  Successfully uninstalled scikit-learn-1.6.1\n",
            "Collecting scikit-learn==1.3.1\n",
            "  Downloading scikit_learn-1.3.1-cp311-cp311-manylinux_2_17_x86_64.manylinux2014_x86_64.whl.metadata (11 kB)\n",
            "Requirement already satisfied: numpy<2.0,>=1.17.3 in /usr/local/lib/python3.11/dist-packages (from scikit-learn==1.3.1) (1.26.4)\n",
            "Requirement already satisfied: scipy>=1.5.0 in /usr/local/lib/python3.11/dist-packages (from scikit-learn==1.3.1) (1.13.1)\n",
            "Requirement already satisfied: joblib>=1.1.1 in /usr/local/lib/python3.11/dist-packages (from scikit-learn==1.3.1) (1.4.2)\n",
            "Requirement already satisfied: threadpoolctl>=2.0.0 in /usr/local/lib/python3.11/dist-packages (from scikit-learn==1.3.1) (3.5.0)\n",
            "Downloading scikit_learn-1.3.1-cp311-cp311-manylinux_2_17_x86_64.manylinux2014_x86_64.whl (10.9 MB)\n",
            "\u001b[2K   \u001b[90m━━━━━━━━━━━━━━━━━━━━━━━━━━━━━━━━━━━━━━━━\u001b[0m \u001b[32m10.9/10.9 MB\u001b[0m \u001b[31m42.0 MB/s\u001b[0m eta \u001b[36m0:00:00\u001b[0m\n",
            "\u001b[?25hInstalling collected packages: scikit-learn\n",
            "\u001b[31mERROR: pip's dependency resolver does not currently take into account all the packages that are installed. This behaviour is the source of the following dependency conflicts.\n",
            "imbalanced-learn 0.13.0 requires scikit-learn<2,>=1.3.2, but you have scikit-learn 1.3.1 which is incompatible.\u001b[0m\u001b[31m\n",
            "\u001b[0mSuccessfully installed scikit-learn-1.3.1\n"
          ]
        },
        {
          "output_type": "display_data",
          "data": {
            "application/vnd.colab-display-data+json": {
              "pip_warning": {
                "packages": [
                  "sklearn"
                ]
              },
              "id": "83bf414416e345d18487d17605edc2da"
            }
          },
          "metadata": {}
        }
      ]
    },
    {
      "cell_type": "markdown",
      "source": [
        "Вам дано три файла: тренировочные данные (train.csv), тестовые данные (test.csv) и пример файла с решением (sample_submission.csv). Ваша цель для каждого абонента предсказать колонку Leave_Next_Month которая есть в тренировочном файле, но отсутствует в тестовом файле. Значение должно находится на промежутке от 0 до 1, где 0 - абонент точно не уйдет в следующем месяце, а 1 - абонент точно уйдет в следующем месяце."
      ],
      "metadata": {
        "id": "IQZ09Zbm4W7d"
      }
    },
    {
      "cell_type": "code",
      "execution_count": 3,
      "metadata": {
        "id": "BYj5MFftkn9w"
      },
      "outputs": [],
      "source": [
        "import numpy as np\n",
        "import pandas as pd\n",
        "from sklearn.metrics import accuracy_score, roc_auc_score\n",
        "from sklearn.preprocessing import LabelEncoder\n",
        "from sklearn.model_selection import train_test_split"
      ]
    },
    {
      "cell_type": "code",
      "source": [
        "!pip install catboost -q"
      ],
      "metadata": {
        "id": "DUNCsH5D12Yl"
      },
      "execution_count": 4,
      "outputs": []
    },
    {
      "cell_type": "code",
      "source": [
        "import lightgbm as lgb\n",
        "import xgboost as xgb\n",
        "from catboost import CatBoostRegressor"
      ],
      "metadata": {
        "id": "kbu-jiSO1rTZ",
        "colab": {
          "base_uri": "https://localhost:8080/"
        },
        "outputId": "ee790486-96aa-4cea-baf8-c4cab78e1e31"
      },
      "execution_count": 5,
      "outputs": [
        {
          "output_type": "stream",
          "name": "stderr",
          "text": [
            "/usr/local/lib/python3.11/dist-packages/dask/dataframe/__init__.py:42: FutureWarning: \n",
            "Dask dataframe query planning is disabled because dask-expr is not installed.\n",
            "\n",
            "You can install it with `pip install dask[dataframe]` or `conda install dask`.\n",
            "This will raise in a future version.\n",
            "\n",
            "  warnings.warn(msg, FutureWarning)\n"
          ]
        }
      ]
    },
    {
      "cell_type": "code",
      "source": [
        "from google.colab import drive\n",
        "drive.mount('/content/drive')\n",
        "train_link = 'drive/MyDrive/Colab_Notebooks/data/sii_data/sii_1_train.csv'\n",
        "test_link = 'drive/MyDrive/Colab_Notebooks/data/sii_data/sii_1_test.csv'"
      ],
      "metadata": {
        "colab": {
          "base_uri": "https://localhost:8080/"
        },
        "id": "BClc8jojlXoy",
        "outputId": "d22419e3-8b69-4529-f9fe-24aaeb098db6"
      },
      "execution_count": 6,
      "outputs": [
        {
          "output_type": "stream",
          "name": "stdout",
          "text": [
            "Drive already mounted at /content/drive; to attempt to forcibly remount, call drive.mount(\"/content/drive\", force_remount=True).\n"
          ]
        }
      ]
    },
    {
      "cell_type": "code",
      "source": [
        "train = pd.read_csv(train_link)\n",
        "test = pd.read_csv(test_link)"
      ],
      "metadata": {
        "id": "fO8Day00mNDN"
      },
      "execution_count": 7,
      "outputs": []
    },
    {
      "cell_type": "markdown",
      "source": [
        "## Подготовка и изучение данных"
      ],
      "metadata": {
        "id": "Ie5QFLd52C1d"
      }
    },
    {
      "cell_type": "code",
      "source": [
        "# посмотрим на список всех колонок\n",
        "print('Columns: {}'.format(list(train.columns.values)))"
      ],
      "metadata": {
        "colab": {
          "base_uri": "https://localhost:8080/"
        },
        "id": "SGSq_8oboC8E",
        "outputId": "92fef9e0-8db3-4fca-f6a1-cbe16f761496"
      },
      "execution_count": 8,
      "outputs": [
        {
          "output_type": "stream",
          "name": "stdout",
          "text": [
            "Columns: ['id', 'Leave_Next_Month', 'Gender', 'Pensioner', 'Married', 'Children', 'Months_with_company', 'Phone_Service', 'Multiple_Lines', 'Internet_Service', 'Online_Security', 'Online_Backup', 'Device_Protection', 'Tech_Support', 'Streaming_TV', 'Streaming_Movies', 'Type_contract', 'Paperless_Billing', 'Payment_Method', 'Monthly_Payment', 'Total_Payment']\n"
          ]
        }
      ]
    },
    {
      "cell_type": "code",
      "source": [
        "# посмотрим какие у нас данные\n",
        "train.head(10)"
      ],
      "metadata": {
        "colab": {
          "base_uri": "https://localhost:8080/",
          "height": 412
        },
        "id": "8z_iynWUpTKQ",
        "outputId": "9c8c4937-d75f-4a87-a840-599bcf7babba"
      },
      "execution_count": 9,
      "outputs": [
        {
          "output_type": "execute_result",
          "data": {
            "text/plain": [
              "   id  Leave_Next_Month Gender  Pensioner Married Children  \\\n",
              "0   4                 1      F          0       N        N   \n",
              "1   7                 0      F          0       N        N   \n",
              "2   8                 1      F          0       Y        N   \n",
              "3   9                 0      M          0       N        Y   \n",
              "4  11                 0      M          0       N        N   \n",
              "5  14                 0      M          0       N        N   \n",
              "6  16                 0      F          0       N        N   \n",
              "7  19                 0      F          0       N        N   \n",
              "8  21                 0      M          0       Y        N   \n",
              "9  23                 0      F          0       Y        N   \n",
              "\n",
              "   Months_with_company Phone_Service Multiple_Lines Internet_Service  ...  \\\n",
              "0                    2             Y              N      Fiber optic  ...   \n",
              "1                   10             N       No_phone              DSL  ...   \n",
              "2                   28             Y              Y      Fiber optic  ...   \n",
              "3                   62             Y              N              DSL  ...   \n",
              "4                   16             Y              N                N  ...   \n",
              "5                   25             Y              N      Fiber optic  ...   \n",
              "6                   52             Y              N                N  ...   \n",
              "7                   21             Y              N      Fiber optic  ...   \n",
              "8                   12             Y              N                N  ...   \n",
              "9                   58             Y              Y              DSL  ...   \n",
              "\n",
              "  Online_Backup Device_Protection Tech_Support Streaming_TV Streaming_Movies  \\\n",
              "0             N                 N            N            N                N   \n",
              "1             N                 N            N            N                N   \n",
              "2             N                 Y            Y            Y                Y   \n",
              "3             Y                 N            N            N                N   \n",
              "4   No_internet       No_internet  No_internet  No_internet      No_internet   \n",
              "5             N                 Y            Y            Y                Y   \n",
              "6   No_internet       No_internet  No_internet  No_internet      No_internet   \n",
              "7             Y                 Y            N            N                Y   \n",
              "8   No_internet       No_internet  No_internet  No_internet      No_internet   \n",
              "9             Y                 N            Y            N                N   \n",
              "\n",
              "  Type_contract Paperless_Billing      Payment_Method Monthly_Payment  \\\n",
              "0     Per_month                 Y      Check_electron           70.70   \n",
              "1     Per_month                 N        Check_mailed           29.75   \n",
              "2     Per_month                 Y      Check_electron          104.80   \n",
              "3        Year-1                 N  Bank_transfer_auto           56.15   \n",
              "4        Year-2                 N    Credit_card_auto           18.95   \n",
              "5     Per_month                 Y      Check_electron          105.50   \n",
              "6        Year-1                 N        Check_mailed           20.65   \n",
              "7     Per_month                 Y      Check_electron           90.05   \n",
              "8        Year-1                 N  Bank_transfer_auto           19.80   \n",
              "9        Year-2                 Y    Credit_card_auto           59.90   \n",
              "\n",
              "   Total_Payment  \n",
              "0         151.65  \n",
              "1          301.9  \n",
              "2        3046.05  \n",
              "3        3487.95  \n",
              "4          326.8  \n",
              "5        2686.05  \n",
              "6        1022.95  \n",
              "7         1862.9  \n",
              "8         202.25  \n",
              "9         3505.1  \n",
              "\n",
              "[10 rows x 21 columns]"
            ],
            "text/html": [
              "\n",
              "  <div id=\"df-df13e51d-37da-4ced-a8f9-fb10b7c169bd\" class=\"colab-df-container\">\n",
              "    <div>\n",
              "<style scoped>\n",
              "    .dataframe tbody tr th:only-of-type {\n",
              "        vertical-align: middle;\n",
              "    }\n",
              "\n",
              "    .dataframe tbody tr th {\n",
              "        vertical-align: top;\n",
              "    }\n",
              "\n",
              "    .dataframe thead th {\n",
              "        text-align: right;\n",
              "    }\n",
              "</style>\n",
              "<table border=\"1\" class=\"dataframe\">\n",
              "  <thead>\n",
              "    <tr style=\"text-align: right;\">\n",
              "      <th></th>\n",
              "      <th>id</th>\n",
              "      <th>Leave_Next_Month</th>\n",
              "      <th>Gender</th>\n",
              "      <th>Pensioner</th>\n",
              "      <th>Married</th>\n",
              "      <th>Children</th>\n",
              "      <th>Months_with_company</th>\n",
              "      <th>Phone_Service</th>\n",
              "      <th>Multiple_Lines</th>\n",
              "      <th>Internet_Service</th>\n",
              "      <th>...</th>\n",
              "      <th>Online_Backup</th>\n",
              "      <th>Device_Protection</th>\n",
              "      <th>Tech_Support</th>\n",
              "      <th>Streaming_TV</th>\n",
              "      <th>Streaming_Movies</th>\n",
              "      <th>Type_contract</th>\n",
              "      <th>Paperless_Billing</th>\n",
              "      <th>Payment_Method</th>\n",
              "      <th>Monthly_Payment</th>\n",
              "      <th>Total_Payment</th>\n",
              "    </tr>\n",
              "  </thead>\n",
              "  <tbody>\n",
              "    <tr>\n",
              "      <th>0</th>\n",
              "      <td>4</td>\n",
              "      <td>1</td>\n",
              "      <td>F</td>\n",
              "      <td>0</td>\n",
              "      <td>N</td>\n",
              "      <td>N</td>\n",
              "      <td>2</td>\n",
              "      <td>Y</td>\n",
              "      <td>N</td>\n",
              "      <td>Fiber optic</td>\n",
              "      <td>...</td>\n",
              "      <td>N</td>\n",
              "      <td>N</td>\n",
              "      <td>N</td>\n",
              "      <td>N</td>\n",
              "      <td>N</td>\n",
              "      <td>Per_month</td>\n",
              "      <td>Y</td>\n",
              "      <td>Check_electron</td>\n",
              "      <td>70.70</td>\n",
              "      <td>151.65</td>\n",
              "    </tr>\n",
              "    <tr>\n",
              "      <th>1</th>\n",
              "      <td>7</td>\n",
              "      <td>0</td>\n",
              "      <td>F</td>\n",
              "      <td>0</td>\n",
              "      <td>N</td>\n",
              "      <td>N</td>\n",
              "      <td>10</td>\n",
              "      <td>N</td>\n",
              "      <td>No_phone</td>\n",
              "      <td>DSL</td>\n",
              "      <td>...</td>\n",
              "      <td>N</td>\n",
              "      <td>N</td>\n",
              "      <td>N</td>\n",
              "      <td>N</td>\n",
              "      <td>N</td>\n",
              "      <td>Per_month</td>\n",
              "      <td>N</td>\n",
              "      <td>Check_mailed</td>\n",
              "      <td>29.75</td>\n",
              "      <td>301.9</td>\n",
              "    </tr>\n",
              "    <tr>\n",
              "      <th>2</th>\n",
              "      <td>8</td>\n",
              "      <td>1</td>\n",
              "      <td>F</td>\n",
              "      <td>0</td>\n",
              "      <td>Y</td>\n",
              "      <td>N</td>\n",
              "      <td>28</td>\n",
              "      <td>Y</td>\n",
              "      <td>Y</td>\n",
              "      <td>Fiber optic</td>\n",
              "      <td>...</td>\n",
              "      <td>N</td>\n",
              "      <td>Y</td>\n",
              "      <td>Y</td>\n",
              "      <td>Y</td>\n",
              "      <td>Y</td>\n",
              "      <td>Per_month</td>\n",
              "      <td>Y</td>\n",
              "      <td>Check_electron</td>\n",
              "      <td>104.80</td>\n",
              "      <td>3046.05</td>\n",
              "    </tr>\n",
              "    <tr>\n",
              "      <th>3</th>\n",
              "      <td>9</td>\n",
              "      <td>0</td>\n",
              "      <td>M</td>\n",
              "      <td>0</td>\n",
              "      <td>N</td>\n",
              "      <td>Y</td>\n",
              "      <td>62</td>\n",
              "      <td>Y</td>\n",
              "      <td>N</td>\n",
              "      <td>DSL</td>\n",
              "      <td>...</td>\n",
              "      <td>Y</td>\n",
              "      <td>N</td>\n",
              "      <td>N</td>\n",
              "      <td>N</td>\n",
              "      <td>N</td>\n",
              "      <td>Year-1</td>\n",
              "      <td>N</td>\n",
              "      <td>Bank_transfer_auto</td>\n",
              "      <td>56.15</td>\n",
              "      <td>3487.95</td>\n",
              "    </tr>\n",
              "    <tr>\n",
              "      <th>4</th>\n",
              "      <td>11</td>\n",
              "      <td>0</td>\n",
              "      <td>M</td>\n",
              "      <td>0</td>\n",
              "      <td>N</td>\n",
              "      <td>N</td>\n",
              "      <td>16</td>\n",
              "      <td>Y</td>\n",
              "      <td>N</td>\n",
              "      <td>N</td>\n",
              "      <td>...</td>\n",
              "      <td>No_internet</td>\n",
              "      <td>No_internet</td>\n",
              "      <td>No_internet</td>\n",
              "      <td>No_internet</td>\n",
              "      <td>No_internet</td>\n",
              "      <td>Year-2</td>\n",
              "      <td>N</td>\n",
              "      <td>Credit_card_auto</td>\n",
              "      <td>18.95</td>\n",
              "      <td>326.8</td>\n",
              "    </tr>\n",
              "    <tr>\n",
              "      <th>5</th>\n",
              "      <td>14</td>\n",
              "      <td>0</td>\n",
              "      <td>M</td>\n",
              "      <td>0</td>\n",
              "      <td>N</td>\n",
              "      <td>N</td>\n",
              "      <td>25</td>\n",
              "      <td>Y</td>\n",
              "      <td>N</td>\n",
              "      <td>Fiber optic</td>\n",
              "      <td>...</td>\n",
              "      <td>N</td>\n",
              "      <td>Y</td>\n",
              "      <td>Y</td>\n",
              "      <td>Y</td>\n",
              "      <td>Y</td>\n",
              "      <td>Per_month</td>\n",
              "      <td>Y</td>\n",
              "      <td>Check_electron</td>\n",
              "      <td>105.50</td>\n",
              "      <td>2686.05</td>\n",
              "    </tr>\n",
              "    <tr>\n",
              "      <th>6</th>\n",
              "      <td>16</td>\n",
              "      <td>0</td>\n",
              "      <td>F</td>\n",
              "      <td>0</td>\n",
              "      <td>N</td>\n",
              "      <td>N</td>\n",
              "      <td>52</td>\n",
              "      <td>Y</td>\n",
              "      <td>N</td>\n",
              "      <td>N</td>\n",
              "      <td>...</td>\n",
              "      <td>No_internet</td>\n",
              "      <td>No_internet</td>\n",
              "      <td>No_internet</td>\n",
              "      <td>No_internet</td>\n",
              "      <td>No_internet</td>\n",
              "      <td>Year-1</td>\n",
              "      <td>N</td>\n",
              "      <td>Check_mailed</td>\n",
              "      <td>20.65</td>\n",
              "      <td>1022.95</td>\n",
              "    </tr>\n",
              "    <tr>\n",
              "      <th>7</th>\n",
              "      <td>19</td>\n",
              "      <td>0</td>\n",
              "      <td>F</td>\n",
              "      <td>0</td>\n",
              "      <td>N</td>\n",
              "      <td>N</td>\n",
              "      <td>21</td>\n",
              "      <td>Y</td>\n",
              "      <td>N</td>\n",
              "      <td>Fiber optic</td>\n",
              "      <td>...</td>\n",
              "      <td>Y</td>\n",
              "      <td>Y</td>\n",
              "      <td>N</td>\n",
              "      <td>N</td>\n",
              "      <td>Y</td>\n",
              "      <td>Per_month</td>\n",
              "      <td>Y</td>\n",
              "      <td>Check_electron</td>\n",
              "      <td>90.05</td>\n",
              "      <td>1862.9</td>\n",
              "    </tr>\n",
              "    <tr>\n",
              "      <th>8</th>\n",
              "      <td>21</td>\n",
              "      <td>0</td>\n",
              "      <td>M</td>\n",
              "      <td>0</td>\n",
              "      <td>Y</td>\n",
              "      <td>N</td>\n",
              "      <td>12</td>\n",
              "      <td>Y</td>\n",
              "      <td>N</td>\n",
              "      <td>N</td>\n",
              "      <td>...</td>\n",
              "      <td>No_internet</td>\n",
              "      <td>No_internet</td>\n",
              "      <td>No_internet</td>\n",
              "      <td>No_internet</td>\n",
              "      <td>No_internet</td>\n",
              "      <td>Year-1</td>\n",
              "      <td>N</td>\n",
              "      <td>Bank_transfer_auto</td>\n",
              "      <td>19.80</td>\n",
              "      <td>202.25</td>\n",
              "    </tr>\n",
              "    <tr>\n",
              "      <th>9</th>\n",
              "      <td>23</td>\n",
              "      <td>0</td>\n",
              "      <td>F</td>\n",
              "      <td>0</td>\n",
              "      <td>Y</td>\n",
              "      <td>N</td>\n",
              "      <td>58</td>\n",
              "      <td>Y</td>\n",
              "      <td>Y</td>\n",
              "      <td>DSL</td>\n",
              "      <td>...</td>\n",
              "      <td>Y</td>\n",
              "      <td>N</td>\n",
              "      <td>Y</td>\n",
              "      <td>N</td>\n",
              "      <td>N</td>\n",
              "      <td>Year-2</td>\n",
              "      <td>Y</td>\n",
              "      <td>Credit_card_auto</td>\n",
              "      <td>59.90</td>\n",
              "      <td>3505.1</td>\n",
              "    </tr>\n",
              "  </tbody>\n",
              "</table>\n",
              "<p>10 rows × 21 columns</p>\n",
              "</div>\n",
              "    <div class=\"colab-df-buttons\">\n",
              "      \n",
              "  <div class=\"colab-df-container\">\n",
              "    <button class=\"colab-df-convert\" onclick=\"convertToInteractive('df-df13e51d-37da-4ced-a8f9-fb10b7c169bd')\"\n",
              "            title=\"Convert this dataframe to an interactive table.\"\n",
              "            style=\"display:none;\">\n",
              "      \n",
              "  <svg xmlns=\"http://www.w3.org/2000/svg\" height=\"24px\" viewBox=\"0 -960 960 960\">\n",
              "    <path d=\"M120-120v-720h720v720H120Zm60-500h600v-160H180v160Zm220 220h160v-160H400v160Zm0 220h160v-160H400v160ZM180-400h160v-160H180v160Zm440 0h160v-160H620v160ZM180-180h160v-160H180v160Zm440 0h160v-160H620v160Z\"/>\n",
              "  </svg>\n",
              "    </button>\n",
              "    \n",
              "  <style>\n",
              "    .colab-df-container {\n",
              "      display:flex;\n",
              "      gap: 12px;\n",
              "    }\n",
              "\n",
              "    .colab-df-convert {\n",
              "      background-color: #E8F0FE;\n",
              "      border: none;\n",
              "      border-radius: 50%;\n",
              "      cursor: pointer;\n",
              "      display: none;\n",
              "      fill: #1967D2;\n",
              "      height: 32px;\n",
              "      padding: 0 0 0 0;\n",
              "      width: 32px;\n",
              "    }\n",
              "\n",
              "    .colab-df-convert:hover {\n",
              "      background-color: #E2EBFA;\n",
              "      box-shadow: 0px 1px 2px rgba(60, 64, 67, 0.3), 0px 1px 3px 1px rgba(60, 64, 67, 0.15);\n",
              "      fill: #174EA6;\n",
              "    }\n",
              "\n",
              "    .colab-df-buttons div {\n",
              "      margin-bottom: 4px;\n",
              "    }\n",
              "\n",
              "    [theme=dark] .colab-df-convert {\n",
              "      background-color: #3B4455;\n",
              "      fill: #D2E3FC;\n",
              "    }\n",
              "\n",
              "    [theme=dark] .colab-df-convert:hover {\n",
              "      background-color: #434B5C;\n",
              "      box-shadow: 0px 1px 3px 1px rgba(0, 0, 0, 0.15);\n",
              "      filter: drop-shadow(0px 1px 2px rgba(0, 0, 0, 0.3));\n",
              "      fill: #FFFFFF;\n",
              "    }\n",
              "  </style>\n",
              "\n",
              "    <script>\n",
              "      const buttonEl =\n",
              "        document.querySelector('#df-df13e51d-37da-4ced-a8f9-fb10b7c169bd button.colab-df-convert');\n",
              "      buttonEl.style.display =\n",
              "        google.colab.kernel.accessAllowed ? 'block' : 'none';\n",
              "\n",
              "      async function convertToInteractive(key) {\n",
              "        const element = document.querySelector('#df-df13e51d-37da-4ced-a8f9-fb10b7c169bd');\n",
              "        const dataTable =\n",
              "          await google.colab.kernel.invokeFunction('convertToInteractive',\n",
              "                                                    [key], {});\n",
              "        if (!dataTable) return;\n",
              "\n",
              "        const docLinkHtml = 'Like what you see? Visit the ' +\n",
              "          '<a target=\"_blank\" href=https://colab.research.google.com/notebooks/data_table.ipynb>data table notebook</a>'\n",
              "          + ' to learn more about interactive tables.';\n",
              "        element.innerHTML = '';\n",
              "        dataTable['output_type'] = 'display_data';\n",
              "        await google.colab.output.renderOutput(dataTable, element);\n",
              "        const docLink = document.createElement('div');\n",
              "        docLink.innerHTML = docLinkHtml;\n",
              "        element.appendChild(docLink);\n",
              "      }\n",
              "    </script>\n",
              "  </div>\n",
              "  \n",
              "    </div>\n",
              "  </div>\n",
              "  "
            ]
          },
          "metadata": {},
          "execution_count": 9
        }
      ]
    },
    {
      "cell_type": "code",
      "source": [
        "train.info()"
      ],
      "metadata": {
        "colab": {
          "base_uri": "https://localhost:8080/"
        },
        "id": "swYlfVzSukZ4",
        "outputId": "1a095f93-2929-436c-f5b4-9ca6bb6fda0f"
      },
      "execution_count": 10,
      "outputs": [
        {
          "output_type": "stream",
          "name": "stdout",
          "text": [
            "<class 'pandas.core.frame.DataFrame'>\n",
            "RangeIndex: 3521 entries, 0 to 3520\n",
            "Data columns (total 21 columns):\n",
            " #   Column               Non-Null Count  Dtype  \n",
            "---  ------               --------------  -----  \n",
            " 0   id                   3521 non-null   int64  \n",
            " 1   Leave_Next_Month     3521 non-null   int64  \n",
            " 2   Gender               3521 non-null   object \n",
            " 3   Pensioner            3521 non-null   int64  \n",
            " 4   Married              3521 non-null   object \n",
            " 5   Children             3521 non-null   object \n",
            " 6   Months_with_company  3521 non-null   int64  \n",
            " 7   Phone_Service        3521 non-null   object \n",
            " 8   Multiple_Lines       3521 non-null   object \n",
            " 9   Internet_Service     3521 non-null   object \n",
            " 10  Online_Security      3521 non-null   object \n",
            " 11  Online_Backup        3521 non-null   object \n",
            " 12  Device_Protection    3521 non-null   object \n",
            " 13  Tech_Support         3521 non-null   object \n",
            " 14  Streaming_TV         3521 non-null   object \n",
            " 15  Streaming_Movies     3521 non-null   object \n",
            " 16  Type_contract        3521 non-null   object \n",
            " 17  Paperless_Billing    3521 non-null   object \n",
            " 18  Payment_Method       3521 non-null   object \n",
            " 19  Monthly_Payment      3521 non-null   float64\n",
            " 20  Total_Payment        3521 non-null   object \n",
            "dtypes: float64(1), int64(4), object(16)\n",
            "memory usage: 577.8+ KB\n"
          ]
        }
      ]
    },
    {
      "cell_type": "markdown",
      "source": [
        "Переведем категориальные признаки в числовые с помощью LabelEncoder. Почему-то Total_Payment имеет тип object, его просто преобразуем в float."
      ],
      "metadata": {
        "id": "wePq-GMv2hYq"
      }
    },
    {
      "cell_type": "code",
      "source": [
        "object_column_list=['Gender', 'Married', 'Children', 'Phone_Service', 'Multiple_Lines', 'Internet_Service',\n",
        "                    'Online_Security', 'Online_Backup', 'Device_Protection', 'Tech_Support',\n",
        "                    'Streaming_TV', 'Streaming_Movies', 'Type_contract', 'Paperless_Billing',\n",
        "                    'Payment_Method', ]"
      ],
      "metadata": {
        "id": "27yd7LRtpp8Z"
      },
      "execution_count": 11,
      "outputs": []
    },
    {
      "cell_type": "code",
      "source": [
        "for item in object_column_list:\n",
        "    le = LabelEncoder().fit(list(train[item].values) + list(test[item].values))\n",
        "    train[item] = le.transform(train[item].values)\n",
        "    test[item] = le.transform(test[item].values)"
      ],
      "metadata": {
        "id": "dbbbK5jmq29j"
      },
      "execution_count": 12,
      "outputs": []
    },
    {
      "cell_type": "markdown",
      "source": [
        "При попытке сходу преобразовать Total_Payment в числовые значения прилетает ошибка ValueError: could not convert string to float: ' '. Пропусков как таковых нет, но есть строки, значением которых является один пробел. Заполним нулями, видимо предполагалось, что клиент еще ничего не платил."
      ],
      "metadata": {
        "id": "tzCbUrd-wJyA"
      }
    },
    {
      "cell_type": "code",
      "source": [
        "train['Total_Payment'] = train['Total_Payment'].astype(float)\n",
        "test['Total_Payment'] = test['Total_Payment'].astype(float)"
      ],
      "metadata": {
        "colab": {
          "base_uri": "https://localhost:8080/",
          "height": 304
        },
        "id": "FpuHdVAM3nDG",
        "outputId": "39d66667-3d35-4bd9-af80-6c6fe8130a77"
      },
      "execution_count": 13,
      "outputs": [
        {
          "output_type": "error",
          "ename": "ValueError",
          "evalue": "could not convert string to float: ' '",
          "traceback": [
            "\u001b[0;31m---------------------------------------------------------------------------\u001b[0m",
            "\u001b[0;31mValueError\u001b[0m                                Traceback (most recent call last)",
            "\u001b[0;32m<ipython-input-13-af88e9246b07>\u001b[0m in \u001b[0;36m<cell line: 0>\u001b[0;34m()\u001b[0m\n\u001b[0;32m----> 1\u001b[0;31m \u001b[0mtrain\u001b[0m\u001b[0;34m[\u001b[0m\u001b[0;34m'Total_Payment'\u001b[0m\u001b[0;34m]\u001b[0m \u001b[0;34m=\u001b[0m \u001b[0mtrain\u001b[0m\u001b[0;34m[\u001b[0m\u001b[0;34m'Total_Payment'\u001b[0m\u001b[0;34m]\u001b[0m\u001b[0;34m.\u001b[0m\u001b[0mastype\u001b[0m\u001b[0;34m(\u001b[0m\u001b[0mfloat\u001b[0m\u001b[0;34m)\u001b[0m\u001b[0;34m\u001b[0m\u001b[0;34m\u001b[0m\u001b[0m\n\u001b[0m\u001b[1;32m      2\u001b[0m \u001b[0mtest\u001b[0m\u001b[0;34m[\u001b[0m\u001b[0;34m'Total_Payment'\u001b[0m\u001b[0;34m]\u001b[0m \u001b[0;34m=\u001b[0m \u001b[0mtest\u001b[0m\u001b[0;34m[\u001b[0m\u001b[0;34m'Total_Payment'\u001b[0m\u001b[0;34m]\u001b[0m\u001b[0;34m.\u001b[0m\u001b[0mastype\u001b[0m\u001b[0;34m(\u001b[0m\u001b[0mfloat\u001b[0m\u001b[0;34m)\u001b[0m\u001b[0;34m\u001b[0m\u001b[0;34m\u001b[0m\u001b[0m\n",
            "\u001b[0;32m/usr/local/lib/python3.11/dist-packages/pandas/core/generic.py\u001b[0m in \u001b[0;36mastype\u001b[0;34m(self, dtype, copy, errors)\u001b[0m\n\u001b[1;32m   6641\u001b[0m         \u001b[0;32melse\u001b[0m\u001b[0;34m:\u001b[0m\u001b[0;34m\u001b[0m\u001b[0;34m\u001b[0m\u001b[0m\n\u001b[1;32m   6642\u001b[0m             \u001b[0;31m# else, only a single dtype is given\u001b[0m\u001b[0;34m\u001b[0m\u001b[0;34m\u001b[0m\u001b[0m\n\u001b[0;32m-> 6643\u001b[0;31m             \u001b[0mnew_data\u001b[0m \u001b[0;34m=\u001b[0m \u001b[0mself\u001b[0m\u001b[0;34m.\u001b[0m\u001b[0m_mgr\u001b[0m\u001b[0;34m.\u001b[0m\u001b[0mastype\u001b[0m\u001b[0;34m(\u001b[0m\u001b[0mdtype\u001b[0m\u001b[0;34m=\u001b[0m\u001b[0mdtype\u001b[0m\u001b[0;34m,\u001b[0m \u001b[0mcopy\u001b[0m\u001b[0;34m=\u001b[0m\u001b[0mcopy\u001b[0m\u001b[0;34m,\u001b[0m \u001b[0merrors\u001b[0m\u001b[0;34m=\u001b[0m\u001b[0merrors\u001b[0m\u001b[0;34m)\u001b[0m\u001b[0;34m\u001b[0m\u001b[0;34m\u001b[0m\u001b[0m\n\u001b[0m\u001b[1;32m   6644\u001b[0m             \u001b[0mres\u001b[0m \u001b[0;34m=\u001b[0m \u001b[0mself\u001b[0m\u001b[0;34m.\u001b[0m\u001b[0m_constructor_from_mgr\u001b[0m\u001b[0;34m(\u001b[0m\u001b[0mnew_data\u001b[0m\u001b[0;34m,\u001b[0m \u001b[0maxes\u001b[0m\u001b[0;34m=\u001b[0m\u001b[0mnew_data\u001b[0m\u001b[0;34m.\u001b[0m\u001b[0maxes\u001b[0m\u001b[0;34m)\u001b[0m\u001b[0;34m\u001b[0m\u001b[0;34m\u001b[0m\u001b[0m\n\u001b[1;32m   6645\u001b[0m             \u001b[0;32mreturn\u001b[0m \u001b[0mres\u001b[0m\u001b[0;34m.\u001b[0m\u001b[0m__finalize__\u001b[0m\u001b[0;34m(\u001b[0m\u001b[0mself\u001b[0m\u001b[0;34m,\u001b[0m \u001b[0mmethod\u001b[0m\u001b[0;34m=\u001b[0m\u001b[0;34m\"astype\"\u001b[0m\u001b[0;34m)\u001b[0m\u001b[0;34m\u001b[0m\u001b[0;34m\u001b[0m\u001b[0m\n",
            "\u001b[0;32m/usr/local/lib/python3.11/dist-packages/pandas/core/internals/managers.py\u001b[0m in \u001b[0;36mastype\u001b[0;34m(self, dtype, copy, errors)\u001b[0m\n\u001b[1;32m    428\u001b[0m             \u001b[0mcopy\u001b[0m \u001b[0;34m=\u001b[0m \u001b[0;32mFalse\u001b[0m\u001b[0;34m\u001b[0m\u001b[0;34m\u001b[0m\u001b[0m\n\u001b[1;32m    429\u001b[0m \u001b[0;34m\u001b[0m\u001b[0m\n\u001b[0;32m--> 430\u001b[0;31m         return self.apply(\n\u001b[0m\u001b[1;32m    431\u001b[0m             \u001b[0;34m\"astype\"\u001b[0m\u001b[0;34m,\u001b[0m\u001b[0;34m\u001b[0m\u001b[0;34m\u001b[0m\u001b[0m\n\u001b[1;32m    432\u001b[0m             \u001b[0mdtype\u001b[0m\u001b[0;34m=\u001b[0m\u001b[0mdtype\u001b[0m\u001b[0;34m,\u001b[0m\u001b[0;34m\u001b[0m\u001b[0;34m\u001b[0m\u001b[0m\n",
            "\u001b[0;32m/usr/local/lib/python3.11/dist-packages/pandas/core/internals/managers.py\u001b[0m in \u001b[0;36mapply\u001b[0;34m(self, f, align_keys, **kwargs)\u001b[0m\n\u001b[1;32m    361\u001b[0m                 \u001b[0mapplied\u001b[0m \u001b[0;34m=\u001b[0m \u001b[0mb\u001b[0m\u001b[0;34m.\u001b[0m\u001b[0mapply\u001b[0m\u001b[0;34m(\u001b[0m\u001b[0mf\u001b[0m\u001b[0;34m,\u001b[0m \u001b[0;34m**\u001b[0m\u001b[0mkwargs\u001b[0m\u001b[0;34m)\u001b[0m\u001b[0;34m\u001b[0m\u001b[0;34m\u001b[0m\u001b[0m\n\u001b[1;32m    362\u001b[0m             \u001b[0;32melse\u001b[0m\u001b[0;34m:\u001b[0m\u001b[0;34m\u001b[0m\u001b[0;34m\u001b[0m\u001b[0m\n\u001b[0;32m--> 363\u001b[0;31m                 \u001b[0mapplied\u001b[0m \u001b[0;34m=\u001b[0m \u001b[0mgetattr\u001b[0m\u001b[0;34m(\u001b[0m\u001b[0mb\u001b[0m\u001b[0;34m,\u001b[0m \u001b[0mf\u001b[0m\u001b[0;34m)\u001b[0m\u001b[0;34m(\u001b[0m\u001b[0;34m**\u001b[0m\u001b[0mkwargs\u001b[0m\u001b[0;34m)\u001b[0m\u001b[0;34m\u001b[0m\u001b[0;34m\u001b[0m\u001b[0m\n\u001b[0m\u001b[1;32m    364\u001b[0m             \u001b[0mresult_blocks\u001b[0m \u001b[0;34m=\u001b[0m \u001b[0mextend_blocks\u001b[0m\u001b[0;34m(\u001b[0m\u001b[0mapplied\u001b[0m\u001b[0;34m,\u001b[0m \u001b[0mresult_blocks\u001b[0m\u001b[0;34m)\u001b[0m\u001b[0;34m\u001b[0m\u001b[0;34m\u001b[0m\u001b[0m\n\u001b[1;32m    365\u001b[0m \u001b[0;34m\u001b[0m\u001b[0m\n",
            "\u001b[0;32m/usr/local/lib/python3.11/dist-packages/pandas/core/internals/blocks.py\u001b[0m in \u001b[0;36mastype\u001b[0;34m(self, dtype, copy, errors, using_cow, squeeze)\u001b[0m\n\u001b[1;32m    756\u001b[0m             \u001b[0mvalues\u001b[0m \u001b[0;34m=\u001b[0m \u001b[0mvalues\u001b[0m\u001b[0;34m[\u001b[0m\u001b[0;36m0\u001b[0m\u001b[0;34m,\u001b[0m \u001b[0;34m:\u001b[0m\u001b[0;34m]\u001b[0m  \u001b[0;31m# type: ignore[call-overload]\u001b[0m\u001b[0;34m\u001b[0m\u001b[0;34m\u001b[0m\u001b[0m\n\u001b[1;32m    757\u001b[0m \u001b[0;34m\u001b[0m\u001b[0m\n\u001b[0;32m--> 758\u001b[0;31m         \u001b[0mnew_values\u001b[0m \u001b[0;34m=\u001b[0m \u001b[0mastype_array_safe\u001b[0m\u001b[0;34m(\u001b[0m\u001b[0mvalues\u001b[0m\u001b[0;34m,\u001b[0m \u001b[0mdtype\u001b[0m\u001b[0;34m,\u001b[0m \u001b[0mcopy\u001b[0m\u001b[0;34m=\u001b[0m\u001b[0mcopy\u001b[0m\u001b[0;34m,\u001b[0m \u001b[0merrors\u001b[0m\u001b[0;34m=\u001b[0m\u001b[0merrors\u001b[0m\u001b[0;34m)\u001b[0m\u001b[0;34m\u001b[0m\u001b[0;34m\u001b[0m\u001b[0m\n\u001b[0m\u001b[1;32m    759\u001b[0m \u001b[0;34m\u001b[0m\u001b[0m\n\u001b[1;32m    760\u001b[0m         \u001b[0mnew_values\u001b[0m \u001b[0;34m=\u001b[0m \u001b[0mmaybe_coerce_values\u001b[0m\u001b[0;34m(\u001b[0m\u001b[0mnew_values\u001b[0m\u001b[0;34m)\u001b[0m\u001b[0;34m\u001b[0m\u001b[0;34m\u001b[0m\u001b[0m\n",
            "\u001b[0;32m/usr/local/lib/python3.11/dist-packages/pandas/core/dtypes/astype.py\u001b[0m in \u001b[0;36mastype_array_safe\u001b[0;34m(values, dtype, copy, errors)\u001b[0m\n\u001b[1;32m    235\u001b[0m \u001b[0;34m\u001b[0m\u001b[0m\n\u001b[1;32m    236\u001b[0m     \u001b[0;32mtry\u001b[0m\u001b[0;34m:\u001b[0m\u001b[0;34m\u001b[0m\u001b[0;34m\u001b[0m\u001b[0m\n\u001b[0;32m--> 237\u001b[0;31m         \u001b[0mnew_values\u001b[0m \u001b[0;34m=\u001b[0m \u001b[0mastype_array\u001b[0m\u001b[0;34m(\u001b[0m\u001b[0mvalues\u001b[0m\u001b[0;34m,\u001b[0m \u001b[0mdtype\u001b[0m\u001b[0;34m,\u001b[0m \u001b[0mcopy\u001b[0m\u001b[0;34m=\u001b[0m\u001b[0mcopy\u001b[0m\u001b[0;34m)\u001b[0m\u001b[0;34m\u001b[0m\u001b[0;34m\u001b[0m\u001b[0m\n\u001b[0m\u001b[1;32m    238\u001b[0m     \u001b[0;32mexcept\u001b[0m \u001b[0;34m(\u001b[0m\u001b[0mValueError\u001b[0m\u001b[0;34m,\u001b[0m \u001b[0mTypeError\u001b[0m\u001b[0;34m)\u001b[0m\u001b[0;34m:\u001b[0m\u001b[0;34m\u001b[0m\u001b[0;34m\u001b[0m\u001b[0m\n\u001b[1;32m    239\u001b[0m         \u001b[0;31m# e.g. _astype_nansafe can fail on object-dtype of strings\u001b[0m\u001b[0;34m\u001b[0m\u001b[0;34m\u001b[0m\u001b[0m\n",
            "\u001b[0;32m/usr/local/lib/python3.11/dist-packages/pandas/core/dtypes/astype.py\u001b[0m in \u001b[0;36mastype_array\u001b[0;34m(values, dtype, copy)\u001b[0m\n\u001b[1;32m    180\u001b[0m \u001b[0;34m\u001b[0m\u001b[0m\n\u001b[1;32m    181\u001b[0m     \u001b[0;32melse\u001b[0m\u001b[0;34m:\u001b[0m\u001b[0;34m\u001b[0m\u001b[0;34m\u001b[0m\u001b[0m\n\u001b[0;32m--> 182\u001b[0;31m         \u001b[0mvalues\u001b[0m \u001b[0;34m=\u001b[0m \u001b[0m_astype_nansafe\u001b[0m\u001b[0;34m(\u001b[0m\u001b[0mvalues\u001b[0m\u001b[0;34m,\u001b[0m \u001b[0mdtype\u001b[0m\u001b[0;34m,\u001b[0m \u001b[0mcopy\u001b[0m\u001b[0;34m=\u001b[0m\u001b[0mcopy\u001b[0m\u001b[0;34m)\u001b[0m\u001b[0;34m\u001b[0m\u001b[0;34m\u001b[0m\u001b[0m\n\u001b[0m\u001b[1;32m    183\u001b[0m \u001b[0;34m\u001b[0m\u001b[0m\n\u001b[1;32m    184\u001b[0m     \u001b[0;31m# in pandas we don't store numpy str dtypes, so convert to object\u001b[0m\u001b[0;34m\u001b[0m\u001b[0;34m\u001b[0m\u001b[0m\n",
            "\u001b[0;32m/usr/local/lib/python3.11/dist-packages/pandas/core/dtypes/astype.py\u001b[0m in \u001b[0;36m_astype_nansafe\u001b[0;34m(arr, dtype, copy, skipna)\u001b[0m\n\u001b[1;32m    131\u001b[0m     \u001b[0;32mif\u001b[0m \u001b[0mcopy\u001b[0m \u001b[0;32mor\u001b[0m \u001b[0marr\u001b[0m\u001b[0;34m.\u001b[0m\u001b[0mdtype\u001b[0m \u001b[0;34m==\u001b[0m \u001b[0mobject\u001b[0m \u001b[0;32mor\u001b[0m \u001b[0mdtype\u001b[0m \u001b[0;34m==\u001b[0m \u001b[0mobject\u001b[0m\u001b[0;34m:\u001b[0m\u001b[0;34m\u001b[0m\u001b[0;34m\u001b[0m\u001b[0m\n\u001b[1;32m    132\u001b[0m         \u001b[0;31m# Explicit copy, or required since NumPy can't view from / to object.\u001b[0m\u001b[0;34m\u001b[0m\u001b[0;34m\u001b[0m\u001b[0m\n\u001b[0;32m--> 133\u001b[0;31m         \u001b[0;32mreturn\u001b[0m \u001b[0marr\u001b[0m\u001b[0;34m.\u001b[0m\u001b[0mastype\u001b[0m\u001b[0;34m(\u001b[0m\u001b[0mdtype\u001b[0m\u001b[0;34m,\u001b[0m \u001b[0mcopy\u001b[0m\u001b[0;34m=\u001b[0m\u001b[0;32mTrue\u001b[0m\u001b[0;34m)\u001b[0m\u001b[0;34m\u001b[0m\u001b[0;34m\u001b[0m\u001b[0m\n\u001b[0m\u001b[1;32m    134\u001b[0m \u001b[0;34m\u001b[0m\u001b[0m\n\u001b[1;32m    135\u001b[0m     \u001b[0;32mreturn\u001b[0m \u001b[0marr\u001b[0m\u001b[0;34m.\u001b[0m\u001b[0mastype\u001b[0m\u001b[0;34m(\u001b[0m\u001b[0mdtype\u001b[0m\u001b[0;34m,\u001b[0m \u001b[0mcopy\u001b[0m\u001b[0;34m=\u001b[0m\u001b[0mcopy\u001b[0m\u001b[0;34m)\u001b[0m\u001b[0;34m\u001b[0m\u001b[0;34m\u001b[0m\u001b[0m\n",
            "\u001b[0;31mValueError\u001b[0m: could not convert string to float: ' '"
          ]
        }
      ]
    },
    {
      "cell_type": "code",
      "source": [
        "missing_train = train['Total_Payment'].isnull().sum()\n",
        "missing_test = test['Total_Payment'].isnull().sum()\n",
        "\n",
        "print(f\"Количество пропусков в train: {missing_train}\")\n",
        "print(f\"Количество пропусков в test: {missing_test}\")"
      ],
      "metadata": {
        "colab": {
          "base_uri": "https://localhost:8080/"
        },
        "id": "wWx0ONFpvNNl",
        "outputId": "f10a72d2-ddc9-4577-90c6-8b9ed6f50fd0"
      },
      "execution_count": 14,
      "outputs": [
        {
          "output_type": "stream",
          "name": "stdout",
          "text": [
            "Количество пропусков в train: 0\n",
            "Количество пропусков в test: 0\n"
          ]
        }
      ]
    },
    {
      "cell_type": "code",
      "source": [
        "train['Total_Payment'] = pd.to_numeric(train['Total_Payment'], downcast=\"float\", errors=\"coerce\").fillna(0.0)\n",
        "test['Total_Payment'] = pd.to_numeric(test['Total_Payment'], downcast=\"float\", errors=\"coerce\").fillna(0.0)"
      ],
      "metadata": {
        "id": "iFRiEdI3usdg"
      },
      "execution_count": 15,
      "outputs": []
    },
    {
      "cell_type": "code",
      "source": [
        "train.info()"
      ],
      "metadata": {
        "colab": {
          "base_uri": "https://localhost:8080/"
        },
        "id": "w-rFVvLNuSSp",
        "outputId": "bd093bf2-171c-4197-c9b7-b55bf6da67c6"
      },
      "execution_count": 16,
      "outputs": [
        {
          "output_type": "stream",
          "name": "stdout",
          "text": [
            "<class 'pandas.core.frame.DataFrame'>\n",
            "RangeIndex: 3521 entries, 0 to 3520\n",
            "Data columns (total 21 columns):\n",
            " #   Column               Non-Null Count  Dtype  \n",
            "---  ------               --------------  -----  \n",
            " 0   id                   3521 non-null   int64  \n",
            " 1   Leave_Next_Month     3521 non-null   int64  \n",
            " 2   Gender               3521 non-null   int64  \n",
            " 3   Pensioner            3521 non-null   int64  \n",
            " 4   Married              3521 non-null   int64  \n",
            " 5   Children             3521 non-null   int64  \n",
            " 6   Months_with_company  3521 non-null   int64  \n",
            " 7   Phone_Service        3521 non-null   int64  \n",
            " 8   Multiple_Lines       3521 non-null   int64  \n",
            " 9   Internet_Service     3521 non-null   int64  \n",
            " 10  Online_Security      3521 non-null   int64  \n",
            " 11  Online_Backup        3521 non-null   int64  \n",
            " 12  Device_Protection    3521 non-null   int64  \n",
            " 13  Tech_Support         3521 non-null   int64  \n",
            " 14  Streaming_TV         3521 non-null   int64  \n",
            " 15  Streaming_Movies     3521 non-null   int64  \n",
            " 16  Type_contract        3521 non-null   int64  \n",
            " 17  Paperless_Billing    3521 non-null   int64  \n",
            " 18  Payment_Method       3521 non-null   int64  \n",
            " 19  Monthly_Payment      3521 non-null   float64\n",
            " 20  Total_Payment        3521 non-null   float32\n",
            "dtypes: float32(1), float64(1), int64(19)\n",
            "memory usage: 564.0 KB\n"
          ]
        }
      ]
    },
    {
      "cell_type": "code",
      "source": [
        "test.info()"
      ],
      "metadata": {
        "colab": {
          "base_uri": "https://localhost:8080/"
        },
        "id": "M8ryNiZJxpUq",
        "outputId": "96f35e3a-62ec-46d3-bd84-94c52898d81a"
      },
      "execution_count": 17,
      "outputs": [
        {
          "output_type": "stream",
          "name": "stdout",
          "text": [
            "<class 'pandas.core.frame.DataFrame'>\n",
            "RangeIndex: 3522 entries, 0 to 3521\n",
            "Data columns (total 20 columns):\n",
            " #   Column               Non-Null Count  Dtype  \n",
            "---  ------               --------------  -----  \n",
            " 0   id                   3522 non-null   int64  \n",
            " 1   Gender               3522 non-null   int64  \n",
            " 2   Pensioner            3522 non-null   int64  \n",
            " 3   Married              3522 non-null   int64  \n",
            " 4   Children             3522 non-null   int64  \n",
            " 5   Months_with_company  3522 non-null   int64  \n",
            " 6   Phone_Service        3522 non-null   int64  \n",
            " 7   Multiple_Lines       3522 non-null   int64  \n",
            " 8   Internet_Service     3522 non-null   int64  \n",
            " 9   Online_Security      3522 non-null   int64  \n",
            " 10  Online_Backup        3522 non-null   int64  \n",
            " 11  Device_Protection    3522 non-null   int64  \n",
            " 12  Tech_Support         3522 non-null   int64  \n",
            " 13  Streaming_TV         3522 non-null   int64  \n",
            " 14  Streaming_Movies     3522 non-null   int64  \n",
            " 15  Type_contract        3522 non-null   int64  \n",
            " 16  Paperless_Billing    3522 non-null   int64  \n",
            " 17  Payment_Method       3522 non-null   int64  \n",
            " 18  Monthly_Payment      3522 non-null   float64\n",
            " 19  Total_Payment        3522 non-null   float32\n",
            "dtypes: float32(1), float64(1), int64(18)\n",
            "memory usage: 536.7 KB\n"
          ]
        }
      ]
    },
    {
      "cell_type": "markdown",
      "source": [
        "Все данные представлены в числовом виде. Посмотрим на распределение классов и матрицу корреляций.  "
      ],
      "metadata": {
        "id": "zbuuqi5r30OX"
      }
    },
    {
      "cell_type": "code",
      "source": [
        "import matplotlib.pyplot as plt\n",
        "import seaborn as sns"
      ],
      "metadata": {
        "id": "neRF52vx4nyl"
      },
      "execution_count": 18,
      "outputs": []
    },
    {
      "cell_type": "code",
      "source": [
        "plt.figure(figsize=(8, 5))\n",
        "sns.countplot(data=train, x='Leave_Next_Month', palette='viridis')\n",
        "plt.title('Распределение классов Leave_Next_Month')\n",
        "plt.xlabel('Leave_Next_Month')\n",
        "plt.ylabel('Количество')\n",
        "plt.xticks(rotation=0)\n",
        "plt.show()"
      ],
      "metadata": {
        "colab": {
          "base_uri": "https://localhost:8080/",
          "height": 574
        },
        "id": "3-YZRGIX4lEH",
        "outputId": "c4ebecb2-8581-4d44-b549-1e002a15e3cd"
      },
      "execution_count": 19,
      "outputs": [
        {
          "output_type": "stream",
          "name": "stderr",
          "text": [
            "<ipython-input-19-0ec84ea5ef6a>:2: FutureWarning: \n",
            "\n",
            "Passing `palette` without assigning `hue` is deprecated and will be removed in v0.14.0. Assign the `x` variable to `hue` and set `legend=False` for the same effect.\n",
            "\n",
            "  sns.countplot(data=train, x='Leave_Next_Month', palette='viridis')\n"
          ]
        },
        {
          "output_type": "display_data",
          "data": {
            "text/plain": [
              "<Figure size 800x500 with 1 Axes>"
            ],
            "image/png": "[encoded data removed]"
          },
          "metadata": {}
        }
      ]
    },
    {
      "cell_type": "code",
      "source": [
        "correlation_matrix = train.corr()\n",
        "\n",
        "# Визуализация матрицы корреляции\n",
        "plt.figure(figsize=(12, 8))\n",
        "sns.heatmap(correlation_matrix, annot=False, cmap='coolwarm', square=True, cbar=True)\n",
        "plt.title('Матрица корреляции признаков')\n",
        "plt.show()"
      ],
      "metadata": {
        "colab": {
          "base_uri": "https://localhost:8080/",
          "height": 843
        },
        "id": "Dd_8LJjO4slb",
        "outputId": "cb31b512-2f3c-4b56-98a9-533016a52f1d"
      },
      "execution_count": 20,
      "outputs": [
        {
          "output_type": "display_data",
          "data": {
            "text/plain": [
              "<Figure size 1200x800 with 2 Axes>"
            ],
            "image/png": "[encoded data removed]"
          },
          "metadata": {}
        }
      ]
    },
    {
      "cell_type": "markdown",
      "source": [
        "Уже сходу можно сказать, что чем больше у человека куплено дополнительных услуг, тем менее вероятен его уход от компании. Также чем больше месяцев он является клиентом компании, тем больше у него приобретено дополнительных услаг, и естественно тем больше общая сумма оплаты."
      ],
      "metadata": {
        "id": "p0h5lftl45v2"
      }
    },
    {
      "cell_type": "markdown",
      "source": [
        "## Тестирование моделей"
      ],
      "metadata": {
        "id": "sCOAcoHi5lh1"
      }
    },
    {
      "cell_type": "markdown",
      "source": [
        "Удалим бесполезную колонку id и разделим данные на тренировочные и валидационные."
      ],
      "metadata": {
        "id": "tvpy5P8I5eNJ"
      }
    },
    {
      "cell_type": "code",
      "source": [
        "train = train.drop(columns = ['id'])\n",
        "test = test.drop(columns = ['id'])"
      ],
      "metadata": {
        "id": "QjD--u9Pw_K2"
      },
      "execution_count": 21,
      "outputs": []
    },
    {
      "cell_type": "code",
      "source": [
        "X = train.drop(columns=['Leave_Next_Month'])\n",
        "y = train['Leave_Next_Month']\n",
        "X_train, X_val, y_train, y_val = train_test_split(X, y, test_size=0.2, random_state=42)"
      ],
      "metadata": {
        "id": "K2kj-7qFw6si"
      },
      "execution_count": 22,
      "outputs": []
    },
    {
      "cell_type": "markdown",
      "source": [
        "### Сравнение LightGBM, XGBoost, CatBoost"
      ],
      "metadata": {
        "id": "GZlG-GK91yPq"
      }
    },
    {
      "cell_type": "markdown",
      "source": [
        "Сначала сравним все три библиотеки на одинх и тех же параметрах"
      ],
      "metadata": {
        "id": "1hz5QVrP2oPI"
      }
    },
    {
      "cell_type": "code",
      "source": [
        "from sklearn.metrics import classification_report, roc_auc_score\n",
        "from lightgbm import LGBMClassifier\n",
        "from xgboost import XGBClassifier\n",
        "from catboost import CatBoostClassifier\n",
        "from sklearn.model_selection import GridSearchCV"
      ],
      "metadata": {
        "id": "za70pFzX2K5T"
      },
      "execution_count": 23,
      "outputs": []
    },
    {
      "cell_type": "code",
      "source": [
        "def evaluate_model(model, X_val, y_val):\n",
        "    \"\"\"Вычисление ключевых метрик\"\"\"\n",
        "    probs = model.predict_proba(X_val)[:, 1]\n",
        "    preds = model.predict(X_val)\n",
        "\n",
        "    print(f\"ROC-AUC: {roc_auc_score(y_val, probs):.4f}\")\n",
        "    print(classification_report(y_val, preds))"
      ],
      "metadata": {
        "id": "1sZzC3y12Eaj"
      },
      "execution_count": 24,
      "outputs": []
    },
    {
      "cell_type": "code",
      "source": [
        "# Базовые параметры для всех моделей\n",
        "common_params = {\n",
        "    'learning_rate': 0.1,\n",
        "    'n_estimators': 200,\n",
        "    'max_depth': 5,\n",
        "    'random_state': 42\n",
        "}\n",
        "\n",
        "# Инициализация моделей\n",
        "models = {\n",
        "    'LightGBM': LGBMClassifier(**common_params, verbose=-1),\n",
        "    'XGBoost': XGBClassifier(**common_params, eval_metric='logloss'),\n",
        "    'CatBoost': CatBoostClassifier(**common_params, verbose=0)\n",
        "}"
      ],
      "metadata": {
        "id": "RZziHLIz2IDj"
      },
      "execution_count": 25,
      "outputs": []
    },
    {
      "cell_type": "code",
      "source": [
        "# Обучение и оценка\n",
        "for name, model in models.items():\n",
        "    print(f\"\\n=== {name} ===\")\n",
        "    model.fit(X_train, y_train)\n",
        "    evaluate_model(model, X_val, y_val)"
      ],
      "metadata": {
        "colab": {
          "base_uri": "https://localhost:8080/"
        },
        "id": "N_bmkAjk2Pil",
        "outputId": "b97b7117-8408-4db8-86f3-ed6cc8885b1c"
      },
      "execution_count": 26,
      "outputs": [
        {
          "output_type": "stream",
          "name": "stdout",
          "text": [
            "\n",
            "=== LightGBM ===\n",
            "ROC-AUC: 0.8323\n",
            "              precision    recall  f1-score   support\n",
            "\n",
            "           0       0.86      0.88      0.87       534\n",
            "           1       0.59      0.54      0.56       171\n",
            "\n",
            "    accuracy                           0.80       705\n",
            "   macro avg       0.72      0.71      0.71       705\n",
            "weighted avg       0.79      0.80      0.79       705\n",
            "\n",
            "\n",
            "=== XGBoost ===\n",
            "ROC-AUC: 0.8427\n",
            "              precision    recall  f1-score   support\n",
            "\n",
            "           0       0.86      0.89      0.88       534\n",
            "           1       0.61      0.57      0.59       171\n",
            "\n",
            "    accuracy                           0.81       705\n",
            "   macro avg       0.74      0.73      0.73       705\n",
            "weighted avg       0.80      0.81      0.81       705\n",
            "\n",
            "\n",
            "=== CatBoost ===\n",
            "ROC-AUC: 0.8436\n",
            "              precision    recall  f1-score   support\n",
            "\n",
            "           0       0.86      0.89      0.87       534\n",
            "           1       0.61      0.55      0.58       171\n",
            "\n",
            "    accuracy                           0.81       705\n",
            "   macro avg       0.74      0.72      0.73       705\n",
            "weighted avg       0.80      0.81      0.80       705\n",
            "\n"
          ]
        }
      ]
    },
    {
      "cell_type": "markdown",
      "source": [
        "Видно, что LIghtGBM показывает худшие метрики, XGBoost чуть лучше, а CatBoost лучше всех. Тем не менее разница во всех метриках не превосходит нескольких сотых, разница не принципиальная."
      ],
      "metadata": {
        "id": "bik1IQCu2uCR"
      }
    },
    {
      "cell_type": "markdown",
      "source": [
        "### Подбор лучших параметров для моделей"
      ],
      "metadata": {
        "id": "xqQn3QO9_v1P"
      }
    },
    {
      "cell_type": "markdown",
      "source": [
        "Попробуем подобрать параметры получше, может быть метрики возрастут"
      ],
      "metadata": {
        "id": "bEgcHrFV_zwX"
      }
    },
    {
      "cell_type": "code",
      "source": [
        "# LightGBM\n",
        "lgb_model = lgb.LGBMClassifier(objective='binary', metric='binary_logloss', verbose=-1)\n",
        "param_grid = {\n",
        "    'num_leaves': [31, 50, 100],\n",
        "    'learning_rate': [0.01, 0.1, 0.2],\n",
        "    'n_estimators': [100, 200, 300]\n",
        "}\n",
        "grid_search_lgb = GridSearchCV(lgb_model, param_grid, cv=3, scoring='roc_auc')\n",
        "grid_search_lgb.fit(X_train, y_train)\n",
        "best_model_lgb = grid_search_lgb.best_estimator_\n",
        "\n",
        "evaluate_model(best_model_lgb, X_val, y_val)"
      ],
      "metadata": {
        "colab": {
          "base_uri": "https://localhost:8080/"
        },
        "id": "GkeBI4HW3nut",
        "outputId": "7a3a51f4-dfbb-4f72-ef31-ecef62e75526"
      },
      "execution_count": 27,
      "outputs": [
        {
          "output_type": "stream",
          "name": "stdout",
          "text": [
            "ROC-AUC: 0.8475\n",
            "              precision    recall  f1-score   support\n",
            "\n",
            "           0       0.86      0.92      0.89       534\n",
            "           1       0.67      0.53      0.59       171\n",
            "\n",
            "    accuracy                           0.82       705\n",
            "   macro avg       0.76      0.72      0.74       705\n",
            "weighted avg       0.81      0.82      0.82       705\n",
            "\n"
          ]
        }
      ]
    },
    {
      "cell_type": "code",
      "source": [
        "# XGBoost\n",
        "xgb_model = xgb.XGBClassifier(objective='binary:logistic', eval_metric='auc')\n",
        "param_grid = {\n",
        "    'max_depth': [3, 4, 5],\n",
        "    'learning_rate': [0.01, 0.1, 0.2],\n",
        "    'n_estimators': [100, 200, 300]\n",
        "}\n",
        "grid_search_xgb = GridSearchCV(xgb_model, param_grid, cv=3, scoring='roc_auc')\n",
        "grid_search_xgb.fit(X_train, y_train)\n",
        "best_model_xgb = grid_search_xgb.best_estimator_\n",
        "\n",
        "evaluate_model(best_model_xgb, X_val, y_val)"
      ],
      "metadata": {
        "colab": {
          "base_uri": "https://localhost:8080/"
        },
        "id": "too0RMii39mk",
        "outputId": "b319f5c4-828c-4380-b2db-1ed5fdbba925"
      },
      "execution_count": 38,
      "outputs": [
        {
          "output_type": "stream",
          "name": "stdout",
          "text": [
            "ROC-AUC: 0.8602\n",
            "              precision    recall  f1-score   support\n",
            "\n",
            "           0       0.86      0.91      0.88       534\n",
            "           1       0.65      0.54      0.59       171\n",
            "\n",
            "    accuracy                           0.82       705\n",
            "   macro avg       0.76      0.72      0.74       705\n",
            "weighted avg       0.81      0.82      0.81       705\n",
            "\n"
          ]
        }
      ]
    },
    {
      "cell_type": "code",
      "source": [
        "# CatBoost\n",
        "cat_model = CatBoostClassifier(loss_function='Logloss', verbose=0)\n",
        "param_grid = {\n",
        "    'depth': [3, 4, 5],\n",
        "    'learning_rate': [0.01, 0.1, 0.2],\n",
        "    'iterations': [100, 200, 300]\n",
        "}\n",
        "grid_search_cat = GridSearchCV(cat_model, param_grid, cv=3, scoring='roc_auc')\n",
        "grid_search_cat.fit(X_train, y_train)\n",
        "best_model_cat = grid_search_cat.best_estimator_\n",
        "\n",
        "evaluate_model(best_model_cat, X_val, y_val)"
      ],
      "metadata": {
        "colab": {
          "base_uri": "https://localhost:8080/"
        },
        "id": "2dspxj6K56tM",
        "outputId": "efe3b7c3-a87f-4df7-e04b-19e6a5b0fc2e"
      },
      "execution_count": 29,
      "outputs": [
        {
          "output_type": "stream",
          "name": "stdout",
          "text": [
            "ROC-AUC: 0.8567\n",
            "              precision    recall  f1-score   support\n",
            "\n",
            "           0       0.86      0.90      0.88       534\n",
            "           1       0.63      0.54      0.58       171\n",
            "\n",
            "    accuracy                           0.81       705\n",
            "   macro avg       0.74      0.72      0.73       705\n",
            "weighted avg       0.80      0.81      0.81       705\n",
            "\n"
          ]
        }
      ]
    },
    {
      "cell_type": "markdown",
      "source": [
        "В целом метрики возросли, но очень немного. После перебора параметров вперед вырвался XGBoost. Опять же, разница с CatBoost в ROC-AUC составляет 0.0035, на уровне погрешности. LGBM отстает более значительно, на 0.127.  Стоит однако отметить, что лучший f1-score равен 0.59, что в реальных условиях может оказаться слишком низким результатом. Возможно, нужно создание синтетических фичей, либо более тонкая настройка моделей."
      ],
      "metadata": {
        "id": "JxWJ6Zwr-xx0"
      }
    }
  ]
}